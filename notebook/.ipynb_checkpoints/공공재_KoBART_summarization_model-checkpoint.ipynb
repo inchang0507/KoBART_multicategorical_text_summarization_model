{
 "cells": [
  {
   "cell_type": "code",
   "execution_count": null,
   "metadata": {
    "id": "2tCoAEXPl-Pb"
   },
   "outputs": [],
   "source": [
    "from google.colab import drive\n",
    "drive.mount('/content/drive')"
   ]
  },
  {
   "cell_type": "markdown",
   "metadata": {
    "id": "y3Bu2PVrlER1"
   },
   "source": [
    "# AI 텍스트 요약 알고리즘 개발 경진대회\n",
    "#### 팀 : 공공재\n",
    "#### 모델 요약 : 요약과 분류의 학습을 동시에 진행하여 다양한 종류의 문서를 안정적으로 요약 가능한 KoBART 모델"
   ]
  },
  {
   "cell_type": "markdown",
   "metadata": {
    "id": "7HbtC5fblEKj"
   },
   "source": [
    "# 구동 가이드\n",
    "\n",
    "1) 제공드린 \"공공재_KoBART_model\" 폴더의 경로를 DIR 변수에 할당 해주시고 런타임 칸에 모두 실행을 눌러주시면 바로 구동됩니다.\n",
    "\n",
    "2) 학습 시간은 코랩 프로 기준으로 3~4시간 정도 걸리지만, 일반 코랩 사용 시 학습 시간이 11시간 가량으로 상당히 오래 걸립니다. 혹시 너무 많은 시간이 경과된다 판단되시면 똑같은 프로세스로 학습시킨 모델을 saved_model 폴더에 저장해놓았으니 5-2의 \"저장된 모델 로딩\" 부분에서 모델을 로드하시어 바로 추론으로 넘어가셔도 좋습니다."
   ]
  },
  {
   "cell_type": "markdown",
   "metadata": {
    "id": "x86BsqYj6IqT"
   },
   "source": [
    "#### ※ 경로 설정\n",
    "- 구동하시는 분의 \"공공재_KoBART_model\" 폴더의 절대 경로를 folder_path에 업로드 해주시면 됩니다."
   ]
  },
  {
   "cell_type": "code",
   "execution_count": 41,
   "metadata": {
    "executionInfo": {
     "elapsed": 11,
     "status": "ok",
     "timestamp": 1638529707928,
     "user": {
      "displayName": "박인창",
      "photoUrl": "https://lh3.googleusercontent.com/a/default-user=s64",
      "userId": "11568833197762759465"
     },
     "user_tz": -540
    },
    "id": "REI_FXoG6Pul"
   },
   "outputs": [],
   "source": [
    "# 최상위 폴더 경로(해당 부분을 사용자의 경로로 변경 요)\n",
    "folder_path = '/content/drive/MyDrive/공공재_KoBART_model'"
   ]
  },
  {
   "cell_type": "code",
   "execution_count": null,
   "metadata": {
    "id": "-EwphsDQlANN"
   },
   "outputs": [],
   "source": [
    "# 데이터 경로\n",
    "DIR = folder_path + \"/data/\"\n",
    "# 저장한 모델 경로\n",
    "saved_model_path = folder_path + '/saved_model/'"
   ]
  },
  {
   "cell_type": "markdown",
   "metadata": {
    "id": "ZV6dvr3fD1tb"
   },
   "source": [
    "#### ※ 파라미터 설정"
   ]
  },
  {
   "cell_type": "code",
   "execution_count": 42,
   "metadata": {
    "executionInfo": {
     "elapsed": 10,
     "status": "ok",
     "timestamp": 1638529707929,
     "user": {
      "displayName": "박인창",
      "photoUrl": "https://lh3.googleusercontent.com/a/default-user=s64",
      "userId": "11568833197762759465"
     },
     "user_tz": -540
    },
    "id": "uyyz2WCyD1tc"
   },
   "outputs": [],
   "source": [
    "# 파라미터 설정\n",
    "train_pct = 1 # 학습용 데이터 퍼센트\n",
    "test_pct = 0 # 검증용 데이터 퍼센트\n",
    "max_length = 500 # 인코딩 입력 데이터 최대 길이\n",
    "label_len = 300 # 디코딩 입력 데이터 최대 길이\n",
    "batch_size = 8\n",
    "\n",
    "EPOCHS = 4\n",
    "warmup_ratio = 0.1 # 학습 스케줄러 사용 시 warm_up 비율\n",
    "learning_rate = 1e-4\n",
    "max_grad_norm = 1"
   ]
  },
  {
   "cell_type": "markdown",
   "metadata": {
    "id": "8UN1A0sBLoSB"
   },
   "source": [
    "## 1. 라이브러리 및 데이터 (Library & Data)"
   ]
  },
  {
   "cell_type": "markdown",
   "metadata": {
    "id": "MjXbxTubDt9B"
   },
   "source": [
    "### 1-1 필요 패키지 로드"
   ]
  },
  {
   "cell_type": "code",
   "execution_count": 43,
   "metadata": {
    "colab": {
     "base_uri": "https://localhost:8080/"
    },
    "executionInfo": {
     "elapsed": 5420,
     "status": "ok",
     "timestamp": 1638529713340,
     "user": {
      "displayName": "박인창",
      "photoUrl": "https://lh3.googleusercontent.com/a/default-user=s64",
      "userId": "11568833197762759465"
     },
     "user_tz": -540
    },
    "id": "lh1by_sED2rC",
    "outputId": "a2fb16b1-7da3-4548-bdda-f2fe3ee5bad8"
   },
   "outputs": [
    {
     "name": "stdout",
     "output_type": "stream",
     "text": [
      "Requirement already satisfied: transformers in /usr/local/lib/python3.7/dist-packages (4.12.5)\n",
      "Requirement already satisfied: tqdm>=4.27 in /usr/local/lib/python3.7/dist-packages (from transformers) (4.62.3)\n",
      "Requirement already satisfied: regex!=2019.12.17 in /usr/local/lib/python3.7/dist-packages (from transformers) (2019.12.20)\n",
      "Requirement already satisfied: sacremoses in /usr/local/lib/python3.7/dist-packages (from transformers) (0.0.46)\n",
      "Requirement already satisfied: importlib-metadata in /usr/local/lib/python3.7/dist-packages (from transformers) (4.8.2)\n",
      "Requirement already satisfied: pyyaml>=5.1 in /usr/local/lib/python3.7/dist-packages (from transformers) (6.0)\n",
      "Requirement already satisfied: packaging>=20.0 in /usr/local/lib/python3.7/dist-packages (from transformers) (21.3)\n",
      "Requirement already satisfied: tokenizers<0.11,>=0.10.1 in /usr/local/lib/python3.7/dist-packages (from transformers) (0.10.3)\n",
      "Requirement already satisfied: filelock in /usr/local/lib/python3.7/dist-packages (from transformers) (3.4.0)\n",
      "Requirement already satisfied: numpy>=1.17 in /usr/local/lib/python3.7/dist-packages (from transformers) (1.19.5)\n",
      "Requirement already satisfied: requests in /usr/local/lib/python3.7/dist-packages (from transformers) (2.23.0)\n",
      "Requirement already satisfied: huggingface-hub<1.0,>=0.1.0 in /usr/local/lib/python3.7/dist-packages (from transformers) (0.2.1)\n",
      "Requirement already satisfied: typing-extensions>=3.7.4.3 in /usr/local/lib/python3.7/dist-packages (from huggingface-hub<1.0,>=0.1.0->transformers) (3.10.0.2)\n",
      "Requirement already satisfied: pyparsing!=3.0.5,>=2.0.2 in /usr/local/lib/python3.7/dist-packages (from packaging>=20.0->transformers) (3.0.6)\n",
      "Requirement already satisfied: zipp>=0.5 in /usr/local/lib/python3.7/dist-packages (from importlib-metadata->transformers) (3.6.0)\n",
      "Requirement already satisfied: certifi>=2017.4.17 in /usr/local/lib/python3.7/dist-packages (from requests->transformers) (2021.10.8)\n",
      "Requirement already satisfied: urllib3!=1.25.0,!=1.25.1,<1.26,>=1.21.1 in /usr/local/lib/python3.7/dist-packages (from requests->transformers) (1.24.3)\n",
      "Requirement already satisfied: idna<3,>=2.5 in /usr/local/lib/python3.7/dist-packages (from requests->transformers) (2.10)\n",
      "Requirement already satisfied: chardet<4,>=3.0.2 in /usr/local/lib/python3.7/dist-packages (from requests->transformers) (3.0.4)\n",
      "Requirement already satisfied: joblib in /usr/local/lib/python3.7/dist-packages (from sacremoses->transformers) (1.1.0)\n",
      "Requirement already satisfied: six in /usr/local/lib/python3.7/dist-packages (from sacremoses->transformers) (1.15.0)\n",
      "Requirement already satisfied: click in /usr/local/lib/python3.7/dist-packages (from sacremoses->transformers) (7.1.2)\n",
      "Requirement already satisfied: einops in /usr/local/lib/python3.7/dist-packages (0.3.2)\n"
     ]
    }
   ],
   "source": [
    "!pip install transformers\n",
    "!pip install einops"
   ]
  },
  {
   "cell_type": "code",
   "execution_count": 44,
   "metadata": {
    "colab": {
     "base_uri": "https://localhost:8080/"
    },
    "executionInfo": {
     "elapsed": 1793,
     "status": "ok",
     "timestamp": 1638529715130,
     "user": {
      "displayName": "박인창",
      "photoUrl": "https://lh3.googleusercontent.com/a/default-user=s64",
      "userId": "11568833197762759465"
     },
     "user_tz": -540
    },
    "id": "d8pkXMZCi2kE",
    "outputId": "7c75ae0c-932f-49e8-e39c-284ed4f9d3e5"
   },
   "outputs": [
    {
     "name": "stderr",
     "output_type": "stream",
     "text": [
      "The tokenizer class you load from this checkpoint is not the same type as the class this function is called from. It may result in unexpected tokenization. \n",
      "The tokenizer class you load from this checkpoint is 'BartTokenizer'. \n",
      "The class this function is called from is 'PreTrainedTokenizerFast'.\n"
     ]
    }
   ],
   "source": [
    "import transformers\n",
    "import os\n",
    "import re\n",
    "import numpy as np\n",
    "import requests\n",
    "import pandas as pd\n",
    "\n",
    "import torch\n",
    "import torch.nn as nn\n",
    "import torch.optim as optim\n",
    "import torch.nn.functional as F\n",
    "from torch.utils.data import Dataset, DataLoader\n",
    "import torch.nn.utils as torch_utils\n",
    "import time\n",
    "from tqdm import tqdm\n",
    "\n",
    "import json\n",
    "from glob import glob\n",
    "\n",
    "import warnings\n",
    "warnings.filterwarnings(action='ignore')\n",
    "\n",
    "from transformers import PreTrainedTokenizerFast\n",
    "from transformers import BartForConditionalGeneration\n",
    "from transformers import AdamW\n",
    "from transformers.optimization import get_cosine_schedule_with_warmup\n",
    "\n",
    "from einops.layers.torch import Rearrange, Reduce\n",
    "\n",
    "\n",
    "\n",
    "# 토크나이저 설치\n",
    "tokenizer = PreTrainedTokenizerFast.from_pretrained('gogamza/kobart-summarization')"
   ]
  },
  {
   "cell_type": "code",
   "execution_count": 45,
   "metadata": {
    "colab": {
     "base_uri": "https://localhost:8080/"
    },
    "executionInfo": {
     "elapsed": 9,
     "status": "ok",
     "timestamp": 1638529715131,
     "user": {
      "displayName": "박인창",
      "photoUrl": "https://lh3.googleusercontent.com/a/default-user=s64",
      "userId": "11568833197762759465"
     },
     "user_tz": -540
    },
    "id": "azvD5_dSLyKC",
    "outputId": "c24834f3-d97f-4a2f-fcd4-bd6753703d1b"
   },
   "outputs": [
    {
     "name": "stdout",
     "output_type": "stream",
     "text": [
      "Device: cuda\n"
     ]
    }
   ],
   "source": [
    "os.environ[\"CUDA_DEVICE_ORDER\"]=\"PCI_BUS_ID\"\n",
    "os.environ[\"CUDA_VISIBLE_DEVICES\"]= \"0,1\"\n",
    "os.environ[\"TOKENIZERS_PARALLELISM\"] = \"false\"\n",
    "\n",
    "# GPU\n",
    "device = torch.device(\"cuda\" if torch.cuda.is_available() else \"cpu\")\n",
    "\n",
    "print('Device:', device)"
   ]
  },
  {
   "cell_type": "markdown",
   "metadata": {
    "id": "Lre0ph3rB3n1"
   },
   "source": [
    "### 1-2 데이터 로드\n",
    "- json 파일 로드 후 데이터를 데이터 프레임 형태로 변환"
   ]
  },
  {
   "cell_type": "code",
   "execution_count": 46,
   "metadata": {
    "executionInfo": {
     "elapsed": 46359,
     "status": "ok",
     "timestamp": 1638529761484,
     "user": {
      "displayName": "박인창",
      "photoUrl": "https://lh3.googleusercontent.com/a/default-user=s64",
      "userId": "11568833197762759465"
     },
     "user_tz": -540
    },
    "id": "7dc78280"
   },
   "outputs": [],
   "source": [
    "# 데이터 로드 및 데이터 프레임 형태로 전환\n",
    "\n",
    "# 데이터 이름\n",
    "TRAIN_SOURCE = os.path.join(DIR, \"train_summary.json\")\n",
    "TRAIN_SOURCE_broad = os.path.join(DIR, \"train_summary_broadcast.json\")\n",
    "TEST_SOURCE = os.path.join(DIR, \"test_summary.json\")\n",
    "\n",
    "with open(TRAIN_SOURCE, encoding='UTF-8') as f:\n",
    "    TRAIN_DATA = json.loads(f.read())\n",
    "\n",
    "with open(TRAIN_SOURCE_broad, encoding='UTF-8') as f:\n",
    "    TRAIN_broad_DATA = json.loads(f.read())\n",
    "\n",
    "with open(TEST_SOURCE, encoding='UTF-8') as f:\n",
    "    TEST_DATA = json.loads(f.read())\n",
    "\n",
    "\n",
    "# DataFrame 형태로 변환\n",
    "\n",
    "# train_summary 데이터\n",
    "uid = 1000\n",
    "train = pd.DataFrame(columns=['uid','original', 'category','summary'])\n",
    "for data in TRAIN_DATA:\n",
    "    train.loc[uid, 'uid'] = uid\n",
    "    train.loc[uid, 'original'] = data['original']\n",
    "    train.loc[uid, 'summary'] = data['summary']\n",
    "    train.loc[uid, 'category'] = data['Meta']['category']\n",
    "\n",
    "    uid += 1\n",
    "\n",
    "# train_summary_broadcast 데이터\n",
    "uid = 1000\n",
    "train_b = pd.DataFrame(columns=['uid','original', 'category','summary'])\n",
    "for data in TRAIN_broad_DATA:\n",
    "    train_b.loc[uid, 'uid'] = uid\n",
    "    train_b.loc[uid, 'original'] = data['original']\n",
    "    train_b.loc[uid, 'summary'] = data['summary']\n",
    "    train_b.loc[uid, 'category'] = data['Meta']['category']\n",
    "\n",
    "    uid += 1\n",
    "\n",
    "\n",
    "# test_summary 데이터\n",
    "uid = 2000\n",
    "test = pd.DataFrame(columns=['uid','original', 'category','summary'])\n",
    "for data in TEST_DATA:\n",
    "    test.loc[uid, 'uid'] = uid\n",
    "    test.loc[uid, 'original'] = data['original']\n",
    "    test.loc[uid, 'summary'] = data['summary']\n",
    "    test.loc[uid, 'category'] = data['Meta']['category']\n",
    "\n",
    "    uid += 1\n"
   ]
  },
  {
   "cell_type": "code",
   "execution_count": null,
   "metadata": {
    "id": "xiUTU1dof7-2"
   },
   "outputs": [],
   "source": [
    "in_df = train.copy()\n",
    "in_df.head()"
   ]
  },
  {
   "cell_type": "markdown",
   "metadata": {
    "id": "4ilSy5Qk1dnM"
   },
   "source": [
    "## 2. 데이터 전처리 (Data Cleansing & Pre-Processing)\n",
    "- 특수문자 제거\n",
    "- 문장 길이 측정 : 인코더 및 디코더 입력 길이 판단 시 사용\n",
    "- 특징 학습을 위한 레이블 설정 : 요약에 대한 학습과 더불어 각 문서의 카테고리도 함께 학습하여 학습의 안정화를 이룰 수 있도록 카테고리 변수를 레이블 인코딩화하여 학습 데이터에 함께 삽입\n",
    "- KoBART 전용 Tokenizer를 통해 원본 문장과 요약 문장 토큰화\n",
    "- 문장의 맨 앞과 맨 끝에 각각 <s>와 </s>을 넣어 시작과 끝에 대한 표시를 삽입"
   ]
  },
  {
   "cell_type": "markdown",
   "metadata": {
    "id": "_J9U3DZ3Z_vu"
   },
   "source": [
    "### 2-1 텍스트 전처리"
   ]
  },
  {
   "cell_type": "markdown",
   "metadata": {
    "id": "cvhJnNwgf97c"
   },
   "source": [
    "특수문자 제거"
   ]
  },
  {
   "cell_type": "code",
   "execution_count": 48,
   "metadata": {
    "executionInfo": {
     "elapsed": 435,
     "status": "ok",
     "timestamp": 1638529761911,
     "user": {
      "displayName": "박인창",
      "photoUrl": "https://lh3.googleusercontent.com/a/default-user=s64",
      "userId": "11568833197762759465"
     },
     "user_tz": -540
    },
    "id": "Y7K1p5JQB3WR"
   },
   "outputs": [],
   "source": [
    "# 특수문자 제거 함수\n",
    "\n",
    "def clean_text(text):\n",
    "    # text = re.sub('[?.,;:|\\)*~`’!^\\-_+<>@\\#$%&-=#}※]', ' ', text)#특수문자 이모티콘 제거\n",
    "    text = re.sub(\"\\n\", ' ', text) #개행문자 제거\n",
    "    text = re.sub(\"\\xa0\", ' ', text) #개행문자 제거\n",
    "    text = re.sub(r'Copyright .* rights reserved', '', text) # \"Copyright all rights reserved\" 제거\n",
    "    # text = re.sub(\"─\", ' ', text)\n",
    "    return text\n",
    "\n",
    "# broadcast 데이터를 위한 전처리\n",
    "def clean_text_b(text):\n",
    "    # text = re.sub('[?.,;:|\\)*~`’!^\\-_+<>@\\#$%&-=#}※]', ' ', text)#특수문자 이모티콘 제거\n",
    "    text = re.sub(\"\\n\", ' ', text) #개행문자 제거\n",
    "    text = re.sub(\"\\xa0\", ' ', text) #개행문자 제거\n",
    "    text = re.sub(r'Copyright .* rights reserved', '', text) # \"Copyright all rights reserved\" 제거\n",
    "    text = re.sub(\"해설]\", ' ', text) #개행문자 제거\n",
    "    # text = re.sub(\"]\", ' ', text) #개행문자 제거\n",
    "    # text = re.sub(\"\\(\", ' ', text) #개행문자 제거\n",
    "    # text = re.sub(\"\\)\", ' ', text) #개행문자 제거\n",
    "    # # text = re.sub(\"\\!|\\'|\\?\",\"\",text)\n",
    "    # text = re.sub(\"<\",\"\",text)\n",
    "    # text = re.sub(\">\",\"\",text)\n",
    "    # text = re.sub('[a-zA-z]','',text)\n",
    "    return text\n",
    "\n",
    "\n",
    "in_df[\"original\"] = in_df[\"original\"].apply(clean_text)\n",
    "in_df[\"summary\"] = in_df[\"summary\"].apply(clean_text)\n",
    "train_b[\"original\"] = train_b[\"original\"].apply(clean_text_b)\n",
    "train_b[\"summary\"] = train_b[\"summary\"].apply(clean_text_b)\n",
    "test[\"original\"] = test[\"original\"].apply(clean_text)\n",
    "\n",
    "in_df = pd.concat([in_df,train_b],axis=0)\n",
    "\n",
    "in_df['total'] = in_df['original']\n",
    "test['total'] = test['original']"
   ]
  },
  {
   "cell_type": "markdown",
   "metadata": {
    "id": "iGQE76UOgGMi"
   },
   "source": [
    "문장의 맨 앞과 맨 끝에 각각 와 을 넣어 시작과 끝에 대한 표시를 삽입"
   ]
  },
  {
   "cell_type": "code",
   "execution_count": 50,
   "metadata": {
    "executionInfo": {
     "elapsed": 19,
     "status": "ok",
     "timestamp": 1638529761918,
     "user": {
      "displayName": "박인창",
      "photoUrl": "https://lh3.googleusercontent.com/a/default-user=s64",
      "userId": "11568833197762759465"
     },
     "user_tz": -540
    },
    "id": "IribPID0Zy1u"
   },
   "outputs": [],
   "source": [
    "# 문장의 처음과 끝에 sign을 삽입\n",
    "def sos_eos(df):\n",
    "    return '<s> '+df+' </s>'\n",
    "\n",
    "in_df['total'] = in_df['total'].apply(sos_eos)\n",
    "in_df['summary'] = in_df['summary'].apply(sos_eos)\n",
    "\n",
    "test['total'] = test['total'].apply(sos_eos)\n",
    "test['summary'] = test['summary'].apply(sos_eos)"
   ]
  },
  {
   "cell_type": "markdown",
   "metadata": {
    "id": "uVtM1KU5gT3n"
   },
   "source": [
    "특징 학습을 위한 레이블 설정 : 요약에 대한 학습과 더불어 각 문서의 카테고리도 함께 학습하여 학습의 안정화를 이룰 수 있도록 카테고리 변수를 레이블 인코딩화하여 학습 데이터에 함께 삽입"
   ]
  },
  {
   "cell_type": "code",
   "execution_count": 53,
   "metadata": {
    "executionInfo": {
     "elapsed": 20,
     "status": "ok",
     "timestamp": 1638529762822,
     "user": {
      "displayName": "박인창",
      "photoUrl": "https://lh3.googleusercontent.com/a/default-user=s64",
      "userId": "11568833197762759465"
     },
     "user_tz": -540
    },
    "id": "WVmersEleo5L"
   },
   "outputs": [],
   "source": [
    "# 카테고리 레이블 인코딩\n",
    "def label_encoding(df):\n",
    "    if df == 'briefing':\n",
    "        return 0\n",
    "    elif df == 'news_r':\n",
    "        return 1\n",
    "    elif df == 'cul_ass':\n",
    "        return 2\n",
    "    elif df == 'novel':\n",
    "        return 3\n",
    "    elif df == 'drama':\n",
    "        return 4\n",
    "    elif df == 'history':\n",
    "        return 5\n",
    "\n",
    "in_df['category'] = in_df['category'].apply(label_encoding)\n",
    "test['category'] = test['category'].apply(label_encoding)"
   ]
  },
  {
   "cell_type": "code",
   "execution_count": 54,
   "metadata": {
    "executionInfo": {
     "elapsed": 20,
     "status": "ok",
     "timestamp": 1638529762823,
     "user": {
      "displayName": "박인창",
      "photoUrl": "https://lh3.googleusercontent.com/a/default-user=s64",
      "userId": "11568833197762759465"
     },
     "user_tz": -540
    },
    "id": "_hqjVq6ahf5e"
   },
   "outputs": [],
   "source": [
    "in_df['label'] = in_df['category']\n",
    "test['label'] = test['category']"
   ]
  },
  {
   "cell_type": "markdown",
   "metadata": {
    "id": "uxXIY1PLQTFZ"
   },
   "source": [
    "### 2-2 학습 데이터 준비"
   ]
  },
  {
   "cell_type": "code",
   "execution_count": 55,
   "metadata": {
    "executionInfo": {
     "elapsed": 18,
     "status": "ok",
     "timestamp": 1638529762823,
     "user": {
      "displayName": "박인창",
      "photoUrl": "https://lh3.googleusercontent.com/a/default-user=s64",
      "userId": "11568833197762759465"
     },
     "user_tz": -540
    },
    "id": "TyPNOe7hbyXl"
   },
   "outputs": [],
   "source": [
    "# 커스텀 데이터 세트 클래스\n",
    "class Summary_dataset(torch.utils.data.Dataset):\n",
    "    def __init__(self, encodings, labels, lasttext=None):\n",
    "        self.encodings = encodings[\"input_ids\"]\n",
    "        self.token_type = encodings[\"token_type_ids\"]\n",
    "        self.masking = encodings[\"attention_mask\"]\n",
    "        self.labels = labels\n",
    "        self.lasttext = lasttext            \n",
    "            \n",
    "    def __getitem__(self, idx):\n",
    "        item = {}\n",
    "        if self.encodings[idx][-1]!=3:\n",
    "            self.encodings[idx][-1] = 1 \n",
    "            \n",
    "        if self.labels['input_ids'][idx][-1] !=3:\n",
    "            self.labels['input_ids'][idx][-1] = 1\n",
    "        \n",
    "        if self.lasttext is not None:\n",
    "            item['last_text'] = torch.tensor(self.lasttext.iloc[idx])\n",
    "        \n",
    "        item['input_ids'] = torch.tensor(self.encodings[idx])\n",
    "        item['attention_mask'] = torch.tensor(self.masking[idx])\n",
    "        item['token_type_ids'] = torch.tensor(self.token_type[idx])\n",
    "        item['labels'] = torch.tensor(self.labels['input_ids'][idx])  # torch.tensor(self.labels[idx])\n",
    "        return item\n",
    "\n",
    "    def __len__(self):\n",
    "        return len(self.encodings)"
   ]
  },
  {
   "cell_type": "markdown",
   "metadata": {
    "id": "D8dgRmdIgfvA"
   },
   "source": [
    "KoBART 전용 Tokenizer를 통해 원본 문장과 요약 문장 토큰화"
   ]
  },
  {
   "cell_type": "code",
   "execution_count": 56,
   "metadata": {
    "executionInfo": {
     "elapsed": 39595,
     "status": "ok",
     "timestamp": 1638529802401,
     "user": {
      "displayName": "박인창",
      "photoUrl": "https://lh3.googleusercontent.com/a/default-user=s64",
      "userId": "11568833197762759465"
     },
     "user_tz": -540
    },
    "id": "1L73zBQ8i2kG",
    "scrolled": true
   },
   "outputs": [],
   "source": [
    "## 학습 및 검증 세트 설정\n",
    "in_df = in_df.sample(len(in_df), random_state=20)\n",
    "train_sub = int(len(in_df) * train_pct)\n",
    "# test_sub = int(len(in_df) * test_pct) + train_sub # 검증 시 사용, 본 파일에서는 검증을 사용하지 않음\n",
    "\n",
    "train_df = in_df[0:train_sub]\n",
    "test_df = in_df[train_sub:]\n",
    "# val_df = in_df[test_sub:]\n",
    "\n",
    "train_texts = list(train_df['total'])\n",
    "test_texts = list(test_df['total'])\n",
    "# val_texts = list(val_df['text'])\n",
    "\n",
    "train_decode = list(train_df['summary'])\n",
    "test_decode = list(test_df['summary'])\n",
    "# val_decode = list(val_df['summary'])\n",
    "\n",
    "test_df_texts = list(test['total'])\n",
    "test_df_decode = list(test['summary'])\n",
    "\n",
    "\n",
    "## 토크나이징\n",
    "train_encodings = tokenizer(train_texts,max_length=max_length, truncation=True, padding='max_length',add_special_tokens = True,return_tensors=\"pt\")\n",
    "# test_encodings = tokenizer(test_texts,max_length=max_length, truncation=True, padding=True)\n",
    "train_labels = tokenizer(train_decode,max_length=label_len, truncation=True, padding='max_length',add_special_tokens = True,return_tensors=\"pt\")\n",
    "# test_labels = tokenizer(test_decode,max_length=50, truncation=True, padding=True)\n",
    "\n",
    "test_df_encodings = tokenizer(test_df_texts,max_length=max_length, truncation=True, padding='max_length',add_special_tokens = True,return_tensors=\"pt\")\n",
    "test_df_labels = tokenizer(test_df_decode,max_length=label_len, truncation=True, padding=True)\n",
    "\n",
    "\n",
    "\n",
    "## DataLoader 형으로 변환\n",
    "train_dataset = Summary_dataset(train_encodings, train_labels, lasttext=in_df[\"label\"])\n",
    "# test_dataset = Summary_dataset(test_encodings, test_labels)\n",
    "train_dataloader = DataLoader(train_dataset, batch_size=batch_size, num_workers=5, shuffle=True)\n",
    "# test_dataloader = DataLoader(test_dataset, batch_size=batch_size, num_workers=1)"
   ]
  },
  {
   "cell_type": "markdown",
   "metadata": {
    "id": "J9gWJCiig_UA"
   },
   "source": [
    "## 3. 탐색적 자료 분석(Exploratory Data Analysis)"
   ]
  },
  {
   "cell_type": "markdown",
   "metadata": {
    "id": "QpywJqrRhHxv"
   },
   "source": [
    "문장 길이 측정 : 인코더 및 디코더 입력 길이 판단 시 사용"
   ]
  },
  {
   "cell_type": "code",
   "execution_count": null,
   "metadata": {
    "id": "Z9JzzDM5hHxw"
   },
   "outputs": [],
   "source": [
    "# 문장 길이 출력 함수 \n",
    "def cal_len(text):\n",
    "    return len(text.split())\n",
    "\n",
    "in_df['original_len'] = in_df['original'].apply(cal_len)\n",
    "in_df['target_len'] = in_df['summary'].apply(cal_len)\n",
    "in_df['target_len_total'] = in_df['summary'].apply(lambda x: len(x))\n",
    "test['len'] = test['original'].apply(cal_len)"
   ]
  },
  {
   "cell_type": "code",
   "execution_count": null,
   "metadata": {
    "colab": {
     "base_uri": "https://localhost:8080/"
    },
    "executionInfo": {
     "elapsed": 34,
     "status": "ok",
     "timestamp": 1638529762821,
     "user": {
      "displayName": "박인창",
      "photoUrl": "https://lh3.googleusercontent.com/a/default-user=s64",
      "userId": "11568833197762759465"
     },
     "user_tz": -540
    },
    "id": "OOZYivcThHxw",
    "outputId": "a3520e02-016b-4b66-fd01-746ac92be6b3"
   },
   "outputs": [
    {
     "name": "stdout",
     "output_type": "stream",
     "text": [
      "       original_len    target_len  target_len_total\n",
      "count  31975.000000  31975.000000      31975.000000\n",
      "mean     180.817639     43.784988        189.126849\n",
      "std       70.355816     13.337147         58.483816\n",
      "min       49.000000      8.000000         51.000000\n",
      "25%      117.000000     35.000000        152.000000\n",
      "50%      171.000000     43.000000        185.000000\n",
      "75%      250.500000     50.000000        207.000000\n",
      "max      450.000000    266.000000       1106.000000\n",
      "\n",
      "               len\n",
      "count  4640.000000\n",
      "mean    201.712931\n",
      "std      70.454206\n",
      "min      50.000000\n",
      "25%     156.000000\n",
      "50%     203.000000\n",
      "75%     267.000000\n",
      "max     400.000000\n"
     ]
    }
   ],
   "source": [
    "print(in_df.describe())\n",
    "print()\n",
    "print(test.describe())\n",
    "## 원문과 요약의 max 길이가 각각 405, 266이지만 띄어쓰기가 되지 않은 문장을 고려하여 max_length를 각각 500, 300으로 설정"
   ]
  },
  {
   "cell_type": "markdown",
   "metadata": {
    "id": "DtiOMivK2UUH"
   },
   "source": [
    "## 4. 모델 구축 (Initial Modeling)\n",
    "### 모델 특징\n",
    "- 한 모델에서 요약에 대한 학습과 문장 특징(카테고리) 학습을 동시에 진행\n",
    "- 각 학습을 통해 구해진 loss를 A + (B/10) 비율로 합산하고 이를 역전파를 통해 업데이트\n",
    "- 문장의 특징을 함께 학습하기 때문에 안정적인 학습이 가능\n",
    "\n",
    "### 세부 조정 사항\n",
    "- 인코딩 층, 디코딩 층 각각의 최하단 부분과 출력층까지만 가중치 업데이트 진행(본 데이터에서는 전체 가중치를 업데이트하는 것이 더 효과적이므로 해당 사항은 적용 X)\n",
    "- 학습률 스케줄을 적용하여 처음에는 1e-4로 학습 후 warm ratio 초과시 get_cosine_schedule_with_warmup을 이용하여 학습률 조정"
   ]
  },
  {
   "cell_type": "code",
   "execution_count": 57,
   "metadata": {
    "executionInfo": {
     "elapsed": 1986,
     "status": "ok",
     "timestamp": 1638529804368,
     "user": {
      "displayName": "박인창",
      "photoUrl": "https://lh3.googleusercontent.com/a/default-user=s64",
      "userId": "11568833197762759465"
     },
     "user_tz": -540
    },
    "id": "LY1FCPRl4Ez2"
   },
   "outputs": [],
   "source": [
    "# 요약문에 대한 학습과 분류에 대한 학습을 동시에 진행하는 모델 구축\n",
    "\n",
    "class BART_Classification(nn.Module):\n",
    "    def __init__(self,n_classes, emb_size=768):\n",
    "        super().__init__()\n",
    "        self.bart_model = BartForConditionalGeneration.from_pretrained('gogamza/kobart-summarization')\n",
    "        self.reduce = Reduce('b n e -> b e', reduction='mean')\n",
    "        self.norm = nn.LayerNorm(n_classes)\n",
    "        self.linear = nn.Linear(emb_size, n_classes)\n",
    "        self.softmax=nn.LogSoftmax(dim=-1)\n",
    "        self.relu = nn.ReLU()\n",
    "        self.dropout = nn.Dropout(p=0.3)\n",
    "\n",
    "    def forward(self,input_,mask_,intrg):\n",
    "        out = self.bart_model.forward(input_,mask_,intrg)\n",
    "        hidden_state = out.encoder_last_hidden_state\n",
    "                \n",
    "        x = self.reduce(hidden_state)\n",
    "        x = self.linear(x)\n",
    "        x = self.norm(x)\n",
    "        x = self.softmax(x)\n",
    "        return x, out\n",
    "\n",
    "\n",
    "model = BART_Classification(in_df[\"label\"].nunique())\n",
    "model = model.to(device)"
   ]
  },
  {
   "cell_type": "markdown",
   "metadata": {
    "id": "NztEl2Xqcs0s"
   },
   "source": [
    "### 4-1 모델 세부 조정\n",
    "\n",
    "##### - KoBART 모델 층 구조\n",
    "- encoding part : 2 ~ 97 / Layer norm 98 ~ 99\n",
    "- decoding part : Embedding, PE  100 ~ 101 / Decoding 층 102 ~ 257 / Layer norm 258~259\n",
    "\n",
    "- 총 개수 259 개\n",
    "\n",
    "\n",
    "##### - 초기에 1e-4로 학습 후 warm ratio 초과시 get_cosine_schedule_with_warmup을 이용하여 학습률 조정"
   ]
  },
  {
   "cell_type": "code",
   "execution_count": 58,
   "metadata": {
    "executionInfo": {
     "elapsed": 4,
     "status": "ok",
     "timestamp": 1638529804368,
     "user": {
      "displayName": "박인창",
      "photoUrl": "https://lh3.googleusercontent.com/a/default-user=s64",
      "userId": "11568833197762759465"
     },
     "user_tz": -540
    },
    "id": "skYCV1ST_UOM"
   },
   "outputs": [],
   "source": [
    "n=0\n",
    "for name, child in model.named_children():\n",
    "    if n==0:\n",
    "      h=0\n",
    "      for param in child.parameters():\n",
    "        if (95<=h) or (98<=h<=254):\n",
    "            param.requires_grad = False\n",
    "        h+=1\n",
    "    n+=1\n",
    "\n",
    "no_decay = ['bias', 'LayerNorm.weight']\n",
    "optimizer_grouped_parameters = [\n",
    "    {'params': [p for n, p in model.named_parameters() if not any(nd in n for nd in no_decay)], 'weight_decay': 0.01},\n",
    "    {'params': [p for n, p in model.named_parameters() if any(nd in n for nd in no_decay)], 'weight_decay': 0.0}\n",
    "]\n",
    "\n",
    "optimizer = AdamW(optimizer_grouped_parameters, lr=learning_rate)\n",
    "t_total = len(train_dataloader) * EPOCHS\n",
    "warmup_step = int(t_total * warmup_ratio)\n",
    "scheduler = get_cosine_schedule_with_warmup(optimizer, num_warmup_steps=warmup_step, num_training_steps=t_total)\n",
    "\n",
    "criterion = nn.CrossEntropyLoss()"
   ]
  },
  {
   "cell_type": "markdown",
   "metadata": {
    "id": "sf-wAt--EsyK"
   },
   "source": [
    "### 5. 모델 학습 및 검증 (Model Tuning & Evaluation)"
   ]
  },
  {
   "cell_type": "markdown",
   "metadata": {
    "id": "9gn0vHYXioee"
   },
   "source": [
    "### 5-1 학습"
   ]
  },
  {
   "cell_type": "code",
   "execution_count": 59,
   "metadata": {
    "colab": {
     "base_uri": "https://localhost:8080/"
    },
    "executionInfo": {
     "elapsed": 9706995,
     "status": "ok",
     "timestamp": 1638539511360,
     "user": {
      "displayName": "박인창",
      "photoUrl": "https://lh3.googleusercontent.com/a/default-user=s64",
      "userId": "11568833197762759465"
     },
     "user_tz": -540
    },
    "id": "zezVCeCvdNel",
    "outputId": "b5c820d7-0edb-4bc6-fc00-561b521d3a51",
    "scrolled": true
   },
   "outputs": [
    {
     "name": "stdout",
     "output_type": "stream",
     "text": [
      "Train Epoch: 0 [0/31975(0%)]\tTrain Loss: 10.472879\t runtime=1.0sec\n",
      "Train Epoch: 0 [800/31975(3%)]\tTrain Loss: 6.789869\t runtime=60.6sec\n",
      "Train Epoch: 0 [1600/31975(5%)]\tTrain Loss: 2.401473\t runtime=60.6sec\n",
      "Train Epoch: 0 [2400/31975(8%)]\tTrain Loss: 0.417779\t runtime=60.6sec\n",
      "Train Epoch: 0 [3200/31975(10%)]\tTrain Loss: 0.463283\t runtime=60.6sec\n",
      "Train Epoch: 0 [4000/31975(13%)]\tTrain Loss: 0.205498\t runtime=60.6sec\n",
      "Train Epoch: 0 [4800/31975(15%)]\tTrain Loss: 0.554288\t runtime=60.6sec\n",
      "Train Epoch: 0 [5600/31975(18%)]\tTrain Loss: 0.079221\t runtime=60.6sec\n",
      "Train Epoch: 0 [6400/31975(20%)]\tTrain Loss: 0.251552\t runtime=60.7sec\n",
      "Train Epoch: 0 [7200/31975(23%)]\tTrain Loss: 0.354866\t runtime=60.6sec\n",
      "Train Epoch: 0 [8000/31975(25%)]\tTrain Loss: 0.400003\t runtime=60.6sec\n",
      "Train Epoch: 0 [8800/31975(28%)]\tTrain Loss: 0.274266\t runtime=60.7sec\n",
      "Train Epoch: 0 [9600/31975(30%)]\tTrain Loss: 0.623942\t runtime=60.7sec\n",
      "Train Epoch: 0 [10400/31975(33%)]\tTrain Loss: 0.351711\t runtime=60.7sec\n",
      "Train Epoch: 0 [11200/31975(35%)]\tTrain Loss: 0.364724\t runtime=60.6sec\n",
      "Train Epoch: 0 [12000/31975(38%)]\tTrain Loss: 0.188587\t runtime=60.7sec\n",
      "Train Epoch: 0 [12800/31975(40%)]\tTrain Loss: 0.446434\t runtime=60.7sec\n",
      "Train Epoch: 0 [13600/31975(43%)]\tTrain Loss: 0.522111\t runtime=60.6sec\n",
      "Train Epoch: 0 [14400/31975(45%)]\tTrain Loss: 0.415325\t runtime=60.7sec\n",
      "Train Epoch: 0 [15200/31975(48%)]\tTrain Loss: 0.278064\t runtime=60.7sec\n",
      "Train Epoch: 0 [16000/31975(50%)]\tTrain Loss: 0.328137\t runtime=60.7sec\n",
      "Train Epoch: 0 [16800/31975(53%)]\tTrain Loss: 0.208237\t runtime=60.7sec\n",
      "Train Epoch: 0 [17600/31975(55%)]\tTrain Loss: 0.293862\t runtime=60.7sec\n",
      "Train Epoch: 0 [18400/31975(58%)]\tTrain Loss: 0.310184\t runtime=60.7sec\n",
      "Train Epoch: 0 [19200/31975(60%)]\tTrain Loss: 0.463493\t runtime=60.7sec\n",
      "Train Epoch: 0 [20000/31975(63%)]\tTrain Loss: 0.415958\t runtime=60.7sec\n",
      "Train Epoch: 0 [20800/31975(65%)]\tTrain Loss: 0.272616\t runtime=60.7sec\n",
      "Train Epoch: 0 [21600/31975(68%)]\tTrain Loss: 0.555906\t runtime=60.7sec\n",
      "Train Epoch: 0 [22400/31975(70%)]\tTrain Loss: 0.401684\t runtime=60.7sec\n",
      "Train Epoch: 0 [23200/31975(73%)]\tTrain Loss: 0.276835\t runtime=60.7sec\n",
      "Train Epoch: 0 [24000/31975(75%)]\tTrain Loss: 0.198359\t runtime=60.7sec\n",
      "Train Epoch: 0 [24800/31975(78%)]\tTrain Loss: 0.357237\t runtime=60.7sec\n",
      "Train Epoch: 0 [25600/31975(80%)]\tTrain Loss: 0.362325\t runtime=60.7sec\n",
      "Train Epoch: 0 [26400/31975(83%)]\tTrain Loss: 0.425143\t runtime=60.8sec\n",
      "Train Epoch: 0 [27200/31975(85%)]\tTrain Loss: 0.394073\t runtime=60.7sec\n",
      "Train Epoch: 0 [28000/31975(88%)]\tTrain Loss: 0.404306\t runtime=60.8sec\n",
      "Train Epoch: 0 [28800/31975(90%)]\tTrain Loss: 0.283344\t runtime=60.7sec\n",
      "Train Epoch: 0 [29600/31975(93%)]\tTrain Loss: 0.310245\t runtime=60.7sec\n",
      "Train Epoch: 0 [30400/31975(95%)]\tTrain Loss: 0.289249\t runtime=60.7sec\n",
      "Train Epoch: 0 [31200/31975(98%)]\tTrain Loss: 0.492718\t runtime=60.7sec\n",
      "Train Epoch Takes 40.43min\n",
      "Train Epoch: 1 [0/31975(0%)]\tTrain Loss: 0.271702\t runtime=0.9sec\n",
      "Train Epoch: 1 [800/31975(3%)]\tTrain Loss: 0.239366\t runtime=60.7sec\n",
      "Train Epoch: 1 [1600/31975(5%)]\tTrain Loss: 0.349257\t runtime=60.7sec\n",
      "Train Epoch: 1 [2400/31975(8%)]\tTrain Loss: 0.201861\t runtime=60.8sec\n",
      "Train Epoch: 1 [3200/31975(10%)]\tTrain Loss: 0.164901\t runtime=60.7sec\n",
      "Train Epoch: 1 [4000/31975(13%)]\tTrain Loss: 0.440216\t runtime=60.7sec\n",
      "Train Epoch: 1 [4800/31975(15%)]\tTrain Loss: 0.430306\t runtime=60.7sec\n",
      "Train Epoch: 1 [5600/31975(18%)]\tTrain Loss: 0.231094\t runtime=60.7sec\n",
      "Train Epoch: 1 [6400/31975(20%)]\tTrain Loss: 0.250512\t runtime=60.7sec\n",
      "Train Epoch: 1 [7200/31975(23%)]\tTrain Loss: 0.271489\t runtime=60.6sec\n",
      "Train Epoch: 1 [8000/31975(25%)]\tTrain Loss: 0.551997\t runtime=60.7sec\n",
      "Train Epoch: 1 [8800/31975(28%)]\tTrain Loss: 0.348797\t runtime=60.7sec\n",
      "Train Epoch: 1 [9600/31975(30%)]\tTrain Loss: 0.177625\t runtime=60.7sec\n",
      "Train Epoch: 1 [10400/31975(33%)]\tTrain Loss: 0.318912\t runtime=60.7sec\n",
      "Train Epoch: 1 [11200/31975(35%)]\tTrain Loss: 0.209695\t runtime=60.7sec\n",
      "Train Epoch: 1 [12000/31975(38%)]\tTrain Loss: 0.332999\t runtime=60.7sec\n",
      "Train Epoch: 1 [12800/31975(40%)]\tTrain Loss: 0.364528\t runtime=60.7sec\n",
      "Train Epoch: 1 [13600/31975(43%)]\tTrain Loss: 0.178526\t runtime=60.7sec\n",
      "Train Epoch: 1 [14400/31975(45%)]\tTrain Loss: 0.430105\t runtime=60.7sec\n",
      "Train Epoch: 1 [15200/31975(48%)]\tTrain Loss: 0.198621\t runtime=60.7sec\n",
      "Train Epoch: 1 [16000/31975(50%)]\tTrain Loss: 0.340035\t runtime=60.7sec\n",
      "Train Epoch: 1 [16800/31975(53%)]\tTrain Loss: 0.177424\t runtime=60.7sec\n",
      "Train Epoch: 1 [17600/31975(55%)]\tTrain Loss: 0.435775\t runtime=60.7sec\n",
      "Train Epoch: 1 [18400/31975(58%)]\tTrain Loss: 0.179010\t runtime=60.7sec\n",
      "Train Epoch: 1 [19200/31975(60%)]\tTrain Loss: 0.155640\t runtime=60.8sec\n",
      "Train Epoch: 1 [20000/31975(63%)]\tTrain Loss: 0.190911\t runtime=60.7sec\n",
      "Train Epoch: 1 [20800/31975(65%)]\tTrain Loss: 0.031370\t runtime=60.7sec\n",
      "Train Epoch: 1 [21600/31975(68%)]\tTrain Loss: 0.353025\t runtime=60.7sec\n",
      "Train Epoch: 1 [22400/31975(70%)]\tTrain Loss: 0.377144\t runtime=60.7sec\n",
      "Train Epoch: 1 [23200/31975(73%)]\tTrain Loss: 0.189797\t runtime=60.8sec\n",
      "Train Epoch: 1 [24000/31975(75%)]\tTrain Loss: 0.308625\t runtime=60.7sec\n",
      "Train Epoch: 1 [24800/31975(78%)]\tTrain Loss: 0.343055\t runtime=60.7sec\n",
      "Train Epoch: 1 [25600/31975(80%)]\tTrain Loss: 0.163287\t runtime=60.8sec\n",
      "Train Epoch: 1 [26400/31975(83%)]\tTrain Loss: 0.245261\t runtime=60.7sec\n",
      "Train Epoch: 1 [27200/31975(85%)]\tTrain Loss: 0.416715\t runtime=60.7sec\n",
      "Train Epoch: 1 [28000/31975(88%)]\tTrain Loss: 0.326092\t runtime=60.8sec\n",
      "Train Epoch: 1 [28800/31975(90%)]\tTrain Loss: 0.249929\t runtime=60.8sec\n",
      "Train Epoch: 1 [29600/31975(93%)]\tTrain Loss: 0.265532\t runtime=60.7sec\n",
      "Train Epoch: 1 [30400/31975(95%)]\tTrain Loss: 0.142707\t runtime=60.7sec\n",
      "Train Epoch: 1 [31200/31975(98%)]\tTrain Loss: 0.230267\t runtime=60.8sec\n",
      "Train Epoch Takes 40.46min\n",
      "Train Epoch: 2 [0/31975(0%)]\tTrain Loss: 0.274722\t runtime=0.9sec\n",
      "Train Epoch: 2 [800/31975(3%)]\tTrain Loss: 0.239856\t runtime=60.8sec\n",
      "Train Epoch: 2 [1600/31975(5%)]\tTrain Loss: 0.168202\t runtime=60.7sec\n",
      "Train Epoch: 2 [2400/31975(8%)]\tTrain Loss: 0.175057\t runtime=60.8sec\n",
      "Train Epoch: 2 [3200/31975(10%)]\tTrain Loss: 0.154316\t runtime=60.7sec\n",
      "Train Epoch: 2 [4000/31975(13%)]\tTrain Loss: 0.269006\t runtime=60.7sec\n",
      "Train Epoch: 2 [4800/31975(15%)]\tTrain Loss: 0.273591\t runtime=60.8sec\n",
      "Train Epoch: 2 [5600/31975(18%)]\tTrain Loss: 0.227001\t runtime=60.8sec\n",
      "Train Epoch: 2 [6400/31975(20%)]\tTrain Loss: 0.107547\t runtime=60.8sec\n",
      "Train Epoch: 2 [7200/31975(23%)]\tTrain Loss: 0.233782\t runtime=60.8sec\n",
      "Train Epoch: 2 [8000/31975(25%)]\tTrain Loss: 0.169810\t runtime=60.8sec\n",
      "Train Epoch: 2 [8800/31975(28%)]\tTrain Loss: 0.287383\t runtime=60.7sec\n",
      "Train Epoch: 2 [9600/31975(30%)]\tTrain Loss: 0.067774\t runtime=60.7sec\n",
      "Train Epoch: 2 [10400/31975(33%)]\tTrain Loss: 0.175021\t runtime=60.8sec\n",
      "Train Epoch: 2 [11200/31975(35%)]\tTrain Loss: 0.167430\t runtime=60.8sec\n",
      "Train Epoch: 2 [12000/31975(38%)]\tTrain Loss: 0.232423\t runtime=60.8sec\n",
      "Train Epoch: 2 [12800/31975(40%)]\tTrain Loss: 0.146999\t runtime=60.7sec\n",
      "Train Epoch: 2 [13600/31975(43%)]\tTrain Loss: 0.253811\t runtime=60.7sec\n",
      "Train Epoch: 2 [14400/31975(45%)]\tTrain Loss: 0.325423\t runtime=60.7sec\n",
      "Train Epoch: 2 [15200/31975(48%)]\tTrain Loss: 0.163775\t runtime=60.8sec\n",
      "Train Epoch: 2 [16000/31975(50%)]\tTrain Loss: 0.247244\t runtime=60.8sec\n",
      "Train Epoch: 2 [16800/31975(53%)]\tTrain Loss: 0.156826\t runtime=60.8sec\n",
      "Train Epoch: 2 [17600/31975(55%)]\tTrain Loss: 0.246081\t runtime=60.7sec\n",
      "Train Epoch: 2 [18400/31975(58%)]\tTrain Loss: 0.151142\t runtime=60.8sec\n",
      "Train Epoch: 2 [19200/31975(60%)]\tTrain Loss: 0.264843\t runtime=60.8sec\n",
      "Train Epoch: 2 [20000/31975(63%)]\tTrain Loss: 0.133646\t runtime=60.8sec\n",
      "Train Epoch: 2 [20800/31975(65%)]\tTrain Loss: 0.359268\t runtime=60.8sec\n",
      "Train Epoch: 2 [21600/31975(68%)]\tTrain Loss: 0.208431\t runtime=60.8sec\n",
      "Train Epoch: 2 [22400/31975(70%)]\tTrain Loss: 0.197222\t runtime=60.8sec\n",
      "Train Epoch: 2 [23200/31975(73%)]\tTrain Loss: 0.342308\t runtime=60.7sec\n",
      "Train Epoch: 2 [24000/31975(75%)]\tTrain Loss: 0.262368\t runtime=60.7sec\n",
      "Train Epoch: 2 [24800/31975(78%)]\tTrain Loss: 0.258483\t runtime=60.8sec\n",
      "Train Epoch: 2 [25600/31975(80%)]\tTrain Loss: 0.158402\t runtime=60.7sec\n",
      "Train Epoch: 2 [26400/31975(83%)]\tTrain Loss: 0.111806\t runtime=60.7sec\n",
      "Train Epoch: 2 [27200/31975(85%)]\tTrain Loss: 0.236607\t runtime=60.8sec\n",
      "Train Epoch: 2 [28000/31975(88%)]\tTrain Loss: 0.305388\t runtime=60.7sec\n",
      "Train Epoch: 2 [28800/31975(90%)]\tTrain Loss: 0.219267\t runtime=60.7sec\n",
      "Train Epoch: 2 [29600/31975(93%)]\tTrain Loss: 0.199570\t runtime=60.7sec\n",
      "Train Epoch: 2 [30400/31975(95%)]\tTrain Loss: 0.280507\t runtime=60.7sec\n",
      "Train Epoch: 2 [31200/31975(98%)]\tTrain Loss: 0.107103\t runtime=60.7sec\n",
      "Train Epoch Takes 40.48min\n",
      "Train Epoch: 3 [0/31975(0%)]\tTrain Loss: 0.312039\t runtime=0.9sec\n",
      "Train Epoch: 3 [800/31975(3%)]\tTrain Loss: 0.170526\t runtime=60.7sec\n",
      "Train Epoch: 3 [1600/31975(5%)]\tTrain Loss: 0.308695\t runtime=60.7sec\n",
      "Train Epoch: 3 [2400/31975(8%)]\tTrain Loss: 0.168395\t runtime=60.7sec\n",
      "Train Epoch: 3 [3200/31975(10%)]\tTrain Loss: 0.187747\t runtime=60.6sec\n",
      "Train Epoch: 3 [4000/31975(13%)]\tTrain Loss: 0.309086\t runtime=60.7sec\n",
      "Train Epoch: 3 [4800/31975(15%)]\tTrain Loss: 0.220493\t runtime=60.7sec\n",
      "Train Epoch: 3 [5600/31975(18%)]\tTrain Loss: 0.093952\t runtime=60.7sec\n",
      "Train Epoch: 3 [6400/31975(20%)]\tTrain Loss: 0.175960\t runtime=60.7sec\n",
      "Train Epoch: 3 [7200/31975(23%)]\tTrain Loss: 0.199912\t runtime=60.6sec\n",
      "Train Epoch: 3 [8000/31975(25%)]\tTrain Loss: 0.389523\t runtime=60.6sec\n",
      "Train Epoch: 3 [8800/31975(28%)]\tTrain Loss: 0.217537\t runtime=60.7sec\n",
      "Train Epoch: 3 [9600/31975(30%)]\tTrain Loss: 0.411963\t runtime=60.6sec\n",
      "Train Epoch: 3 [10400/31975(33%)]\tTrain Loss: 0.169772\t runtime=60.6sec\n",
      "Train Epoch: 3 [11200/31975(35%)]\tTrain Loss: 0.096225\t runtime=60.6sec\n",
      "Train Epoch: 3 [12000/31975(38%)]\tTrain Loss: 0.182892\t runtime=60.7sec\n",
      "Train Epoch: 3 [12800/31975(40%)]\tTrain Loss: 0.255417\t runtime=60.6sec\n",
      "Train Epoch: 3 [13600/31975(43%)]\tTrain Loss: 0.326740\t runtime=60.7sec\n",
      "Train Epoch: 3 [14400/31975(45%)]\tTrain Loss: 0.348959\t runtime=60.6sec\n",
      "Train Epoch: 3 [15200/31975(48%)]\tTrain Loss: 0.246112\t runtime=60.7sec\n",
      "Train Epoch: 3 [16000/31975(50%)]\tTrain Loss: 0.304571\t runtime=60.7sec\n",
      "Train Epoch: 3 [16800/31975(53%)]\tTrain Loss: 0.274844\t runtime=60.6sec\n",
      "Train Epoch: 3 [17600/31975(55%)]\tTrain Loss: 0.255173\t runtime=60.7sec\n",
      "Train Epoch: 3 [18400/31975(58%)]\tTrain Loss: 0.217423\t runtime=60.6sec\n",
      "Train Epoch: 3 [19200/31975(60%)]\tTrain Loss: 0.118165\t runtime=60.6sec\n",
      "Train Epoch: 3 [20000/31975(63%)]\tTrain Loss: 0.171222\t runtime=60.7sec\n",
      "Train Epoch: 3 [20800/31975(65%)]\tTrain Loss: 0.127670\t runtime=60.7sec\n",
      "Train Epoch: 3 [21600/31975(68%)]\tTrain Loss: 0.136379\t runtime=60.6sec\n",
      "Train Epoch: 3 [22400/31975(70%)]\tTrain Loss: 0.307560\t runtime=60.6sec\n",
      "Train Epoch: 3 [23200/31975(73%)]\tTrain Loss: 0.184332\t runtime=60.7sec\n",
      "Train Epoch: 3 [24000/31975(75%)]\tTrain Loss: 0.180841\t runtime=60.6sec\n",
      "Train Epoch: 3 [24800/31975(78%)]\tTrain Loss: 0.138984\t runtime=60.6sec\n",
      "Train Epoch: 3 [25600/31975(80%)]\tTrain Loss: 0.145302\t runtime=60.7sec\n",
      "Train Epoch: 3 [26400/31975(83%)]\tTrain Loss: 0.267074\t runtime=60.7sec\n",
      "Train Epoch: 3 [27200/31975(85%)]\tTrain Loss: 0.199893\t runtime=60.7sec\n",
      "Train Epoch: 3 [28000/31975(88%)]\tTrain Loss: 0.179121\t runtime=60.6sec\n",
      "Train Epoch: 3 [28800/31975(90%)]\tTrain Loss: 0.227448\t runtime=60.6sec\n",
      "Train Epoch: 3 [29600/31975(93%)]\tTrain Loss: 0.171621\t runtime=60.6sec\n",
      "Train Epoch: 3 [30400/31975(95%)]\tTrain Loss: 0.140833\t runtime=60.6sec\n",
      "Train Epoch: 3 [31200/31975(98%)]\tTrain Loss: 0.143237\t runtime=60.6sec\n",
      "Train Epoch Takes 40.41min\n"
     ]
    }
   ],
   "source": [
    "torch.cuda.empty_cache() # 캐시 삭제\n",
    "\n",
    "for Epoch in range(EPOCHS): \n",
    "    train_loss = []\n",
    "    first_time = time.time()\n",
    "    epoch_start = time.time()\n",
    "    model.train()\n",
    "    torch.set_grad_enabled(True)\n",
    "    for batch_idx, data in enumerate(train_dataloader):\n",
    "        optimizer.zero_grad()\n",
    "       \n",
    "        input_ = data['input_ids'].long().to(device)\n",
    "        mask_ = data['attention_mask'].long().to(device)\n",
    "        trg_ = data[\"labels\"]\n",
    "        intrg = torch.tensor(trg_[:,:-1]).to(device)\n",
    "        outtrg = torch.tensor(trg_[:,1:]).to(device)\n",
    "        \n",
    "        c_out, out = model.forward(input_,mask_,intrg)\n",
    "     \n",
    "        _,_,vocab = out[0].size()\n",
    "        out_ = out[0].view(-1,vocab)\n",
    "        outtrg = outtrg.view(-1)\n",
    "\n",
    "        c_loss = criterion(c_out.cpu(),data[\"last_text\"].long().cpu())\n",
    "        \n",
    "\n",
    "        # # 3 에폭까지는 함께 학습, 이후 3 에폭은 요약문 대상 학습만 진행\n",
    "        # # pad 부분에 대해 손실을 구하지 않도록 설정\n",
    "        # if Epoch<3:\n",
    "        #     loss_ = criterion(out_,outtrg)\n",
    "        #     nopad = torch.logical_not(torch.eq(outtrg, 3))\n",
    "        #     nopad = torch.tensor(nopad, dtype=loss_.dtype)\n",
    "        #     loss_ = nopad * loss_\n",
    "        \n",
    "        #     loss = torch.sum(loss_)/torch.sum(nopad) + c_loss/10\n",
    "        # else: \n",
    "        #     loss_ = criterion(out_,outtrg)\n",
    "        #     nopad = torch.logical_not(torch.eq(outtrg, 3))\n",
    "        #     nopad = torch.tensor(nopad, dtype=loss_.dtype)\n",
    "        #     loss_ = nopad * loss_\n",
    "        \n",
    "        #     loss = torch.sum(loss_)/torch.sum(nopad)\n",
    "\n",
    "        \n",
    "        loss_ = criterion(out_,outtrg)\n",
    "        nopad = torch.logical_not(torch.eq(outtrg, 3))\n",
    "        nopad = torch.tensor(nopad, dtype=loss_.dtype)\n",
    "        loss_ = nopad * loss_\n",
    "        loss = torch.sum(loss_)/torch.sum(nopad) + c_loss/10\n",
    "\n",
    "\n",
    "        loss.backward()\n",
    "        torch_utils.clip_grad_norm_(model.parameters(),1)\n",
    "        optimizer.step()\n",
    "        \n",
    "        scheduler.step()\n",
    "\n",
    "        if batch_idx%100==0:\n",
    "            second_time = time.time()\n",
    "            print(\"Train Epoch: {} [{}/{}({:.0f}%)]\\tTrain Loss: {:.6f}\\t runtime={:.1f}sec\".format(Epoch, batch_idx * batch_size, train_sub,100.*batch_idx* batch_size/train_sub, loss.item(),(second_time-first_time)))\n",
    "            first_time = second_time\n",
    "            \n",
    "        del input_,mask_,trg_, out, outtrg, loss\n",
    "        \n",
    "        torch.cuda.empty_cache()\n",
    "        \n",
    "    epoch_end = time.time()\n",
    "\n",
    "    print(\"Train Epoch Takes {:.2f}min\".format((epoch_end - epoch_start)/60))"
   ]
  },
  {
   "cell_type": "code",
   "execution_count": 60,
   "metadata": {
    "executionInfo": {
     "elapsed": 9,
     "status": "ok",
     "timestamp": 1638539511361,
     "user": {
      "displayName": "박인창",
      "photoUrl": "https://lh3.googleusercontent.com/a/default-user=s64",
      "userId": "11568833197762759465"
     },
     "user_tz": -540
    },
    "id": "3xJjLyTf_UOO"
   },
   "outputs": [],
   "source": [
    "torch.cuda.empty_cache()"
   ]
  },
  {
   "cell_type": "markdown",
   "metadata": {
    "id": "I90gzve54Kr7"
   },
   "source": [
    "#### 모델 저장"
   ]
  },
  {
   "cell_type": "code",
   "execution_count": 61,
   "metadata": {
    "executionInfo": {
     "elapsed": 1572,
     "status": "ok",
     "timestamp": 1638539512927,
     "user": {
      "displayName": "박인창",
      "photoUrl": "https://lh3.googleusercontent.com/a/default-user=s64",
      "userId": "11568833197762759465"
     },
     "user_tz": -540
    },
    "id": "OqR-HrWP36fx"
   },
   "outputs": [],
   "source": [
    "torch.save(model, saved_model_path + 'kobart_model.pt')"
   ]
  },
  {
   "cell_type": "markdown",
   "metadata": {
    "id": "ddw83cPeebbV"
   },
   "source": [
    "### 5-2 추론\n",
    "#### 후처리 사항\n",
    "- 특수문자 제거\n",
    "- 앞 뒤 공백 제거"
   ]
  },
  {
   "cell_type": "code",
   "execution_count": 62,
   "metadata": {
    "executionInfo": {
     "elapsed": 312,
     "status": "ok",
     "timestamp": 1638539513237,
     "user": {
      "displayName": "박인창",
      "photoUrl": "https://lh3.googleusercontent.com/a/default-user=s64",
      "userId": "11568833197762759465"
     },
     "user_tz": -540
    },
    "id": "VD1PsRay4ObC"
   },
   "outputs": [],
   "source": [
    "# # (Option) 저장된 모델 로드\n",
    "# model = torch.load(saved_model_path + 'kobart_model.pt')\n",
    "# model = model.to(device)"
   ]
  },
  {
   "cell_type": "code",
   "execution_count": 63,
   "metadata": {
    "executionInfo": {
     "elapsed": 8,
     "status": "ok",
     "timestamp": 1638539513238,
     "user": {
      "displayName": "박인창",
      "photoUrl": "https://lh3.googleusercontent.com/a/default-user=s64",
      "userId": "11568833197762759465"
     },
     "user_tz": -540
    },
    "id": "govHm4-7_UOO"
   },
   "outputs": [],
   "source": [
    "test_df_dataset = Summary_dataset(test_df_encodings, train_labels)\n",
    "test_df_dataloader = DataLoader(test_df_dataset, batch_size=2, num_workers=5)"
   ]
  },
  {
   "cell_type": "markdown",
   "metadata": {
    "id": "qK5yXSX8i2yq"
   },
   "source": [
    "특수 문자 제거 함수"
   ]
  },
  {
   "cell_type": "code",
   "execution_count": 64,
   "metadata": {
    "executionInfo": {
     "elapsed": 8,
     "status": "ok",
     "timestamp": 1638539513239,
     "user": {
      "displayName": "박인창",
      "photoUrl": "https://lh3.googleusercontent.com/a/default-user=s64",
      "userId": "11568833197762759465"
     },
     "user_tz": -540
    },
    "id": "iw2FTTGgCcUi"
   },
   "outputs": [],
   "source": [
    "def clean_text_2(text):\n",
    "    text = text.split(\"</s>\")[0]\n",
    "    text = text.replace(\"<s>\",\" \")\n",
    "    text = text.replace(\"<usr>\",\" \")\n",
    "    text = text.replace(\"<pad>\",\" \")\n",
    "    test = re.sub('<[a-zA-Z]+>',\" \",text)\n",
    "    text = text.replace(\"▁\",\" \")\n",
    "    text = re.sub(\"\\n\", ' ', text)\n",
    "    text = re.sub(\"\\xa0\", ' ', text)   \n",
    "    text = re.sub('<',' ',text)\n",
    "    text = re.sub('>',' ',text)\n",
    "    text = re.sub('\\s+', ' ', text)\n",
    "\n",
    "    return text"
   ]
  },
  {
   "cell_type": "markdown",
   "metadata": {
    "id": "x2CmbBmfi_K9"
   },
   "source": [
    "추론"
   ]
  },
  {
   "cell_type": "code",
   "execution_count": 65,
   "metadata": {
    "colab": {
     "base_uri": "https://localhost:8080/"
    },
    "executionInfo": {
     "elapsed": 1229746,
     "status": "ok",
     "timestamp": 1638540742977,
     "user": {
      "displayName": "박인창",
      "photoUrl": "https://lh3.googleusercontent.com/a/default-user=s64",
      "userId": "11568833197762759465"
     },
     "user_tz": -540
    },
    "id": "aqNuem7d_UOP",
    "outputId": "ea0a4ee2-2974-4913-bf52-8b06fb57c3a5"
   },
   "outputs": [
    {
     "name": "stderr",
     "output_type": "stream",
     "text": [
      "100%|██████████| 2320/2320 [20:29<00:00,  1.89it/s]\n"
     ]
    }
   ],
   "source": [
    "test_loss = 0\n",
    "correct = 0\n",
    "\n",
    "test_sum = []\n",
    "model.eval()\n",
    "for data in tqdm(test_df_dataloader):\n",
    "    \n",
    "    input_ = data['input_ids'].to(device)    \n",
    "    out = model.bart_model.generate(input_, max_length=500)\n",
    "    torch.cuda.empty_cache()\n",
    "    \n",
    "    for i in range(len(out)):\n",
    "        text = tokenizer.convert_ids_to_tokens(out[i])\n",
    "        text = \"\".join(text)\n",
    "        text = clean_text_2(text)        \n",
    "        test_sum.append(text)\n"
   ]
  },
  {
   "cell_type": "markdown",
   "metadata": {
    "id": "Wzh-7d0QjAkU"
   },
   "source": [
    "문장 앞 뒤 공백 제거"
   ]
  },
  {
   "cell_type": "code",
   "execution_count": 66,
   "metadata": {
    "executionInfo": {
     "elapsed": 35,
     "status": "ok",
     "timestamp": 1638540742977,
     "user": {
      "displayName": "박인창",
      "photoUrl": "https://lh3.googleusercontent.com/a/default-user=s64",
      "userId": "11568833197762759465"
     },
     "user_tz": -540
    },
    "id": "5xCK7OfJDb5E"
   },
   "outputs": [],
   "source": [
    "# 문장 앞 뒤 공백 제거\n",
    "for i in range(len(test_sum)):\n",
    "    if test_sum[i][0] == ' ':\n",
    "        test_sum[i] = test_sum[i][1:]\n",
    "    if test_sum[i][-1] == ' ':\n",
    "        test_sum[i] = test_sum[i][:-1]"
   ]
  },
  {
   "cell_type": "markdown",
   "metadata": {
    "id": "S1TyizRTf6fM"
   },
   "source": [
    "결과 요약문 확인"
   ]
  },
  {
   "cell_type": "code",
   "execution_count": 67,
   "metadata": {
    "colab": {
     "base_uri": "https://localhost:8080/"
    },
    "executionInfo": {
     "elapsed": 26,
     "status": "ok",
     "timestamp": 1638540742978,
     "user": {
      "displayName": "박인창",
      "photoUrl": "https://lh3.googleusercontent.com/a/default-user=s64",
      "userId": "11568833197762759465"
     },
     "user_tz": -540
    },
    "id": "Z17IVd3v69o_",
    "outputId": "86480b15-981f-480f-aaf9-b7537d7838cc"
   },
   "outputs": [
    {
     "data": {
      "text/plain": [
       "['공주시 무령왕릉에서 발견된 청동거울로 청동신수경, 의자손수대경, 수대경 3점이다. 청동신수경은 ‘방격규구문경’이라는 중국 후한의 거울을 모방하여 만든 것이다. 거울 중앙의 꼭지를 중심으로 9개의 돌기가 있고, 안에는 크고 작은 원과 7개의 돌기가 솟아있다.',\n",
       " '높이 47cm의 대형 백자 병으로 목이 유난히 길어 속칭 거위병이라고도 부른다. 경기도자박물관 소장 백자대병의 용도는 다병(茶甁;차를 담는 병)이었을 것으로 보인다.',\n",
       " '공주시 무령왕릉에서 출토된 백제 때 귀고리 2쌍으로 길이는 11.8cm, 8.8cm이다. 왕비의 귀고리로, 굵은 고리를 중심으로 작은 장식들을 연결하여 만들었다. 국립중앙박물관과 국립공주박물관에 각1쌍씩 보관되어 있다.',\n",
       " '전통적 형식을 지닌 보덕사 해우소는 앞면 3칸, 옆면 1칸 규모로 맞배지붕을 하고 있는 2층 누각식 건물이다. 앞뒤 2열로 나누어 각각 6칸씩의 대변소를 배치하여 남녀의 사용을 구분하면서 12명을 동시에 수용할 수 있는 지혜를 엿볼 수 있는 건물이다.',\n",
       " '완도군 완도읍 군내리 신흥사에 모셔진 약사여래좌상이다. 이 불상은 원래 해남 대흥사 소속암자인 심적암(深寂庵)에 있었던 것인데 초의스님이 현 대광명전에 옮겨 모셨으며, 그 뒤 응송(박영희)스님이 신흥사로 옮겨 봉안한 것이다. 조선시대 불상으로 그 조성연대를 알 수 있어 불상 편년사 연구에 중요한 자료로 평가된다.',\n",
       " '농악은 농부들이 두레를 짜서 일할 때 치는 음악으로 꽹과리·징·장구·북과 같은 타악기를 치며 벌이는 음악을 두루 가리키는 말이다. 농악을 공연하는 목적에 따라 종류를 나누어 보면 당산굿·마당밟이·걸립굿·두레굿·판굿·기우제굿·배굿 등으로 나눌 수 있고, 지역적 특성에 따라 분류하면 경기농악·영동농악·호남우도농악·호남좌도농악·경남농악·경북농악으로 갈라진다.',\n",
       " '화기에 의한 1868년 3월 서운암(瑞雲菴)에 봉안한다고 적혀있으나, 밑부분이 잘려 신중도를 그린 불화승은 알 수 없음. 그러나 거의 같은 초본을 사용한 신중도를 통해 서운암의 위치를 추적해 볼 수 있음. 선학원 신중도와 같은 형식은 해인사 국일암 신중도(1885년) 직지사 삼성암 신중도(1888년), 통도사 말사인 성전암 신중도(19세기) 등이 전해짐.',\n",
       " '법주사내의 보광명전 앞에 서 있는 탑으로, 원래는 2층 기단(基壇) 위에 5층의 탑신(塔身)을 올린 모습이었을 것이나, 현재는 위층 기단과 탑신의 4층 몸돌·지붕돌이 없는 상태이다. 고려시대에 세운 탑으로, 일부 석재를 잃어버려 본래의 모습을 알 수 없음이 아쉬울 따름이다.',\n",
       " '신라 김유신(595∼673)장군의 위패를 모신 사당이다. 경내에는 장군의 생애와 공적이 적힌 ‘순충장열무흥왕화산제기적비(純忠壯烈武興王花山薺紀蹟碑)’가 있다.',\n",
       " '고인돌 주변에서 붉은간토기, 민무늬토기 등이 출토되어 청동기시대의 생활상을 연구하는데 중요한 자료로 평가된다. 김해시 서쪽 경운산 기슭의 마을 안에 있는데, 원래는 더 많은 고인돌이 있었던 것 같으나 주택개축과 개간 등으로 유실되어 현재는 1기만 남아 있다.',\n",
       " '고려 원종 원년(1260) 대원사를 크게 중창한 바 있고, 한때 이곳에 머물렀던 자진국사의 사리탑이다. 그의 사리탑은 대원사 극락전 오른쪽에 자리하고 있으며, 기단부(基壇部)·탑신(塔身) 등이 모두 8각을 이루고 있다. 전체적으로 섬세한 조각수법은 보이지 않으나, 단순하면서도 세련된 고려시대의 사리탑이라 할 수 있다.',\n",
       " '전라남도 광양시 옥룡면에 있는 산성으로, 6개의 산봉우리를 아우르며 성 안으로 계곡을 품고 있다. 임진왜란 때는 의병과 승병을 양성하는 훈련장으로 사용하였으며, 의병과 승병으로 구성된 연합군과 왜군간에 큰 전투가 벌어졌던 곳이다.',\n",
       " '보광사 목조지장보살좌상은 1654년 내시 나업의 부인 한씨가 죽은 남편을 위해 금강산 안양암에 봉안하기 위하여 발원한 작품으로, 조각승 초안이 제작한 기년명 불상이다. 목조지장보살좌상은 하나의 나무로 만들어진 불상이다. 불상 내에서 발견된 복장물 가운데 조성발원문, 불교경전 등은 조선시대 불교사와 정치사 연구에 중요한 문헌자료들이다.',\n",
       " '이 교회는 전라남도 지역이 광주교구로 승격되던 1937년 광주성당의 4대 주임신부로 부임한 구 具 신부(Rev. Thomas Quinlan)가 계획을 세워서 지은 것이다. 구신부는 교회를 신축하기 위해서 성당건축에 경험이 많은 중국인 가요셉에게 설계와 공사를 맡겨서 1937년 10월에 착공하여 이듬해 6월에 낙성하였다.',\n",
       " '『중용주자혹문(中庸朱子或問)』은 고려 공민왕 20년(1371)에 원나라로부터 수입하여 목판본으로 찍어낸 책으로, 송나라 주희가『사서(四書)』가운데 하나인『중용』에 대해 여러 문제점을 묻고 답하는 형식으로 서술한 책이다. 인쇄상태로 보아 이 책이 보물 제706호보다 약간 늦게 인쇄된 듯하다.',\n",
       " '전라북도 임실군 삼계면 학정리의 밭 가운데에 서 있는 불상으로, 하반신이 땅속에 묻혀 있다. 땅위로 드러난 부분의 높이는 1.55m, 너비는 0.85m이다.',\n",
       " '임진왜란 때 참전하였다가 숨진 박천붕(1545∼1592)과 선친의 위업을 이어 병자호란 때 참전하였다가 순직한 네 아들 원겸·인겸·례겸·의겸의 충절을 기리기 위해 나라에서 세운 비각이다. 영조 24년(1748)에 세운 이 정각은 앞면 3칸·옆면 1칸 규모로 안에는 신구비(新舊碑) 2구가 있다.',\n",
       " '현수제승법수는 불경에 나오는 숫자가 들어 있는 용어를 가려 뽑아서 숫자의 차례대로 배열하여 쉽게 찾아볼 숭 있도록 엮어놓은 일종의 불교용어사전이다. 본래 이 책은 당나라 승려 현수(賢首)가 부조의 설법을 숫자로서 표시하여 일목요연하게 이해할 수 있도록 편찬했는데, 후대 오면서 점차 희귀해지자 명나라 행심(行深)이 불교입문의 지침이 될 만한 체재로 재편하였다. 이 목판본은 합천 봉서사(鳳栖寺)에서 간행한 것으로 11권 1책이며, 서문과 발문에서 편찬 취지와 간행 동기를 명확하게 밝히고 있어 불교문화재로서 뿐만 아니라 서지학적으로 매우 귀중한 자료이다.',\n",
       " '대구 보성선원 목조석가여래삼존좌상 복장불서는 보성선원에 봉안되어 있는 본존불인 석가여래, 좌우 문수ᆞ보현보살상(보물 제1801호)에 납입되었던 서적이다. 불상은 조성발원문을 통해 1647년(인조 27) 조각승 玄旭이 조성한 것으로 판명되어 2013년 보물로 지정되었다.',\n",
       " '개목사의 원래 이름은 흥국사로 통일신라 신문왕(재위 681∼692) 때 의상대사가 세웠다고 한다. 전설에 따르면 의상대사가 절 뒤에 있는 천등굴에서 천녀(天女)의 기적으로 도를 깨치고 절을 세웠다고 하는데 ‘개목사’라는 절 이름은 조선시대에 바꾼 이름이라고 전한다.',\n",
       " '일제시대 당시 횡성군내의 옛 절터에 있었던 것을 옮겨 온 것으로, 바닥돌과 기단(基壇)을 잃어버려 3층의 탑신(塔身)만 남아있다. 지붕돌의 양식이나 조각수법으로 보아 고려 중기의 작품으로 추정된다.',\n",
       " '단종(1441∼1457)과 단종의 죽음을 막기 위해 노력한 충신들의 위패를 모신 사당이다. 이곳은 원래 초혼각으로 사육신의 시신을 장례한 후 제사지내던 곳이었다. 영조 4년(1728)에 불탄 것을 순조 27년(1827)에 다시 세웠고, 고종 1년(1864) 초혼각 북쪽에 단종의 위패를, 동벽에 고려 후기 충신 7위를, 서벽에는 사육신 등 7위를 모셨다.',\n",
       " '동화사는 신라시대에 지어진 후 8차례에 걸쳐서 새로 지었으며, 대웅전 또한 여러 차례 다시 지은 것이다. 지금 있는 대웅전은 조선 후기인 영조 3년(1727)에서 영조 8년(1732)에 지은 것으로 추정한다.',\n",
       " '함양 용추사에 보존되어 있는 그림으로, 천룡을 그린 탱화이다. 화면의 아래쪽 부분에 있는 기록에 의하면 이 천룡탱은 건륭 18년, 즉 조선 영조 22년(1753)에 금어 관동·유택·준행 등이 참여하여 조성된 것임을 알 수 있다.',\n",
       " '일제강점기인 1931년에 준공된 옛 경성제국대학의 본관으로, 1945년 이후 서울대학교 본관으로 사용되었다. 서울대학교가 1972년 관악캠퍼스로 이전한 뒤 문화예술진흥원 청사로 사용되고 있다.',\n",
       " '성인봉의 원시림은 울릉도 성인봉 정상 부근을 중심으로 형성된 숲으로 너도밤나무 숲이 있고 섬조릿대가 나며 그 사이에 솔송나무, 섬단풍나무 등 울릉도에서만 자라는 나무들로 숲이 이루어져 있다. 그 밖에 섬노루귀, 섬말나리, 섬바디 등 이곳에서만 자생하는 희귀식물들도 자라고 있다.',\n",
       " '『월인석보』는 『월인천강지곡』과 『석보상절』을 합하여 세조 5년(1459)에 편찬한 불교 대장경이다. 월인석보 권17~18(月印釋譜 卷 十七~十八)은 세조 때 처음 간행된 초간본으로, 2권 1책이다. 본래 강원도 홍천의 수타사 인왕문에 있는 사천왕상의 배부분에서 발견되었다.',\n",
       " '경주시 황남동 미추왕릉 지구에 있는 신라 무덤인 황남대총에서 발견된 유리제 잔(배)이다. 황남대총 북분 유리잔(皇南大塚北墳 琉璃盞)은 높이 7cm, 구연부 지름 10.5cm로 북쪽 무덤에서 출토되었다.',\n",
       " '임진왜란에서 전사한 송제와 광해군 8년(1616) 여진족의 침입 때 전사한 송덕일과 송제의 처 구씨의 절개를 표창하기 위해 세운 곳이다. 조은 송덕일은 조선 중기 무신으로 선조 25년(1592) 임진왜란 때 훈련원 첨정으로 의주까지 왕을 호종하였다. 또한 1597년 정유재란 때에는 공을 세웠으며, 여진이 침입하자 이를 격파함으로 경상좌도병마절도사로 임명되었으나 여진의 잔당 고면을의 습격을 받아 전사하였다.',\n",
       " '앞면 3칸·옆면 3칸으로 지붕 옆면이 사람 인(人)자 모양인 맞배지붕이다. 내부는 우물천장에 우물마루이며, 불단을 만들어 불상을 모시고 있다.',\n",
       " '이 불상은 중앙의 석가모니불을 중심으로 좌우에 약사불과 아미타불이 협시하고 있는 석가삼존불상이다. 석가불의 대좌 상면에 묵서(墨書)된 조성기에 의하면 이 불상은 1765년(건륭 30)에 조성되었음을 알 수 있다.',\n",
       " '보현사에 자리하고 있는 낭원대사의 사리탑으로, 8각의 평면을 기본으로 하고 있다. 무너져있던 것을 사찰입구에 복원해 두었다가, 1991년 다시 원래의 자리인 산꼭대기 주변으로 옮겼다.',\n",
       " '거제 외도의 공룡발자국화석은 중생대 생태연구에 중요한 자료로써 문화재자료로 지정하여 보전하고 있다. 거제 외도의 공룡발자국화석은 중생대 생태연구에 중요한 자료로써 문화재자료로 지정하여 보전하고 있다.',\n",
       " '계성학교 제2대 교장이었던 라이너(Reiner) 선교사가 미국에 있던 맥퍼슨(McPherson)에게 자금 지원을 받아 1913년 9월에 건립한 건물이다. 건물의 설계는 아담스(Adams)와 라이너 선교사가 하고 건축공사는 중국인 벽돌공과 일본인 목수들이 담당하였다 한다.',\n",
       " '고창향교는 고려 공민왕(재위 1351∼1374) 때 월곡리에 있던 학당사을 옮겨온 것으로, 조선 중종 7년(1512)에 다시 지었다. 고창향교는 이 지방의 향토사 연구에 필요한 많은 책을 소장하고 있다.',\n",
       " \"김룡사 명부전에 있는 지장보살과 시왕상은 조성연대와 미술사적 가치를 인정받아 지난 2006년 6월 29일 경상북도 유형문화재 제385호로 지정되었다. 김룡사 명부전 내의 불단은 'ᄃ'자형으로 구성되어 있으며, 지장보살삼존상을 비롯하여 시왕상, 판관, 사자, 인왕상 등 총 21구의 목조상으로 구성되어 있다.\",\n",
       " '최치원은 통일신라 후기의 학자로, 12세 되던 경문왕 8년(868)에 당나라로 유학하여 18세에 과거급제 한 후 벼슬길에 올랐다. 지금은 최치원의 초상화를 모셔놓고 제사를 지내고 있다.',\n",
       " '백촌 김문기의 15대 손으로 조선 고종 31년(1894) 동학농민운동이 일어나자 의병을 일으켜 안동과 함창 등지에서 의병활동을 하였다. 1914년 왜적에게 국권을 강탈당한 것에 통분하여 동해의 관어대에 투신 자결하였다. 이 가옥은 임진왜란 때 군자감정(軍資監正)으로 선조를 호위했던 선생의 10대조 김응상이 1580년경 건축하였다고 하나 양식으로 미루어 18세기 이후의 건축으로 추정한다.',\n",
       " '영광 불갑사 지장시왕도는 지장을 본존으로 하여 도명존자, 무독귀왕, 시왕, 범천, 제석천, 사자, 판관, 사천왕 등을 배열한 형식을 지니고 있다. 밝고 선명한 색조, 가늘고 섬세한 필법, 안정적이면서 원근감이 느껴지는 화면 구성, 다양한 모습의 시왕 및 권속들의 표현 등 우수한 회화적 기법을 구사하고 있다.',\n",
       " '이치는 대둔산 중허리를 넘어 전북 완주군으로 통하는 교통의 요지이며 전략상 중요한 곳이다. 1592년 임진왜란 당시 경상도와 충청도를 휩쓸고 승승장구 하던 2만여 병력의 일본군이 호남으로 나아가 군량미를 얻고자 이곳을 넘으려 하였다. 이 때 먼저 길목을 지키고 있던 권율장군이 동복현감 황진과 1,500여명의 군사를 이끌고 결사적으로 싸워 일본군을 격퇴하였다. 임진왜란의 첫 승리를 장식한 이 싸움을 이치대첩 또는 이치싸움이라고 하며, 여기에 힘입어 이후 권율장군은 행주대첩과 웅치싸움을 승리로 이끌 수 있었다.',\n",
       " '이 건물은 도청 소재지를 진주에서 부산으로 옮기면서 건립한 경남도청으로, 한국전쟁 당시 임시 정부청사로 사용하였다. 우리나라 근대사의 정치·사회적 변화를 간직한 역사적인 건물로 구 경상남도지사 관사(지금의 임시수도기념관)와 더불어 부산 지역의 대표적인 근대 공공 건축물이다.',\n",
       " '큰소쩍새의 몸길이는 약 24cm이다. 올빼미와 부엉이류는 오염된 먹이로 인해서 생존에 위협을 받고 있으며 번식지를 비롯한 월동지와 서식지의 파괴, 인간에 의한 마구잡이 등의 원인으로 나날이 그 수가 감소하고 있다.',\n",
       " '지장사 대웅전에 보관되어 있는 불교그림으로, 인도의 재래적인 토속신인 신중을 그린 것이다. 인체를 불균형하게 표현한 점과 과장된 안면의 묘사 등이 19세기 불화의 특징을 보이고 있는 작품으로, 비록 색깔이 바래기는 하였으나, 조화로운 색채 구성으로 그림의 품격을 높이고 있다.',\n",
       " '연산평야와 논산평야가 내려다보이는 해발 264m의 산봉우리를 빙둘러 돌로 쌓은 산성이다. 등고선을 따라 성벽을 쌓았으며, 깬돌을 이용하여 모가 난 쪽이 겉으로 나오도록 하였고 북쪽은 험준한 자연지형을 이용하였다.',\n",
       " '통도사에 보존되어 있는 아미타후불탱인데, 탱화란 천이나 종이에 그림을 그려 액자나 족자 형태로 만들어지는 불화를 말한다. 비단 바탕에 채색하여 그린 이 탱화는, 비단 3폭을 이어 조성하였다. 화면의 아래쪽 부분 중앙에 있는 기록에 의하면 이 불화는 건륭 17년, 즉 조선 영조 28년(1752)에 조성된 것임을 알 수 있다.',\n",
       " '올빼미와 부엉이류는 오염된 먹이로 인해서 생존에 위협을 받고 있으며 번식지를 비롯한 월동지와 서식지의 파괴, 인간에 의한 마구잡이 등의 원인으로 나날이 그 수가 감소하고 있다. 올빼미와 부엉이류는 오염된 먹이로 인해서 생존에 위협을 받고 있으며 번식지를 비롯한 월동지와 서식지의 파괴, 인간에 의한 마구잡이 등의 원인으로 나날이 그 수가 감소하고 있다.',\n",
       " '운문사 금당 앞에 놓여 있는 8각 석등으로, 불을 밝혀두는 화사석(火舍石)을 중심으로, 아래에는 세 부분으로 이루어진 받침을 두고 위로는 지붕돌과 머리장식을 얹었다. 각 부분이 잘 균형을 이룬 우아한 모습의 통일신라시대 석등이다.',\n",
       " '원효(元曉)사 극락전 뒤쪽을 돌아 북쪽으로 난 산로를 따라 200m 올라가다 보면 높이 4m의 커다란 바위가 독립되어 돌출되어 있다. 조각 기법으로 보아 통일신라 작품으로 판단된다.',\n",
       " '분청사기 상감모란문 항아리는 듬직하고 힘 있는 형태에 대담한 표현의 면상감 기법이 조화를 이루는 작품이다. 전체적으로 활짝 핀 흰색의 모란에 엷은 녹색 빛이 서려 상상 속의 꽃을 묘사한 듯 아름답다. 활달한 모란꽃과 잎, 연꽃과 당초문대의 문양과 장신의 호가 잘 어울리는 고려청자 전성기의 작품이다',\n",
       " '하품중생인의 두손은 곡선적이며 매우 사실적이다. 세련된 옷주름선의 표현, 오뚝한 코, 적당한 신체 비례, 단정한 결가부좌 자세, 수평으로 가로지른 군의 표현 등 17세기 중반경 불상의 양식적 특징을 잘 보여주고 있다.',\n",
       " '전국 유림들에게 항일의식을 드높인 자하 장기석 선생의 절개를 기리기 위해 세운 비이다. 비 옆에는 1937년 일본경찰이 비를 깨부수려 할때 목숨을 끊어 이에 항거한 부인 박씨를 기리는 비가 함께 놓여 있다.',\n",
       " '운문사로 가는 도로 옆 언덕 위에서 자라고 있는 청도 동산리의 처진 소나무는 나이가 200년 정도로 추정되며 높이 13.6m, 둘레 2.04m이다. 청도 동산리의 처진 소나무는 나무의 형태가 독특하며, 민속적·생물학적 자료로서의 가치도 높아 천연기념물로 지정하여 보호하고 있다.',\n",
       " '결성향교의 언제 지었는지 정확히는 알 수 없으나, 고려 현종 1년(1010)에 세웠다고 전한다. 조선 인조 1년(1623)과 현종 15년(1674), 순조 8년(1808)에 수리하였고 1923년에 크게 보수하여 지금의 모습을 갖추었다.',\n",
       " '사천 연천숲은 마을의 지형적 결함을 보완하기 위해 만들어진 숲으로 옛 선조들의 자연이용이 슬기로웠음을 엿볼 수 있는 훌륭한 자연유산이므로 기념물로 지정하여 보호하고 있다. 이 숲은 500년 정도의 나이를 가지고 있으며, 느티나무 28그루와 팽나무 21그루, 말채나무 8그루 등 57그루의 나무로 이루어져 있다.',\n",
       " '경상남도 양산시 호계동의 큰 바위에 새겨진 마애불로, 바위 밑의 동굴에는 온돌을 설치했던 흔적이 있다. 이 동굴은 원효대사가 수도했던 ‘반고굴(磻高窟)’이라고 전해지지만 아직 확실한 근거는 없다.',\n",
       " '보문사 극락보전 오른쪽에 서 있는 3층 석탑으로, 고려 명종 15년(1185) 승려 지눌이 절을 새단장하면서 나한전의 본존불인 석가여래상을 증명하기 위해, 당시 경내의 운계암 뜰에 이 탑을 세웠다 한다. 땅 위에 커다란 자연석 암반을 두어 바닥돌을 삼고 그 위에 2층 기단(基壇)과 3층의 탑신(塔身)을 올린 독특한 모습이다.',\n",
       " '함안 조씨 16대손인 조지 선생의 큰아들인 수도, 다섯째 아들인 동도와 손자 함수와 함신 선생을 모시고 있는 재실이다. 건물은 조선 영조 12년(1736)에 지었고, 앞면 4칸 ·옆면 2칸으로 구성되어 있다. 이곳은 높은 지대 위에 배치되어 있으며, 안쪽 낮은 마당에는 동재·서재와 대문채가 튼 ᄆ자형을 이루고 있다.',\n",
       " '이 불상은 미륵산(彌勒山) 높은 산봉우리 가까이 위치하였는데 뒤편 숲속에 드러나 있던 것을 1970년대에 수습하여 현재의 위치에 세운 석가여래입상으로 전체 높이 180cm이다. 전체적으로 균형이 잘 잡히고 원만한 얼굴과 옷주름의 표현이 뛰어난 고려시대 초기의 석불로 진천지역 불상조성의 일면을 살필 수 있는 중요한 자료로 평가된다.',\n",
       " '완주 안심사 금강계단은 17세기 중반 이후 1759년 이전에 조성된 부처의 치아사리(齒牙舍利)와 의습(衣襲)을 봉안한 불사리탑으로, 중앙의 불사리탑(높이 176cm)이나 네 구의 신장상(높이 110cm∼133cm), 그리고 넓은 기단을 형성한 방단의 석조 조형물들은 그 조형 수법이 매우 뛰어나다. 특히 단층 계단 면석의 연화문과 격자 문양 등의 조각수법은 장식성과 섬세함이 부각되어 매우 우수한 조형미를 표현하고 있으며, 신장상의 조각 또한 갑옷과 신체의 세부 표현에 있어 매우 세련되고 풍부한 양감을 표현하고 있다.',\n",
       " '증각대사는 일명 홍척국사 ·남한조사로 불리며, 통일신라 헌강왕 때에 당나라에 들어갔다가 흥덕왕 1년(826)에 귀국한 뒤 구산선문의 하나인 실상사파를 일으켜 세운 고승이다. 9세기 중엽에 만들어진 것으로 추정되며, 경주의 신라 무열왕릉비와 같이 한국 석비의 고전적 형태를 잘 나타내고 있다.',\n",
       " '영양읍 하원리와 상원리에 있는 한양 조씨(漢陽 趙氏) 사월파(沙月波) 종택인 월담헌(月潭軒) 사고종택(沙皐宗宅)과 더불어 문중의 역사문화를 살펴볼 수 있는 곳이다. 고택은 ᄆ자형 건물로 정면 좌측에 팔작지붕의 사랑채가 높게 솟아있고 그 뒤편에 안채가 다른 집과는 달리 지붕이 독립된 구조로 길게 놓여 있다.',\n",
       " '묘법연화경 권4~7(妙法蓮華經 卷四∼七)은 세종 30년(1448)에 태종의 둘째 아들인 효령대군과 세종의 셋째 아들인 안평대군이 뜻을 같이하여 간행한 것으로, 현재 권4부터 권7까지 한 권의 책으로 묶은 부분이 남아있다. 천태종의 근본경전으로 화엄종과 함께 한국 불교사상 확립에 크게 영향을 끼친 경전이다.',\n",
       " '조선 후기의 실학자이며 과학사상가인 담헌(湛軒) 홍대용(1731∼1783) 선생의 묘소이다. 묘소는 천안시 수신면 장산리에서 속창리로 통하는 도로변에 위치하고 있는데, 묘의 앞에는 상석·망주석·비석이 서 있다.',\n",
       " '조선시대 저산8구 상무좌사 보부상이 사용했던 유품이다. 이 유물들은 한말 보부상의 역사와 조직 및 그 기능과 상업활동의 연구에 중요한 자료로 평가된다.',\n",
       " '길쭉한 몸체에 타원형의 굽을 붙인 장군이다. 무광택의 유약(釉藥)이 시유(施釉)되었다. 빙렬(氷裂)은 거의 없다.',\n",
       " '퇴계 이황의 학문을 계승한 정재 유치명(1777∼1861)의 종가이다. 증조부인 유관현이 조선 영조 11년(1735)에 세운 이 집은 원래 임동면에 있었으나 임하댐 건설로 1987년 지금 있는 자리에 옮겨 세운 것이다.',\n",
       " '쇠부엉이의 몸길이는 약 38cm이다. 올빼미와 부엉이류는 오염된 먹이로 인해서 생존에 위협을 받고 있으며 번식지를 비롯한 월동지와 서식지의 파괴, 인간에 의한 마구잡이 등의 원인으로 나날이 그 수가 감소하고 있다.',\n",
       " '이 불상은 조각수법이 형식적이고 뛰어나지 못하나 전체적으로 육중하여 안정감을 준다. 정확한 연대는 알 수 없으나 고려 중기에 만들어진 것으로 추정된다.',\n",
       " '분청사기 철화어문 항아리(粉靑沙器 鐵畵魚文 立壺)는 조선시대 만들어진 높이 27cm, 아가리 지름 15cm, 밑지름 9.8cm의 항아리이다. 회청색의 밝은 광택이 흐르는 이 항아리는 지금까지 알려진 분청사기 가운데 가장 다양한 장식 수법을 보여 주고 있다. 사실적이고도 대범하게 나타낸 연꽃과 물고기의 표현은 뛰어난 예술적 품격을 지니고 있으며, 도자기 연구에도 중요한 자료가 되고 있다.',\n",
       " '조면사(造麵寺)터로 전하는 곳에 자리하고 있는 탑으로, 주변에 기와 조각들이 흩어져 있어 절터였음을 알려주나 지금은 석탑만이 민가 골목길에 서 있다. 화강암을 깎아 만들었으며, 고려시대에 세운 것으로 추정된다.',\n",
       " '양산 화제리 도요지에서는 녹청자 가마와 도편(陶片)이 확인되었다. 발견된 도편은 거의 대부분 문양이 없으며, 주로 대접류와 접시류가 채집되었다.',\n",
       " \"마이산 도립공원 남쪽 입구 좌측에는 '주필대(駐필臺)'라는 각자가 새겨진 암벽과 그 윗부분에는 1907년 호남의병창의동맹단의 집결지로서 황단(皇壇)터가 있으며 그 하단부에는 이산묘라는 사당이 자리하고 있다. 한말 국권 수호를 위해서 창의하였던 확실한 곳이며, 현재 창의동맹터 아래 조선 태조의 건국설화가 있는 곳을 택해서 사우를 건립하여 항일의병의 위패와 그 기념흔적을 모아놓은 곳으로 지정·보존가치가 크다.\",\n",
       " '장초석(長礎石) 위에 기둥을 한 정면 3칸 측면 2칸의 2층 누각 건물이며, 조선왕조의 중앙집권을 상징하기 위해 당시 전국에 똑같이 만들어진 관아문 양식을 충실히 따르고 있으며, 정면에는 해산루(海山樓)라는 현판이 걸려있는데 조선 선조 때 영의정을 지낸 이산해(李山海)의 친필로 전해옴. ◦ 보령읍성은 1430년(세종12)에 현감 박효성 등이 축성을 완성하였고, 1432년(세종14) 현감 정태(鄭帶)는 140칸의 관아건물을 완성했음.',\n",
       " '금산사 심원암에서 볼 때 북쪽 산꼭대기 가까운 곳에 위치하고 있는 탑이다. 깊은 산중에 있었던 탓인지 탑의 모습이 거의 완전하게 남아있는 아름다운 석탑이다.',\n",
       " '부안 채석강·적벽강 일원은 변산반도에서 서해바다 쪽으로 가장 많이 돌출된 지역으로 강한 파도로 만들어진 곳이다. 높은 해식애 및 넓은 파식대, 수 만권의 책을 정연히 올려놓은 듯한 층리 등 해안지형의 자연미가 뛰어날 뿐만 아니라 해안단구, 화산암류, 습곡 등과 함께 화산이 활동하던 시기에 대한 연구자료로서도 가치가 높다.',\n",
       " '보조국사의 초상화는 가로 77.4cm, 세로 134.8cm로 16점 모두 규모나 제작수법이 동일한 것으로 같은 화가에 의해 그려진 것으로 보인다. 정조 4년(1780)에 안치된 이 초상화들의 보존상태는 양호하며 조선 중기 불교 초상화의 기법을 알 수 있는 중요한 작품이라 할 수 있다.',\n",
       " '이 우물은 남간사터로 짐작되는 남간 마을의 도연 언덕 비탈에 있다. 삼국유사의 기록에 따르면 남간사(南澗寺)는 헌덕왕(憲德王) 12년(820) 이전에 세워진 것은 분명하지만, 정확한 창건 시기는 알 수 없다. 우물의 형태는 위쪽 1번이 약 1.2m인 방형이고, 현재 깊이는 약 1.4m이다.',\n",
       " '좌수영성은 경상좌도 수군의 총 지휘자가 머물던 진영(鎭營)으로, 원래는 부산포에 있었다가 여러 번 옮겨진 뒤, 효종 3년(1652) 다시 부산포로 옮겨져, 고종 32년(1895) 구 군사제도가 폐지될 때까지 사용되었다. 성을 처음 쌓은 정확한 때는 알 수 없으나, 현재의 것은 숙종 18년(1692) 좌수사 문희성이 다시 쌓은 것이다.',\n",
       " '고달사는 신라 경덕왕 23년(764)에 창건되었으나, 누구에 의해 창건되었는지 확실히 알 수 없다. 이 석불대좌는 불상(佛像)은 없어진 채 대좌만 제 자리를 지키고 있는데, 보존상태가 거의 완벽하다. 조각솜씨가 훌륭한 사각형 대좌의 걸작으로, 절터에 있는 여주 고달사지 승탑이 고려 전기의 일반적인 양식을 따르고 있는 것으로 보아, 이 대좌도 10세기 후반에 만들어진 것으로 보인다.',\n",
       " '월산재는 영광 김씨들이 중심이 되어 후손들의 교육과 인재양성을 위해 조선 순조 4년(1824)에 지은 건물이다. 전체적인 모습은 가장 윗부분에 용강사가 있고 아래로 월산재가 있으며 월산재 앞으로 관리사와 창고가 대칭으로 자리잡고 있다. 월산재는 영광 김씨들이 중심이 되어 후손들의 교육과 인재양성을 위해 조선 순조 4년(1824)에 지은 건물이다.',\n",
       " '음성군 감곡성당에 소장되어 있는 유물로, 예수 성심기 1점과 성모 성심기 1점 등 총 2점이다. 예수 성심기와 성모 성심기는 1914년 제1회 성체거동행사때와 매년 성모성심축일에 종교행사용으로 사용하고자 비단천에 동양자수를 놓아 제작하였다.',\n",
       " '큰 폭의 화면에 《삼국지연의》의 각 장면들을 묘사한 중국 민화풍 그림으로, 각 화폭에는 편액의 형식으로 제목을 적어 놓아 그림의 내용을 이해하기 쉽게 하였다. 대체적으로 민화적 요소가 강한데, 보기 드문 큰 폭의 화면에 지그재그형 구도를 많이 사용하여 동적이면서도 다양한 인물의 모습과 운동감을 잘 표현하고 있다. 원래 보관장소도 명확하고 민화풍 그림 가운데, 그리고 삼국지연의의 내용을 그린 그림으로서 매우 뛰어나다는 점에서 그 가치가 있다.',\n",
       " '절의 입구에 세워져 있는 일주문은 속세를 떠나 부처의 세계로 들어가는 첫 번째 관문이며, 항상 한마음을 가지고 수도하고 교화하라는 의미의 상징물이기도 하다. 화려한 다포계 후기의 특징을 잘 나타내고 있는 일주문이다.',\n",
       " '이 전적은 안동의 권희학 가문이 소장하고 있는 것으로, 시기적으로는 17세기에서 19세기까지 걸쳐 있다. 지정된 전적을 보면 『연행일기』, 『서행일기』, 『남정목록』, 『감고당집』등이다.',\n",
       " '공산성의 북문으로 강남과 강북을 오가는 남북통로의 길이다. 조선 선조 36년(1603)에 관찰사 유근이 쌍수산성을 고쳐 세우면서, 이 자리에 있었던 망북루를 다시 지어 공북루로 고쳐 부르고, 그 옆에 월파당을 지었다고 한다. 현종 4년(1663) 관찰사 오정위가 낡은 것을 다시 지었으며 기록은 송시열이 하였다.',\n",
       " '함평군내 함평읍, 대동면, 신광면이 교차하는 삼거리 낮은 구릉에 있는 삼국시대 무덤이다. 깬돌을 이용해 봉분을 덮은즙석(葺石) 흔적이 여러 곳에 나타난다. 금산리무덤들은 전남지방 무덤 중 최대급에 속하는 것이며, 즙석식 무덤이란 특이한 형태로 우리나라 무덤연구에 중요한 유적으로 평가된다.',\n",
       " '삼베는 신석기시대의 궁산패총에서 뼈로 된 바늘에 마사가 감긴 것이 출토된 것으로 보아 그 이전에 사용된 것을 알 수 있다. 고려시대에는 기술이 발달되어 중국으로 수출되었고 문물교환의 수단으로 모시와 함께 사용되었다. 조선시대에는 면 생산이 시작되면서 삼베의 생산이 약간 줄게된다.',\n",
       " '1904년 2월 러·일 전쟁 당시 인천 앞바다에서 일본함대와 전투를 벌이다 자폭한 러시아 순양함 바리야크(Варяг)에 걸려 있던 것이다. 이 깃발은 바리야크함을 상징하는 군함기로 성 안드레이 기라고도 불리며, 붉은색 바탕에 검은색의 띠가 대각선으로 가로질러 X형을 이루고 있다.',\n",
       " '상금곡리는 원주 변씨와 함양 박씨가 모여 사는 마을이다. 이 집은 첨추공파로 이 마을에 처음으로 와서 자리를 잡은 변희리(1435∼1505)의 증손자인 사괴당 응녕(1518∼1586)이 터를 잡았다고 한다.',\n",
       " '을유자는『원각경』을 간행하기 위하여 1465년(세조11)에 정난종의 글씨를 자본으로 삼아 만든 금속활자이다. 그러나 글자체가 바르지 못하여 1484년(성종15)에 갑진자를 주조하기 전까지 약 20년간 사용되어 인본은 많지 않다. 을유자로 인출된 『삼경합부』는 계명대학교 외에 구미 자비사(경상북도 유형문화재 제382호)를 비롯하여 5점 정도가 국내에 남아 있을 뿐이다.',\n",
       " '청송 침류정 향나무는 의성 김씨 김성진이 학문을 연마하고 제자들을 가르치던 침류정 및 오월헌(梧月軒) 앞 뜰에서 자라고 있다. 나이는 350년 정도로 추정되며, 높이는 약 10m, 가슴 높이의 지름은 약 80cm이다. 전해 내려오는 이야기에 의하면 김성진의 제자들이 심고서 가꾸었다고 한다.',\n",
       " '조선 중기의 의병장인 가계 제말(?∼1593) 장군의 묘소이다. 현재 묘역에는 묘 앞에 묘비가 세워져 있으며, 성주 충절사와 고성 운곡서원에서 제사를 올리고 있다.',\n",
       " '비로사 안에 있는 진공대사의 탑비이다. 머릿돌은 구름과 용무늬를 새겨 놓았는데, 화려하긴 하나 깊이 새긴 것은 아니다. 고려 태조 22년(939)에 세운 비로, 비문은 최언위가 짓고, 이환추가 글씨를 썼다.',\n",
       " '고려 후기 문신인 민안부 선생의 묘 근처에 세운 재실이다. 처음에는 묘 근처에 개울이 있었다고 하는데 지금은 없어졌고, 지금 있는 건물은 조선 헌종 5년(1839)에 다시 세운 것이다.',\n",
       " '허벅은 전통적으로 제주에서 사용되는 식수 운반도구로서 제주의 자연 환경과 인문적 배경에서 자연 발생된 특유의 양식으로 제작되었다. 특히 유약을 바르지 않고 제주도에서 나는 점토만을 사용하여 독특한 제작기법과 감각으로 실용성을 토대로 만들어졌다.',\n",
       " '뇌풍정은 영남지역에서 재지사족으로 자리 잡고 있는 기호학파의 노론계열인 봉화 법전의 진주강씨 강재항을 기리는 정자이다. 뿐만 아니라 조선후기의 독특한 정자 건물로 몇 차례의 보수를 거쳤으나 그 원형이 잘 보존되고 있으며, 노론계열 가문의 정자라는 의미에서 볼 때 중요한 역사적 의미가 있다.',\n",
       " '충청북도 진천군 사곡리에 있는 전체 높이 7.5m의 불상으로, 큰 바위 한면을 다듬어 몸 전체를 감싸는 듯한 커다란 광배(光背)를 만들고 그 안에 불상을 새겼다. 신라말의 마애불 양식을 계승하여 고려시대에 만든 것 가운데 하나로 수준있는 작품이다.',\n",
       " '백자 반합(白磁 飯盒)은 조선시대 만들어진 총 높이 22.5cm, 뚜껑 높이 9.9cm, 뚜껑 지름 17.4cm, 아가리 지름 15.3cm, 굽지름 9.4cm인 조선시대 백자반합이다. 담청색을 머금은 맑은 백색을 띄고 있는 이 반합은 전체적으로 조선 초기의 시대적 배경이 잘 표현되어 있으며, 조선시대 대표적인 반합 중의 하나이다.',\n",
       " '서산향교는 조선 태종 6년(1406)에 서문 밖에 세웠다. 그 뒤 선조 7년(1574)에 군수인 최여림이 지금 있는 자리로 옮겨 세웠다.',\n",
       " '1945년경 건립이 시설물은 일본군 최고 지휘부인 제58군 사령부 주둔지로서 가마오름 동굴 진지가 함락되었을 경우 최후의 저항 거점으로 삼기 위해 건립되었다. 태평양전쟁 말기, 수세에 몰린 일본군이 제주도를 저항 기지로 삼았던 침략의 역사를 보여주고 있다.',\n",
       " '쌍계사는 지리산 기슭에 있는 사찰로 신라 성덕왕 23년(724)에 삼법이 처음 지었다. 석가모니의 생애를 그린 팔상도를 모신 팔상전은 고려 충렬왕 16년(1290) 진정국사가 처음 지었고, 조선 세조 12년(1466)과 숙종 4년(1678) 그리고 순조 6년(1806)에 수리가 있었다.',\n",
       " '‘서울 봉은사 목조석가여래삼불좌상(서울 奉恩寺木造釋迦如來三佛坐像)’은 조선 후기 1651년 조각승 승일(勝一)이 수(首)조각승으로 9명의 보조 조각승들을 이끌고 제작한 상이다. 1765년의 개금발원문(改金發願文)을 통해 1689년에 화재로 본존 석가상은 소실되어 새로 조성했음을 알 수 있다.',\n",
       " '마하사 응진전의 나한도 앞에 모셔져 있는 돌로 만든 나한상으로, 전체 16구 중 현재 12구만 남아 전하며, 나머지 4구는 근래 다시 추가 조성된 상태이다. 나한은 ‘아라한(阿羅漢)’의 준말로, 온갖 번뇌를 끊고 깨달음을 얻어서 세상 사람들의 공양을 받을 만한 공덕을 갖춘 성자를 뜻한다. 마하사 응진전 석조나한상은 조선후기에 제작된 불상으로, 조선후기 부산·경남지역의 불교미술 양식과 계보를 살필 수 있는 자료적 가치가 있다.',\n",
       " '마을의 수호신상(守護神像)으로 마을 가운데 동제당(洞祭堂)과 마을 입구에 각 1구씩 자리하고 있다. 상당은 유례(類例)를 찾기 어려운 독특한 형상이며, 하당(下堂)의 신상은 문인석(文人石)의 모습이다.',\n",
       " '판소리, 가곡과 함께 우리나라 삼대 성악곡 중의 하나인 범패는 불교음악으로 죽은 사람을 극락으로 보내는 천도의식에서 부르는 의식음악이다. 넓은 의미의 범패에는 소리 이외에 춤이 포함되는데, 이때의 춤을 가리켜 작법이라 한다. 작법은 재(명복을 빌기 위하여 드리는 불공)에서만 볼 수 있는 독특한 불교무용으로 나비춤, 바라춤, 법고춤 세 종류로 나눌 수 있으며, 전북지역에서는 나비춤을 어산춤이라 부른다.',\n",
       " '조선 영조의 계비인 정순왕후(1745∼1805)가 출생한 곳으로 왕비가 되기 전까지 살았던 곳이다. 건물은 ᄆ자형 평면을 갖춘 집으로, 앞면 5칸·옆면 2칸 규모 건물 좌우에 각각 3칸씩 덧달아 ᄃ자형 구조를 하고 있다.',\n",
       " '우암 송시열(1607∼1689)이 조선 효종 4년(1653)에 세운 집이다. 지은 시기가 오래되었고 살림집으로 사용해오던 터라 보존 상태가 좋지 않은 편이지만, 대부분 양옥집으로 구성된 주변의 경관과는 달리 예스러움을 간직하고 있는 집이다.',\n",
       " '강원도 영월군 문곡리 연덕천가 절벽에 있는 건열구조 및 스트로마톨라이트는 약 4∼5억년 전에 생긴 오르도비스기 하부고생대 지층에 형성되어 있다. 건열구조는 얕은 물 밑에 쌓인 퇴적물이 물 위로 나와 마를 때, 퇴적물이 줄거나 오그라들면서 생긴 틈이 그대로 굳어져 형성된 지질구조이며, 이는 이 지역이 과거에 물 밑에 있었다는 것을 알려주는 귀중한 학술자료가 된다.',\n",
       " '이 지석은 조선 후기 무신 이흠례의 묘에서 출토된 것이다. 이흠례는 명종 4년(1549)에 무과에 합격하여 관직에 나아간 후 명종 10년(1555)에 왜구가 호남지방에 들어와 약탈하자 이를 토벌하였으며, 임꺽정 무리를 많이 소탕하여 높은 벼슬을 받았다.',\n",
       " '조선 중기의 학자로 퇴계 선생의 제자인 금난수(1530∼1599) 선생의 정자이다. 이곳은 경치가 빼어나서 퇴계 선생을 비롯하여 많은 선비들의 왕래가 끊이지 않던 곳으로 퇴계 선생의 시와 금난수 선생의 시 등이 남아있다.',\n",
       " '해남 송호리의 해송림은 송호리의 바닷가와 도로 사이에 맞닿아 있으며, 높이 8∼15m, 둘레 9∼220cm에 이르는 해송 639주가 자라고 있다. 해남 송호리의 해송림은 해안 방풍림으로서의 기능을 지니고 있으며 기능적인 면에서나 교육적인 면에서 중요하여 기념물로 지정 보호하고 있다.',\n",
       " '고려시대 만들어진 청자 화분으로 크기는 높이 23.0cm, 아가리 지름 28.2cm, 밑지름 22.0cm이다. 거의 이등분된 구성이지만 아래쪽은 약하게 음각선으로 처리하여, 윗면의 구름과 학무늬만이 도드라져 보인다. 유약은 광택이 거의 없고 전면에 빙렬이 퍼져있으며, 부분적으로 황록색을 띠고 있다.',\n",
       " '고성 거산리 마애약사여래좌상은 전체 높이가 약 3m에 이르는 거대한 마애불로서 왼손에 둥근 보주를 든 약사여래상임. 얼굴은 얕은 도들새김으로 조각한 반면 신체부위로 내려갈수록 선각으로 조각되었으며 이러한 조각기법과 약사불 형식은 통일신라시대부터 고려시대까지 계승되는 특징임.',\n",
       " \"양산읍의 여러 무덤들 가운데 가장 남쪽에 있는 무덤들로, 사적 '양산 북부동산성'이 자리잡은 동산 일대에 있다. 분포 형태는 산등성이를 따라 큰 무덤들이 줄을 지어 있고, 그 주위에는 작은 규모의 무덤들이 모여있다.\",\n",
       " '1983년에 발견된 것으로 돌기둥 4면에 불상이 새겨져 있는 백제시대 유일의 사면불(四面佛)이다. 사면불은 일명 ‘사방불’이라고도 하는데, 동·서·남·북의 방위에 따라 사방 정토에 군림하는 신앙의 대상인 약사불, 아미타불, 석가불, 미륵불을 뜻한다.',\n",
       " '고려 후기의 문신이자 충정공 문숙선의 아들인 삼우당(三憂堂) 문익점(1329∼1398) 선생의 묘소이다. 문익점은 이 계획에 동참하였다는 혐의로 귀국과 동시에 중국 운남성으로 귀양을 갔다.',\n",
       " '이 상은 윤왕좌(輪王坐)의 보살상으로 금동불로는 규모가 비교적 큰 편이다. 보살상의 세부 표현과 양식은 전반적으로 고려시대의 특징을 잘 계승하고 있으나, 타원형의 양감있는 얼굴모습, 유두를 두드러지게 표현한 점, 몸 전면에 영락이 표현되지 않은 점, 몸을 감고 있는 천의자락의 선이 경직되게 표현된 점 등은 조선전기의 특징으로 여겨진다.',\n",
       " '구한말 동학자이자 3.1운동 때 민족대표 33인 중의 한 분인 손병희(1861∼1922) 선생이 태어난 곳이다. 선생이 태어난 생가는 앞면 4칸·옆면 1칸 반의 초가집으로 원형을 그대로 보존하고 있다. 생가 부근 야산에는 1961년 탄생 100주년을 맞아 건립한 유허비(선현들의 자취가 있는 곳을 길이 후세에 알리거나, 이를 계기로 그들을 추모하기 위해 세운 비)가 있다.',\n",
       " '도갑사 경내에 서 있는 비로, 영암 출신 수미왕사의 활동과 내력을 기록하고 있다. 선조 14년(1581)에 비가 넘어져 새로 세운 것으로, 인조 7년(1629)에 시작하여 인조 11년(1633)에 완성하였다. 전체적으로 조각의 솜씨와 비문의 필치가 섬세하고 우수한 작품으로, 17세기 초에 세운 석비로서는 특이하게도 고려시대 유행하였던 양식과 수법을 그대로 따르고 있어 눈길을 끈다.',\n",
       " '「노숙동 송재실기 목판」은 조선전기 세종 때 활동한 송재 노숙동의 학문과 삶을 알 수 있는 서적일 뿐만 아니라, 그 속에 신고당 노우명의 시 2편 및 관련 자료들이 함께 수록되어 있다. 따라서 조선 전기와 중기에 조정과 재야에서 주요한 역할을 담당한 두 학자를 고찰할 수 있는 중요한 자료이다.',\n",
       " '서울 관악산 북쪽 중턱의 거대한 절벽 바위면에 돋을새김으로 조각한 불상으로, 미래세계에 나타나 중생을 구제한다는 미륵불을 형상화한 것이다. 이 불상은 1630년이라는 절대연대를 가지고 있어서 조선시대 조각사 편년 연구에 귀중한 자료가 되며, ‘미륵존불(彌勒尊佛)’이라는 글을 통해 17세기 조선사회에도 미륵신앙이 유행하고 있었음을 알려준다.',\n",
       " '청원지방에 살던 인조 3년(1625) 을축생 11명의 선비가 36세 되던 현종 1년(1660)에 친목모임 을축갑계를 만들고 그린 기념화와 계문서이다. 을축갑회는 숙종 12년(1686)에 계원 7명이 청주 보살사를 배경으로 나란히 앉아 있고, 그 앞에 자손들이 서 있는 모습을 의인화상이 그린 기념 그림이다.',\n",
       " '호가정은 조선시대에 설강 유사(1502∼1571)가 지은 정자로, 호가정이라는 이름은 중국 송나라 소강절이 말한 ‘호가지의’에서 따온 것이다. 명종 13년(1558)에 처음 세웠으나, 임진왜란과 정유재란 때 불타 없어지고 고종 8년(1871)에 다시 지었다.',\n",
       " '조선시대 광해군(재위 1608∼1623)과 광해군 비(妃) 유씨, 그리고 궁중의 정5품 상궁이 입었던 의복 4점이다. 이 의복들은 재봉질 못지 않은 정교한 바느질 솜씨를 보여주고 있는데, 당시 세련되었던 바느질법의 한 단면을 보여 주고 있으며, 조선 중기의 의복 습관을 잘 나타내고 있어 복식 연구에 중요한 자료가 되고 있다.',\n",
       " '「김정희 해서 묵소거사자찬(金正喜 楷書 黙笑居士自讚)」은 추사 김정희가 친우였던 황산 김유근의 자찬문을 쓴 것이다. 표장에 찍힌 김유근의 인영으로 보아 초기 장황이 그대로 남겨진 예인데, 그간 세로꺾임이 심했으나 국립중앙박물관에서 2007년 추사 김정희 특별전을 위해 전면 수보하여 안정된 상태를 유지하게 되었다.',\n",
       " '경상남도 김해시 주촌면 양동리와 내삼리의 경계에 위치한 산봉우리를 두른 테뫼식 산성으로 일부는 흙으로 쌓고, 일부는 대강 다듬은 자연석을 사용하였다. 이 산성은 주변의 양동리 무덤들과 유하리 조개더미와 관계가 있을 것으로 보며, 원삼국시대에서 가야 때까지의 역사연구에 중요한 자료로 평가되고 있다.',\n",
       " '조선 태조 이성계의 셋째 아들인 이방의(?∼1404)의 초상화이다. 비단 바탕에 채색하여 섬세한 화필로 그려놓은 초상화는 의자에 앉아있는 전신의 모습이다. 머리에 사모를 쓰고, 관복을 입고 있으며, 두 손은 소매 안으로 마주 잡아 보이지 않는다.',\n",
       " '칠곡 묘향사 소장 신중도는 화면 윗부분 왼쪽과 오른쪽에 배치된 제석천과 위태천을 중심으로 그 주변에 홀을 쥔 일월천자 2위와 천동 2위가 있고, 아래쪽에는 대도와 검, 삼지창 등을 쥔 신장상, 보주(寶珠)를 쥔 용왕 등 4위가 배치되어 있다. 전체적으로 적색과 녹색을 주색(主色)으로 사용하여 표현하였으며, 지물이나 무기 등에 부분적으로 금박을 사용하였다.',\n",
       " '조선 숙종 때의 문신이자 학자인 노봉 민정중(1628∼1692)의 시문집을 새긴 목판이다. 없어진 목판이 몇 개 있으나 연대가 앞서고 보존상태가 양호하여 그 가치가 있다.',\n",
       " '청곡사 대웅전 왼편에 서 있는 석탑으로, 2층 기단(基壇)에 3층 탑신(塔身)을 올리고 정상에 머리장식을 얹은 형태이며, 석재가 많이 닳아 있다. 전체적으로 통일신라시대 석탑의 일반적 양식을 잘 따르고 있으나, 각 부분에 나타나는 양식상의 변화로 보아 고려시대 전기에 세운 탑으로 추정된다.',\n",
       " '패총은 선사시대 사람들이 조개를 먹고 버린 조가비와 생활 쓰레기들이 쌓여 이루어진 것으로 조개더미 유적이라고도 하는데 당시의 생활 모습을 잘 보여주는 유적이다. 바닷가에서 떨어진 얕으막한 언덕에 조개더미가 분포되어 있으나, 유적이 이루어질 당시엔 바닷가에 있었을 것으로 보인다.',\n",
       " '망산봉수는 덕산봉수라고도 불린다. 조선 초에는 진강산 봉수의 신호를 받아서 별립산 봉수로 전달했고, 조선 후기에는 진강산 봉수의 신호를 받아 교동 화개산 봉수로 전했다.',\n",
       " '『묘법연화경』은 석가모니 부처님의 설법을 집약한 경전으로서 가장 널리 알려진 대승경전의 하나로 법화경이라고 약칭되며, 『대방광불화엄경』과 함께 한국 불교사상의 확립에 가장 크게 영향을 미친 경전이다. 전 7권 가운데 권4만 있는 1책이며, 번역 형식은 세조가 직접 경문에 구결을 달고 번역은 한계희(韓繼禧) 등에 의해서 경본문, 요해와 집주의 내용을 번역하는 방식으로 편성되어 있다.',\n",
       " '남성노(1829∼1878) 선생의 덕을 기리기 위해 고향의 유림들과 가문에서 세운 사당으로 선생의 호를 따서 ‘낙금당’이라 불렀다. 낙금당은 서당 건물로는 비교적 단정하고 아담한 멋을 지니고 있다.',\n",
       " '고려말의 충신인 정몽주를 비롯하여 지용기·정충신·지계최·지여해 등을 모시는 사당이다. 1910년 일본에게 나라를 빼앗기는 치욕을 당한 후 선조들의 절의와 애국정신을 이어받기 위하여 이 지방 세력가인 지응형이 1924년에 지은 것이다.',\n",
       " '정효각은 임진왜란 때 풍천(豊川) 구담(九潭)에서 의병 700여명을 이끌고 왜군을 방어하다가 전사한 농은(農隱) 이홍인(李洪仁, 1525\\xad1594)에게 내려진 정려(旌閭)를 게시한 건물로 1811년(순조 11)에 건립되었다. 정효각은 이홍인의 8대손인 용눌재(?訥齋) 이한오(李漢伍, 1719\\xad1793)의 효행에대해 내려진 정려를 게시한 건물로 1812년(순조 12)에 건립되었다.',\n",
       " '해인사에 모셔져 있는 이 석불입상은 광배(光背)와 대좌(臺座)가 없어졌을 뿐 아니라, 목이 절단되고 어깨와 두 팔이 모두 깨졌으며 발도 없어졌다. 머리에 비하여 왜소해진 몸은 굴곡이 거의 드러나지 않아서 마치 돌기둥 같은 느낌이 든다.',\n",
       " '고려 인종 때 공신으로 진천 송씨의 시조인 송인의 묘소이다. 송인은 고려 인종 4년(1126) 이자겸의 난 때 인종을 호위하다가 척준경의 반란군들에 의해 살해당했다. 송인의 묘소는 현재 덕산면 두촌리에 있으며 무덤을 4각형으로 쌓은 것이 특징인데, 이는 고려의 독특한 양식이다.',\n",
       " '성삼문 선생의 외가가 있던 곳으로 그가 태어난 집터이다. 세종(재위 1418∼1450) 때 집현전의 학자로 훈민정음 창제에 크게 공헌하였으며, 단종 폐위에 대해서도 굳은 절개를 지켜 죽임을 당했다. 성삼문 선생의 외가가 있던 곳으로 그가 태어난 집터이다.',\n",
       " '이 영정(환성당영정)의 주인공은 화엄학으로 명성이 높았던 환성당 지안선사이다. 전체적으로 안정된 구도에 섬세한 문양과 화려한 금장식, 적·녹·청색의 색채대비 등 작가의 기량이 돋보이는 수작이라 할 수 있다.',\n",
       " '망개나무는 우리나라와 중국, 일본 등지에 드물게 자라는 희귀종으로, 황색단풍이 매우 아름답고 대체로 따뜻한 곳에서 자란다. 제원 송계리의 망개나무는 나이가 약 150살로 추정되며, 높이는 17m, 가슴높이의 둘레가 2.22m이다. 마을에서 약간 떨어진 고개마루 충북대 연습림 내에 위치하고 있어 대체로 주변 정리가 잘 되어 있고 특별한 보호상의 문제는 없는 것으로 보인다.',\n",
       " '배화여고 뒷정원에는 높다란 암벽이 있는데 그 왼쪽면에 ‘필운대(弼雲臺)’라는 글씨를 세로로 새기고, 가운데에는 몇줄의 싯구를 적어 놓았으며, 오른쪽으로는 아홉 사람의 이름을 나열해 놓았다. 필운은 이곳에 살았었던 이항복 선생의 호이다. 비록 시대는 내려가지만 명필이었던 이유원의 서체를 연구하는데 좋은 자료가 되고 있으며, 이항복 선생의 옛 자취를 밝히는 데에도 중요한 자료적 가치를 지닌다.',\n",
       " '사랑채 건물에서 발견한 기록으로 미루어 조선 고종 27년(1890)년에 지은 집이다. 사대부 주택의 공간적 위계를 잘 지키고 있는 구조로 유교 전통이 엿보이는 가옥이다.',\n",
       " '김룡사 양진암 신중도는 인법당에 봉안되어 있으며, 1880년(光緖6)에 19세기 후반 경북 일대에서 주로 활동한 하은 응상(霞隱應祥)을 수화승으로 경허 정안(鏡虛正眼), 수룡기전(繡龍琪銓) 등 13명의 화승이 참여하여 제작하였다. 이 신중도는 응상의 섬세한 묘사를 살펴볼 수 있는 중요한 작품이다.',\n",
       " '시목동 마을의 뒷산 언덕에 위치한 2기의 무덤이다. 이 무덤은 백제 중기의 양식을 그대로 보여주고 있는 것으로, 당시 무덤 축조연구에 중요한 자료를 제공해 주고 있다.',\n",
       " '이 천불도는 석가팔상도와 같은 시기인 1709년 제작된 그림으로 당시 불사와 후원자의 상황을 잘 알려주고 있다. 질서 정연한 배치, 이지러짐이 없는 형상과 필선 등 18세기 초반의 화풍 경향을 엿볼 수 있는 좋은 자료이다.',\n",
       " '조선 중기의 문신인 신잡 선생의 초상이다. 선생이 57세 되던 선조 40년(1607) 때의 모습을 김이섭이 그린 것으로, 조선 중기의 화풍을 잘 보여주고 있다. 비단 위에 그려 놓은 그림은 가로 90cm, 세로 167cm의 크기이다.',\n",
       " '주세붕 초상(周世鵬 肖像) 은 조선의 문신이며 학자였던 주세붕의 상반신을 그린 초상화로 가로 62.5cm, 세로 134cm 크기이다. 16세기 초상화가 대부분 공신상인데 비해 학자의 기품이 드러난 학자상으로 매우 귀한 자료가 되고 있다.',\n",
       " '1층 기단(基壇)에 3층의 탑신(塔身)을 세운 후 머리장식을 얹은 탑으로, 백제탑 양식을 일부 보이고 있다. 옛 백제 지역에 세운 고려시대의 석탑으로서, 백제탑 양식의 흐름을 따르고 있어 지방적 특색을 보여준다.',\n",
       " '도림사는 신라시대 원효대사가 세웠다고 한다. 통일신라 헌강왕 2년(876) 도선국사가 고쳐 세웠는데 이 때 도인들이 숲같이 모여들어 절 이름을 도림사(道林寺)라 하였다고 한다. 현재 절 안에는 작은 규모의 법당인 보광전을 비롯하여 응진당, 지장전, 약사전, 칠성각, 요사채 등이 있다.',\n",
       " '안동 주하리의 뚝향나무는 나이가 500년 정도로 추정되며, 높이 3.2m, 둘레 2.25m의 크기이며 가지가 아래로 처지는 것을 막기위해 37개의 받침대를 세워서 관리하고 있다. 안동 주하리의 뚝향나무는 오랜 세월동안 조상들의 관심과 보살핌 가운데 살아온 문화적·생물학적 자료로서의 가치가 높아 천연기념물로 지정·보호하고 있다.',\n",
       " '이 불화는 순종 2년(1908)에 원일(圓日)과 진규(眞珪) 두 승려가 그린 신중도(神衆圖: 부처님의 가르침을 수호하는 신들을 그린 불화)이다. 전체적으로 턱이 둥글고 후덕한 얼굴에 눈, 코, 입을 작게 표현하였으며, 색채는 주로 밝은 적·녹색을 사용하였다. 이러한 형태 및 색채의 표현 기법은 20세기 초반 불화의 전형적인 특징을 잘 보여준다.',\n",
       " '제주시 보림사에 모셔져 있는 나무로 만든 관음보살좌상으로, 꽃 문양과 불꽃 문양으로 이루어진 화려한 보관(寶冠)을 쓰고 결가부좌(結跏趺坐)한 불상이다. 이 불상은 전체적으로 화려한 보관과 균형 잡힌 몸체, 두텁고 아름다운 옷주름 등의 표현수법으로 보아 조선 후기 작품으로 추정된다.',\n",
       " '고흥 금탑사의 비자나무 숲은 천등산 중턱에 있으며, 금탑사가 세워진 선덕여왕 6년(637) 이후에 조성된 것으로 보고 있다. 고흥 금탑사의 비자나무 숲은 금탑사와 관련되어 심어진 것으로 보여 조상들의 문화생활 일면을 볼 수 있는 오래된 인공림으로서 생물학적 보존가치가 높아 천연기념물로 지정·보호하고 있다.',\n",
       " '송나라 승려 지소(智昭)가 당시 불교 5개 종파의 기본사상과 창시자들의 행적을 요약하여 정리한 내용을 담고 있으며, 우리나라 선가(禪家)에서 많이 읽히는 책이다. 고려시대의 판본을 기초로 조선시대에 간행하였다는 점에서 역사적으로 귀중하게 평가되고 있으며, 조선 전기의 불교학은 물론 서지학의 연구에 있어서도 중요한 자료로 여겨진다.',\n",
       " '청송 추현동 박씨 효자각은 아버지 박득춘의 아들 박충국의 효행을 기리고, 널리 알리기 위하여 세운 것이다. 효자 박충국은 성품이 온순하고 우애가 깊고 부모에 대한 효성이 지극하였다.',\n",
       " '문경향교는 조선 태조 1년(1392) 처음 지은 것으로 보이고, 임진왜란으로 불타 없어진 것을 후 다시 세운 것이다. 뒤로 높아지는 지형에 대지를 3단으로 마련하고 앞쪽에는 교육 공간을, 뒤쪽에는 제사 공간을 배치하였다.',\n",
       " '태실(胎室)은 왕실에 왕자나 공주가 태어났을 때 그 태를 모시는 곳으로, 이곳은 조선 경종대왕의 태를 모시고 있었다. 대개는 태항아리 안에만 두는 것이 보통이나, 왕세자나 왕세손 등 왕위를 이어받을 사람의 태는 따로 돌방을 만들어 그 안에 넣어두게 한다.',\n",
       " '‘이광사 필 서결’은 조선후기 대표적 서예가 중 한 명인 원교(圓嶠) 이광사(李匡師, 1705~1777)가 지은 서예이론서인 『서결(書訣)』중 전편(前篇)에 해당하는 내용을 필사한 것이다. ‘서결’의 전편은 주로 서예의 기본적인 필법에 대한 내용으로서 이론과 평론을 겸했던 이광사의 면모와 필력을 잘 보여주는 서예작품이다.',\n",
       " '월광사터에 동서로 세워진 쌍탑으로, 모두 2층 기단(基壇)위에 3층 탑신(塔身)을 올린 일반적인 모습이다. 통일신라의 탑이긴 하나, 서로 모습이 비슷하면서도 각 부분의 구성방법이나 양식이 약간 다른 점을 보이고 있어, 만들어진 연대가 조금 차이가 나고 있음을 추측하게 한다.',\n",
       " '조선 중종 38년(1543) 심광형이 이 지역 유림들과 풍류를 즐기기 위해 지은 정자로 일명 호연정이라고도 한다. 증손자 심민각이 오래된 정자를 옛 터 아래쪽으로 옮겨 다시 지었으며 5대손 심세익이 고쳤다.',\n",
       " '척화비는 조선 고종 때 병인양요와 신미양요를 승리로 이끈 흥선대원군이 백성들에게 서양 세력에 대한 경계심을 드높이고자 전국 곳곳에 세우도록 한 비이다. 이 비는 건축공사 도중 발견되어 선창마을회의 소유지에 세웠 두었다가 1995년 천가초등학교 교정으로 옮긴 것이다.',\n",
       " '석가모니불상을 모셔 놓은 대웅전은 고려 충렬왕 34년(1308)에 지은 건물로, 지은 시기를 정확하게 알 수 있는 우리 나라에서 가장 오래된 목조건물 중의 하나이다. 수덕사는 덕숭산에 자리잡고 있는 절로, 절에 남겨진 기록에는 백제 후기 숭제법사가 처음 짓고 고려 공민왕 때 나옹이 다시 고친 것으로 기록되어 있고, 또 다른 기록에는 백제 법왕 1년(599)에 지명법사가 짓고 원효가 다시 고쳤다고도 전한다.',\n",
       " '화순군은 호남정맥이 중앙으로 지나가고 있기 때문에 산지가 발달되어 있으며 평지는 화순천과 충신강이 합류하여 지석천을 이루는 능주면·도곡면 일대에 발달되어 있을 뿐이다. 고분이 위치한 관영리 일대는 강변에 충적평지가 발달되어 있을 뿐 주위로는 국사봉, 연주산, 비봉산 등 해발 300m 내외의 산지로 둘러싸여 있다. 주민들은 ‘조산’이라고 부르고 있다.',\n",
       " '신례리 고인돌은 기원전 1세기 경에 축조된 것으로 전형적인 바둑판식에, 지석을 여러 매 괴거나 상석이 아치 모양을 이루는 제주 형태를 취하고 있다. 고인돌이 원래 상태를 유지하고 있으며 평지보다 높은 언덕에 위치한 지형적 특성과 축조 양식이 특이해 역사적·학술적 가치가 높게 평가되고 있다.',\n",
       " '이 고문서는 이기정(李基晶)이 1850년 작성한 천문도로, 내용은 네부분으로 구성되어 있다. 이 태을산분정아국주군분야도는 28수(宿)와 관련하여 중국과 우리나라 분야도를 표기한 천문 자료로써 중요한 학술적 가치가 있다.',\n",
       " '신라 26대 진평왕(재위 579∼632)의 무덤이다. 무덤 밑둘레에는 자연석을 이용해 둘레돌을 둘렀으나, 현재 몇 개만 남아있다. 규모로 보아 왕릉급 무덤임이 분명하며 평야 가운데 있는 것이 특징이다.',\n",
       " '양산보(1503-1557)는 스승인 조광조가 유배되자 세상의 뜻을 버리고 고향으로 내려와 깨끗하고 시원하다는 뜻의 정원인 소쇄원을 지었다. 우리나라 선비의 고고한 품성과 절의가 엿보이는 아름다운 정원으로, 조선시대를 대표할 수 있는 정원이다.',\n",
       " '이 백비는 박수량의 일생을 통한 청백정신과 행적을 당대는 물론 후세에까지 귀감이 되는 청백정신의 상징적인 유물로서 그 의미가 깊다. 명종 9년(1554)에 세상을 떠나면서 “시호도 주청하지 말고 묘 앞에 비석도 세우지 말라”는 유언을 남겼을 정도로 청백리로서 청빈한 삶을 살았다.',\n",
       " '앉은 자세가 약간 불안한 이 불상은 광배를 단순하게 처리하고 옷주름과 불상의 윤곽을 간략하게 처리하였으나 조각수법이 우수한 고려 후기의 작품으로 추정된다. 대전 석교동 복전암에서 보문산으로 오르는 등산로를 따라 1km쯤 올라가면 보문산성의 동쪽에 높이 6m, 폭 6m 정도의 바위가 있는데, 이 바위의 남쪽에 높이 3.2m의 불상이 새겨져 있다.',\n",
       " '대자본 묘법연화경 초간의 변상도는 원래 5절면으로 되어 있었을 것으로 보이나 현전본들에서는 변상도가 없고, 유일하게 지정 대상본에서만 2절면(1장)이 남아 있음. 현재 보물로 지정된 대자본은 10여 건이나, 완질본으로 지정된 사례는 없고 모두 결본임.',\n",
       " '경상남도 사천에 있는 보안암은 1947년 5월에 세워졌으나 실제 석굴은 고려 후기에 승려들의 수도장으로 이용되었다고 전해진다. 자연석을 계단식으로 쌓아올린 분묘형(墳墓形)의 석굴로 외부형태는 앞면 9m·옆면 7m 가량의 사각형에 가까운 모습이다. 인공으로 만든 이 석굴은 규모나 평면 형태, 모시고 있는 불상 등에서 비록 약간의 차이는 있지만, 석굴암 석굴(국보 제24호)과 군위삼존석굴(국보 제109호)의 양식을 따르고 있는 고려시대의 것으로 보인다.',\n",
       " '범어사 금고는 지름 90cm, 두께 15cm의 대형 금고이다. 이 글로 보아 동치(同治) 원년인 조선 철종 13년(1862)에 만들어졌음을 알 수 있다. 이 금고는 조선 후기에 제작된 대형 금고인 동시에 만든 시기가 명확한 중요한 자료이다.',\n",
       " '경상대학교에서 소장하고 있는 청주한씨 병사공파 고문서는 17~19세기의 것으로 교지류 58건, 호구관련 문서 79건, 분재기 12건, 기타 6건 총 155건이며, 이들 자료는 주로 조정에서 주요 관직을 지냈던 한범석(韓範錫, 1672-1743)과 관련된 것이다. 특정 인물의 교지류가 많이 남아 있는 경우나 경관추고함답(京官推考緘答) 등의 자료가 남아 있는 사례는 전국적으로도 매우 드물다.',\n",
       " '정선 필 여산초당도 는 정선이 중국의 고사(故事)를 주제로 삼아 산수화와 인물화를 효과적으로 결합시킨 대작이다. 여산(廬山)은 중국의 수많은 문인들이 방문하여 작품을 남긴 곳이며 중국과 조선에서 그림 소재로 많이 다루어진 명소이다.',\n",
       " '조선 선조 3년(1570)에 어은 이용이 지은 것으로 전해지는 누정이다. 어은정과 재사, 부속건물이 흙담에 둘러싸여 있다. 보존상태는 비교적 좋은 편이나, 원래의 장소에서 옮겨 지은 것이라 주위 경관과의 조화를 찾아볼 수 없다.',\n",
       " '백제 때 수도 경비의 외곽기지 역할을 한 성이다. 봉수산(鳳首山)의 꼭대기에 있는 둘레 약 3km의 산성으로 백제가 고구려의 침입에 대비하여 쌓은 것으로 짐작된다. 백제가 멸망한 뒤에는 주류성과 더불어 백제 부흥군이 활동했던 곳으로, 사비성을 되찾기 위한 부흥군의 마지막 근거지이다.',\n",
       " '성덕사의 옛터에 석불좌상과 함께 남아있는 3층 석탑이다. 전체적으로 통일신라 석탑양식의 영향을 받았으나, 지붕돌의 너비가 좁고 두꺼워지는 등 양식상의 변화가 나타나는 것으로 보아 고려시대에 세워진 탑으로 보인다.',\n",
       " '‘근대기 제작 진전 봉안 어진‘은 당시 가장 중요하게 여겨온 온 왕실 회화로서 조선왕조의 정통성과 권위를 표상하는 것으로, 태조어진(홍룡포본)·원종어진·순조어진·순종어진의 총 4건 4점이다. 6·25 전쟁이 일어나자 부산으로 소개(疏開)하였으며 전쟁 직후 보관창고 화재로 부분적으로 훼손되었으나 용안의 일부와 곤룡포·신발·용상·채전 등의 색채와 문양 등이 잘 보존되어 역사·예술·학술면에서 가치가 크다.',\n",
       " '임실 중기사 철조여래좌상은 통일신라 시대 창건되어 조선 전기까지 존재했던 진구 사지에서 출토된 고려 초기의 불상이다. 불상은 전체적인 표현으로 미루어 보아 통일신라 본존불 양식을 계승하여 고려 초기에 조성된 것으로 판단된다.',\n",
       " '통도사에 보존되어 있는 아미타후불탱인데, 탱화란 천이나 종이에 그림을 그려 액자나 족자 형태로 만들어지는 불화를 말한다. 비단 바탕에 주색을 바르고, 그 위에 세선의 백색선묘로 도상을 표현하고 있다. 화면의 아래쪽 부분 중앙에 있는 기록에 의하면 이 불화는 가경 19년, 즉 조선 순조 14년(1814)에 조성된 것임을 알 수 있다.',\n",
       " '조양루는 춘천관아 건물인 문소각(聞韶閣)을 신축할 때 함께 건립되었다. 고종 27년인 1890년 춘천관아에 이궁(離宮)을 설치할 때 개축(改築)되어 문루(門樓)로 사용되었다. 1938년 우두산으로 이전 되었고, 한국전쟁으로 일부가 파손되어 1969년 크게 수리하였다.',\n",
       " '구림리에서 도갑사쪽으로 1km쯤 되는 북쪽 숲속에 자리하고 있는 장승으로, 장승이 서 있는 이곳이 도갑사로 가는 옛길로 전하고 있어 절의 영역을 표시하는 기능을 했던 것으로 보인다. 높이 115∼125cm, 폭 67∼70cm, 두께 36∼42cm 크기의 자연석으로, 장승이라고는 하지만 사람이나 무신의 모습을 조각한 일반적인 형태와는 달리, 자연석 앞면에 두 줄의 테두리를 두르고 그 안에 ‘국장생’이란 글자를 큼지막하게 새긴 비석의 형상을 하고 있다.',\n",
       " '독수리봉(57.7m)은 용운마을의 동남쪽에 위치하는데 여기에서 동남쪽으로 내려오는 줄기는 다시 37.5m의 작은 동산을 형성하고 남서쪽으로 내려오다 다시 높아져 정상을 형성하고 있는데 여기에 1호분이 있고 남서쪽 아래로 2m 정도의 간격을 두고 2호분이 있다. 따라서 2기의 고분은 구릉성 산줄기의 정상과 남서쪽 능선상에 위치하고 있어서 주변지역이 잘 조망된다.',\n",
       " '만동유적은 고창~아산간 지방도 확포장공사 구간내에서 2002년 5월부터 7월까지 호남문화재연구원 주관으로 발굴조사되었다. 만동유적은 삼국시대 마한과 관련된 분묘로 매장주체부의 축조나 매장된 옹관의 양상, 출토유물의 다양성 등 마한(馬韓) 제소국(諸小國)과의 관계를 살필 수 있는 중요한 유적이다.',\n",
       " '오방리 동네밖 길가에 마련된 흙으로 쌓은 작은 언덕으로, 조광익(1537∼1578)의 효행과 아우 조호익(1545∼1609)과의 우애를 기리어 후손들에게 귀감이 되도록 하기 위해 조성된 것이다. 조광익은 조선 중기의 문신이요 학자로, 호는 취원당이다.',\n",
       " '탑선 마을에 자리하고 있는 3층 석탑으로, 1층 기단(基壇) 위에 3층의 탑신(塔身)을 올려 놓은 모습이다. 남아있는 탑의 모습으로 보아 고려시대에 세운 것으로 추측되며, 기단과 탑신을 이루는 돌의 재질이 서로 달라 원래는 각기 다른 탑의 일부분이었을 것으로 보인다.',\n",
       " '삼세충효문은 조선 후기의 무신 경흥부사 퇴수헌 나사종(1440∼1491)의 충절을 기리기 위해 세운 충신각과 나운걸(1456∼1493)과 그의 아들 빈(1473∼1495), 린(1475∼1495) 두 형제의 효성을 기리기 위해 세운 삼효각을 합하여 부르는 이름이다. 나사종은 성종 22년(1491) 여진족이 군사 5천명을 거느리고 쳐들어오자 군사 50명을 이끌고 싸우다 전사하였다.',\n",
       " '이 부도는 봉서사내에 자리하고 있는 것으로, 조선시대의 승려인 진묵대사의 사리를 모시고 있다. 진묵대사는 이 절을 새단장한 후 이곳에 머물며 수행하다 일생을 마쳤다. 각 부분의 양식과 장식이 형식적으로 흐르고 있는 전형적인 조선시대의 부도이다.',\n",
       " '영월 용담굴은 석회암으로 이루어진 수직 동굴로, 총길이 250m이다. 동굴 안의 온도는 항상 15∼18°C를 유지하고 있다. 동굴 안에는 소라, 게새우 등 20여 종의 생물이 살고있다.',\n",
       " '경상북도 봉화군 재산면 동면리의 바위면에 조각한 마애불로, 진리의 세계를 두루 통솔한다는 의미를 지닌 비로자나불을 형상화한 것이다. 이 불상은 마애불이며 커다란 규모이고 서 있는 불상이라는 점에서 통일신라시대의 비로자나불상 연구에 귀중한 자료로 평가된다.',\n",
       " '훌륭한 유학자들의 위패를 모시고 제사지내며, 지방 백성의 교육과 교화를 담당하기 위해 세운 국립교육기관이다. 조선 태조 7년(1398)에 계명산 아래에 처음 지었으나, 임진왜란(1592) 때 불에 타 없어진 후 인조 7년(1629)에 지금의 자리로 옮겨졌다.',\n",
       " '맹암 김영렬(?∼1404)의 유지를 받들고 후손을 교육시키기 위해 세운 서원이다. 이 서원은 앞면 3칸·옆면 1칸 크기의 사당과 앞면 4칸·옆면 2칸 크기의 강당만 문화재자료로 지정되어 있는데, 영남지방의 고아한 멋이 묻어 나는 건축물이다.',\n",
       " '청화산 기슭에 자리한 법주사는 통일신라시대에 창건된 사찰로, 창건 당시에는 규모가 컸던 것으로 짐작되나 소실되었고, 지금의 사찰은 소규모로 다시 세운 것이다. 절에 남아 있는 왕맷돌은 위·아랫돌 모두 지름 115cm, 두께 15.5cm의 크기로, 국내에서는 가장 큰 맷돌로 알려져 있다. 만든 시기는 알 수 없으나 비슷하게 생긴 맷돌이 카자흐공화국 알마아타박물관, 우즈베크공화국 브라하박물관 등에도 전시되고 있어, 고대부터 중앙아시아 일대에서 널리 쓰였던 것으로 추측된다.',\n",
       " '인종태실은 중종 16년(1521)에 조성되었다. 이후 인종이 죽고난 후 명종1년에 가봉(加封) 공사가 있었고 숙종 37년(1711)에는 수개(修改)가 있었다.',\n",
       " '호사비오리는 현재 지구상에 1,000여마리가 생존하고 있는 것으로 알려져 있으며, 국제자연보호연맹(IUCN)의 적색목록에 멸종위기종으로 분류되어 있는 매우 희귀한 종이다. 러시아 연해주의 우수리지방과 중국 동북지방의 동북부에서 번식하며, 중국의 동부와 중부지역에서 월동하며, 한국과 일본에서도 적은 수가 도래하여 월동한다.',\n",
       " '영동 영국사의 은행나무는 나이가 약 1,000살 정도로 추정되며 높이 약 31m, 가슴높이 둘레 약 11m 정도이다. 영동 영국사의 은행나무는 오랜 세월동안 조상들의 관심과 보살핌 가운데 살아온 큰 나무로 문화적 자료가 될 뿐만 아니라 생물학적 보존가치가 높아 천연기념물로 지정·보호하고 있다.',\n",
       " '1932년 건립이 건물은 도청 소재지를 공주에서 대전으로 옮기면서 신축되었으며, 한국전쟁 당시 임시 정부청사로 사용되기도 하였다. 건립 당시에는 2층의 벽돌조 건물이었으나 1960년 무렵 넓은 창을 낸 모임지붕 형태로 3층 부분이 증축되었다. 일제 강점기 당시 건립된 전형적 관공서 형태인 ‘E’자 형태의 평면 구성이며, 외부 마감은 당시 유행하였던 밝은 갈색의 스크래치 타일을 사용하였다.',\n",
       " '척화비란 병인양요와 신미양요를 승리로 이끈 흥선대원군이 서양사람들을 배척하고 그들의 침략을 국민에게 경고하기 위해 서울 및 전국 각지에 세우도록 한 비로, 이 비도 그 중의 하나이다. 이는 당시 대원군의 명으로 척화비를 곳곳에 세우자, 이 지역의 관청에서 그것을 본 떠 세우면서 양식을 달리 한 것으로 보인다.',\n",
       " '이 비는 문종대왕의 태를 모신 후 세운 비로, 명봉사 절내에 사적비와 나란히 서 있다. 비의 앞뒷면에 새긴 비문의 내용으로 미루어, 영조 11년(1735)에 세웠음을 알 수 있다.',\n",
       " '성재 허전선생 영정은 명주천에 색체를 넣어 조성한 것으로 조선말기의 작품으로 생각되며 규격은 80cm × 140cm이다. 목판은 성재선생 문집중(총32권 17책) 일부인 철명편 57장인데 특징은 사주단변에 양곽 19.6cm ×13.5cm이며, 10행 22자 내향이엽문어미이다.',\n",
       " '고려시대의 왕족 승화후(承化侯) 왕온(?∼1271)의 묘이다. 김용규가 지은 진도군 읍지『옥주지』에 왕온의 기록이 나오며,『진도군지』에 의하면 왕온의 묘는 왕분치(王墳峙)라 한다고 한다.',\n",
       " '백파이상영당은 익안대군 방의의 손자인 백파 도정공 이상의 영정을 모시고 제향하는 곳이다. 영당의 동쪽에는 이현동의 재실인 승무재(繩武齋)가 위치하고 있다. 재실은 1730년대 건립된 것으로 추측되지만 정확한 기록은 남아 있지 않다.',\n",
       " '충무공 이순신(1545∼1598) 장군의 무덤이다. 아산군 금성산에 무덤을 만들었다가 16년 후인 광해 6년(1614)에 지금의 자리로 옮겼다. 무덤 주위에는 제사지낼 때 음식을 차려놓는 상석과 혼이 놀다간다는 혼유석·향로석이 있으며, 동자상 1쌍·망주석 1쌍·석상 1쌍·문인석 1쌍·광명등·묘비석이 있다.',\n",
       " '고려 후기 공민왕 때의 문신이었던 신사천( ? ∼1382) 선생과 그 두 딸의 충효와 절의를 기리고자 세워놓은 2기의 비이다. 한 채의 비각 안에 나란히 자리하고 있는 이 비들은 낮은 사각받침 위로, 비몸을 세운 간결한 모습으로, 조선 태종 5년(1405)에 세운 것이다. 1994년에 비각과 사당을 새로이 지어 그 안에 모셔두었다.',\n",
       " '성종 11년(1480)에 작성된 재산분배 기록이다. 조선시대 사회 및 가족제도 연구에 귀중한 자료이며, 또한 당시 우리 민족의 남녀평등사상을 확인할 수 있는 귀중한 자료이다.',\n",
       " '충청북도 제천시 덕산면 와룡산의 고산사 응진전에 봉안된 나한상(羅漢像)이다. 관음보살상과 더불어 응진전에 모셔진 나한상은 조선 중기에 만든 것으로 추정된다. 조선시대 나한상은 주로 석고로 만들거나 흙으로 만들었는데, 이 나한상은 돌로 만들어 그 예가 극히 드물다.',\n",
       " '마을 입구에 있는 보산정사는 조선 중종(재위 1506∼1544) 때부터 선조(재위 1567∼1608) 때까지 이 마을에서 태어난 8인의 선비들이 학문을 닦고 후진 양성에 힘쓴 곳이다. 규모는 앞면 5칸·옆면 2칸으로, 지붕은 옆면에서 볼 때 여덟 팔(八)자 모양인 팔작지붕이다.',\n",
       " '순창여자중학교 교정에 자리하고 있는 3층 석탑이다. 탑이 서 있던 터에서 백제시대의 것으로 보이는 기와조각이 발견되어 당시의 옛 절터로 추측된다. 옛 백제지역에 서 있는 고려 전기의 탑으로서, 백제 양식 특유의 우아한 곡선미가 느껴진다.',\n",
       " '이 종택은 조선 중종 36년(1541)에 최초로 건립된 것으로 추정된다. 1974년 안동댐 건설로 인해 기존 위치에서 2km 떨어진 외곽 산 중턱인 지금의 위치로 옮겨 세워졌다.',\n",
       " '고흥향교는 세종 23년(1441)에 고흥현 서문 밖에 지었는데 선조 30년(1597)에 정유재란으로 불에 타 없어졌다. 조선시대에는 국가로부터 토지·노비·책 등을 지급받아 학생들을 가르쳤으나 갑오개혁(1894) 이후에는 교육적 기능은 없어지고, 봄·가을에 제사만 지낸다.',\n",
       " '‘여수 석보’는 조선 시대(15세기 중반) 널리 활용되었던 산지(山地)나 평산(平山)지역이 아닌 평지(平地)에 축조된 방형(方形)의 성곽시설인데, 2차례의 발굴조사와 학술대회 등을 통하여 유적의 성격을 확인하였다. 여수 석보는 처음에는 군사적인 방어위주의 석보(石堡·돌로 쌓은 성)에서 출발하여 점차 관청용 물자비축의 창고(倉庫)와 장시(場市·시장) 기능으로 활용되는 등 다양한 성격을 보여주고 있어 더욱 주목되는 유적이다.',\n",
       " '내장산에 있는 옛 내장사터로서, 『신증동국여지승람』에 의하면 ‘백련사는 내장사라고도 이르며 내장산에 있다.’라고 하였다. 백련사는 언제 세운 것인지 알 수 없으나 백제 의자왕20년(660)에 유해선사가 세웠다고 한다.',\n",
       " '조선 중기 문신인 지천(遲川) 최명길(1586∼1674)의 묘소이다. 선조 38년(1605) 문과에 급제하여 여러 관직을 거쳤다. 광해군 6년(1614) 명나라와의 문제로 관직을 박탈당하였다가 1623년 인조반정의 공신이 되어 완성부원군이 되었다.',\n",
       " '함안천 동쪽 언덕 위에 자리하고 있는 비로, 조순 장군의 지조를 기리고 있다. 이성계가 왕위에 오른 후 그를 여러번 불렀으나 끝내 나아가지 않았고 그가 죽은 후 왕이 그의 집 앞에 비를 세우도록 하여, 누구든 이 비를 지나갈 때에는 말에서 내릴 것을 명하였다.',\n",
       " '고종 광무 2년(1898)에 준공한 우리나라 최초의 본격적인 개신교 교회건물이다. 벽돌쌓기를 하였으며, 곳곳에 아치형의 창문을 내어 고딕양식의 단순화된 교회당 모습을 이루고 있다. 이 교회당의 종은 장식없는 내부 기둥들의 겉모습과 함께 소박한 분위기를 지니기 있다.',\n",
       " '범어사에 소장되어 있는 바라 1쌍이다. 바라는 불교의식구의 하나로 바라춤을 출 때, 향을 공양할 때, 불경을 열람할 때, 설법이나 큰 집회를 행할 때, 장례의식을 할 때, 새 주지를 맞이할 때 등 불교의식시에 사용하는 타악기의 일종이다. 범어사 바라는 놋쇠를 두들겨 제작한 전통적인 방자유기의 제작기법을 잘 보여주고 있을 뿐 아니라, 제작연대가 오래된 귀중한 자료이다.',\n",
       " '정탁초상(鄭琢肖像) 은 조선 중기의 문신인 약포 정탁 선생의 초상화로, 크기는 가로 89cm, 세로 167cm이다. 바닥도 채색되어 안정감이 있는 이 초상화는 조선시대의 전형적인 공신 초상화이다.',\n",
       " '옥과향교가 처음 지어진 연대는 알 수 없다. 다만 원래의 자리가 황산이었는데 율정으로 옮겼고, 조선 영조 31년(1755)에 현 위치로 옮겼다고 한다. 경사진 곳에 위치하고 있어서 앞쪽 낮은 곳에는 배움의 공간으로 명륜당을 두고, 뒤쪽 높은 곳에는 제사공간으로 대성전을 두고 있다.',\n",
       " '감지은니보살선계경 권8(紺紙銀泥菩薩善戒經 卷八)은 보살수행의 방법을 폭넓게 설명한 경전이다. 이 책은 경기도 안성시에 있는 청원사의 삼존불을 금칠할 때 불상 속에서 나온 것으로, 그 출처가 확실하며 보존상태도 양호한 귀중한 책이다.',\n",
       " '탱화는 만드는 방법이 다른 불화에 비해 훨씬 쉽고, 고정되어 있지 않고 옮길 수 있어서 불교행사 때 쓰기 위해 많이 그려졌다. 우리나라의 탱화는 삼국시대 때 불교가 전해지면서 시작되었다고 추측된다.',\n",
       " '지장보살을 중심으로 시왕과 판관 등 인물이 자세라든지, 전체적인 구도가 짜임새 있게 이루어져 있다. 주색을 위주로 하여 녹색과 청색을 사용하였는데 자칫 화면이 어두워 보일 수도 있으나 금분으로 칠해진 홀, 금관, 장신구들이 화면에 고르게 분포되어 화면 전체가 화사한 시각적 효과를 나타낸다.',\n",
       " '경주 김씨 아천공파의 종가로, 김언수(1574∼1638)가 1600년경에 지었다고 전한다. ᄆ자형의 안채와 독립된 사랑채로 이루어졌으며, 대문은 따로 설치하지 않았다.',\n",
       " '객사는 조선시대의 지방 관아건물로 고을 수령이 임금의 위패를 모시고 예를 올리는 정당과 중앙에서 파견된 관리들이 머물렀던 좌·우헌으로 구성되어 있다. 지어진 시기는 알 수 없고 1924년 군수 이장희가 시장용 건물로 쓰기 위해 창녕읍 술정리로 옮겼다가 1988년 이곳 만옥정에 옮기고 보수했다.',\n",
       " '방하리 고분군은 5세기부터 7세기 중엽, 삼국시대에서 통일신라시대에 걸쳐 거제지역 고유문화를 바탕으로 신라 문화가 융합되어 형성된 고분군이다. 2018년 문화재청의 지원으로 긴급발굴조사를 실시하였으며, 2019년 주변지역의 추가 시굴조사를 진행하여 석곽묘와 석실묘, 주구 등이 확인되었다. 또한 이전 발굴조사된 고분군보다 시기적으로 100년 정도 앞선 5세기대 유구로 파악되어 거제지역 가야집단의 존재를 규명할 수 있는 중요한 자료로 평가받는다.',\n",
       " '「몽산화상육도보설」은 몽산덕이가 대중을 모아서 육도윤회(六道輪廻)에 대하여 설법한 내용을 담고 있다. 본서(本書)는 ‘1539년’ 및 ‘광흥사’라는 명확한 간행기록이 남아 있고, 시주자에 대한 기록 및 인출 및 보관 상태가 매우 양호(良好)한 책이다.',\n",
       " '공자의 영정을 봉안한 영당이다. 궐리사라는 이름은 공자가 태어나고 자란 마을인 궐리촌에서 유래한 것이다. 숙종 13년(1687) 우암 송시열이 궐리사를 세우려고 했으나 2년 뒤 세상을 떠나 뜻을 이루지 못하였다.',\n",
       " '전라남도 구례군 마산면 사도리에 있는 불상으로, 머리 부분이 떨어진 것을 다시 붙여놓았다. 조각수법으로 보아 만들어진 연대는 고려 초기로 추정된다.',\n",
       " '강림천변 절벽 위에 우뚝 서 있는 태종대는 조선 태종과 그의 스승 운곡 원천석에 관련된 일화가 있는 곳이다. 원천석은 태종이 왕위에 오르기 전, 왕자의 난을 계기로 실망해서 관직을 버리고 이곳에 은거하였다.',\n",
       " '무량사 동종은 임진왜란 후 무량사 중창 불사 시에(1636) 극락전, 괘불, 본존불, 후불탱 등과 함께 조성된 범종으로, 목어, 법고 등과 함께 사용된 듯하다. 이 범종은 임진왜란 직후에 많이 나타난 신라와 고려시대 양식을 부분적으로 계승하고, 조선 초기 형식을 약간 가미한 포탄을 엎어 놓은 형태이다. 정상부에는 용이 종신을 들어 올리는 모양의 용누와 용통이 있으며 용의 다리는 음통을 감고 있다.',\n",
       " '이곳은 고려말의 충신이며 원나라로부터 목화씨를 가져와 우리나라 의복문화에 혁신을 가져온 문익점의 18세손인 문경호가 1840년을 전후하여 터를 잡아 남평문씨 일족이 모여 살던 곳이다. 원래 인흥사의 절터였던 곳을 구획하여 집터와 도로를 반듯하게 정리하고 집을 지었다.',\n",
       " '송광사는 통일신라 경문왕 7년(867)에 도의선사가 처음 세웠지만 대부분의 건물이 허물어져 고려 중기 보조국사가 제자들에게 당부하여 다시 지었다. 지금의 절은 조선 광해군 14년(1622)에 다시 고쳐 세운 것이다. 그 중 스님들이 생활하던 하사당은 대웅전 뒤 한층 높은 곳에 있다.',\n",
       " '높이 23cm, 입 지름 27.5cm인 청동으로 만들어진 조선시대 향로로, 입 주위에는 넓은 테를 가진 전이 있으며, 안쪽으로 ‘의령수도사’라고 점선으로 새긴 글자가 있다. 향로 몸체의 둘레에는 4곳에 꽃 모양으로 창을 만들고, 그 안에 봉황을, 남은 공간에는 빈틈없이 덩굴무늬를 새겨 넣었다.',\n",
       " '1930년 건축가 김순하 선생의 설계로 지었다. 지하 1층·지상 2층의 붉은 벽돌건물인데, 2층의 창문이 위·아래로 나뉘어 밖에서 볼 때는 3층으로 보이는 아담한 건물이다. 출입구의 위쪽부터 옥상까지 전체면을 유리로 장식하였고 건물 양 옆의 모서리를 둥글게 곡선처리 하였으며, 동시에 창문도 곡선창을 사용하였다.',\n",
       " '조선 성종 1년(1470)에 광평대군의 부인 신씨가 남편의 명복을 빌기 위해 아들 영순군에게 필사하게 하여 목판으로 간행한 책이다. 이 책은 조선 전기 불교를 탄압하는 정책아래서도 왕실의 종친이 주관하여 실시한 수륙제(水陸祭)의 기본서이고, 『수륙무차평등재의촬요』 판본 가운데 가장 오래된 것으로 당시 불교신앙을 알 수 있는 귀중한 자료이다.',\n",
       " '학림사 석불좌상은 커다란 두부에 불신이 왜소하며 전체적으로 입체감이 없는 평평한 체구와 얼굴을 보여준다. 조선시대의 토속화된 석불조각의 모습을 잘 보여주는 예로서 조선 말기에 제작된 것으로 추정된다.',\n",
       " '봉림사가 소장중인 불교전적류 모두 8건으로 각각의 명칭은 묘법연화경권제1, 묘법연화경권제3,4, 묘법연화경권제4~7, 금강반야바라밀경(상), 약사유리광여래본원공덕경, 불정심관세음보살대다라니경, 월인석보제21(상), 불설대보부모은중경이다. 절첩장(折帖裝)은 권자본에 이어 고려 중후기에 많이 만들어진 것으로 서지학적으로 중요한 자료로 취급되고 있다.',\n",
       " '이 책은 오대산 신앙의 중심인 적멸보궁의 관리를 위해 같은 사찰 안에서도 암자와 암자 사이에 부동산을 옮긴 것을 보여주는 문건이며, 당시 사찰 승려들의 명단도 싣고 있어 조선후기 도내 사찰의 현황 등을 살필 수 있다. 조선 순조 25년(1825)에 오대산 서대에 소속된 논을 중대로 영원히 옮기면서 그 목록을 작성하였다.',\n",
       " '강릉 회암영당에 모시고 있는 회암 주희(주자)의 영정으로, 가로 60cm, 세로 120cm 크기의 족자로 되어 있다. 머리에는 건을 쓰고 사대부들이 평상시에 편하게 입는 옷인 창의를 입고 두 손은 소매 안으로 모아 단정하게 앉아있는 전신좌상으로, 색채화로 되어 있다.',\n",
       " '충청남도 논산시 부적면 고정산 정상의 남쪽 바위면에 얕은 선으로 새긴 높이 3.5m의 불상이다. 고려시대 불상에서 나타나는 형식적인 면과 지방양식을 함께 보여주고 있는 작품이다.',\n",
       " '신안 가거도패총은 가거도 북쪽 끝에 있는 등대의 서쪽 경사면에 있다. 이 패총은 1968년 서울대학교 인류학 조사팀에 의해 발견되었다. 처음 조사될 당시에는 연대가 신석기 후기의 것이며 서해안의 신석기유적과 관련이 깊은 것으로 보았으나 최근에는 이 유적에서 돋을무늬토기나 눌러찍은무늬토기 등이 출토되는 것으로 보아 연대가 신석기 전기까지 올라갈 수 있으며 남해안 일대에 퍼져있는 신석기시대 패총과 공통점이 많다는 것을 알게 되었다.',\n",
       " '이 책은 조선 선조대의 무신으로 이차진주성싸움에서 순절한 무민공 황진(1550∼1593) 장군의 후손가에 400여년간 전해 내려온 고문서로, 총 14종 125점이다. 주로 황진과 관련된 문서들이며, 두 아들의 문서들이 있다.',\n",
       " '경포호수에 가까이 있는 해운정과 담 하나를 사이에 두고 있는 집이다. 지은 연대를 정확히 알 수 없으나, 안채는 350∼360년, 사랑채는 250∼260년 정도 된 것으로 보인다. 전체적으로 단아한 집으로, 집 뒤로는 야산이 있지만 주변의 변화가 심하여 예전의 멋은 많이 없어졌다.',\n",
       " '안채와 사랑채 2동으로 이루어진 집인데 본래 상태를 유지하고 있는 것은 안채이다. 안채는 ᄀ자형 평면을 갖추고 있으며 대청을 중심으로 왼쪽에 건넌방 2칸, 오른쪽에 안방과 부엌을 직각으로 배치하였다. 처음 지은 시기를 알 수 없지만 기와에 남아 있는 기록으로 지금 있는 집은 1941년에 세웠음을 알 수 있다.',\n",
       " '신도비(神道碑)는 왕이나 공신, 고관 또는 이름난 학자의 생애와 업적을 기록하여 무덤 남동쪽 길가에 세운 비석이다. 산청 권도 신도비는 1816년에 조선 중기 문신인 동계 권도의 업적을 기리기 위해 세웠으며, 비석의 글은 조선 후기 영‧정조 시대 정승을 지낸 채제공이 지었다.',\n",
       " '이 건물은 충주목 동헌으로, 당시 충주 목사가 이곳에서 집무를 보던 곳이다. 조선 고종 7년(1870) 화재로 타버린 것을 같은 해 조병로가 다시 세웠다고 한다. 지금 있는 건물은 중원군 청사로 개조하여 사용하다가 1983년 군청 자리를 옮기면서 원형으로 복원하였다.',\n",
       " '사재(思齋) 김정국(金正國, 1485~1541)은 조선 중기 문신으로 형인 모재(慕齋) 김안국(金安國)과 더불어 기묘사화(己卯士禍)에 해를 입었던 인물이다. 1538년 복직되어 전라도관찰사, 중추부사, 돈녕부사 등을 지냈다. 신도비는 묘표와 마찬가지로 원수방부 형태이며, 김정국의 손자 김요립(金堯立)이 마련한 석재에 박세채(朴世采)가 지은 비문을 새겨 1691년경 건립했으나 비문이 마모되어 1908년에 다시 건립한 것이다.',\n",
       " '이 서원은 마을 사림들이 후진양성을 위해 광해군 2년(1610)에 성곡 2리 의산마을(분지거릉골) 행의사 터에 의산서당을 건립한데서 시작한다. 의산서원은 양주 향촌사회를 이끈 공론을 생산하는 유생들의 근거지가 되었으며 다수의 과거 급제자를 배출한 중요한 교육기관이며, 현재도 향사의 전통이 유지되고 있다.',\n",
       " '현등사신중도는 조선후기 일반적인 크기로, 가로 122cm, 세로 123cm이며 화면을 2등분 하여 존상의 크기를 비슷하게 그려 존상의 위계가 반영되지 않았다. 오른쪽에는 범천(梵天)과 제석천(帝釋天)을 중심으로 좌우에 일월천자와 복숭아와 병을 든 동자상을 배치하였다.',\n",
       " '오대진언 목판은 1604년(선조 37)에 가야산 강당사(講堂寺)에서 간행된 것이다. 이로 인해 범자와 한글의 용법 연구에 귀중한 자료가 된다. 개심사 소장 목판은 오대진언 중에서「수구즉득다라니」부분만을 판각한 것으로 9판(28장)이 완전하게 전래되고 있으며, 현존 오대진언 목판 중 가장 오래되고 완전한 판본으로서 문화재적 가치가 높다.',\n",
       " '욱수농악은 대구광역시 수성구 욱수동에서 발원 전승되어온 농악이다. 욱수농악은 동제 때 동제당에서 신내림을 축원하는 천왕받이굿과 이 내림굿에 이어 연행하던 판굿, 정월대보름때의 지신밟기 그리고 달불놀이때의 마당놀이가 하나의 틀이 되어 전승되어 왔다.',\n",
       " '‘신윤복 필 미인도’는 조선 후기 풍속화에 있어 김홍도와 쌍벽을 이룬 신윤복(약 1758-1813 이후)이 여인의 전신상(全身像)을 그린 작품으로, 화면 속 여인은 머리에 가체를 얹고 회장저고리에 풍성한 치마를 입고 있다. 부드럽고 섬세한 필치로 아름다운 여인의 자태를 묘사하였고 은은하고 격조 있는 색감으로 처리하였다.',\n",
       " '『몽산화상육도보설』은 원(元)의 선승인 몽산 덕이(蒙山德異, 1231~1308)가 불가의 육도윤회(六道輪廻)를 설명하기 위해 지은 책으로, 몽산화상육도보설 목판은 1584년(선조 17) 현 소장처인 개심사에서 개판한 것으로 완전한 구성을 갖춘 6판이 전해지고 있다. 임진왜란 이전에 간행된 몽산화상육도보설 목판 중 가장 완전한 판본이라는 점에서 가치가 크다.',\n",
       " '호기 마을에서 육모정쪽으로 500m 정도 떨어진 하천 옆에 자리한 돌장승으로, 마을에서는 ‘미륵’, ‘미륵정’이라 부르고 있다. 장승을 처음 세운 연대는 알 수 없고, 근처 논 속에 있던 것을 조선 철종 1년(1850) 경 김근수씨가 지금의 자리에 세웠다.',\n",
       " '비안향교는 조선 태조 7년(1398) 처음 지었으며 임진왜란 때 불타 없어졌다. 광해군 2년(1610) 지금 있는 자리에 복원하여, 1898년·1924년·1935년에 각각 수리하였다. 임진왜란 때는 이 지역 사람인 손복이 향교의 위패를 산중 굴속에 숨겨 무사히 피해를 면했다고 전한다.',\n",
       " '입석은 바위를 길게 다듬어 세워놓은 것으로 선돌이라고도 하며, 고인돌과 함께 큰돌 문화의 일종이다. 그 목적이나 유래가 확실하지는 않으나, 선사시대에는 고인돌 주변에 세워 묘의 영역을 표시하기도 하였고, 역사시대에 와서는 마을 입구에 세워 귀신을 막거나 경계를 나타내기도 하였으며, 토착신앙과 결합하여 장수를 비는 대상이 되기도 하였다.',\n",
       " '조선시대 관아의 누각건물로 19세기 초에 지어진 것으로 보인다. 단청이나 다른 색칠을 하지 않고 목재면을 그대로 둔 집으로 비교적 소박한 누각이다.',\n",
       " '송광사에 소장된 ‘『인천안목 목판』’은 전체 42매로 일부 손상된 부분이 확인되나 결판이 없이 완전하게 전하고 있다. 간행 기록을 통하여 중종 24년(1529) 여름에 간행되어 송광사에 소장된 사실을 알 수 있다. 이 목판은 현전하는 가장 오래된 목판으로서 보물로 지정하여 원천자료를 보존할 가치가 있다고 판단된다.',\n",
       " '오괴정은 조선 명종 즉위년(1545)에 오양손(吳梁孫)이 처음 짓고 1922년 후손들이 고친 것이다. 해주오씨로는 처음으로 삼은리에 들어 온 오양손은, 김굉필(1454∼1504)의 문인으로 참봉을 지냈다.',\n",
       " '사천 성내리의 비자나무는 나이가 300년 정도된 것으로 추정(지정일 기준)되며, 높이 19m, 둘레 3.85m로 가지는 사방으로 뻗어 있다. 사천 성내리의 비자나무는 오랜 세월동안 조상들의 관심과 보살핌 속에 살아온 나무로 문화적·생물학적 자료로서의 가치가 높아 천연기념물로 지정하여 보호하고 있다.',\n",
       " '석가여래는 전시대를 통하여 예배의 대상이 되었고, 이 불상 또한 마을주민들이 따로 불각(佛閣)을 세워 모시고 있다. 1928년에 일어난 큰 불 때문에 광배(光背)와 대좌(臺座)는 물론 불신(佛身)까지 손상을 입었다. 얼굴의 구체적인 모습은 알 수 없으나 온화하면서도 풍만한 인상이다.',\n",
       " '산유화가는 충청도 일부지방에 전승되는 민요의 하나로 농부들이 김을 매면서 피로를 잊고 능률을 올리기 위해 부른 노동요이다. 남녀가 주고 받는 형식으로 불리워지며 모심기, 김매기 등의 농요로서 뿐만 아니라 노동과 관계 없이도 불리워진 것으로 생각된다. 부여에 살고 있는 예능보유자 박홍남씨 외에 2명이 그 맥을 이어가고 있다.',\n",
       " '「이육사 친필원고 ‘바다의 마음’」은 시인이자 독립운동가인 이육사(이원록, 1904~1944)가 남긴 시 ‘바다의 마음’의 친필원고로, 3행 3연으로 구성되어 있다. 이육사는 당시 신문과 잡지에 글을 발표하면서 항일.민족정신을 고취하는 활동을 하였고, 여러 독립운동 단체에 가담하여 투쟁하다 1944년 1월 16일 베이징 일본총영사관 감옥에서 순국하였다.',\n",
       " '홍염장은 주로 홍화꽃을 이용해 붉은 색을 들이는 장인으로, 조선시대 상의원(尙衣院)과 제용감(濟用監)에 각각 10명씩 속해 있었다. 홍색은 조선시대 왕실의 권위 등을 상징하던 색으로, 홍색으로 된 관복은 왕세자와 당상관 이상만 착용할 수 있었고, 홍색 가운데 가장 진한 색인 대홍색은 홍화염색을 8번 이상 반복하여야만 만들어 낼 수 있는 색으로서 왕실에서 주로 사용한 조선 최고의 색이었다.',\n",
       " '한개마을 북쪽 영취산 기슭에 자리잡고 있는 한옥으로 대문에서 내려다 보이는 가옥 경치가 눈길을 끄는 곳이다. 1911년 이전희씨가 지은 집으로 가묘와 별당은 1930년에 늘려 지은 것이다. 건물들은 대문채, 안채, 사랑채, 중문채, 고방채, 사당 등으로 구성되어 있다.',\n",
       " '요즘에는 노래를 통해 얻는 즐거움이 춤추기나 윷놀이 등을 통해서 얻는 즐거움과 본질적으로 다르지 않다고 보아 노래 자체를 즐기기 위해서 부르는 노래들을 가창유희요라고 하여 유희요의 범주에 넣어 다루고 있다. 제주 지역에서는 창민요의 전승이 매우 활발하게 이루어지고 있어, 「오돌또기」, 「이야홍」, 「너영나영」, 「신목사타령」, 「봉지가」, 「산천초목」, 「동풍가」, 「중타령」, 「질군악」, 「용천검」, 「계화타령」, 「사랑가」 등 50여 종의 노래들이 전승되고 있다.',\n",
       " '경상북도 청도군 청도읍 적천사 사천왕문 양쪽에서 서 있는 사천왕상이다. 사천왕상 속에서 나온 유물을 통해 만들어진 연대가 숙종 16년(1690)이라는 사실을 알 수 있다.',\n",
       " '이 유적은 강원도 횡성군 둔내면 둔방내리에 소재한 둔내중·고등학교를 중심으로 그 주변지역에 위치하고 있으며, 횡성군의 동쪽 끝지역으로 횡성읍으로부터는 동북방 30km 지점이다. 둔내 철기시대 주거지 유적은 기원후 1∼2세기 경의 유적으로, 우리나라 초기철기시대 사람들의 의·식·주 생활을 종합적으로 보여주는 유적이라고 할 수 있으며, 우리나라 중부지방에서 초기철기시대의 문화교류 및 전파경로 등을 규명하는데 매우 중요한 유적이다.',\n",
       " '한라산 백록담(漢拏山 白鹿潭)은 남한에서 가장 높은 산정화구호로 침식에 거의 영향을 받지 않아 순상화산의 원지형이 잘 보존되어 학술 가치가 크고 빼어난 경관을 보여주는 화산지형이다. 백록담(白鹿潭)의 명칭의 유래는 한라산 정상에 백록(흰사슴)이 많이 놀았다 하여 명명되었다고 하며, 백록담과 관련된 고문헌으로는 최익현(崔益鉉)의 면암선생문집(勉菴先生文集) 별도진(別刀鎭), 면암선생문집(勉菴先生文集) 한라산(漢拏山)유람기 등에서 나타난다.',\n",
       " '자수 초충도 병풍(刺繡 草蟲圖 屛風)은 검은색 비단에 풀과 나비, 잠자리같은 곤충을 수 놓아 만든 병풍이다. 18세기 이후에 만들어진 병풍으로 추측되며, 고상하고 우아하면서도 사실적이어서 궁중이나 양반댁에서 쓰였을 것으로 추측된다.',\n",
       " '신라시대 만고 충신 박제상의 생가로 구성되고 있으며, 사당 안에는 박제상공과 그의 아들 백결선생의 초상화가 모셔져 있다. 사당 앞에는 박제상의 업적을 적은 효충사 석비가 세워져 있다.',\n",
       " '동해 어달산 봉수대는 강원도 동해시 대진동 어달산의 정상에 있는 동해 어달산 봉수대에는 지름 9m, 높이 2m의 둥근 봉수대 터가 남아 있다. 고려시대 때 여진족의 침입에 대비하여 만들었던 것으로, 조선시대 때까지 계속하여 사용되었다.',\n",
       " '조선 후기인 1770년대에 제작된 제주도의 옛 지도이다. 제주도의 지도는 초기에는 둥근 감자형이었다가 점차 고구마형으로 바뀌는데, 이 지도는 위에 설명한 두가지 형태와는 전혀 다른 분위기를 풍긴다. 한라산과 그 주변의 오름들을 입체화시켜 한라산의 웅장함을 강조하고 있으며, 한라산 봉우리의 명칭들도 자세히 기록하고 있다.',\n",
       " '면천향교를 세운 시기는 정확하게 알 수 없지만 태조 1년(1392)에 세웠다고 전한다. 건물 배치는 앞쪽에 배우는 공간으로 강당인 명륜당과 학생들의 기숙사인 동재·서재가 있고, 뒤쪽에 제사지내는 공간으로 대성전과 동무·서무가 있는 전학후묘의 형태를 따르고 있다.',\n",
       " '홍산초등학교 북쪽에 있는 표고 90m의 산 꼭대기에 만들어진 산성으로, 성 안에 있는 체육공원의 진입로에 의해 성벽의 서쪽부분이 일부분 잘려나갔다. 잘려진 면으로 보아 성벽의 기단에만 돌을 가지런히 깔고, 그 내부와 윗부분은 모두 흙을 쌓아올린 듯 한데, 현재 성벽의 윤곽은 뚜렷하지 않다. 고려 후기 최영 장군이 왜구를 크게 무찌른 홍산대첩이 있던 곳이기도 하다.',\n",
       " '청량산에 위치한 청량사는 신라 문무왕 3년(663)에 원효대사가 지은 절이다. 건물의 대들보 밑에 사이기둥을 세워 후불벽을 설치한 것은 다른 곳에서는 보기 힘든 특징으로 중요하게 평가되고 있다.',\n",
       " '『묘법연화경』은 줄여서 법화경이라고 부르기도 하는데, 우리 나라에서는 천태종의 근본 경전으로 한국 불교사상 확립에 크게 영향을 미쳤다. 현재는 경상남도 함양군 벽송사에 보관되어 있는데, 벽송사로 옮겨온 기록도 밝혀지지 않았다.',\n",
       " '총 높이 80cm, 몸체 길이 60cm, 입 지름 50cm로, 소형이나 명문이 확실한 조선 후기 범종의 특징이 잘 나타나 있다. 입 주변에는 한개의 덩굴무늬 띠를 둘렀으며, 어깨 부위에는 덩굴무늬 띠와 물결무늬 띠가 잇대어 배열되어 있다. 어깨 아래로는 2줄로 만든 작은 원 안에 범자를 도들새김 하였으며, 24개의 원을 배열하여 문양을 만들었다.',\n",
       " '이 불상은 다리 아랫부분이 땅에 묻혀 있으며 얼굴은 파손되어 모양조차 알 수 없게 되었다. 광배(光背)는 머리 둘레의 두광(頭光)과 몸 둘레의 신광(身光)이 각각 2중선으로 표현되었으나 신광은 완전히 파괴되고 두광도 많이 망가져 자세히 알 수 없다.',\n",
       " '삼사석은 탐라국(지금의 제주도)의 시조인 고씨, 양씨, 부씨가 나라를 세우고 벽랑국의 3공주를 부인으로 맞은 후 도읍을 정하기 위해 화살을 쏘았을 때 그 화살이 꽂혔던 돌을 말한다. 화살을 쏘았다고 해서 일명 ‘시사석(矢射石)’이라 하며 이곳 사람들은 ‘살쏜디왓’이라고 부른다.',\n",
       " '보덕사는 신라 문무왕 8년(668) 의상조사가 지덕사라는 이름으로 세운 절이다. 단종이 노산군으로 감봉되며 유배당할 때 절 이름을 ‘노릉사(老陵寺)’로 고쳤다가, 단종의 능인 장릉(사적 제196호)의 원찰로 지정되면서 영조 2년(1726)에 보덕사로 이름이 바뀌었다.',\n",
       " '통일신라 경문왕 8년(868)에 세워진 비로, 전체적인 조각수법이 뛰어나며 특히 격렬한 거북받침돌의 조각들은 매우 훌륭한 경지에 이른 것이라고 할 수 있다. 쌍봉사에 있는 철감선사 도윤의 탑비이다.',\n",
       " '전라북도 익산시 금마면 서고도리의 해발 87m의 굿대숲 위에 흙으로 쌓은 성으로, 이 봉우리는 북쪽으로 미륵산, 서쪽으로 오금산, 동쪽으로 금마산이 둘러 있다. 성벽은 내부에 토루를 쌓고 바깥 둘레에 도랑을 설치하였다.',\n",
       " '옥류각이라는 명칭은 동춘당이 읊은 시 가운데 \"골짜기에 물방울 지며 흘러내리는 옥 같은 물방울[層巖飛玉溜]에서 따온 이름으로 계곡의 아름다움을 따서 건물 이름으로 삼은 것이다. 앞면 3칸·옆면 2칸 규모이며 지붕은 옆면에서 볼 때 여덟 팔(八)자 모양을 한 팔작지붕이다. 계곡 사이의 바위를 의지하여 서로 다른 높이의 기둥을 세우고 마루를 짠 특이한 하부구조를 가지고 있다.',\n",
       " '대건신학교는 이후 ‘광주가톨릭대학교’ 및 ‘광주가톨릭대학교 부설 평생교육원’, ‘광주가톨릭평생교육원’을 거쳐 2014년 8월 11일부터 현재까지 ‘천주교광주대교구청’으로 사용 중에 있다. ᄋ 천주교 광주대교구청은 1961년 대건신학교의 본관(사무실, 도서관, 교실) 및 헨리관(기숙사), 식당의 용도로 건립된 시설로서 호주 출신 신부(미상)에 의해 설계되었으며 지하층을 통해 유기적으로 서로 연결되어 있는 것이 특징적이다.',\n",
       " '유회당과 기궁재는 권이진(1668∼1734) 선생의 호를 따서 지은 건물과 그에 소속된 재실로 보문산 남쪽 기슭 아늑한 곳에 자리잡고 있다. 이곳에는 유회당 권이진 선생이 아버지의 묘를 지키기 위해 지은 시묘소인 삼근정사와 선생의 문집이 보관되어 있는 장판각이 함께 자리잡고 있다.',\n",
       " '조선 선조 때 문신인 허엽(1517∼1580)이 살던 집으로 지은 시기는 정확하게 알 수 없다. 이곳은 허엽의 딸이며 조선시대의 대표적인 시인이었던 허난설헌(1563∼1589)이 태어난 곳으로 전한다. 행랑채의 솟을대문을 지나 사랑마당을 거치면 ᄆ자형의 본채가 있다.',\n",
       " '조선 정조대의 문신이자 실학의 대가였던 다산(茶山) 정약용(丁若鏞, 1762∼1836) 선생의 묘이다. 묘제(墓制)는 대부분 새 석물로 구성되어 있는데, 1970년대 이후에 새롭게 정비한 것이다. 봉분 정면 오른쪽에는 묘표를 1기 세웠는데, 1959년에 새로 제작하였다.',\n",
       " '신도비란 임금이나 고관의 평생업적을 기록하여 그의 무덤 남동쪽에 세우는 비로, 이 비의 주인공은 숙종의 여섯번째 아들인 연령군이다. 숙종 46년(1720)에 세운 비로, 원래의 자리는 동작구의 대방초등학교 교정이었으나, 1967년에 현재의 자리로 옮겨 세웠다.',\n",
       " '청계 김진과 그의 아들 5형제의 뜻을 기리고 후학을 양성하기 위해 세운 서원이다. 사빈서원은 숙종 7년(1681)에 세웠고 그 뒤 흥선대원군의 서원철폐령으로 고종 8년(1871)에 폐쇄되었다가 고종 19년(1882)에 다시 세워 강당과 주사만 남아 있다.',\n",
       " '원당사의 옛 터에 세워져 있는 석탑이다. 전체적인 탑의 모양이 조형성이 적고 무거워 보이는 점으로 보아 지방색이 강했던 고려 후기에 만들어진 것으로 보인다. 원당사는 조선 중기에 폐지되었고, 1950년대 이후 절터에 새로이 지어진 불탑사가 대신 자리잡고 있다.',\n",
       " '영광 설매리 서고마을의 서북쪽 미륵골에 있는 것으로 바위 위에 불상 머리만 조각하여 올려 놓은 특이한 형태이다. 네모나고 다소 넓은 얼굴의 이 불상은 명상에 잠긴 듯한 눈을 하고 있어 근엄하고 장중한 느낌을 준다. 명상에 잠긴 듯한 큰 얼굴은 뛰어난 조각솜씨를 보여주고 있어 예술적, 학술적 가치가 매우 크다.',\n",
       " '고운사 대웅전 남쪽의 산 중턱에 자리하고 있는 탑으로, 2층 기단(基壇) 위에 3층의 탑신(塔身)을 올렸다. 전체적으로 석재가 많이 닳아있고 아래층 기단이 특히 심하다. 통일신라의 일반적인 양식을 따르고 있지만, 줄어든 규모나 지붕돌의 조각양식 등에서 시대가 조금 내려간 모습들이 보이고 있어 통일신라 후기의 작품으로 추측된다.',\n",
       " '태안향교는 조선 태종 7년(1407)에 처음 지었는데, 훗날 지금의 태안중학교 자리로 옮겨 지었다. 지금 있는 건물은 불타 없어진 것을 숙종 46년(1720) 지금의 자리로 다시 옮겨 지은 것이다.',\n",
       " '삼가행실도는 임금과 신하, 아버지와 아들, 부부에게 모범이 될 만한 충신, 효자, 열녀 등의 행실을 모아 만든 책이다. 조선시대의 윤리 및 가치관을 이해하는데 귀중한 자료가 되며, 국어사의 연구 및 전통 회화사의 연구에도 많은 도움이 되고 있다.',\n",
       " '창절사는 현재 남아있는 강원도 내의 사당이나 서원 중에서 규모가 가장 크고, 지어졌을 당시의 원형을 잘 보존하고 있는 건물이다. 단종(재위 1452∼1455)의 복위를 도모하다가 세조(재위 1455∼1468)에 의해 죽음을 당한 사육신 박팽년·성삼문·이개·유성원·하위지·유응부와 절개를 지키던 충신들의 위패를 모시는 곳이다.',\n",
       " '이 불상은 고려 말 조선 초에 특히 많이 조성된 건칠불상 중 하나이며, 점토나 석고로 만든 원형을 제거한 탈활(脫活) 건칠 기법으로 제작되었다. 나주 지역에서는 이 불상 외에도 불회사와 죽림사 등 여말선초에 조성된 건칠불이 전하고 있는데, 그 중에서도 조형적 완성도가 가장 높다. 더욱이 이 불상은 현재 알려진 건칠불 중 가장 이른 시기에 속하는 작품 중 하나로 중요성을 지닌다.',\n",
       " '동헌은 조선시대의 지방 관아건물로 고을의 수령이 일반 행정업무와 재판 등 공적일 일을 하던 곳이다. 성주성 산관은 성주목의 동헌으로 쓰이던 건물로 처음에는 지금의 성주 초등학교 자리에 있었으나 효종 8년(1657)에 현재의 자리로 옮겨지었다.',\n",
       " '의성 관덕리 삼층석탑(보물)의 기단(基壇) 윗면에 배치되어 있던 네 마리의 사자상 가운데 남아있는 사자상 2구이다. 수사자는 암사자와 같은 자세로 앉아 있으며, 고개를 약간 왼쪽으로 향하고 있어 암수가 서로 마주보는 배치였던 것으로 추측된다.',\n",
       " '강화도의 가장 남쪽에 자리잡고 있는 이 돈대는 조망할 수 있는 시야가 매우 넓으며, 자연의 지형을 이용하여 쌓았기 때문에 평면이 반달모양을 이루고 있다. 조선 숙종 5년(1679)에 축조한 것으로, 당시의 강화유수 윤이제가 병조판서 김석주의 명을 받아 경상도 군위어영군 8천명이 동원하여 쌓았다.',\n",
       " '고려 성종 15년(966)에 창건하였다고 전하는 월림사터에 남아있는 탑으로, ‘벽옥탑(碧玉塔)’이라고도 한다. 조성시기는 고려 후기일 것으로 추정된다.',\n",
       " '영수사 괘불은 『묘법연화경』에 의거하여 석가모니부처님의 설법을 듣는 청문중을 중심으로 그린 영산회상도로서, 1653년 명옥(明玉)을 비롯한 4명의 승려화원들이 그렸다. 석가모니의 대좌 앞에 등을 보이고 앉아 있는 사리불을 비롯하여 좌우에 시립한 많은 권속의 묘사는 조선후기 영산회상도 중에서도 영산회상을 가장 장엄하고 실감나게 표현하였다.',\n",
       " '청자 철채퇴화삼엽문 매병(靑磁 鐵彩堆花蔘葉文 梅甁)은 고려시대 만들어진 매병으로 높이 27.5cm, 아가리 지름 5cm, 밑지름 9.5cm이다. 청자에 사용되는 바탕흙 위에 철사 안료를 칠하고(철채), 무늬 부분만 얇게 파낸 뒤 그 위에 흰색 분장토로 무늬를 그렸다.',\n",
       " '조선 선조 때의 문신으로 임진왜란 때 소모관(召募官)이 되어 공을 세운 조호익(曺好益)의 종택이다. 조호익이 1603년경 지산촌으로 이거했다는 기록으로 보아 이때 건립한 것으로 추정된다.',\n",
       " '경상북도 김천시 봉산면 태화리 길가에 서 있는 이 석불은 무릎 아랫부분은 땅에 묻혀 있어 전체 형태를 확인할 수 없다. 조성양식이 특이하고 조각기법이 우수한 불상으로 고려 전기에 만들어진 것으로 추정된다. 마을에서는 지혜의 보살인 문수보살이라 하는데, 불공을 드리면 득남한다는 소문이 있어 근래에까지 촛불을 켜고 기도하는 사람이 있다고 한다.',\n",
       " '경상북도 예천군 풍양면 금산사(金山寺) 절터에 머리를 잃어버린 채 방치되어 있던 것으로, 현재의 머리 부분은 나중에 새로 만든 것이다. 남아 있는 대좌와 불상의 어깨 등을 다듬는 솜씨가 매우 세련되고, 전체적으로 균형잡힌 조형미를 엿볼 수 있다. 이런 양식을 고려할 때 통일신라시대에 만들어진 것으로 추정된다.',\n",
       " '대혜보각선사서장(大慧普覺禪師書狀)은 송나라 대혜보각선사(1089-1163)의 편지 모음집이다. 본서는 귀중본(貴重本)의 기준이 되는 임진왜란(1592) 이전의 자료로써, 그 정확한 간행기록은 알 수 없지만, 발문의 간기가 1387년 즉 고려 말기에서 늦어도 조선 초기에 간행되었을 것으로 추정되는 귀중한 자료이다.',\n",
       " '서산객사가 처음 세워진 연대를 정확히 알 수 없지만, 서산 시청 내에 남아 있는 외동헌과 관아문의 기법과 같은 것으로 보아 조선 후기에 같이 세워진 건물로 여겨진다. 본래 서산군 관아 내에 있던 것을 일제시대에 지금의 자리로 옮겨지었다.',\n",
       " '석가가 영취산에서 설법한 내용을 묘사한 영산회상도이다. 조선 숙종 7년(1681)에 그려진 이 불화는 비교적 큰 편이지만 짜임새 있는 구도를 보여주고 공간의 처리방법과 회화기법 등 이 매우 뛰어나며 17세기 중반의 특징을 잘 보여주는 우수한 작품이다.',\n",
       " '영풍 단촌리의 느티나무는 약 700년 정도 된 것으로 전해지고 있으며, 높이 16.4m, 둘레 10.3m의 크기이다. 영풍 단촌리의 느티나무는 마을의 수호신으로 섬겨지고, 마을의 안녕과 한 해의 풍년을 기원하는 대상이 되는 신성한 나무로서 학술적·문화적 자료로서의 가치가 높아 천연기념물로 지정·보호하고 있다.',\n",
       " '조선 후기 화가인 유숙(1827∼1873)이 그린 홍매화그림의 8첩 병풍이다. 고종 5년(1868)에 그린 매화도는 그림의 품격이 높아 19세기 유행하던 매화도의 대표작으로 손꼽히며 제작연대가 확실하고 유숙이 별로 다루지 않던 주제를 다루었다는 점에서 조선시대 회화사 연구에 귀중한 자료가 되고있다.',\n",
       " '조선시대의 문신인 포저 조익(趙翼,1579∼1655)과 그의 셋째 아들 송곡 조복양(趙復陽,1609∼1661)의 시문집을 새긴 목판으로, 모두 633매이다. 조익의 시문집『포저유서』를 찍은 목판은 377매이고, 송곡의 시문집『송곡집』을 찍은 목판은 256매이다.',\n",
       " '충청남도 부여군 홍산면 태봉산 정상의 북쪽 산중턱 암벽에 조각한 마애불이다. 이 불상은 전체높이 6m로 한면을 택하여 조각하였는데 앞쪽이 10 ̊정도 기울어져 있다. 보존 상태는 비교적 양호하며 고려시대에 만들어진 것으로 추정된다.',\n",
       " '산청 용강정사는 임리정과 함께 독립을 원하는 유림(儒林)이 모여 뜻을 모으고 파리장서를 준비한 의미 있는 장소이다. 용강정사는 건축의 짜임새 및 구조 상태가 우수하며 파리장서를 작성하기 위해 유림들이 결집한 장소로 역사적 의미가 있어 문화재 자료로 지정, 보존하고 있다.',\n",
       " '민영휘의 묘소를 관리하기 위해 묘 가까이에 세운 묘막이다. 조선 후기에 지은 건물로 ᄀ자인 안채와 ᄂ자인 사랑채가 배치되어 전체적으로 ᄆ자 평면을 이루고 있다.',\n",
       " '고려말 충신인 상촌 김자수를 제사지내는 재실로 조선 말기에 지어졌으며, 원래 노산동에 있었으나 안동댐 건설로 인해 1973년 이곳으로 옮겨졌다. 경주 김씨 세력이 커서 김씨골로 알려져 있는 금곡동에서 태어난 상촌은 고려말 나라의 정세가 어지러워지자 벼슬을 버리고 고향인 안동에 내려와 살았다.',\n",
       " '우금산성은 전라북도 부안군 상서면 감교리 개암사의 뒷산에 있는 돌로 쌓은 산성이다. 이 곳은 복신 장군이 나당연합군의 김유신, 소정방에 맞서 치열하게 싸우다가 패배한 곳으로, 백제 부흥을 줄기차게 벌였던 백제 최후의 항거 거점이었다.',\n",
       " '수산진에 소속되었던 종달 연대는 북제주군 구좌읍 종달리에 있는 지미봉 동북쪽 해안도로변에 있다. 이 종달 연대는 수산진소속의 별장 6명과 봉수군 12명이 배치되어 교대로 24시간 지켰다. 동쪽으로는 오소포 연대, 서쪽으로는 입두 연대와 신호를 주고 받았다.',\n",
       " '1933년 충청남도 부여군 부여읍 금성산의 천왕사 절터에서 발견되어 현재 국립부여박물관에 옮겨져 있는 불상이다. 몸체에 비해 머리가 크게 표현되어 전체의 균형을 잃고 비례가 맞지 않는 조각수법으로 보아 충청도 일원에서 유행했던 고려시대의 지방화된 불상으로 추정된다.',\n",
       " '임진왜란과 병자호란 때 용감히 싸운 김유부(1549∼1621)의 충효와, 병자호란 때 전사한 김기남, 김란생 그리고 부군을 따라 순절한 최씨와 송씨의 절개를 기리기 위해 세운 사당이다. 이들은 나라에 충성하고 부모와 남편 섬기기를 몸소 실천하였으므로 충·효·열 세가지가 높다는 뜻에서 탁삼재라는 사당의 이름을 갖게 되었다.',\n",
       " '전라남도 해남군 화산면 방축리에는 바둑판식 고인돌 53기가 남북으로 80m 범위 내에 집중적으로 분포되어 있다. 해남군에 있는 88개의 고인돌군 중에서 가장 규모가 큰 것으로 은산고인돌군이라고 부르기도 한다.',\n",
       " '종오정 일원은 조선시대 영조(재위 1724∼1776) 때 학자인 최치덕(1699∼1770)의 유적지이다. 최치덕이 영조 21년(1745)에 돌아가신 부모를 제사지내려고 일성재를 짓고 머무르자, 그에게 학문을 배우고자 따라온 제자들이 글을 배우고 학문을 닦기 위해 종오정과 귀산서사를 지었는데 이것이 오늘날의 종오정 일원이다.',\n",
       " '해남 우항리 화석산지는 원래 물에 잠겨 있던 해안이었으나 화원반도와 목포를 연결하기 위해 해안에 둑을 쌓으면서 해수면이 낮아져 드러난 대규모 화석지이다. 중생대 백악기시대에 형성된 퇴적층(약 8300만∼8500만 년 전으로 추정)으로 실제로 교과서에서 배우는 퇴적구조를 보여주고 있을 뿐 아니라 세계적 규모의 화석산지이다.',\n",
       " '고려 중기의 문신인 윤관(?∼1111)의 무덤이다. 윤관의 무덤은 어디에 있는지 명확히 알 수 없었으나, 조선 영조 23년(1747) 후손들이 지금의 자리임을 주장하여 영조 40년(1764)에 공인되었다. 위패는 예종의 사당에 함께 모셔졌고, 고려 태조와 충의공신을 모신 숭의전에서 함께 배향되었다.',\n",
       " '이서를 주벽으로 하여 심구령·안성·소연·소산복·이당 등 6현의 위패를 모시고 있는 서원이다. 송강 이서(1332∼1410)는 고려말∼조선초의 문신으로 공민왕 6년(1357) 문과에 급제하여 여러 벼슬을 거쳤으나, 정치가 문란한 것을 보고 관직을 버리고 고향으로 돌아갔다. 그 뒤 태조 1년(1392)에 이성계 추대에 참여하여 조선 개국공신 3등에 올라 안평군에 봉해졌으며, 영의정까지 이르렀다.',\n",
       " '경주 불석으로 만든 조선후기의 상이다. 작은 크기의 불상임에도 섬세하게 조각되어 있으며 조선후기 불상의 특징을 잘 갖추고 있는 등 불교미술사적으로 중요한 가치를 지니고있다.',\n",
       " '이 상량문은 구름무늬를 가득 채운 주황빛의 비단 한 폭을 통째로 사용했다. 비단의 앞쪽 가장자리에는 ‘소주직조신서문(蘇州織造臣舒文)’이라는 그루기가 있어 오늘날의 중국 쑤저우에서 수입한 사실을 알 수 있다.',\n",
       " '당진 이의무의 묘 및 신도비 는 묘역은 덕수이씨 가문의 묘역으로 이의무를 비롯하여 약 13기의 묘소가 있으며 이의무 묘는 곡장을 두르고 있으며 매장형태는 단장(單葬), 분묘의 수량은 쌍분(雙墳)이며, 봉분의 외형은 원분(圓墳)임. 당진 이의무의 묘 및 신도비 는 묘역은 덕수이씨 가문의 묘역으로 이의무를 비롯하여 약 13기의 묘소가 있으며 이의무 묘는 곡장을 두르고 있으며 매장형태는 단장(單葬), 분묘의 수량은 쌍분(雙墳)이며, 봉분의 외형은 원분(圓墳)임.',\n",
       " '고려시대 만들어진 높이 33cm, 아가리 지름 5.2cm, 밑지름 11cm인 매병이다. 바람에 흔들리는 가늘고 긴 매화와 대나무를 그렸고, 그 사이에는 위에서 내려오거나, 위로 올라가거나, 땅 위에 서 있는 율동적인 3마리의 학들을 섬세하고 회화적인 흑백상감으로 나타냈다.',\n",
       " '오동사터에 서있는 탑으로, 2단의 기단(基壇) 위에 5층의 탑신(塔身)을 쌓아 올렸다. 절을 창건할 당시에 함께 세워진 고려 전기의 작품으로, 위층 기단에서의 독특한 조각이 돋보이고, 전체적으로 좋은 상태로 남아있어 소중한 가치를 지닌다.',\n",
       " '조선 제14대 왕인 선조(재위 1567∼1608) 제향시 참석하는 사람들이 머물기도 하며, 후손들의 학문 증진을 위해 조선 숙종 16년(1691)에 세운 건물이다. 독립운동을 했던 성하식(1881∼1958)이 이곳에서 훈장을 지내면서 많은 인재를 배출하기도 하였다.',\n",
       " \"병풍처럼 생긴 'ᄃ'자형 황색 벽을 배경으로 중앙 의자에 앉은 현왕을 중심으로 성왕, 판관, 녹사, 동자, 동녀 등 현왕의 권속들이 에워싼 형식이다. 제작연대는 고종 18년(1881)이며, 그림의 크기는 가로 104.5cm, 세로 156cm이다.\",\n",
       " '조선 중기의 문신인 사서공 전식(1563∼1642) 선생의 초상화이다. 관모를 쓰고 문관의 제복을 입었으며 두 손은 소매 안에서 마주잡고 있다. 비록 그림의 상태는 많이 손상되었지만 19세기 초의 전형적인 초상화로서 매우 가치있는 작품이다.',\n",
       " '회안대군묘는 전주시 금상동 법사산에 위치한다. 이 묘자리가 군왕지지(君王之地)라 하여 지기가 흐르는 곳에 뜸을 떠버렸다는 것은 유명한 이야기다. 회안대군은 태조 이성계의 넷째아들로 그 동생 태종 방원과 함께 자웅을 겨루었던 조선초 인물이다.',\n",
       " '노랑부리백로는 우수리에서 중국 동북지방, 홍콩, 한국 등지에서 번식해 왔으나, 지금은 대부분의 집단이 한반도에서 번식한다. 새끼치는 시기에 부리가 노랗게 변하므로 노랑부리백로라 부른다. 우리나라에는 여름에 찾아오는 철새로, 강화도를 비롯한 서해안의 섬과 해안에서 드물게 볼 수 있다.',\n",
       " '허기·허천수·허재의 뜻을 기리기 위해 세운 서원이다. 조선 숙종 13년(1687)에 세웠으나, 흥선대원군의 서원철폐령으로 고종 5년(1868)에 폐쇄되었다가 1920년에 다시 세웠다.',\n",
       " '임경당 김열의 별당이다. 임경당은 이율곡(1536∼1584)과 같은 시대의 사람으로 학문과 덕행이 뛰어났다. 건물의 안에는 율곡의 호송설과 김열이 직접 쓴 송어시(松魚詩)를 새긴 현판이 걸려있다.',\n",
       " '법성사(法聖寺)터로만 알려진 곳에 있는 탑으로, 2단의 기단(基壇) 위에 3층의 탑신(塔身)을 올린 형태이다. 이 탑은 기단이 2단으로 이루어진 점과 지붕돌 밑면의 받침수가 5단인 점 등으로 보아 통일신라시대에 세워진 것으로 보인다.',\n",
       " '나이가 150년 이상 된 노거수(老巨樹)로 높이가 약11m, 둘레 2.73m이다. 물푸레는 ‘물을 푸르게 하는 나무’란 뜻에서 붙여진 이름이다. 나무의 재질이 단단하고 질겨 도리깨와 같은 농기구의 재료나 소의 코뚜레를 만들기도 했으며, 산간지방에서는 눈 속에 빠지지 않는 덧신으로 설피를 만드는 재료였다.',\n",
       " '이 작품은 이순신의 초상이라고 전해지는 작품으로 화면 상단 향우 측에 해서체로 ‘충무공이순신상(忠武公李舜臣像)’이란 화제가 적 혀 있다. 화면 바탕에 결손 부분이 다소 있으며, 채색이 일부 박락 된 상태이나 보존 상태는 대체로 양호한 편이다.',\n",
       " '정선필 풍악도첩 은 현재까지 알려진 정선의 작품 중 가장 이른 1711년에 제작된 작품이다. 따라서 정선의 진경산수화를 이해하는 데 있어 훌륭한 기준역할을 할 수 있다는 점에서 이 작품은 주목된다. 초기작이므로 후기의 원숙한 화풍에 비해 일면 미숙한 부분도 엿보이긴 하지만, 풍악도첩 에 수록된 그림들은 한결같이 화가 초창기의 활력과 열의로 가득 차 있다.',\n",
       " '해상으로부터 침입하는 적을 막기 위하여 구축한 요새로, 조선왕조실록이나 승정원일기에서 초지진 설치에 대한 기사에 따르면 조선 효종 6년(1655)에 설치된 것으로 보인다. 민족시련의 역사적 현장이었던 이곳은 호국정신의 교육장이 되도록 성곽을 보수하고 당시의 대포를 진열하였다.',\n",
       " '송파 박전과 그의 부인 신안 주씨의 유덕을 추모하기 위하여 후손들이 세웠다. 박전(1514∼1558)은 조선 명종 1년(1546)에 문과에 급제하여 호조정랑, 북평사를 역임하였고 명종 13년(1558)에 죽었다. 그리고 순흥 땅 화천리로 이사하여 아들 박선장을 남삼송에게 가르침을 받게 해 문과에 급제하여 크게 이루니, 후세 사람들이 주씨 부인의 행적을 추모하여 정자를 세웠다.',\n",
       " '조선 후기의 문신 지촌 김방걸(1623∼1695) 선생의 제사를 모시는 제청으로 숙종 38년(1712)에 세웠다. 선생은 현종 1년(1660) 문과에 급제하여 벼슬에 나아갔다. 숙종 15년(1689) 사간이 되었으나 인현왕후 민씨가 폐위되자, 왕의 잘못을 미리 막지 못한데 책임을 느껴 낙향했다.',\n",
       " '조선 초기의 대학자이며 정치가였던 학역재(學易齋) 정인지(1396∼1478)의 묘소이다. 묘역 안에는 특별한 시설이 없고 묘 아래에 세워졌던 서거정이 글을 지은 신도비(神道碑:왕이나 고관 등의 평생업적을 기리기 위해 무덤 근처 길가에 세운 비)가 없어져서 1958년에 다시 세웠다.',\n",
       " '이 종은 김용암(金龍岩)이 주가 되어 1645년에 주성한 종으로, 김용암은 조선시대 주종장(鑄鍾匠) 중 김애립(金愛立), 김성원(金成元) 등과 함께 사장계(私匠系)를 대표하는 인물이다. 담양 용흥사 동종은 높이가 102cm로, 규모도 비교적 클 뿐만 아니라 비례감과 조형성이 뛰어나다.',\n",
       " '은편리 지석묘군은 북서쪽으로 뻗어 내린 국수봉의 나지막한 능선 자락에 위치하며 현재 은편리 숲안마을의 서쪽 편에 있다. 이 지석묘군은 바둑판식으로 추정되며, 3기(基)의 지석묘가 한 장소에 모여 있다.',\n",
       " \"청주 방서동에 있는 우물로, 우물이 있는 이 마을은 네모난 샘이 있는 곳이라 하여 '방정(方井)마을' 이라 불리우게 되었다. 전하는 말에 의하면 이곳은 청주 한씨의 시조 한란(韓蘭)이 살았던 곳으로, 어느해 가뭄이 들어 농사를 지을 수가 없게 되자, 한란이 3일 동안 기도를 드리다 쓰러져 의식을 잃었는데 꿈속에 북쪽 장수가 나타나 창끝으로 땅을 찌르자 맑은 물이 콸콸 나왔다.\",\n",
       " '밀양 박씨 무은공파 종중에서 보관하고 있는 것으로, 조선 중기에서 후기까지의 고문서이다. 이 고문서는 완문, 소지, 관민의 관계를 알 수 있을 뿐만 아니라 호적단자를 통해 조선 중기 사회상을 연구할 수 있는 좋은 자료로 평가된다.',\n",
       " '절 경내에는 대웅전을 비롯하여 명부전, 영상전, 칠성각, 요사채 등의 건물들이 있다. 조선 후기에 세운 것으로 추정하는 대웅전은 앞면 3칸·옆면 2칸 규모로, 지붕은 옆면에서 볼 때 사람 인(人)자 모양인 맞배지붕으로 꾸몄다.',\n",
       " '북평리의 찰피나무는 높이 약 15m, 둘레 2.18m에 달하고 있어 나이는 250년 정도로 추정하고 있다. 나무 앞에는 옛날부터 스님들이 앉아서 참선 수도하던 넙적한 돌들이 놓여 있는데, 하도 오랫동안 사용해서 스님들이 앉았던 자리가 움푹 파여 빗물이 고일 정도이다.',\n",
       " '이 백자 항아리는 조선 전기의 격조와 유연성을 가지고 있는 뛰어난 품격의 작품이다. 아가리의 형태적 특징과 바탕 흙, 유약, 표면의 색조, 구워낸 방법들로 미루어 조선 초 경기도 광주에 있는 국가가 경영하는 가마에서 만들어진 것으로 보인다.',\n",
       " '이러한 자료들에 근거해 볼 때, 여흥세고가 편찬된 시기는 1875년으로 추정된다. 그리고 쌍매당 후손 민희혁(閔曦爀)과 관란재 후손 민기호(閔基鎬)가 주도하여 일을 진행했다.',\n",
       " '바닷가 도로 옆에서 자라고 있는 울진 죽변리의 향나무는 나이가 500년 정도로 추정되며, 밑동에서부터 가지가 2개로 갈라져 있다. 이 향나무는 우리나라 중부 이남을 비롯해 울릉도와 일본 등에 분포하고 있으며 상나무·노송나무로도 불린다.',\n",
       " '의령 성황리 소나무는 마을 뒷산의 경사면에서 자라고 있으며, 나무의 나이는 300년 정도로 추정(지정일 기준)하고 있다. 의령 성황리 소나무는 마을을 지켜주고 보호하는 오래된 서낭나무로서 민속적 자료로서의 가치가 있으며 생물학적 자료로서의 가치도 크므로 천연기념물로 지정하여 보호하고 있다.',\n",
       " '함안 대송리의 늪지는 남강(南江)을 끼고 발달했으며, 물의 깊이는 1.5∼2m이다. 이 늪지는 우리나라에서 늪지식물을 보호하기 위하여 지정한 유일한 곳으로 늪지식물상 연구에 중요한 가치가 있을 뿐만 아니라, 우리 조상들이 이 늪지를 보호해 온 정신세계를 엿볼 수 있는 귀중한 자료가 되므로 천연기념물로 지정하여 보호하고 있다.',\n",
       " '신륵사는 봉미산 기슭에 있는 조선시대의 절로, 원래는 신라시대에 지었다고 하나 정확한 기록은 남아 있지 않다. 조선 전기 예종 때 지은 것으로 보이며, 낮은 기단 위에 앞면 1칸·옆면 2칸으로 세웠다.',\n",
       " '무장읍성은 1417년 무장진의 병마사에 마을을 다스리는 기능을 주어 무장진 병마사 김노(金蘆)가 쌓은 길이 약 1.2km의 평지성이다. 읍성의 남문인 진무루는 앞면 3칸·옆면 2칸의 2층 건물이며, 동문터도 잘 남아 있다.',\n",
       " '지장보살본원경은 줄여서 ‘지장경’, ‘지장본원경’이라고 부르기도 한다. 이 책에는 각 권마다 장수를 표시하기 위한 방법으로 ‘丈(장)’자가 사용되고 있어서 조선 초기 장수 표시 방법을 확인할 수 있는 좋은 자료가 된다.',\n",
       " '대한성공회 강화성당은 1900년 11월 15일 건립된 동서길이 10칸, 남북길이 4칸인 한식 중층건물이다. 이 성당은 서양의 바실리카식 교회건축 공간구성을 따르고 있으나 가구 구조는 한식 목구조와 기와지붕으로 되어있는 점이 특징이다.',\n",
       " '동래향교는 태조 원년(1392) 관의 교육진흥책에 따라 설립되었다고 보여지나, 임진왜란 때 소실되었다가 1605년(선조 38)에 동래부사 홍준이 재건할 때 향교의 가장 중심건물로 건립되었다. 1987년 9월 도리이상을 해체·보수하였고, 2010년 9월 주초이상 해체·보수를 거쳐 2011년 8월 단청 및 수지처리를 완료하였다.',\n",
       " '홰나무로 깎아 다듬은 2구의 조각상으로, 왼쪽에는 무인상이 오른쪽에는 문인상이 자리하고 있다. 조선 후기의 작품으로 보이며, 이곳의 토속적인 민간신앙과 깊은 관련이 있을 것으로 추측된다.',\n",
       " '검은목두루미는 드문 겨울새로 두루미 무리에 1∼2마리가 섞여서 월동한다. 1976년∼1980년 경기도 대성동 부근과 강원도 철원평야에서 1∼2마리가 관찰된 후 철원평야와 순천만 등지에서 적은 수지만 규칙적으로 도래한다.',\n",
       " '충청남도 논산에 있는 이 불상은 현재 무릎 아래 부분이 묻혀 있어 원래의 크기를 알 수 없지만 남아 있는 불신의 크기가 2m 가까이 되는 점을 고려하면 상당히 큰 작품이었을 것이다. 남원 만복사지 석불입상(보물 제43호)과 그 양식이 비슷한 점으로 보아 고려시대에 만들어진 불상으로 추정된다.',\n",
       " '조선 중기의 무신인 만운(晩雲) 정충신(1576∼1636) 장군의 묘소이다. 선조 25년(1592)에 임진왜란이 일어나자 17세에 권율 장군의 휘하에서 종군하였으며, 병조판서 이항복에게 학문을 배워 같은 해 가을에 무과에 합격하였다. 장군의 묘는 마힐산의 국사봉 중턱에 부인과 함께 나란히 안장되어 있다.',\n",
       " '조선 후기에서 일제시대 초기 사이에 지은 개량한옥으로, 행랑대문채와 본채로 구성되어 있다. 서양과 일본풍의 현대식 생활기능을 도입하여 지은 평면식 한옥으로 개량주택의 과도기적인 집이라 할 수 있다.',\n",
       " '조선시대 주종장 가운데 김용암(金龍岩)·김성원(金成元) 등과 더불어 사장계(私匠系)를 대표하는 김애립(金愛立)이 순천 동리산의 대흥사 종으로 1665년에 주성한 종이다. 이 종은 사인비구와 버금가는 기술적 역량을 지녔던 김애립 범종의 특징을 잘 살펴볼 수 있는 대표적인 작품인 동시에 보존상태도 양호하다.',\n",
       " '일제시대 스포츠 영웅 엄복동(嚴福童, 1892~1951) 선수가 타던 자전거이다. 이 자전거는 1910년~1914년 사이에 제작된 것으로 추정되는 영국 러쥐社(Rudge-Whitworth)제품으로 엠블럼의 7자리 숫자(1065274)로 보아 특별히 제작된 경주용 자전거로 보인다. 근대기 최초의 스포츠 영웅 엄복동 선수의 경주용 자전거일 뿐만 아니라 우리나라에서 사용된 가장 오래된 자전거로서 체육사적.상징적 가치가 큰 유물이다.',\n",
       " '가야 말로왕의 왕궁터로 전해지고 있는 고성성지는 현재 거의 남아있지 않고, 고성읍성과 고성 왜성터의 일부가 남아있다. 전체적인 구조나 규모를 알기 어렵지만, 주변에 있는 송학동고분군(사적 제119호)이나 고성 동외리 조개더미, 만년사 토성과 관련있는 것으로 생각되며, 이곳에 가야 때부터 성이 있었을 가능성이 큰 것으로 보인다.',\n",
       " '이 책은 당(唐)나라 초기에 시인 왕발(王勃)*이 지은『석가여래성도기(釋迦如來成道記)』에 대해 당나라 때 중국 항주시 남쪽 교외의 전당강(錢塘江)가에 있는 월륜산(月輪山)의 도성(道誠)이 주석(註釋)을 한 것이다. 조선 전기에 사용된 을해자(乙亥字)가운데 중자(中字)과 소자(小字)를 사용하여 인쇄했으며, 그 내용은 석가모니의 일생을 담고 있다.',\n",
       " '숭복사터에 동서로 서 있는 쌍탑으로, 두 탑 모두 2층 기단(基壇) 위에 3층의 탑신(塔身)을 올린 모습이다. 전체적으로 전형적인 통일신라 석탑 양식을 따르고 있으나 지붕돌 받침이 4단으로 줄어드는 것으로 보아 통일신라시대 후기에 세운 것으로 보인다.',\n",
       " '여수진남관(국보 제304호) 뜰안에 서 있는 것으로, 돌로 만든 사람의 모습이다. 여수는 임진왜란 때 해전의 격전지로 유명할 뿐만 아니라 전라좌수영으로 있던 이순신 장군의 유적이 많이 남아 있는데 이 역시 그와 인연이 깊은 유물이다. 비록 전하는 이야기이긴 하나, 임진왜란과 관련된 소중한 문화재라 할 수 있다.',\n",
       " '서귀포 담팔수나무 자생지는 천지연 물가에서 자라고 있다. 천지연 서쪽 언덕에 5그루가 자라고 있는데 높이가 약 9m 정도이며, 뒤쪽이 급한 경사지여서 가지가 물가를 향해 퍼져 있다. 서귀포 담팔수나무 자생지는 담팔수나무가 자랄 수 있는 북쪽 한계지역이므로 식물분포학상 연구가치가 높아 천연기념물로 지정·보호하고 있다.',\n",
       " '불조삼경(佛祖三經)은 인도에서 중국으로 전래된 초기 불교경전 가운데 하나로 후한의 가섭마등(伽葉摩騰)과 축법란(竺法蘭)이 한역한 것이며, 불교의 중요한 가르침을 모두 42장으로 나누어 설명하고 있다. 이 책에는 인도의 구마라습(鳩摩羅什)이 번역한『불유교경』과 당나라 영우(靈祐)가 지은『위산경책』이 함께 들어 있는데,『불설42장경』과 합쳐서 불조3경(佛祖三經)이라고 부른다.',\n",
       " '‘이숙기 좌리공신교서’ 는 연안군(延安君) 이숙기(李淑琦, 1429~1489)가 성종의 즉위를 보좌한 공로를 인정받아 1471년(성종 2) 3월 순성좌리공신(純誠佐理功臣)으로 책봉된 이듬해인 1472년(성종 3) 6월에 왕실로부터 발급 받은 공신증서로, 2012. 10. 4일 경상북도 유형문화재 제442호로 지정되었다. 아울러 발급 당시의 원형을 그대로 유지하고 있어 15세기 후반 공신교서의 형태적 특징, 서체와 제작방식 및 장정형태 등을 연구하는 데 있어서도 중요한 의의가 있는 자료로 평가된다.',\n",
       " '두루미는 두루미과에는 전세계적으로 15종이 알려져 있으나 우리나라에는 두루미, 재두루미, 흑두루미 3종만 겨울을 나고 있다. 두루미는 세계적으로 약 1,600마리 정도만 남아있는 멸종위기의 진귀한 새이므로 천연기념물로 지정·보호하고 있다.',\n",
       " '북면 외감리 새터마을의 달천정(達川亭)이라는 정자 인근에 있는 우물이다. 조선 숙종 때의 유학자이며 우의정을 지낸 허목(許穆) 선생이 고향에 돌아와 달천정에 머물 때 손수 거북모양의 돌을 깎아 우물을 만들었다고 하여 ‘달천구천(達川龜泉)’이라고 전하며, 우물의 모습도 거북이 모양이다.',\n",
       " '○ 청련사 독성각 안에 있는 세 점의 불화 가운데 가장 왼쪽에 봉안되어 있는 독성도이며 2폭의 면을 세로로 잇대어 바탕으로 삼았다. 독성이 자리한 배경은 심산유곡임임을 알 수 있는 산과 계곡 등이 원산의 모습으로 그려 공간감과 원근감을 보인다.',\n",
       " '임진왜란 때 진주성 전투에서 공을 세우고 순절한 허일과, 그의 셋째 아들 허곤, 6촌 동생 허경의 위패를 모신 사당이다. 건물 배치는 외삼문을 들어서면 앞면 4칸·옆면 2칸 규모의 강당이 있고, 강당 북쪽의 내삼문을 들어서면 위패를 모신 앞면 3칸·옆면 2칸 규모의 충열사가 있다.',\n",
       " '조선시대 청안현의 관아 건물로, 태종 5년(1405)에 지어졌다고 전한다. 그 후 여러 차례의 수리를 거쳤으며 지금 남아있는 건물을 19세기 후반의 것으로 보인다.',\n",
       " '탱자나무는 주로 경상·전라도 지방에 분포하며 일본·중국에서도 자란다. 우리나라와 일본의 나무는 중국에서 전래된 것으로 추측되고 있다. 극우동의 탱자나무는 다른 천연기념물이나 기념물에 뒤지지 않는 크기와 수령의 것들로 기념물로 지정하여 보호하고 있다.',\n",
       " '매천 황현(1855~1910) 선생의 위패를 모신 사당이다. 1910년 8월 일제에게 강제로 나라를 빼앗기자, 절명시 4편과 유서를 남기고 아편을 먹어 자결하였다. 1962년 건국훈장 국민장이 추서되었으며 이건창, 김택영과 함께 한말삼재(韓末三才)라고 불린다.',\n",
       " '대풍헌은 조선시대 구산포에서 울릉도로 가던 수토사들이 순풍을 기다리며 머물렀던 건물이다. 이 건물의 정확한 건립연대는 확인할 수 없으나 구산동사 중수기에 의하면 1851년(철종 2년) 중수하고 대풍헌이란 현판을 걸었다는 기록이 남아있다.',\n",
       " '이 반자는 바깥지름 62cm, 안지름 37cm, 너비 15cm로, 둘레 가장자리 일부분이 결실되었으나 지금도 사용되고 있다. 안쪽 면에 있는 글로 미루어 보아 조선 숙종 27년(1701)에 제작되었음을 알 수 있는 가치 있는 자료이다.',\n",
       " '원종의 집터에 세워진 조선후기의 대표적인 이궁이다. 원종(1580∼1619)은 선조의 5째 아들이자 인조의 아버지로 후에 왕으로 추존되었다. 1617년(광해군 9년)에서 1620년에 세워진 경희궁은 원래 경덕궁 이었으나 영조 36년(1760)에 이름이 바뀌었다.',\n",
       " '고려말 명신이자 유학자인 이제현(李齊賢) 초상(유형문화재 제71호)을 봉안하기 위해 보은에 처음 들어온 이사균(李思鈞)이 건립한 것으로 수차례에 거쳐 고치었다. 전면에 재실인 염수재(念修齋)와 후면에 영당(影堂)이 있고 그 사이에 내삼문을 설치하였으며 담장을 돌렸다.',\n",
       " '조선 중기 문신인 유수(柳綏)의 초상화로 크기는 가로 88cm, 세로 165.5cm이다. 이 초상화는 영조 2년(1726)에 궁중화가였던 진재해(秦再奚)가 그린 그림으로 초상화를 보관하는 함과 함께 전해진다. 제작연대가 확실할 뿐만 아니라 궁중화가인 진재해가 그려 18세기 초상화 화풍을 훌륭하게 표현한 것으로 주목할만한 작품이다.',\n",
       " '기봉 유복기(1555∼1617) 선생과 회헌 유의손(1398∼1450) 선생의 위패를 모시고 제사지내는 곳이다. 경관이 좋은 데에 자리잡고 있는 건물로 전주 유씨 집안의 중심이 되는 곳이기도 하다.',\n",
       " '일제시대 말기 금속류의 강제수탈 과정에서 중국에서 건너온 철종으로서 광복 후 부평군기창에서 발견하여 전등사로 옮겨 현재까지 보존하고 있다. 형태와 조각수법에서 중국종의 전형적인 특징을 갖춘 높이 1.64m, 입지름 1m의 종으로 한국의 종과는 확연한 차이를 보이고 있다. 비록 철로 만든 종이지만 종소리가 청아하며 중국 북송 시대에 만들어진 명문을 지니고 있어 중국종 연구에도 귀중한 자료가 되고 있는 문화재이다.',\n",
       " '임진왜란 당시 나라를 위해 싸우다 전사한 제말장군과 그의 조카인 제홍록의 충의를 기리기 위해 세운 비이다. 비의 형태는 거북받침돌 위에 비몸을 올리고 머릿돌을 얹은 모습이다. 머릿돌에는 서로 엉킨 두 마리의 용이 머리를 맞대고 여의주를 물고 있는 모습이 생동감있게 조각되어 있다.',\n",
       " '의성읍 도서리 도로변에서 자라고 있는 도서동의 회나무는 나이가 600년 정도로 추정되며, 높이는 18m, 둘레는 10m이다. 이 회나무는 1919년에 간행된 『노거수명목지』에서는 남북한을 통틀어 둘레가 가장 큰 것으로 기록되어 있으며, 1972년의 기록에서도 전국에서 지정된 360건의 회나무 중 가장 큰 것으로 기록되어 있다.',\n",
       " '소쩍새는의 몸길이는 약 20cm이다. 우리나라 전지역에서 흔하게 번식하는 여름새로 낮에는 숲에서 휴식을 취하고 주로 밤에 활동한다. 작은 새나 포유류, 양서류, 파충류, 곤충류 등을 먹고 산다.',\n",
       " '전라북도 남원 선원사 대웅전 안에 있는 높이 66cm, 입 지름 47cm의 조선시대 범종이다. 종의 맨 위, 매다는 고리 역할을 하는 용뉴는 한 마리 용이 웅크리고 있는 모습인데, 세부적인 표현은 따로 만들어 붙여서 완성하였다. 만든 수법은 거칠지만 문양이 다채롭고, 특이한 모습을 보여 주고 있다.',\n",
       " '강원도 원주시 봉산동에 있는 사람키 만한 석조보살 입상이다. 머리에는 관(冠)을 쓰고 있으며, 풍만한 얼굴에 눈·코·입은 작게 표현되어 있지만 미소를 띠고 있어 친근한 인상이다.',\n",
       " '도기 배모양 명기(陶器 舟形 明器)는 배 모양을 본 뜬 토기이다. 이 배 모양의 토기는 죽은 사람의 영혼을 저승으로 운반하는 신앙의 표현으로, 무덤 속에 묻었던 의식용 그릇의 하나이다. 5∼6세기경의 작품으로 추정되며 출토지를 알 수 없으나, 고대 선박 연구에 중요한 자료가 될 것이다.',\n",
       " '김해시 동북쪽에 있는 분산 서남쪽 기슭에 있는 무덤들로, 수로왕비릉에서 동북쪽으로 100∼500m 정도 떨어져 있다. 발견된 유물만으로는 무덤의 정확한 성격을 파악할 수 없으나, 무덤의 구조로 보아 김해 지방에서는 시대가 가장 늦은 무덤 중 하나로 생각된다.',\n",
       " '1949년 4월 15일 해병대가 진해 덕산 비행장에 창설됨에 따라 1951년 3월 12일 ‘해병대 초대교회’로 시작되었으며 한국전쟁 직후 해병대사령부가 현재 방위사업청 부지로의 이전에 맞춰 ‘장막교회’와 ‘퀀셋교회’ 등을 거쳐 1959년 12월 31일 영구적인 건물로 오늘날의 모습으로 건립되었다. 다만, 이 시기 교회 명칭은 ‘방패교회’로 불렸으나 2005년에 이르러 ‘해병대사령부 초대교회’의 명칭을 회복하여 현재에 이르고 있다.',\n",
       " '이 산성은 외침을 막기 위해 조선 숙종 35년(1709) 병마절도사 윤숙이 병영을 건설코자 4문의 기초공사를 시작하고 성벽축조를 위한 석재를 모으며 수구문을 축조하던 중 때마침 거듭되는 흉년과 질병이 만연되어 백성들에게 계속 부역을 시킬 수 없어 중지하였다고 전해진다. 현재 북문과 수구문터는 축성을 시작하여 공사하던 옛 모습 그대로 흔적이 남아있어 조선시대 축성의 기법과 공사의 순차를 연구하는데 귀중한 자료로 인정되고 있다.',\n",
       " '2009년 8월 6일 경상남도 문화재자료 제474호로 지정되었다. 향로는 반구 모양이며 전체높이가 약 21.5cm, 몸통 지름이 약 15.2cm이다. 투조(透彫)된 덮개, 공 모양 몸통, 손잡이 2개, 다릿발 3개 등으로 이루어져 있다.',\n",
       " '이 교지는 장백손이 무관의 관직을 거쳐 오는 동안 받은 것으로 1490년(조선 성종 21) 선략장군행충무위우도부사직(宣略將軍行忠武衛右都副司直)에 임명되었을 때 받은 고신으로부터 시작해서 1523년(조선 중종 18)에 마지막 관직인 어모장군행오위도총부경력(禦侮將軍行五衛都摠府經歷)에 임명될 때까지 그의 관력을 상세히 알 수 있는 것으로 총 31점이다. 현재 이들 자료는 안동에 소재한 한국국학진흥원에 기탁되어 보관하고 있다.',\n",
       " '여러 가지 건축기법으로 보아 1800년대 중반에 지은 건물로 추정한다. 전체적으로 튼 ᄆ자형을 이루고 있으며, 중부지방의 특색과 조선 후기의 세련된 솜씨를 잘 보여주고 있는 집이다.',\n",
       " '나옹화상어록은 고려의 승려 나옹화상 혜근(惠勤)의 글을 제자들이 수집하고 교정하여 총 67장으로 간행한 것이며, 나옹화상가송은 나옹화상 혜근이 직접 지은 시집이다. 나옹화상어록은 여러 책이 전해지고 있는데, 이 책은 그 중에서도 글자의 새김과 인쇄상태가 가장 좋은 책이다.',\n",
       " '천안 성거산 천주교 유적은 병인박해 당시 성거산을 중심으로 신앙생활을 하다 순교한 분들을 모신 줄무덤 및 신앙공동체였던 교우촌 유적이다. 천안 성거산 자락은 19세기 초부터 천주교 박해 이후까지 천주교인들이 신앙생활을 영위했던 삶의 터전으로, 특히 이곳 소학골 교우촌은 칼래 신부의 충청,경상,경기 일부를 관활했던 사목활동 중심지이고 천주교 박해시 교우촌의 지형, 생활유적, 기록이 보존된 유적이다.',\n",
       " '대성지성문선왕전좌도(大成至聖文宣王殿坐圖) 는 공자를 중심으로 제자들이 공자 앞에 길게 늘어서 앉아 있는 그림으로, 크기는 가로 65cm, 세로 170cm이며 비단에 채색하여 그렸다. 이 그림은 중종 8년(1513)에 원래 있던 그림을 베껴 그린 것으로 회화성보다는 기록성이 강하고, 종렬 대칭구도와 위에서 아래를 보는 듯한 부감법, 원근법 등을 사용하여 조선시대 궁중행사의 기록화 형식에 영향을 미친 중요한 자료로 평가된다.',\n",
       " '중옥은 담양군의 남서부에 위치하는데 삼인산(해발 570m)에서 남쪽으로 흘러내린 산줄기가 낮아지면서 형성된 구릉의 동남쪽 말단부에 있다. 마을 앞으로는 영산강유역의 넓은 충적평지가 형성되어 있는데 고분은 마을 뒤쪽에 형성된 낮은 구릉에 있다. 분구의 규모는 길이 18m, 너비 9(서)∼10(동)m, 높이 2m 정도이다.',\n",
       " '백자 청화운룡문 병(白磁 靑畵雲龍文 甁)는 조선시대 만들어진 높이 5.3cm 아가리 지름 5.3cm 밑지름 7.7cm의 병으로 청화백자운룡문병(보물 제786호)과 한 쌍으로 발견되었다. 청화백자 중 용무늬가 있는 유일한 예로 16세기 전반의 작품으로 추정되며 경기도 광주의 국가에서 운영하는 가마에서 만들어진 것으로 보인다.',\n",
       " '섬세하고 사실적인 조각솜씨가 돋보이며, 특히 뒤로 돌려져 등에 붙어 있는 거북머리는 매우 독특한 발상이다. 비두리 마을에 놓여 있는 비로, 원래는 후용리 마을의 용바위골에 있던 것을 인근에 법당을 세우면서 옮겨갔다가, 비두리 마을 주민의 건의에 따라 이곳에 자리잡게 되었다.',\n",
       " '조선 중종 5년(1510)에 손소 선생이 아들 손중돈을 비롯한 자녀 5남 2녀에게 재산을 분배해 주는 내용을 상세하게 기록한 재산 상속문서이다. 내용은 전답, 노비, 기타 재산의 내용으로 되어 있으며, 아들, 딸 구별없이 재산을 균등히 나누고 있다. 분재기 끝에는 이언적을 비롯한 입회인이 직접 손으로 쓴 수결(지금의 서명)이 명시되어 있다.',\n",
       " '김룡사 양진암 영산회상도는 현재 양진암 인법당에 봉안되어 있다. 이 불화는 1894년(光緖20) 19세기 후반 경북 일대에서 주로 활동한 법임(法任)이 수화승으로 조성하였다. 이 작품은 수화승 법임의 화풍을 파악할 수 있는 유일한 것으로 19세기 대표적인 화승인 응상의 화맥이 다양한 화풍으로 변화하는 양상을 알려주는 불화로서 미술사적 가치가 있다.',\n",
       " '문경 봉암사 극락전은 신라 경순왕이 피난시 원당으로 사용한 유서 깊은 건물로 전하고, 현재 극락전 내부에는 어필각(御筆閣)이란 편액(扁額)이 걸려 있으며, 일제강점기 때 옥개부 보수가 있었던 듯 망와에 소화16년(1941년)이란 기록이 남아 있다. 봉암사에서 극락전은 가장 오래되고 원형을 잘 보존하고 있는 전각이다.',\n",
       " '지방 양반들이 행정업무를 도우면서 향촌의 사회·정치적 지위를 유지하기 위하여 모였던 건물이다. 1500년대 말에 현감 벼슬을 지내던 한순이 처음 세웠으나 임진왜란 때 없어졌고, 광해군 2년(1610)에 손자인 한진이 다시 세웠다고 한다.',\n",
       " '인천 신현동의 회화나무는 나이가 약 500살 정도로 추정(지정일 기준)되며, 높이 22m, 가슴높이의 둘레 5.59m로 가지는 사방으로 길게 뻗어 있다. 마을 사람들에게 그늘을 제공해 주고 있으며, 농사의 풍년과 흉년을 점치는 나무로 알려져 있다.',\n",
       " '적의란 원래 중국에서 황후가 관복으로 착용하던 예복으로 우리나라에서 법복으로 왕비가 적의를 입기 시작한 것은 고려말 부터이다. 이 유물은 조선시대 폐슬본과 적의를 만들기 위하여 여러장의 창호지를 연접하여 실물의 크기와 형태, 문양까지 똑같이 그린 것이다. 적의본 및 폐슬본은 조선시대말의 적의와 폐슬을 재현하는데 실물 못지 않게 중요한 자료로 평가받고 있다.',\n",
       " '조선시대 말기 개화운동가 김옥균이 정비 계획의 방향을 제시하고 내용을 기술한 1책의 필사본으로, 치도약론(治道略論), 치도약칙(治道略則), 발문으로 구성되어 있다. 규장각한국학연구원에서 보관 중인 치도규칙은 총 9장으로, 치도약론과 치도약칙은 각 4장씩이며 김옥균이 쓴 것이고, 발문은 1장으로 당시 주일청국공사였던 중국인 여서창(黎庶昌, 1837~1896)이 쓴 것이다.',\n",
       " '고려시대 문신인 성사달(?∼1380)을 비롯하여 성부·성여원·성무조 등 창녕 성씨들의 위패를 모시고 있는 사당이다. 성사달은 충혜왕 2년(1341) 문과에 급제하고 한림사성이 되었다. 다른 건물로는 14단의 계단 위에 세운 경현당과 2층 누각인 풍욕루가 있다.',\n",
       " '자인향교는 고려 공민왕(재위 1351∼1374) 때 지었고, 조선 명종(재위 1545∼1567) 때 다시 지었으나, 임진왜란 때 불타 없어졌다. 광해군 7년(1615)에 도천산 아래로 옮겼다가 영조 4년(1728)에 지금 있는 자리로 옮겨 세웠다.',\n",
       " '조선 고종 12년(1875) 8월 강화도에 침입하여 초지진을 공격하고 돌아가던 일본 군함 운양호가 도중에 영종진을 공격하며 뭍에 올라와 진을 점령하고 관아에 불을 질렀다. 이에 조정에서는 인천부를 방어영으로 승격시키는 동시에 강화유수부에 속해 있던 영종진을 인천방어영에 속하게 하였으며, 10월에는 홍문관 제학 양주성을 영종첨절제사로 임명하여 관아를 복원하였다. 긴 직사각형의 비는 윗모서리를 둥글게 다듬어 놓은 간결한 모습으로, 고종 15년(1878)에 세웠다.',\n",
       " '대구 서씨 종중 묘를 이장하기 위해 개장하는 과정에서 백자지석 5건 58점, 지석을 보관하는 돌함 1점이 수습되었다. 묘지석에는 죽은 사람의 행적과 가족관계, 무덤의 위치 등을 기록하여 무덤 주변에 묻는데, 이러한 방식은 중국에서 유래한 것이다.',\n",
       " '경북 울진군 구산리에 있는 탑으로, 2단의 기단(基壇) 위에 3층의 탑신(塔身)을 올린 형태이다. 전체적으로 통일신라시대의 석탑양식이 잘 나타나 있으나, 기단의 가운데 일부 조각 등이 생략되는 것으로 미루어 보아 9세기 후반에 세워진 것으로 보인다.',\n",
       " '김유신이 장군의 태실은 태령산성의 정상부에 있으며 자연석을 둥글게 기단으로 쌓고 주위에 돌담을 쌓아 신령스런 구역임을 나타내고 있다. 탄생지 뒤편에 있는 태령산성은 태실을 둘러싼 돌담의 성격으로, 고대 신라의 산성 축조술을 엿볼 수 있는 곳이기도 하다.',\n",
       " '삼척 심씨의 시조 심동로가 벼슬을 버리고 내려와 제자를 가르치며 생활할 때 지은 정자로 고려 공민왕 10년(1361)에 처음 짓고, 조선 중종 25년(1530)에 심언광이 다시 지었다. 심동로는 어려서부터 글을 잘하였는데, 고려말의 혼란한 상태를 바로잡으려 노력하다가 권력을 잡고있던 간신배들이 마음에 들지않아 고향으로 내려가려고 하였다.',\n",
       " '전라북도 남원에 있는 용담사(龍潭寺) 부근의 심경암에 모셔진 석불로 연꽃잎이 새겨진 대좌(臺座) 위에 앉아 있다. 얼굴은 심하게 훼손되어 잘 알아볼 수가 없지만 목에는 3줄의 주름이 뚜렷하게 표현되었다.',\n",
       " '지장암은 군산시 개정면 아산리 고봉산의 8부 능선에 서남향으로 자리하는 태고종 사찰로서, 절의 창건에 대한 오래된 기록이나 유물·유적 등은 전해지지 않고 있다. 또한 자연스러운 옷 주름 표현과 얼굴의 표현방식 등 우리지역에서 보기 드문 불상이며, 현재 작례가 많지 않은 소조보살상이라는 점과 19세기 후반으로 추정되는 새로운 불상양식을 반영한 작품으로서 가치가 있다.',\n",
       " '1871년(고종 8년) 신미양요 때 미국군과 교전하다 광성진 전투에서 순국한 어재연 장군 어재순 형제 묘소이다. 묘소 아래에는 재실인 쌍충재가 정면 3칸, 측면 1칸 반의 맞배지붕 목조기와집으로 건리되어 있고, 쌍충재 아래 서남쪽 산끝자락에 어재연, 어재순의 신도비 2기가 세워져 있다.',\n",
       " '『근사록』은 남송의 주희(朱熹)와 여조겸(呂祖謙)이 함께 편저한 것으로 송대(宋代) 이학의 대표적인 저작임. 조선시대 전반에 걸친 대표적 성리학서이자 조선전기의 간본으로서 서지학적 의미가 크므로 서울시 유형문화재로 지정할만한 가치가 있음.',\n",
       " '1477년(성종 8)에 서평군 한계희(西平君 韓繼喜) 일족이 발원하여 고산 불명산 화암사(高山 佛明山 花岩寺)에서 간행한 책으로, 1443년(세종 25)에 화암사에서 개판(開板)했던 판본을 번각(飜刻)한 것이다. 4권 1책으로 오침안정법의 선장으로 장정되었으며, 표지는 후대에 개장되었다.',\n",
       " '청백색 옥으로 된 이 홀은 조선 중종 8년(1513)에 최산두에게 하사된 것으로‘일인유경보명유신(一人有慶寶命維新)’이란 글이 음각되어 있다. 최산두는 조선 전기의 문신으로 중종 8년(1513년) 문과에 급제하여, 이조정랑·장령·사인에 올랐다.',\n",
       " '1876년에 제작된 이 지장탱화는 원래 무량수전(無量壽殿)에 안치되었던 불화로서, 현재는 명부전(冥府殿)에 모셔져 있다. 문양의 생략, 음영이 심한 옷주름 표현, 적색, 녹색, 청색, 황색, 흰색 등에서 19세기 말경의 양식적 특징을 잘 나타내고 있다.',\n",
       " '전라남도 해남군 마산면 장촌리에 있는 철로 만든 비로자나불이다. 볼륨있는 얼굴에 비해 눈은 길게, 코는 작게 표현하여 단정하면서도 다소 근엄한 인상을 준다. 목에는 3개의 주름인 삼도(三道)가 뚜렷하며, 귀는 길게 늘어져 있다.',\n",
       " '전라북도 김제시 황산동 문수사 산신각 옆에 새겨져 있는 마애불로, 1.7m 높이의 작은 바위에 선으로 불상을 새겼다. 선으로 조각한 수법, 모자를 쓴 듯한 민머리, 큼직하면서 두툼한 코 등은 고려시대 마애불의 특징을 잘 보여준다. 평평한 바위를 이용하여 불상을 새긴 드문 예로 그 가치가 크다고 하겠다.',\n",
       " '경상북도 영풍군 이산면 신암리 길 옆 논 가운데에 있는 마애불로 바위 4면에 모두 불상을 새겼으나 지금은 삼존불(三尊拂) 외에는 형체를 거의 알아볼 수 없다. 본존불과 좌우 협시보살은 모두 불꽃무늬가 새겨진 원형의 머리광배를 가지고 있다. 규모는 작지만 전체적으로 양감이 풍부하면서도 부드러운 표현을 보이고 있는 작품으로 통일신라 초기에 만들어진 것으로 보인다.',\n",
       " '망덕사는『삼국유사』의 기록에 의하면, 통일신라 신문왕 5년(685)에 창건된 사찰인데 이 당간지주도 당시에 같이 조성된 것으로 보인다. 망덕사는『삼국유사』의 기록에 의하면, 통일신라 신문왕 5년(685)에 창건된 사찰인데 이 당간지주도 당시에 같이 조성된 것으로 보인다.',\n",
       " '영남학파의 거두인 존재 이휘일(1619∼1672)의 유업을 기리기 위하여 세운 서당이다. 이휘일은 조선 후기의 학자이다. 백호서당은 영조 33년(1757) 지방 유림들이 세웠다.',\n",
       " '‘기장 장안사 석조석가여래삼불좌상(機張長安寺石造釋迦如來三佛坐像)’은 17세기 중엽 경에 활약한 ‘녹원(鹿元)’이 수조각승을 맡아 제작한 작품이다. 조성연대와 작가가 밝혀져 있어 17세기 중후반 불교조각사 연구에서 기준작이 될 수 있고, 불석제 불상의 본격적인 유행 시점에 제작되어 불상재료 연구에 중요한 사실을 알려주는 상이다.',\n",
       " '전라남도 순천시 주암면 창촌리에 있는 이 석불입상은 현재 개인 소유의 밭 가운데 위치하고 있다. 하반신이 땅에 묻혀 있어 정확한 원형을 알 수 없으나 고려 초기에 만든 것으로 추정된다.',\n",
       " '선방(禪房) 앞에 자리하고 있는 석탑으로, 원래는 2층 기단(基壇) 위에 3층의 탑신(塔身)이 놓여 있었을 것이나 지금은 아래층 기단의 일부와 탑신의 2층 지붕돌 이상을 잃어버린 상태이다. 위층 기단은 각 면마다 모서리와 가운데에 기둥을 본 뜬 조각을 두었으며, 탑신의 1층 몸돌을 괴는 곳에 얕은 받침을 새겨 놓았다.',\n",
       " '제주 큰굿은 ‘두이레 열나흘 굿’ 혹은 ‘차례차례 제 차례 굿’으로 굿을 하는 기간, 규모면에서 가장 큰 종합적인 연희이다. 이는 무당집에서 하는 ‘신굿’과 일반적인 가정에서 행하는 ‘큰굿’을 모두 포함하는 것으로 우리나라 굿의 원형을 잘 간직하고 있고, 제주도 사람들의 인생관, 우주관, 자연관을 비롯한 삶의 지혜가 담겨 있다.',\n",
       " '경상남도 거제시 동부면 노자산 기슭의 깊숙한 해안인 오아포(현재 가배량)에 있는 성이다. 임진왜란 때 이순신 장군이 우수영을 한산도 두억포에서 전라도 녹도, 진도로 옮겼다가 거제 오마포로 옮기면서 성을 쌓았다.',\n",
       " '충청북도에서 처음으로 지은 성당으로 1896년 프랑스 신부 임가밀로가 세웠다. 원래 이곳은 명성황후의 6촌 오빠 민응식의 집이 있던 곳으로, 1895년 명성황후가 시해되고 민응식이 서울로 압송되면서 의병들이 사용하게 되자 일본군들이 불태워 버렸다고 한다.',\n",
       " '곽지패총은 지표상에 흩어진 유물 분포 범위가 10,000평 이상의 대규모 유적지로 철기시대부터 조선시대에까지 이르는 연속된 패총문화층을 보여주고 있다. 밑바닥에서는 초기철기시대(BC 300∼0)에 해당하는 구멍무늬토기 문화층이 확인되고 있고, 그 위층으로는 삼국시대의 항아리형 적갈색토기 문화층이, 다음 층으로는 통일신라시대의 깊은 바리형토기 문화층과 연속해서 고려·조선시대의 각종 도자기·질그릇이 포함된 문화층이 확인되고 있다.',\n",
       " '탑이 세워진 이 터는 신라 법흥왕이 죽기 전까지 승려로서 불도를 닦았다는 애공사(哀公寺)가 있었던 곳이라 전해오기도 하지만 주변이 논밭으로 변하여 사찰의 흔적은 찾을 수 없다. 지붕돌의 밑면 받침이 4단으로 되어있고 각 부분의 조각이 가늘고 약하게 나타나 있어 9세기 무렵 통일신라 석탑의 특징을 보여주고 있다.',\n",
       " '『금강경』의 내용을 요약하여 그림으로 해설한 책으로, 선조 3년(1570) 안동 광흥사에서 간행한 것이다. 이 책은 상단에는 그림, 하단에는 경문이 있는 상하 2단으로 구성되어 있어 조선 전기까지는 삽화 형식의『금강경』이 간행되었음을 알 수 있다. 전체 77종의 그림이 실려 있어,『금강경』의 이해는 물론 조선 전기의 회화 연구에 귀중한 자료이다.',\n",
       " '김제시 부량면 벽골제(백제시대의 저수지)에 전해오는 민속놀이이다. 이 지역에서만 전해 내려오는 독특한 민속놀이로, 지금도 해마다 벽골문화제전의 주요행사로 거행되고 있다.',\n",
       " '무장기포지는 동학 농민 혁명 과정에서 고부 농민봉기가 전국적인 무장봉기로 발전하는 계기가 되었다는 점에서 의의가 깊은 역사적인 유적지이다. 무장기포는 고부 지역에 한정되었던 농민봉기가 전국적으로 확대되는 새로운 국면의 출발점이 되었다.',\n",
       " '밀성박씨 문중에서 밀양주신(密陽主神)으로 섬겨오던 박욱(朴郁)의 모습을 나무로 깎아 만든 상이다. 이 목상은 붉은 바탕에 구름무늬가 새겨진 흉배가 있는 청색의 관복을 입고 있다. 빗살무늬가 교차하는 듯한 무늬가 있는 붉은색의 띠를 허리에 두르고 긴 칼을 두손으로 힘 있게 잡고 의자에 앉아있는 무인의 모습이다.',\n",
       " '그런데 이 계적안은 이름 그대로 문과 합격자의 명단으로, 연방안과는 달리 상안, 하안 구분이 없이 당시까지 문과에 합격한 인물들을 모두 기재했던 것 같다. 그러다가 1877년 재작성하면서 보유편과 하안 부분이 새로 첨록되는 양상을 보인다.',\n",
       " '조선 후기 성리학자인 박문호의 위패를 모신 사당인데 원래 이곳은 그가 성리학을 공부하고 책을 쓰며 후진양성을 하던 곳이었다. 풍림정사 뒤쪽에는 후성영당이 있는데 박문호·이이·송시열 등의 초상화를 모시고 있다. 후성영당은 1906년 세운 건물이며 박문호의 초상화는 1921년 추가로 모신 것이다.',\n",
       " '마을 앞 들 가운데에서 자라고 있는 거제 명진리의 느티나무는 나이가 600년 정도로 추정된다. 이곳 사람들은 이 느티나무가 마을을 지키는 수호목이라고 믿어 와서 마을에 시집오는 새색시에게 제일 먼저 이 나무 밑에 와서 고신제를 지내게 했다고 한다.',\n",
       " '1900년대 초에 쓰여진 「조선환여승람」의 기록에 의하면 백운루는 하산군 성몽정의 재실로 중종조에 세우기를 명하여 건립된 건물로 성몽정은 1506년 중종반정에 참여하여 정국공신이 되었으며 대사헌, 한성부판윤, 공조참판 등을 역임한 조선초기의 문신이다. 백운루는 여러 번의 수리를 거쳤으나 전체적인 형태나 부재의 결구 방식 등에서 원형을 잘 보존하고 있으며, 또한 2층 문루 형태의 강당 건축은 이 지역에서 흔히 보기 어려운 사례중의 하나이다.',\n",
       " '공주 박약재는 충현서원유적(도 기념물 제46호)과 충현서원(도 문화재자료 제60호)의 모태가 된 건물로, 문목공 고청 서기 선생이 1574년부터 1591년까지 유생들을 가르치던 서당 건물이다. 지금의 공주 박약재는 성담 송환기 선생이 쓴 상량문에 따라 ‘숭정3 갑인3월’(1794년, 정조 18년)로 건축 연대를 알 수 있고, 일반적인 서원과 달리 강당 형식을 취하고 있어 희소성이 크다.',\n",
       " '「청양 최익현압송도」는 구한말을 대표하는 문인지식인이자 항일지사인 면암 최익현선생이 서울을 떠나 부산으로, 부산에서 다시 대마도로 압송되는 과정을 재현한 기록화로 조선시대 기록화 제작 방식을 현대화한 새로운 구성방식이 흥미롭다. 「청양 최익현압송도」는 초상화와 마찬가지로 1910 ~ 1930년대 최익현의 행적을 기리는 추모사업의 일환으로 그려진 것으로 추정되며, 대체로 압송도에 등장하는 인물들의 면면이 「면압집」에 등장하는 인물과 연계되어 의미가 있다.',\n",
       " '조선시대 성균관 진사를 지낸 면운재 이주원(1714∼1796)이 영조 26년(1750) 오촌에 대대로 살기 위해 지은 집이다. 가옥이 평지에 자리잡고 있어서 정침과 양쪽 날개의 높고 낮음의 차이가 거의 없고, 전면 오른쪽에 있는 사랑공간만 축대를 높이 쌓아 격을 높인 평면구성 방법이 보인다.',\n",
       " '흥덕리 북쪽에 위치한 자미산의 남쪽 자락 끝에 만들어진 백제 때 만들어진 돌방무덤(석실묘)이다. 일반적으로 하나의 돌방무덤은 그 자체가 추가장으로 통한 합장이 가능한 구조를 가진 것이지만, 흥덕리 무덤은 두 개의 돌방을 나란히 배치하여 합장시킨 것으로 매우 특이한 경우이다.',\n",
       " '두륜산 정상 아래의 북미륵암에 있는 탑으로 3.6m 높이의 이 탑은 자연석 위에 인공적으로 손바닥 형태를 조성한 바위를 지대석으로 하고 있다. 3층 옥개석이 결실된 채 남아 있었으나 1995년 북암 요사채 중수와 함께 원형대로 복원되었다.',\n",
       " '연동사의 옛 터에 석불 1구와 함께 남아 있는 탑으로, 1층 기단(基壇) 위에 3층의 탑신(塔身)을 올리고 있다. 담양읍오층석탑(보물 제506호)과 곡성가곡리오층석탑(보물 제1322호) 등과 같이 백제계 석탑양식을 이어받은 것으로, 고려 후기에 세운 것으로 추정된다.',\n",
       " '보경사의 탱자나무는 보경사 경내 천왕문 우측 동편 종무소를 사이에 두고 두 그루가 마주보고 있다. 이 나무는 탱자나무로는 보기 드물게 오래된 것으로 기념물로 지정되어 보호하고 있다.',\n",
       " '대항리패총은 변산 해수욕장에서 북쪽으로 약 1km 떨어진 합구미 마을 동쪽 산 밑 밭에 있다. 바닷가에 접한 밭이 파도에 깎여 낭떠러지를 이루자 지층이 드러나 1947년 발견되었다. 대항리패총은 고고학적 자료로서 활용 가치가 있어 기념물로 지정하여 보전하고 있다.',\n",
       " '원적산 능선 위에 있는 조선시대의 암자로 내원사 계곡에 있었다는 89암자 중의 하나이다. 선덕여왕 15년(646)에 원효대사가 지었으며, 인조 24년(1646)에 영훈대사가 다시 지었다. 그 후 여러 차례의 수리를 거쳐 오늘에 이르고 있다.',\n",
       " '충청북도 진천군 진천읍 신정리에 있는 높이 7m의 커다란 불상으로 타원형의 얼굴에 은근한 미소가 보인다. 머리 꼭지에는 벙거지 같은 것이 올려져 있는데 나중에 고친 것이 아닌가 생각된다. 거대한 크기, 부피감 없는 사각형태, 빈약한 세부표현에서 고려시대 지방화된 불상의 특징을 잘 나타내고 있다.',\n",
       " '조선 후기 무신이면서 외교가였던 신헌(1810∼1884)이 살던 집이다. 이 집은 1850년경 신헌이 전통 한옥 형태로 지은 건물이다. 세울 당시에는 사랑채와 행랑채, 안채 등이 있었으나 현재는 안채와 광채만 남아 있다.',\n",
       " '“순천 송광사 목조관음보살좌상 복장전적(順天松廣寺木造觀音菩薩坐像腹藏典籍)”(보물 제1661호)은 위 순천 송광사 목조관음보살좌상에 복장되어 있던 복장유물 중 중요 불교경전 8점이다. 재조대장경은 해인사대장경(팔만대장경)의 15세기경의 인본(印本)으로 희귀한 자료이므로 복장유물 전체에서 독립하여 복장전적으로 별도 국가지정문화재로 지정, 보존 관리하여야 한다고 평가되었다.',\n",
       " '한강의 황쏘가리는 한강일대(팔당, 광나루, 청평원, 소양강 및 남한강 상류)와 임진강 지역이 주요 서식지이다. 한강의 황쏘가리는 몸은 검은 쏘가리와 같은 종류의 물고기이지만 몸의 색이 황갈색을 띠고 있으며, 전세계에서 한강 유역에서만 발견되는 희귀어종이므로 희귀한 유전자원을 보존하기 위해 천연기념물로 지정·보호하고 있다.',\n",
       " '이 곳에 관한 기록은 남아 있지 않지만, 주변 부지에서 많은 기와조각이 발견되어 절터로 짐작되고 있다. 인근에 함께 있는 홍천 희망리 삼층석탑(보물)과 관련지어 볼 때, 거의 같은 시기인 고려 중기에 만들어진 것으로 본다.',\n",
       " '진교면사무소에 자리하고 석탑으로, 원래 이명산(理明山) 내의 옛 절터에 무너져 있던 것을 1960년 이곳으로 옮겨 세운 것이다. 아래층 기단이 넓긴 하나, 탑신의 몸돌이 지붕돌에 비해 높아 안정감보다는 높고 날렵한 느낌을 준다. 화강암으로 잘 다듬어진 3층 석탑으로, 고려시대의 작품이다.',\n",
       " '순천시 검단산 정상부에 있는 산봉우리를 둘러싼 테뫼식 산성으로 광양만이 훤히 보이는 요새이다. 정유재란 때 조선과 명나라의 연합군이 신성리의 왜교성에 머물고 있던 왜군과 팽팽하게 맞서면서 쌓은 산성으로, 조선시대의 것으로 알려져 왔다.',\n",
       " '경산 상엿집은 본래 영천시 자천리에 있던 것을 조원경씨가 매입하여 현 위치에 이건한 것으로 건립당시 상량문이 남아 있어 1891년에 세워진 것임을 알 수 있다. 일반 상엿집이 흙벽과 평지 바닥으로 되어 있는데 비하여 경산 상엿집은 세 칸 규모의 판벽과 우물마루로 되어 있다는 점에서 건축학적인 가치가 있다.',\n",
       " '운수사는 전라북도 임실군 임실읍 이도리 수정마을에 있는 절로 창건 연대와 세운 목적은 전하지 않지만 백제시대의 것으로 추정하고 있다. 이곳에는 높이 2.54m, 어깨 폭 0.81m의 석불이 있는데, 풍수지리설에 의해 산세의 재난을 막기 위해 만든 것이라고 한다.',\n",
       " '이 부도는 법흥사 적멸보궁 뒤쪽에 놓여 있는 것으로, 모신 사리의 주인공은 아직 밝혀 지지 않았다. 형태는 아래·가운데·윗받침돌로 이루어진 기단부(基壇部) 위에 탑신(塔身)을 올리고 머리장식을 갖추었으며, 각 부분이 8각을 이루고 있다. 전체가 8각을 이룬 모습으로 두꺼운 지붕돌 표현이나 높은 지붕돌의 꽃장식 등으로 보아 고려시대에 세운 작품으로 보인다.',\n",
       " '조선 세조 대의 승려인 수미왕사의 초상화이다. 함께 보존되어 있는 도선국사진영(전라남도유형문화재 제176호)과 인물의 표현법이나 의복의 음영처리 기법이 같다.',\n",
       " '조국의 독립을 위해 몸바친 애국지사들의 유해를 모시는 곳이다. 일제시대에 문효세자의 묘를 경기도 고양에 있는 서삼릉(西三陵)으로 옮기면서 효창원은 효창공원이 되었다. 광복 후에는 김구·이동녕·차이석·이봉창·윤봉길·조성환·안중근을 비롯해 나라를 위해 목숨을 바친 분들의 무덤을 모시게 되었으며, 매년 이 분들을 위한 제사를 지내고 있다.',\n",
       " '생칠장(生漆匠)은 생옻으로 목기 등에 칠을 하는 장인이다. 그러나 근래에 이르러 옻칠 산업이 쇠퇴해 감에 따라 생옻칠 기법이 현저히 줄어들고 있는 실정이다.',\n",
       " '금보는 백호(白湖) 윤휴(尹鑴)(1617-1680)의 후손가에 전해져오는 것으로 17세기말에서 18세기 초에 필사된 것으로 추정되며 보존상태가 양호하다. 이 책의 내용을 살펴보면 1572년 안상이 편찬한 『금합자보(琴合字譜)』와 1610년 양덕수가 엮은 『양금신보(梁琴新報)』를 초본으로 합철하였으며 다른 문헌에서 거문고 관련 글을 부록에 실어서 한 책으로 묶었다.',\n",
       " '이 성은 제주의 많은 화산암을 이용해서 고려 숙종 때 둘레 4700척, 높이 11척으로 확장하여 새롭게 정비하였다. 그후 조선 중종 7년(1512)에 둘레를 5486척으로 확장하고 방어시설을 갖추었다. 현재는 성벽이나 건물들이 거의 남아 있지 않지만, 당시의 축성방식을 알 수 있는 자료이다.',\n",
       " '서담 홍위(1559∼1624)가 성리학을 연구하고 후진을 양성하기 위해 조선 인조 7년(1629)년에 지은 건물이다. 홍위는 조선 중기 문신으로 선조 34년(1601) 벼슬에 올라 통제영종사관, 춘추관기사관 등을 역임하고 광해군 때에 관직에서 물러나 후진양성에 힘쓴 분이다. 마을 뒤편 언덕에 남향으로 자리잡고 있는 칠탄숙 강당은 앞면 5칸·옆면 2칸 규모의 건물이다.',\n",
       " '날뫼북춤은 대구의 비산동 일대에서 전승되어 오는 북춤이다. 정확한 유래는 알 수 없으나 산 모양의 구름이 날아오다 어느 여인의 비명소리에 놀라 땅에 떨어져서 동산이 되었다는 전설에 의해 날아온 산이라 하여 ‘날뫼(飛山)’라 부르게 되었고, 옛날 지방관리가 순직했을 때 백성들이 이를 추모하기 위해 봄·가을에 북을 치며 춤을 추어 제사를 지냈다고 한다.',\n",
       " '조선 제4대 세종대왕(재위 1418∼1450)의 태(胎)를 봉안하는 태실이 있던 곳이다. 세종대왕의 태실은 정유재란(1597) 때 왜적에 의해 도굴, 파손되어 선조 34년(1601)에 대대적인 수리를 하였으며, 영조 9년(1733)에는 태실비를 세우고 태실을 수리한 기록문서 『태실수의궤』를 남겼다.',\n",
       " '송악면 안섬은 원래 당진군의 북서쪽에 있는 섬이었으나 간척사업으로 육지가 된 곳이다. 안섬 당제의 구조와 성격은 서해안 어촌마을의 공동체 신앙에서 가장 대표적인 것으로 민속학적 의미와 가치가 매우 크다.',\n",
       " '성관자재구수육자선정 목판은 불가에서 육자진언(六字眞言)으로 선정을 닦는 공덕을 담은 책인 『성관자재구수육자선정』을 간행하기 위해 판각한 것으로, 1621년(광해 1) 충청도 덕산(德山) 상왕산(象王山) 가야사(伽倻寺)에서 개판해서 현재 개심사에 전래되고 있다. 보존상태가 양호하며, 성관자재구수육자선정 목판 중 가장 오래되고 유일한 판본이라는 점에서 가치가 높다.',\n",
       " '송현배수지는 인천 최초로의 상수도 시설이자 도시계획 시설로 1905년 중도(中島)박사에 의해 경인수도 설계가 완성됨에 따라 1906년 11월 착공하여 1908년 준공되었다. 또한 1910년 10월 노량진 수원지 정수시설이 준공되어 동년 12월 급수를 하기 시작하였다.',\n",
       " '능숙한 붓놀림과 화려한 채색 등이 매우 돋보이는 18세기 초를 대표하는 불화이다. 이 영산회상도는 조선 숙종 33년(1707)에 왕실에서 뜻을 모아 제작한 것으로 자료적인 가치도 매우 높은 작품이다.',\n",
       " '1477년(성종 8)에 서평군 한계희(西平君 韓繼喜) 일족이 발원하여 고산 불명사 화암사(高山 佛明山 花岩寺)에서 간행한 책으로, 1443년(세종 25)에 화암사에서 개판(開板)했던 판본을 번각한 것이다. 7권 2책의 완본으로 오침안정법의 선장으로 장정되었으며, 근래에 만든 감청색 책갑(冊匣)에 넣어 보관하고 있다.',\n",
       " '전라북도 정읍시 고부면 해발 443m의 두승산 산봉우리를 에워 싼 산성으로, 성 안에 골짜기를 품고 있다. 9개의 봉우리를 이룬 천연의 절벽을 이용하여 쌓은 성벽은 둘레가 500m가 넘으며, 성 안에는 서쪽과 남쪽의 두 골짜기가 있다.',\n",
       " '『삼국사기』에는 통일신라 초기에 김유신의 셋째 아들이 서원술성을 쌓았다는 기록이 있는데 이때 쌓여진 것이 아닌가 추측되기도 한다. 상당이란 이름은 백제 때 청주목을 상당현이라 부르던 것에서 유래한 것이다.',\n",
       " '◦ 6군상무사는 1901년 당시 접장 최덕주가 전래되던 상무사에 대한 자료를 수집하여 청금록의 보수 작업을 착수하면서 일부 기록을 보충 보완하고 강주흠이 영위에 취임하여 명칭을 원홍주등6군상무사로 개칭한데서 비롯됨. ◦ 상무사는 본소(本所)와 임소(任所)를 두고 있으며 본소는 임소를 총괄하고 임소는 장시(場市)가 열리는 지역마다 설치되어 시장을 운영하였고, 상무사의 최고 의결기관을 료중(僚中)이라 불렀으며 매년 총회를 개최 하였 하였음.',\n",
       " '삼국통일을 이룬 신라 제30대 문무왕의 수중릉인 대왕암이 가장 잘 보이는 곳에 위치한 건물이다. 이견대라는 이름은 신문왕이 바다에 나타난 용을 보고 나라에 크게 이익이 있었다는 뜻을 포함한 말인데, 『주역』의 ‘비룡재천 이견대인(飛龍在天 利見大人)’이란 문구에서 따온 것이다.',\n",
       " '오른편 부도는 높이 3m로 지대석, 기단석, 연꽃 좌대, 탑신(塔身)이 차례로 짜여져 있다. 보물 제382호 울주 청송사지 삼층석탑과 약 100m정도 떨어진 곳에 위치하고 있다. 모두 3기이며, 조선시대의 돌종 모양[石鐘形]부도이다.',\n",
       " '임실군 지사면 관기리에 위치한 관곡서원에 소장되어 있는 일괄 문서들이다. 서원 관계 서적이나 문서들이 희귀한 편인데 관곡서원에 관계되는 일괄 문서를 두루 구비하고 있어 매우 귀중한 자료로 평가된다.',\n",
       " '재두루미는 중국, 일본, 몽고, 한국 등지에 분포한다. 암수 구분없이 몸길이는 119cm이며, 머리와 목은 흰색, 몸은 회색이다. 재두루미는 세계적으로 4,500∼5,000마리 정도가 남아있는 멸종위기의 진귀한 새이므로 천연기념물로 지정·보호하고 있다.',\n",
       " '일제강점기 때 영양지역에서 막대한 부(富)를 축적하여 자선사업을 크게 베풀었던 대은(大隱) 권영성(權永成, 1881-1959)이 1934년(甲戌年 9월 초파일)에 건립한 정자이다. 정자는 정면 3칸 측면 1칸 반 규모의 전통적인 누정형태인데, 정자로 오르내리는 계단이나 담장 등에는 붉은 벽돌, 인조석 씻어내기, 타일 등 근대적인 재료와 수법을 사용하였으므로 전통양식에 근대적인 요소가 첨가된 매우 독특한 모습을 보여주고 있다.',\n",
       " '척화비란 조선 고종 때 병인양요, 신미양요를 승리로 이끈 흥선대원군이 서양세력을 배척하고, 이를 모든 백성에게 일깨워 주고자 전국의 중요한 곳에 세워두도록 한 것으로, 이 비도 그 중 하나이다. 비문에는 ‘서양 오랑캐가 침범하는데 싸우지 아니하고 화친하자고 주장하는 것은 나라를 팔아먹는 것이니, 우리 만년자손에게 경계한다’는 강한 어투의 경고문을 적고 있다.',\n",
       " '서부동 마을 뒤의 호두산 아래 골짜기에 남아 있는 탑의 일부분들이다. 원형을 알 수 없지만 지붕돌 양식으로 보아 통일신라시대에 세운 것으로 추정된다. 또한 이 골짜기는 임진왜란 당시 왜병의 진로였다는 설이 있어, 그 때 탑이 무너진 것으로 보인다.',\n",
       " '이 건물은 정려각의 일반적인 구성형식을 따라 단칸에 3량가로 건축했으나 건축양식과 구조수법에서 몇 가지 특징이 있다. 익공계와 다포계 형식이 절충된 외1출목 삼익공의 건축양식으로 살미와 첨차에 연봉과 봉두를 잘 다듬어 화려하게 치장하였다.',\n",
       " '배경의 산수 처리기법이 원형 화문으로 시문된 점은 독특하며 민화적인 요소가 엿보이는 작품으로 향후 고승 진영이나 민화, 독성탱 연구적 자료 가치가 있다. 이 독성탱은 일명 나반존자라고도 칭하며 미래에 사바세계에 출현할 미륵존불을 기다리며 천태산상에서 독수선정에 들어 있는 독성을 묘사한 불화이다.',\n",
       " '관음사에 놓여 있는 석등으로, 보광사의 옛 터에 있던 것을 일본인이 소장하고 있다가 1928년 5월 이곳으로 옮겨놓았다. 아래에서부터 작은 규모의 아래받침돌·길쭉한 8각의 가운데기둥·윗받침돌을 차례로 올린 후 불을 밝혀두는 사각의 화사석(火舍石)과 지붕돌을 얹었다.',\n",
       " '『윤순 필적 고시서축(尹淳 筆蹟 古詩書軸)』은 18세기 전반을 대표하는 명필 백하 윤순(1680~1741)이 58세 되는 1737년(영조 13) 3월에 태화산에서 쓴 것이다. 보존상태도 매우 양호하다.',\n",
       " '청춘의 십자로 는 안종화 감독이 1934년 제작한 흑백 무성영화로 농촌 출신 젊은이들이 서울에 올라와 도시에서 겪는 소비문화, 부적절한 남녀간의 관계, 향락적인 일상 등 삶의 단면을 그린 작품이다. 국내에서 발굴된 희귀 자료로 현존하는 가장 오래된 원본 필름으로 1933~1934년경의 서울의 도시사, 생활사에 관한 희귀 정보들을 담고 있어 중요한 자료이다.',\n",
       " '보문사터에 남아 있는 것으로, 사찰내에서 스님들이 사용하는 물을 담아두던 곳이다. 고려시대에 만든 작품으로 추측된다.',\n",
       " '백흥암은 은해사에 속한 암자로 신라말에 지은 것으로 전한다. 조선 명종 1년(1546) 인종의 태실(胎室)을 팔공산에 모시게 되자 백흥암을 수호사찰로 정하고 크게 고쳤다고 한다. 극락세계를 상징하는 아미타삼존불을 모시고 있는 극락전은 인조 21년(1643)에 지은 것으로 지금 있는 건물은 그 뒤로 여러 차례 수리한 것이다.',\n",
       " '이 신중도는 1781년(정조5)에 畵師 有奉 등에 의해 조성된 불화로, 현재 김천 직지성보박물관에 보관되어 있다. 전체적으로 화면구성이나 색감이 차분하고 안정감이 있으며 보존상태도 매우 양호하므로 有形文化財로 지정한다.',\n",
       " '토기 융기문 발(土器 隆起文 鉢)은 부산광역시 영도구 영선동 패총에서 출토된 신석기시대 초기의 토기로, 크기는 높이 12.4cm, 지름 16.4cm이다. 이 토기는 구연부 한 쪽에 짧은 주구가 부착되어, 내용물을 담아 따를 수 있고 구연부 밑으로 융기된 장식무늬가 있다는 점이 특징적이다.',\n",
       " '자연스럽고 사실적인 수법으로 단순한 모양의 복숭아를 실물과 똑같이 만들면서, 잎과 나뭇가지를 이용하여 연적으로 사용할 수 있게 창의력을 살린 솜씨가 뛰어나다. 고려시대 청자연적 가운데 유일하게 전해오는 복숭아 모양의 연적으로 모양도 우수할 뿐아니라, 조선 후기에 성행한 백자도형 연적의 전신이 되는 셈이어서 더욱 흥미로운 작품이다.',\n",
       " '조선 전기 문신인 신말주(1439∼?)선생의 위패를 중앙에 두고 양 옆으로 조윤옥, 장조평 선생을 배향하며 그 좌우에 7분의 위패를 모시고 있는 사당이다. 신말주 선생은 단종 2년(1454) 과거에 합격하고 벼슬이 대사간에 이르렀으나 단종이 폐위되자 벼슬을 버리고 순창에서 여생을 보냈다.',\n",
       " '남성골산성은 2001년 시굴조사와 2001년에서 2002년에 걸친 1차 발굴조사를 실시한 결과 내·외곽을 갖춘 목책성으로 확인되었다. 정상부에서 바라보면 부강 시내와 금강이 한눈에 내려다보이며, 남서쪽으로 계룡산, 북서쪽으로 조치원까지 조망이 가능하다.',\n",
       " '원(元)편으로 중국 고대 반고씨부터 고신씨까지 그리고 당나라 천복 1년(901)에서 송(宋)나라 상흥 2년(1279)까지의 사적을 기록한 역사서이다. 이 책은 원나라 1361년에 중국에서 발간된 적이 있고, 그후 60년만에 우리나라에서 찍어냈다. 이 책은 서지학 및 고인쇄기술사를 연구하는데 매우 귀중한 자료가 된다.',\n",
       " '어은 양사형(1547∼1599)이 조선 명종 22년(1567)에 분가하면서 지은 정자이다. 정자는 여러 차례 고쳐 지었는데 지금 있는 건물은 1919년에 고쳐 지은 것이다.',\n",
       " '전라남도 남원시 이백면 효기리는 통일신라 후기에 도선국사가 미륵암을 창건하였다고 전해지는 곳이다. 이 석불입상은 둥글 넓적한 얼굴에 코는 납작하게 표현되어 있다. 이 석불입상은 조각형태로 보아 조선시대에 만들어진 것으로 추정된다.',\n",
       " '예천 금남리 황목근은 나이가 500년 정도 된 것으로 추정되는 팽나무로 높이 12.7m, 둘레 5.65m이다. 예천 금남리 황목근은 오랜 세월동안 조상들의 관심과 보살핌 속에 자라왔으며 마을 주민 공동체 의식을 상징화하는 문화성과 함께 나무를 사람처럼 생각하는 특이한 점 때문에 천연기념물로 지정하여 보호하고 있다.',\n",
       " '9세기 중엽에 철감선사가 창건한 증심사에 범자7층석탑과 나란히 서 있는 이 석상은 본래 담양군 남면 정곡리 서봉사터에 있던 것을 고(故) 현준호씨가 사재를 들여 이곳으로 옮겨온 것으로 기록되어 있다. 전체 높이 2.05m의 이 석불입상은 머리에 높은 원통형의 보관을 쓰고 있으며, 얼굴은 타원형으로 갸름하여 우아한 기품을 나타내고 있다.',\n",
       " '1800년대 말에 지은 초가집이다. 대청의 뒷벽에는 왼쪽으로 뒷창을 내고 오른쪽으로 벽장을 만들어서 조상들의 위패를 모신 사당으로 사용하고 있다. 대문을 들어서면 바로 안마당이며, 대문의 왼쪽에 사랑채가 있고 오른쪽에 행랑채가 세로로 길게 자리잡고 있다.',\n",
       " '고령향교 대성전은 성현들에게 제사를 지내는 제향공간으로 강학공간인 명륜당 뒤쪽에 위치하고 있으며, 정면 3칸, 측면 2칸의 익공계 맞배지붕 건물이다. 지붕구조는 접시받침이 없는 사각 동자주와 파련대공을 세운 5량가 구조이다.',\n",
       " '개암사는 전라북도 무안군 상서면에 있는 사찰로, 개암사의 응진전에는 각기 다른 자세를 취하고 있는 16구의 나한상(羅漢像)이 모셔져 있다. 나한은 ‘아라한’의 준말로, 온갖 번뇌를 끊고 깨달음을 얻어서 세상 사람들의 공양을 받을 만한 공덕을 갖춘 성자를 뜻한다.',\n",
       " '조헌사당은 원래 영조 10년(1734)에 곡남리 진동산에 창건되었으나, 오랜 시간이 흘러 건물이 허물어지면서 유림과 후손들의 정성으로 현재의 위치에 다시 건립되었다고 한다. 사당은 정면 3칸, 측면 2칸의 맞배지붕의 건물이다.',\n",
       " '정탁(1526∼1605)의 위패를 모시기 위해 세운 사당이다. 임진왜란 때 많은 공을 세웠으며 충무공 이순신 장군을 사형집행 전에 구한 인물이다. 조선 인조 18년(1640) 처음 지은 사당은 강당을 더해 숙종 23년(1700) 도정서원으로 승격하였고 정조 10년(1786)에는 정탁의 셋째 아들인 성리학자 정윤목을 제사지내기도 하였다.',\n",
       " '제주도에는 역사가 오래된 마을마다 비석거리가 존재하는데, 이 비석거리는 조천 포구 입구에 자리잡고 있다. 이러한 제주목사나 판관 등 지방관리들의 부임 또는 이임시 이들의 공적과 석별의 뜻을 기리는 의미에서 이곳에 비를 세워놓았다 한다.',\n",
       " '지장사에 보관된 이 괘불은 석가를 비롯한 삼존과 문수보살, 보현보살을 비단 바탕에 채색하여 그린 그림으로, 가로 287.3cm, 세로 456cm 의 크기이다. 적색과 녹색, 청색이 주로 사용되었으며, 특히 이 시기에 제작된 다른 불화들보다 색채가 밝아 눈길을 끈다.',\n",
       " '이 녹권은 조선 세조 13년(1467)에 이시애의 난을 평정한 공으로 문신 손소(1433∼1484)에게 내린 적개공신논상록권이다. 이 녹권과 함께 세조가 내려준 벼루 옥연적과 구슬장식인 산호영락 그리고 상아가 새겨진 칼 등이 전해오고 있다.',\n",
       " '신라시대 종의 형태를 하고 있는 고려 범종으로, 종의 꼭대기 부분에 종을 매다는 용뉴와 뒷편에는소리의 울림을 도와주는 용통이 솟아있다. 3분의 1되는 곳 위쪽으로는 사각형의 연곽을 만들고, 그 안에 나즈막하게 돌출된 9개씩의 연뢰(蓮 unk )를 장식하였다. 이 종 몸통에는 서로 마주보고 꽃방석 자리에 무릎을 꿇고 합장한 모습의 보살상을 새겼고, 다른 두 면에는 범자가 들어간 위패형 명문곽이 장식되었다.',\n",
       " '조선 전기에 제작된 높이 41cm, 아가리 지름 15.7cm, 밑 지름 18.2cm인 청화백자 항아리이다. 이 백자는 문양의 표현 기법과 색, 형태 면에서 아름다운 항아리이며, 구도와 소재면에서 중국 명나라 청화백자의 영향을 받았음을 알 수 있다. 15세기 중엽 초기에 경기도 광주에서 제작된 것으로 추정된다.',\n",
       " '분황사 약사여래입상은 보광전에 모셔져 있으며 높이는 3.45m이다. 이 불상은 제작 연대가 확실하여 조선시대 불상 연구에 귀중한 자료로 평가된다.',\n",
       " '중국 후진의 구마라습이 번역한 것을 조선 고종 17년(1880)에 경운원기(擎雲元奇, 1852~1936)스님이 정성껏 옮겨 쓴 경전이다. 우리나라에 들어온 법화경 7권의 내용을 모두 14권으로 나누어 다시 만들었다.',\n",
       " '울릉도 사동의 흑비둘기 서식지는 울릉도 남면 사동 해안에 있으며 이곳에서 자라고 있는 후박나무 5그루는 흑비둘기가 해마다 규칙적으로 찾아드는 대표적인 곳이기 때문에 흑비둘기가 살아가는 터전과 먹이의 보호를 위해 천연기념물로 지정하여 보호하고 있다.',\n",
       " '하남 하사창동 철조석가여래좌상(河南 下司倉洞 鐵造釋迦如來坐像)은 경기도 광주군 동부면 하사창리의 절터에서 발견된 고려시대의 철불 좌상이다. 통일신라 불상양식을 충실히 계승한 고려 초기의 전형적인 작품임을 알 수 있다.',\n",
       " '넓적한 화강암에 높이 2.73m의 보살상 돋을새김했는데, 관음보살을 표현한 것으로 보인다. 머리에는 보관(寶冠)을 썼고, 얼굴에는 눈·코·입 등이 도식적으로 표현되었지만 온화한 표정을 짓고 있다.',\n",
       " '금옹 김학배(1628∼1673)와 적암 김태중(1649∼1711)의 학문과 덕행을 추모하고 이를 계승하고자 세운 서당이다. 영조 37년(1761) 후생들이 앞면 4칸·옆면 2칸 규모의 서당을 다시 세우고 운곡서당이라 하였다.',\n",
       " '조선 인조(재위 1623∼1649) 때의 충신 박신용 장군의 위패를 모신 사당이다. 지금도 그의 충의 정신을 길이 빛내기 위하여 관복을 소장하고 봄·가을로 제사를 지내고 있다. 건물은 사당 형식으로 만들었고, 문은 가운데 칸을 높여 세운 삼문(三門)형식으로 주변은 담장을 둘렀다.',\n",
       " '영국인 소유의 신문이었기 때문에 치외법권의 특권을 누리면서 일본의 탄압을 피해 항일운동의 본거지로서 역할을 담당했고, 양기탁을 비롯하여 논설진으로 박은식, 신채호 등이 참여한 한말 최대의 민족지이다. 1909년 5월 배설이 사망한 이후에는 영국인 만함(萬咸, Alfred W. Marnham)이 경영을 맡았으나, 한일 강제 합병 후에는 제호를 ‘매일신보’로 바꾸어 조선총독부의 기관지가 되었다.',\n",
       " '태조 7년(1398)에 세워진 장흥향교는 임진왜란(1592) 때 불에 탄 것을 인조 8년(1630)에 수리하였다. 그 후에도 여러 차례 고쳤다. 향교는 훌륭한 유학자를 제사하고 지방민의 유학교육과 교화를 위하여 나라에서 지은 교육기관이다.',\n",
       " '합천 회양리의 소나무는 해발 500m 정도 되는 곳에 위치한 화양리 나곡마을의 논 가운데 서 있으며 나이는 500년 정도로 추정(지정일 기준)된다. 마을 사람들은 이 나무를 마을을 지켜주는 나무로 여기고 오랫동안 보호해 왔으며, 민속적·역사적·생물학적 자료로서의 가치가 크므로 천연기념물로 지정하여 보호하고 있다.',\n",
       " '인풍정은 원래 묵일헌 신치중이 1678년에 삼가현 양촌 마을 동쪽에 축대를 쌓고 나무를 심어 바람 쐬기 좋은 곳을 만들어 이를 인풍정이라 명명했던 것이다. 그러다가 1923년에 그 후손 신종학에 의해 건물 인풍정이 지어져서 오늘에 이른 것이다.',\n",
       " '보리암이라고도 하는 이 암자는 1983년 주지 성묵스님이 현 법당을 복원하였다. 이곳은 임진왜란 때 충장공 김덕령 장군의 부인 흥양 이씨가 순절한 곳이기도 한데 임진왜란 당시 흥양 이씨는 왜적에게 쫓기자, 절벽에서 몸을 던져 순절하였다.',\n",
       " '보우경은 보살이 닦아야 할 불법의 내용과 보살이 갖추어야 할 덕목에 대하여 설명한 경전이다. 보우경 10권 중에 권2에 해당하는 이 책은 당나라 달마유지(達摩流支)가 번역한 것을 갈색 종이에 은색 글씨로 옮겨쓴 것이다.',\n",
       " '경상남도 함양군 하산리 사근장터 뒤 연화산에 있는 돌로 쌓아진 산성이다. 이곳은 조선시대 경상도 지방 14개의 역길을 총괄하던 중심역인 사근역이 있던 곳이다. 성을 쌓은 시기는 확실히 알 수 없으나 산성의 규모와 이곳이 신라와 백제 사이의 분쟁지역이었다는 점을 생각해 보면 삼국시대에 세워졌다는 것이 추측된다.',\n",
       " '동해안의 수려한 자연환경 속에 자리한 전통 한옥마을로, 14세기 경부터 강릉 함씨와 강릉 최씨, 용궁 김씨 등이 모여 사는 집성촌이다. 이 집들은 원래의 모습대로 잘 보존되어 오고 있으며, 자연경관 전통주택·농업위주의 생활 등이 오랜 세월 동안 마을 전체에 잘 지켜져 오고 있어 전통 민속마을로 의미가 있다.',\n",
       " '강릉 경포와 양양 낙산에 거주하는 사족들의 모임이다. 이 계첩은 1720년 처음 작성돤 것이고 이후의 것은 6.25때 소실되고 남아 있지 않다. 1960년 대 이후부터 다시 작성하기 시작한 조문첩(弔問帖), 도기(到記),원부(原簿),회의록 등을 회원이 따로 보관하고 있다.',\n",
       " '조선 후기의 문신인 서곡(西谷) 이정영(1616∼1686)의 묘이다. 인조 14년(1636) 별시문과에 병과로 합격하였으며, 병자호란이 일어나자 소현세자가 볼모로 중국 심양(지금의 북경)에 갈 때 따라 갔으며 귀국해서는 여러 벼슬을 역임하였다.',\n",
       " '신라 47대 헌안왕(재위 857∼861)의 무덤이다. 무덤의 형태는 가장 단순한 형식의 무덤으로 높이 4.3m, 지름 15.3m의 원형 봉토분이다.',\n",
       " '이 책은 선종(禪宗)의 6대조였던 혜능(慧能)의 수도 과정과 문인들을 위한 설법을 담고 있는 자서전적 일대기로 엄밀한 의미에서는 조사어록(祖師語錄)으로 분류되어야 하지만 해박한 사상과 간결한 문체 때문에 우리나라, 중국, 일본 등에서는 경전과 같은 존숭을 받아오고 있는 1책의 목판본이다. 육조대사법보단경은 성종이 승하한 후 왕의 명복을 빌기 위해 왕비의 발원으로 간행되어 글자체가 정교하며 한글활자체는 음운 등 조선 초기의 인쇄문화를 알 수 있고, 특히 국어 연구에 귀중한 자료로 평가할 수 있다.',\n",
       " '원주향교는 고려 인종(재위 1122∼1146) 때 처음 지었고, 조선 태종 2년(1402)에 다시 지었다. 이후 여러 차례 수리·복원하였다. 현재 남아 있는 건물로는 대성전, 명륜당, 동무·서무, 동재·서재, 외삼문, 수복실 등이다.',\n",
       " '마을에 무너져 흩어 있던 것을 1968년에 다시 쌓은 탑으로, 일명 ‘봉상사(奉常寺)탑’이라고도 한다. 통일신라의 일반적인 석탑양식을 따르고 있으나, 기단이 1층으로 줄어들고, 탑신의 1층 몸돌이 다른층에 비해 지나치게 큰 점 등으로 보아 통일신라 후기의 작품으로 추측된다.',\n",
       " '숭림사는 고려 충목왕 1년(1345)에 세워졌다. 절 이름은 중국의 달마대사가 숭산 소림사에서 9년간 앉아 도를 닦았다는 옛 이야기를 기리는 뜻에서 지었다고 한다. 법식과 기법이 특징인 조선 후기 건축물로 건축 연구에 도움이 될 수 있는 자료로 주목받는 문화재이다.',\n",
       " '고성 장산숲은 약 600년 전 조선 태조(재위 1392∼1398) 때 호은 허기 선생이 마을의 지형적 결함을 보충하기 위하여 조성한 숲이라고 전해진다. 처음에는 길이가 1000m에 달했다고 하나 지금은 길이 100m, 폭 60m 정도만이 남아있다.',\n",
       " '‘월정사 탑돌이’는 일제강점기와 6.25를 거치면서 면면히 이어져 내려오던 것을, 1969년 주지로 부임한 만화(萬化)스님이 전통적 탑돌이를 복원해 체계화 시켜나갔다. 이후 ‘월정사 탑돌이’는 1980~90년대 침체기를 거치다가 2004년 오대산불교문화축전에서 시연한 이후 매년 봉행되기 시작했다. 탑돌이는 월정사뿐만 아니라 ‘법주사팔상전탑돌이’, ‘충주중앙탑돌이’, ‘통도사탑돌이’, ‘만복사탑돌이’ 등이 행해지고 있으나, 무형문화재로 지정된 것은 ‘월정사 탑돌이’가 유일하다.',\n",
       " '법주사 궁현당은 원래 법주사 선당(禪堂)으로 중수(重修)된 건물이다. 현존하는 상량문에 의하면, 궁현당 선당은 ‘숭정기원사임자년(崇禎紀元四壬子年)’ 즉 조선 철종 3년(1852)에 퇴락된 기존 건물을 철거한 뒤 중수하였다고 기록되어 있다.',\n",
       " '국립경주박물관에서 발굴조사하여 9기의 도자기와 기와를 굽던 가마터를 발견했다. 가마바닥에서 출토된 ‘건륭’이 새겨진 암막새는 가마터가 없어질 당시의 것으로 생각되며, 가마터의 제작시기를 고려시대부터 조선시대 후기까지로 추정하게 한다. ※(경주동방와요지군 → 경주 동방동 와요지)으로 명칭변경 되었습니다.',\n",
       " '직지사에 모셔져 있으며 광배와 불상을 하나의 돌로 만들었다. 불상의 머리는 민머리이고 정수리 부근에는 상투 모양의 머리(육계)가 큼직하게 표현되었다. 얼굴은 마모가 심해 세부표현을 자세히 살필 수 없지만, 둥글고 원만한 인상이다.',\n",
       " '관음사 사찰 내 대웅전 앞에 자리하고 있는 석탑으로, 2층 기단(基壇) 위로 3층 탑신(塔身)을 올린 형태이다. 전체적으로 돌을 다듬은 수법으로 보아 고려시대에 세운 것으로 추측된다.',\n",
       " '학창의는 조선시대 덕망있는 학자가 입었던 옷으로 지금의 두루마기와 비슷하나 소매가 넓고 겨드랑이쪽에 다른 폭의 천을 댄 무가 있는 옷이다. 그러나 이 옷은 남색명주로 만들고 가장자리를 흑색 선으로 둘렀으며 흰 비단으로 동정을 달았다.',\n",
       " '전라남도 도청 앞뜰에 놓여 있는 8각 석등으로, 불을 밝혀두는 화사석(火舍石)을 중심으로 아래에는 3단의 받침을 두고, 위에는 지붕돌과 머리장식을 올렸다. 원래 대황사의 옛터에 남아있던 것을 도청 앞 무덕전 앞마당 담장 안에 옮겼다가 공사로 인해 현재의 자리에 세웠다.',\n",
       " '중국 삼국시대 당시의 정치가였던 제갈공명을 모시는 사당이다. 기와지붕을 얹은 건물로, 내부로 들어가면 2m 크기의 제갈공명 석고상과 함께 2.5m 높이의 관운장의 석고상이 있고, 그밖에 대북·소북·종 등 의식용 악기들을 갖추고 있다. 조선시대 후기 고종의 후궁이 된 엄상궁이 처음 세웠다고 전하는데, 1924년 화재로 훼손되었다가 1934년 재건되어 지금에 이르고 있다.',\n",
       " '청주 한씨 시조인 한란(韓蘭)의 유적지에 세워놓은 비이다. 17세기 역사지리학의 대가이며 청주한씨 후손인 한백겸에 의해 시조의 옛 터가 고증되어 세운 비라는 점에서 커다란 역사적 가치를 지닌다.',\n",
       " '‘헌병 부위 예복 및 상복(홍철유)’은 1900년 육군무관학교를 졸업하고 1905년 11월에 정3품 통정대부, 헌병대 육군헌병부위로 근무하였던 홍철유(洪哲裕)가 착용하였던 군복으로, 총 2건 8점으로 구성되어 있다. 해당 유물은 대한제국기 군복에 대해 구체적인 양상을 파악하기 어려운 상황에서, 대한제국기 착용했던 육군 군복에 대해 병과별, 계급별 제작 양상을 알 수 있어 가치가 높다.',\n",
       " '그 중 지산동 무덤들은 겉모습이 확실하고 봉분이 비교적 큰 무덤에 한하여 번호를 매겨 지금은 72호 무덤까지 정해져 있다. 이들 무덤의 겉모양들은 모두 원형의 봉토를 하고 있고, 봉토의 규모에 따라서 대형·중형·소형무덤으로 구분한다.',\n",
       " '범어사에 소장되어 있는 나무로 만든 석가여래위패인데, 불·보살의 명칭을 적어 불단에 봉안하던 불명패(佛名牌)로 일종의 위목대(位目臺)이다. 다만 좌·우 주연에는 구름·용무늬가 조각되어 있으며, 액(額)에는 금가루로 쓴 ‘석가여래위(釋迦如來位)’라는 발원명이 있고, 대좌가 엎어놓은 연꽃무늬 10잎이 새겨져 있는 아랫받침돌과 위로 향한 연꽃무늬 10잎이 새겨져 있는 윗받침돌로 구성되어 있는 점 등에서 약간의 차이가 날 뿐이다.',\n",
       " '경상북도 북부지방 서민가옥에서 많이 채택된 까치구멍집으로 정면 3칸, 측면 2칸 규모이다. 사랑부분의 마루를 도입한 평면구성, 까치구멍집의 전형을 지니고 있는 점, 여러 곳에 수납공간을 설치하고 상이한 간살에 따른 결구법 등 서민가옥의 민속적 특징 및 구조법을 지니고 있다.',\n",
       " '따라서 이 비석은 연도가 오래 되었을 뿐만 아니라 당대의 다른 비석에 비해서도 그 형태가 특이하다. 비수를 두 마리의 용이 여의주를 보호하는 형태로 만들되, 여의주가 비수 크기에 비해 상대적으로 커 보이며 두 마리 용의 입으로부터 여의주에 이르기까지가 파여 있어서 여의주가 상대적으로 매우 돋보이게 표현되어 있다.',\n",
       " '이덕형 초상 초본은 조선 중기 임진왜란과 병자호란 이후에 그려진 공신초상화이다. 작품은 얼굴 방향이 왼쪽인 좌안칠분상(左顔七分像)으로 세밀하게 묘사된 얼굴, 음영 없는 얕은 담채, 낮은 검은 색 관모 등이 사실적으로 표현되어 이덕형의 인품이 잘 드러난다.',\n",
       " '신도비란 왕이나 고관 등의 평생업적을 기록하여 그의 무덤 가까이에 세워두는 것으로, 이 비는 조선 중기의 무신인 최희량 장군을 기리고 있다. 최희량(1560∼1651)은 35세 되던 선조 27년(1594)에 무과에 급제하였다. 정유재란이 일어났을 때에는 흥양현감으로서 이순신 장군의 지휘 아래 큰공을 세웠으며, 적의 포로로 있던 신덕희 외 700여 명이 살아서 돌아올 수 있게 하였다.',\n",
       " '조선 후기 학자인 제산(霽山) 김성탁(金聖鐸, 1684~1747)이 18세기 초에 지어 거주한 살림집이며, 종택 오른편의 우곡초당(雨谷草堂)은 그가 1718년에 건립하여 후학을 양성한 곳이다. 종택과 우곡초당은 건립연대를 가늠할 수 있는 세부형식을 비롯한 구조양식과 평면구성이 19세기 건립 당시로부터 큰 변화 없이 잘 보전된 건물이다.',\n",
       " '괘불이란 절에서 큰 법회나 의식을 열 때 법당 앞에 걸어 놓고 예배를 드리는 대형 불화를 말하며, 광덕사의 이 괘불은 노사나불을 중심으로 그린 것이다. 전체적인 구도는 머리에 보관(寶冠)을 쓴 노사나불을 다른 형상보다 크게 그려 중앙에 배치하고 주위에 2대 보살·2대 제자·사천왕을 그려 넣은 모습이다. 붉은색과 녹색을 주로 사용하였으며 배경에는 군데군데 구름을 그려 넣어 밝고 선명한 채색과 더불어 화려함을 더해준다.',\n",
       " '아미타삼존의 상단부에는 음각으로「南無阿彌陀佛」이라고 깊이 새겨져있으며, 각 글자의 너비는 약 14cm정도이다. 그리고 우협시보살상의 우측에는 縱으로 약 4cm 정도의 너비의 글자가 음각으로「世尊應化二千九百三十三年四月 日」이라고 새겨져 있다. 또한 삼존의 아래에는 ‘姜膺秀’, 삼존이 새겨진 암석의 향좌측 측면 암석에는 향좌부터 ‘李瑀榮’, ‘安珪行’, ‘郵創玉’, ‘鄭基南’의 발원자명이 음각되어 있다.',\n",
       " '『선림보훈』은 고려 우왕 4년(1378)에 충주의 청룡선사(靑龍禪寺)에서 간행한 서책으로, 선사들의 도와 덕에 관한 교훈을 모은 선서(禪書)이다. 삼성미술관 리움 소장의 동일한 판본이 이미 보물 제700호로 지정되어 있듯이 고려 말기부터 조선으로 이어지는 시기의 우리 불교 사상이나 선종의 흐름을 살필 수 있는 귀한 자료이다. 또한 서책 간행과 관련된 거의 모든 사실이 기록으로 남아 있어서 고려 말기 지방 사찰본의 간행 특징을 살필 수 있다.',\n",
       " '고려 공민왕(재위 1351∼1374) 때 지어진 영광향교는 선조 15년(1582)에 수리되었다. 임진왜란(1592) 때 불타 없어진 것을 다시 복원하였으며, 현재의 건물들은 조선 후기에 지어진 것으로 보인다. 향교는 훌륭한 유학자를 제사하고 지방민의 유학교육과 교화를 위하여 나라에서 지은 교육기관이다.',\n",
       " '고려시대에 만들어진 뚜껑이 있는 그릇(합)으로 높이 9.9cm, 아가리 지름 18.3cm의 크기이다. 고려시대에 크게 유행한 문양을 파내고 은실을 박아 장식하는 은입사 기법을 사용하여 제작한 그릇으로, 아래 몸통과 뚜껑의 크기가 같아 안정감 있게 보인다. 용도는 사찰에서 사용된 향합으로 추측된다.',\n",
       " '묘법연화경은 줄여서 ‘법화경’이라고 부르기도 하며, 부처가 되는 길이 누구에게나 열려 있다는 것을 중요사상으로 하고 있다. 천태종의 근본 경전으로 화엄경과 함께 한국 불교사상 확립에 크게 영향을 끼친 경전이다.',\n",
       " '대부분의 향교는 명륜당과 대성전이 일직선상에 놓여 있는데, 예안향교는 왼쪽에 비켜서 있는 점이 특이하다. 조선시대에는 국가로부터 노비·토지·책 등을 지급받아 학생들을 가르쳤으나, 갑오개혁(1894) 이후 교육의 기능은 없어지고 제사의 기능만 남아있다.',\n",
       " '청송사 소나무는 산청군 시천면 중산리 대한불교 조계종 청송사 경내에 있는데 높이가 14~17m, 둘레가 3.9m이다. 신라 말기 학자인 최치원이 전국을 유람하다가 지리산 밑에 있는 청송사에 이르러 소나무를 심었으나, 초기에 죽고 그 뒤 한 그루의 소나무가 살아난 것이 지금의 청송사 소나무라고 전하고 있다.',\n",
       " '조선 중기의 문신이자 문장가인 송천(松川) 양응정(1519∼1581) 선생의 묘소이다. 현재 묘역에는 묘 앞에 상석과 향로석, 신도비(神道碑:왕이나 고관 등의 평생업적을 기리기 위해 무덤 근처 길가에 세운 비)가 있는데 비문은 민병승이 지었다. 이곳에는 선생의 아들이며 진주성 전투에서 순절한 충민공 양산숙의 묘와 선생의 손자인 한림학사 양만용의 묘가 함께 있다.',\n",
       " '신도비란 왕이나 고관 등의 평생업적을 기록하여 후세에 전하고자 그의 묘 남동쪽에 세워두는 것으로, 이 비는 조선 선조 때의 문신인 김용(1557∼1620) 선생의 행적을 기리고 있다. 비각안에 있는 비는 낮은 사각받침돌 위로 비몸을 세우고, 반달모양의 머릿돌을 올린 모습이다. 조선 고종 29년(1892)에 세운 것으로, 권연하가 비문을 짓고, 김한락이 글씨를 썼다.',\n",
       " '백제 때에 재상을 선출하던 곳이다. 또한 임금바위, 신하바위 위에서는 임금과 신하가 각각 하늘에 제를 올리고 기원했다는 전설도 같이 전하고 있다. 하늘을 받들고 섬기던 부족사회로의 풍습이 백제 때에도 여전히 남아 재상임명 등 나라의 중대사를 결정하는 일에 커다란 영향을 주었음을 보여주는 중요한 유적지이다.',\n",
       " '이 작품은 『조당집(祖堂集)』에 근거하여 가섭존자부터 중국의 육조 혜능 스님까지 33명의 조사를 11폭으로 나누어 그린 선종 33조사도로서 우리나라에 유일하게 남아 있는 33조사도이다. 현존하는 유일한 33선종조사도라는 희귀성과 함께 도상의 구성방식과 정취한 필치 등에서 뛰어남을 보여주고 있다.',\n",
       " '월성은 신라 궁궐이 있었던 도성이다. 성의 모양이 반달처럼 생겼다하여 반월성·신월성이라고도 하며, 왕이 계신 성이라 하여 재성(在城)이라고도 한다. 『삼국사기』에 의하면 파사왕 22년(101)에 성을 쌓고 금성에서 이곳으로 도성을 옮겼다고 전한다.',\n",
       " '독락당은 회재 이언적 선생의 제사를 받드는 옥산서원 뒤편에 있는 사랑채이다. 이언적(1491∼1553) 선생이 벼슬을 그만 두고 고향에 돌아온 뒤에 거처한 유서 깊은 건물이라고 한다. 조선 중종 11년(1516)에 지은 이 건물은 낮은 기단 위에 세운 앞면 4칸·옆면 2칸 규모로, 지붕은 옆면에서 볼 때 여덟 팔(八)자 모양을 한 팔작지붕이다.',\n",
       " '청양향교를 처음 지은 연대는 알 수 없으나 조선 전기 이곳에 이미 향교와 문묘가 있었다고 전한다. 지금 남아 있는 건물들은 조선 중기 이후의 것으로 고종 11년(1874)과 1904년 등 여러 차례 수리하였다.',\n",
       " '송정역은 운산, 단촌역과 유사한 형태로 1940년대의 역사 건축 모습을 살펴볼 수 있는 문화재이다. 동해남부선은 동해안의 해산물과 연선(沿線) 지방의 자원 수송을 목적으로 부설한 것이다.',\n",
       " '큰 사발(大鉢)의 형상을 한 보은 법주사 철솥은 높이 1.2m, 지름 2.7m, 둘레 10.8m, 두께 10∼3cm의 거대한 크기로, 상부의 외반된 전이 달린 구연부는 둥글게 처리하였고 기벽(器壁)의 두께는 3∼5cm 정도이며 무게는 약 20여 톤으로 추정된다. 이 철솥은 국내에 전하는 사례가 매우 희귀할 뿐만 아니라 거의 완벽한 조형상태를 유지하고 있다.',\n",
       " '조선의 문신인 정수충(1401∼1469) 선생의 초상화 1폭과 그림을 옮겨 그리는 과정에 따르는 여러 사항들을 기록한 1권의 책이다. 이 초상화는 선생이 공신에 올랐을 때 왕명에 의해 그렸던 공신상을 옮겨 그린 것으로 생각되며, 신숙주·이숭원 선생의 초상화와 같은 양식을 보인다.',\n",
       " '향교는 훌륭한 유학자를 제사하고 지방민의 유학교육과 교화를 위하여 나라에서 지은 교육기관이다. 지어진 연대는 확실히 알 수 없으나 정유재란(1597)으로 불타 없어진 것을 선조 32년(1599)에 초가집으로 다시 지었으나 위치가 좋지 않다고 해서 인조 3년(1625)에 현 위치로 옮겼다.',\n",
       " '해남 진양주는 원래 궁중의 술로 영암군 덕진면의 광산 김씨 집안에 후실로 들어온 최씨 성의 궁인(宮人)이 비법을 전수했다고 전한다. 만드는 방법은 먼저 찹쌀 1되에 물 5되를 부어 죽을 쑨 뒤 찬 기운이 들도록 식힌다. 해남 진양주는 경주법주보다 강한 향기가 나며 알콜농도는 13% 내외이다.',\n",
       " '할미성이라고도 불리는 충청북도 진천군 진천읍의 대모산성은 『삼국사기』 전투기사에 보이는 모산성(母山城)으로 추정되고 있다. 남쪽으로 넓은 평야를 끼고 낮은 구릉지 위에 쌓은 포곡식 산성으로 내·외성과 자성(子城)을 갖춘 특이한 형식이다.',\n",
       " '용암정은 조선 순조 1년(1801)에 용암 임석형(1751∼1816) 선생이 바위 위에 지은 정자이다. 아름다운 풍경과 더불어 고결한 선비의 모습을 하고 있는 정자 안에는 ‘용암정(龍巖亭)’, ‘반선헌(伴仙軒)’, ‘청원문(聽猿門)’, ‘환학란(喚鶴欄)’이라고 쓴 액자가 걸려 있다.',\n",
       " '이 유적은 1992년 10월부터 1993년 5월까지 약 7개월에 걸쳐 발굴조사가 실시된 경남 창원시 의창구 동읍 육군종합정비창 내에 있는 청동기시대 유적이다. 이곳에서는 지석묘 23기, 수혈2기, 환호를 비롯하여 묘역으로 판단되는 길이 62.3m, 너비 21m의 대규모 석축시설이 확인되었다.',\n",
       " '조선시대 만들어진 백자로 검은색 안료를 사용하여 줄무늬를 그려 놓은, 높이 31.4cm, 아가리 지름 7cm, 밑지름 10.6cm인 술병이다. 이 병은 16세기 후반경의 것으로 귀할 뿐 아니라, 끈을 목에 매고 밑으로 늘어뜨린 특이한 문양으로 조선 초기의 대표적 작품이다.',\n",
       " '고려말 조선초의 부윤(府尹:종 2품의 관직)인 전득우 장군의 묘소이다. 이 묘비는 왕이 하사한 것으로, 국가에서 공을 세운 신하에게 행하는 준예장(準禮葬)으로서 그 예가 희귀하여 문화재적 가치가 크다.',\n",
       " '묘법연화경 중 권4에서 권7에 해당하는 이 책은 태종 5년(1405)에 성달생·성개 형제가 죽은 아버지의 명복을 빌기 위해 옮겨 적은 불경을 신문(信文)이 목판에 새겨 찍어낸 것이다. 묘법연화경 중 권4에서 권7에 해당하는 이 책은 태종 5년(1405)에 성달생·성개 형제가 죽은 아버지의 명복을 빌기 위해 옮겨 적은 불경을 신문(信文)이 목판에 새겨 찍어낸 것이다.',\n",
       " '『도가논변모자리혹론』은 중국 한(漢)나라 사람으로 전하는 모자(牟子)가 당시 사람들이 불교에 가지고 있던 의혹을 해소하기 위해 쓴 글로, 일반적으로 『모자리혹론(牟子理惑論)』 혹은 『리혹론(理惑論)』으로 불린다. 조선시대 동안 『도가논변모자리혹론』은 목판으로 간행된 사례가 매우 희소하며, 그 중 개심사 판본이 현존 유일본이자 가장 오래된 목판이라는 점에서 사료적 가치가 크다.',\n",
       " '11세기경에 만들어진 고려 청자대접으로 높이 5.9cm, 아가리 지름 17.5cm, 굽지름 4.8cm이다. 이 청자대접은 무늬가 없는 무문대접에서, 한 단계 나아간 양식을 소개해 주는 초기 청자완으로, 고려 청자의 초기 역사를 밝혀주는 매우 중요한 유물이다.',\n",
       " '자연 암벽의 동서 양벽에 각각 마애삼존상을 선으로 조각한 6존상으로, 그 조각수법이 정교하고 우수하여 우리나라 선각마애불 중에서는 으뜸가는 작품으로 꼽히고 있다. 이 2구의 마애삼존상은 만들어진 시대나 조각자가 정확하게 알려져 있지는 않지만 대체로 통일신라시대로 추정되며, 오른쪽 암벽의 정상에는 당시 이들 불상을 보존하기 위해 법당을 세웠던 흔적이 남아 있다.',\n",
       " '이 불상은 강가 바위면에 본존불과 그 좌우에 서 있는 보살상을 각각 새긴 마애삼존불(磨崖三尊佛)이다. 이 마애불은 통일신라시대의 조각 흐름을 잘 보여주는 사실주의적 불상으로 높이 평가되고 있다.',\n",
       " '현재 서당이 있던 자리는 원래 한강 정구가 선조 24년(1591)에 조그만 글방을 지어 성리학을 가르치던 곳이다. 200년이 지난 정조 20년(1796)에 제자들이 집을 짓고 사창서당이라 하였다.',\n",
       " '이 마애불은 30m의 높은 바위에 새겨진 고려시대의 불상이다. 이처럼 경직된 얼굴 표정과 형식화된 몸체를 묘사한 마애불상은 인근에 있는 월출산 마애불좌상(국보 제144호)과 함께 당시 유행하던 커다란 돌 불상의 형식을 따르고 있어 이 지방 불상양식의 흐름을 잘 보여주고 있는 중요한 자료이다.',\n",
       " '광덕사는 신라 선덕여왕 12년(643) 자장율사가 지었고 흥덕왕 때 진산조사가 다시 지었다. 임진왜란으로 불타버리기 전에는 경기도와 충청도 지방에서 가장 큰 절 중 하나였다고 한다. 지붕은 옆면에서 볼 때 사람 인(人)자 모양인 맞배지붕이다.',\n",
       " '산내면 원서리에 있는 손태흥(孫泰興)씨의 고가는 “천석군(千石君)집”으로 불리던 남부지방에서 흔히 찾아 볼 수 있는 웅장한 멋과 건물의 구조와 배치에 여유를 한껏 부린 전통한옥이다. 정침(正寢)은 단층 팔작지붕의 목조와가로 정면 6칸, 측면 2칸이며, 사랑채는 단층 팔작지붕 목조와가로 정면 5칸, 측면 2칸이다.',\n",
       " '상입석리 마을 산에 서 있는 이 선돌은 높이 264cm, 너비 66cm인 사각형의 화강암으로 되어 있으며, 정면에는 보살상이 조각되어 있다. 고려시대에 인색하기로 소문난 부자가 살았는데, 그의 며느리만은 마음씨가 곱고 착했다.',\n",
       " '호남의 지붕으로 불리는 진안고원은 도요지의 보고이다. 진안고원에서도 도요지의 밀집도가 가장 높은 곳은 전북 진안군으로, 옹기의 몸을 이루는 태토가 많고 땔감이 풍성하여 옹기생산이 왕성하였다. 지정학적 이점이나 문화접변 지역으로서의 역동성이 진안고원 지역의 옹기문화에 내재되어 있으며 이는 해당 지역 옹기점 관습과 옹기의 조형성에서 구체적으로 드러난다.',\n",
       " '성흥사는 신라 흥덕왕 8년(833)에 무염국사가 세운 절이다. 전반적인 건축의 양식은 조선 후기의 양식적 특징을 보이며 기록과는 달리 대웅전은 근래에 고쳐지면서 원형에서 많은 변화가 있 었던 것으로 생각된다.',\n",
       " '이들은 모두 주석이 있는데 비하여 이 책은 반곽에 32자의 원문만 크게 인쇄된 것이다. 선지식(禪知識)을 연구하기 위한 목적과 함께 조맹부(趙孟부)의 송설체(松雪體)를 익히기 위하여 인쇄된 것으로 보이지만, 인쇄된 연대를 1316년으로 보기는 어려운 듯하다.',\n",
       " '부안 격포리의 후박나무 군락은 해안 절벽에 자라고 있는데, 바다에서 불어오는 바람을 막아주고 있어 그 안쪽에 있는 밭을 보호하는 방풍림의 역할을 하고 있다. 나무들의 높이는 4m 정도로 약 200m 거리에 132그루의 후박나무가 자라고 있으며, 주변에는 대나무가 많고 사철나무, 송악 등이 있다.',\n",
       " '능엄경은 전 10권으로 되어 있으며, 스님들이 수련과정에서 필수적으로 배우는 경전이다. 본서는 1461년(세조 7)에 교서관에서 을해자(乙亥字)로 간행한 금속활자본으로, 전체 10권 중에서 제2권과 제5권 등 2책만 남아 있는 영본(零本)이다. 능엄경은 전 10권으로 되어 있으며, 스님들이 수련과정에서 필수적으로 배우는 경전이다.',\n",
       " '계림사 석가삼존불좌상은 18세기 전반에 조성된 것으로 추정되며, 현재 계림사 대웅전에 봉안 중이다. 3구의 불상은 모두 불석(佛石)으로 보이는 돌로 제작되었으며, 양식상의 특징으로 보아 18세기 전반에 제작된 것으로 추정된다.',\n",
       " '본 작품은 화면 가운데 지장보살좌상을 중심으로 좌우에 원형두광을 갖춘 도명존자와 무독귀왕을 비롯하여 시왕, 판관, 사자, 동자 등의 권속들이 좌우대칭으로 정연하게 배치되어 있다. 높은 단 위의 백색 연화좌에 결가좌한 지장은 먹선으로 묘사한 투명한 두건을 쓰고, 가슴 위로 올린 오른손에는 보주를 들고 왼손은 무릎 위에 얹고 있다.',\n",
       " '충청남도 예산군 예산읍 산성리의 서북쪽에 있는 넓은 평야에 솟아 있는 낮은 야산에 흙으로 쌓은 성터이다. 이 성의 유래는 확실하지 않으나 예산이 백제의‘오산’ 혹은 ‘고산’이었던 점으로 보아 백제 때 이 지역의 중심터였던 듯하다.',\n",
       " '이 당간지주는 남간사의 옛터에서 약 500m 떨어진 논 가운데에 세워져 있다. 특별한 장식이 없는 소박하고 간단한 형태의 당간지주로, 보존된 상태도 양호한 통일신라 중기의 작품이다.',\n",
       " '전체 높이 15.5cm의 작은 크기로 가지고 다닐 수 있게 만든 호신불(護身佛)이다. 정수리 부근에 있는 상투 모양의 머리묶음이 매우 크게 표현되어 있는 것이 특징이다. 옷주름을 포함한 세부 표현 기법에는 통일신라시대 호신불의 특징을 보이고 있지만 전해오는 말에 의하면 월씨국(月氏國)에서 전래되었다고 한다.',\n",
       " '이 산성은 남해군 창선면 당항리 소재 금오산(해발 261m)의 정상을 둘러싸고 있는 테뫼식의 석축성이다. 산성으로 오르기까지의 경사가 매우 급해 접근이 용이하지 않으며, 성에서는 창선의 동쪽 해안과 삼천포 일대가 훤히 내려다보인다.',\n",
       " '속초사자놀이는 1950년대까지 북한에서 연희된 사자놀이가 넘어온 이주민속(移住民俗)의 하나로 그 원형이 현재까지도 전승되고 있는 귀중한 사례이다. 속초사자놀이는 정월대보름 전날부터 다음날까지 마을공동체와 함께 했던 마당놀이와 동네돌기(길놀이)를 재현하고 있다. 벽사진경의 의미와 가가호호를 순회하며 놀이를 펼치는 연희적 요소가 잘 조화 되어 있다.',\n",
       " '전라북도 정읍시 고부면 남복리 두승산에 있는 높이 1.81m의 석불로, 현재는 무릎 이하가 땅속에 묻혀 있다. 몸에 비해 큰 머리에는 작은 소라 모양의 머리칼을 붙여 놓았으며, 그 위에는 상투 모양의 머리묶음이 큼직하다.',\n",
       " '백령도 남포리 장촌해안의 단층 및 습곡구조는 장촌포구 서쪽해안 약 300m 지점인 용트림바위 바로 건너편 해안절벽에 있으며, 그 규모는 높이 약 50m, 길이 약80m 정도이다. 이 단층 및 습곡구조는 백령도 일대에 광범위하게 분포하는 선캄브리아기 백령층군의 장촌층이 동아시아 일대에 광범위하게 일어났던 고생대 말~중생대 초의 지각변동으로 형성되었다.',\n",
       " '「송준길 행초 서증손병하(宋浚吉 行草 書贈孫炳夏)」는 조선중기의 학자ᆞ문신ᆞ명필인 동춘당 송준길이 송(宋)나라 양시(楊時)의 칠언절구 「저궁관매기강후(渚宮觀梅寄康侯)」를 장지(壯紙) 네 장을 이어 붙여 대자 행초로 쓴 것이다. 말미에 “숭정기유청화춘옹서증손병하(崇禎己酉淸和春翁書贈孫炳夏)”라 하여 1669년 사월에 64세의 할아버지가 손자 송병하(字 子華)를 위해 써주었음을 알 수 있다.',\n",
       " '조선 중기의 무신 양무공 김완(1577∼1635) 장군의 영정과 위패를 모신 사당이다. 선조 30년(1597)에 정유재란이 일어나자 전라도 병마절도사 이복남 장군과 함께 용맹을 떨쳤다. 광해군 7년(1615) 무과에 급제한 후 여러 관직을 역임하였고 인조 2년(1624) 이괄의 난이 일어나자 공을 세워 3등공신으로 학성군에 봉해졌다.',\n",
       " '해방 이후 건축된 모더니즘 경향의 60년대 주거건축이 현재 거의 남아 있지 않은 상황에서 도지사 관사건물로서 간결하고 단순한 당시 모더니즘 주거건축의 특징을 잘 보여주고 있다. 1960년대에 건축가들이 즐겨 구사하던 스킵 플로어 타입의 주거건축으로 공적인 부분과 가족들의 사적인 부분이 적절하게 구분되어 있다.',\n",
       " '시천견록및서천견록(詩淺見錄및書淺見錄)는 우리나라 최초의 유교경전 해설서이다. 고려말·조선초의 유학자 양촌 권근(1352∼1409)이 지은 『오경천견록(五經淺見錄)』가운데 하나로서 『시경(詩經)』과 『서경(書經)』에 대한 해설을 하고 있다.',\n",
       " '제주도 민가의 일반적 형태인 초가집은 제주도의 자연환경과 가족구성 및 생활 양식을 반영하는 건축물이다. 외벽은 제주산 현무암을 쌓아 두르고, 지붕은 띠를 덮어서 직경 5cm가량의 굵은 동아줄로 바둑판처럼 얽어 놓은 점이 특이하다.',\n",
       " '원효암 입구에 있는 3층 석탑이다. 이 암자에는 원효대사가 창건하여 머물면서 왜병을 물리쳤다는 설화가 전하고 있으며, 서쪽으로 삼층석탑(부산시유형문화재 제12호)이 하나 더 서 있다. 전체적인 탑의 양식으로 보아, 통일신라 후기∼고려 전기 사이에 세워진 것으로 추정된다.',\n",
       " '이 정문경은 지름 21.2cm로 뉴가 2개이며 내구(內區), 중구(中區), 외구(外區)로 3등분 되어있다. 현존하는 잔무늬거울 가운데 크기면에서 가장 크고 문양도 가장 정교한 우리나라 초기철기시대를 대표하는 유물이라 할 수 있다.',\n",
       " '전북 고창군 수동리에 있는 분청사기 가마터로, 구릉 위 작은 저수지의 경사진 언덕에 자리하고 있으며, 가마벽 부분·도자기 만들던 도구·분청사기 조각들이 널려있다. 문양은 연꽃무늬, 물고기 무늬, 모란무늬 들이 대범하게 그려져 있다.',\n",
       " '범어사 등나무 군생지를 천연기념물로 지정하여 보호하는 것은 등나무가 무리지어 사는 것이 매우 드물기 때문에 생물학적 연구자료로서의 가치가 높기 때문이다. 범어사 등나무 군생지를 천연기념물로 지정하여 보호하는 것은 등나무가 무리지어 사는 것이 매우 드물기 때문에 생물학적 연구자료로서의 가치가 높기 때문이다.',\n",
       " '스므나골 재사(齋舍)는 괴정 남준형의 묘소를 관리하고자 1780년대에 건립한 것으로 전해지며, 괴정공의 증손인 회수(華壽, 號 明厓,1781~1851) 대에 중수한 건물이다. 천정은 고미반자로 마감하고 그 위 상부는 노출시켰으나, 부엌과 전면 우측 마루부분의 천정은 앙벽을 치지 않고 산자를 노출시킨 상태로 있다.',\n",
       " '조선시대 최대, 최고의 과학적 지도로 평가되는 대동여지도 를 제작하기 위해 사용된 목판이며, 현전하는 것으로 알려진 12장의 목판 중 11장이다. 숭실대학교 한국기독교박물관에 1장이 있다. 일부 해안 도서지역을 판각할 경우 전체 목판면의 일부만을 활용하게 되는데, 이 때 여백으로 남는 공간에는 다른 지역의 지도를 판각함으로써 목판의 활용도를 높인 사실도 확인할 수 있다.',\n",
       " '경주 남산 용장사곡 석조여래좌상(보물 제187호)의 뒤쪽 바위벽에 새긴 마애여래좌상이다. 아직 판독은 어려우나 글자가 10자 새겨져 있고, 보존 상태도 양호해 8세기 후반에 만들어진 우수한 작품으로 평가된다.',\n",
       " '남원시 용정동 앞산에 땅의 신(社)과 곡식의 신(稷)에게 제사하기 위해 쌓은 제단이다. 땅과 곡식이 없으면 백성이 살 수 없으므로 새로이 나라를 세우면 왕이 반드시 사직단을 만들어 백성을 위한 제사를 지냈다.',\n",
       " '마등령에서 신선암까지 능선을 가리키며, 공룡능선은 영동·영서를 분기점으로 구름이 자주 끼는 등 기상변화가 시시각각 변한다. 내설악과 외설악을 가르는 설악의 중심 능성이며, 내설악의 가야동계곡, 용아장성을 한눈에 바라볼 수 있을 뿐 아니라 외설악의 천불동계곡부터 동해 바다까지 시원하게 펼쳐진 절경을 볼 수 있는 곳이다.',\n",
       " '장흥 방촌리는 선사시대 유적이 다수 분포해 있고 백제시대 이래 고려시대까지 정안현-장흥부-회주목으로 이어지는 고을이 있던 지역이다. 이러한 역사 전통을 가진 방촌리의 입향 선조가 초기에 정착한 현 근암고택의 터는 역사공간으로서도 의미가 있고, 1905년에서 1907년 이전에 지어진 것으로 확인되어 방촌에 소재한 현존 가옥들 가운데 가장 오래된 점에서도 역사적 가치가 있다.',\n",
       " '영은사는 통일신라말에 범일조사가 지은 절이다. 내부에는 영조 36년(1760)에 그린 탱화 8점이 모셔져 있는데, 이는 부처님의 일생을 그린 것이다. 앞쪽은 겹처마이고 뒤쪽은 홑처마로 되어 있는데, 뒤쪽의 덧서까래를 앞쪽보다 길게 하여 건물의 균형을 맞추고 있다.',\n",
       " '대전광역시 유성구 지방 기상청 부지에 있는 청동기시대∼조선시대에 이르는 집자리 유적이다. 이곳의 유적에 대해서는 1994년에 한남대학교 박물관에서 발굴조사를 실시하였는데, 발굴조사 결과 집자리 유적 47기, 널무덤(토광묘) 7기, 독무덤(옹관묘) 2기, 저장구덩 2기가 확인되었다. 이들 유물·유적은 파괴가 심해서 원래의 모습을 유지한 것은 많지 않았다.',\n",
       " '1950년대 강화도 국화리에서 발견되었는데, 당시에 여섯조각으로 부서져 있던 것을 복원시켜 놓은 것이다. 바위 모양의 대좌(臺座) 위에 팔짱을 낀 채 작은 책상에 의지하여 오른쪽 무릎을 반쯤 일으켜 세우고 앉아 고개를 약간 숙이고 있다. 눈은 반쯤 뜨고 있는데, 눈썹과 눈이 수려하고 코는 오똑하다.',\n",
       " '묘법연화경은 줄여서 ‘법화경’이라고 부르기도 하며, 부처가 되는 길이 누구에게나 열려있다는 것을 중심사상으로 하고 있다. 천태종의 근본경전으로 화엄경와 함께 한국 불교사상 확립에 중요한 영향을 끼친 경전이다. 이 책은 닥종이에 찍은 목판본으로 크기는 세로 32.5cm, 가로 23cm이며, 2책으로 만든 권7의 내용 중 뒷부분에 해당한다.',\n",
       " '묘법연화경 7권 가운데 마지막 권에 해당하는 이 책은 고려 고종 27년(1240)에 최이(崔怡)의 명령에 따라 송나라 계환(戒環)이 해석한 것을 바탕으로 간행한 것이다. 닥종이에 찍은 목판본으로 마치 병풍처럼 펼쳐서 볼 수 있는 형태이며, 접었을 때의 크기는 세로 26cm, 가로 8.7cm이다.',\n",
       " '황금리는 담양군의 서남부에 위치하는데 영산강 본류에 증암천이 합류되는 지점에서 북쪽으로 100m 정도 떨어진 평지에 위치하고 있다. 마을 북쪽은 삼인산에서 내려오는 구릉이 충적지에 이어지면서 평지를 이루고 남쪽은 영산강변의 충적지가 펼쳐져 있다.',\n",
       " '원나라의 염상이 석가여래의 탄생에서 고려 충숙왕 3년(1334)까지의 고승대덕(高僧大德)의 전기를 편년체(編年體:사건을 시간의 순서대로 기록하는 역사서술의 한 방식)로 수록한 책이다. 모두 22권 10책으로 구성되었는데 현재 범어사에는 권2∼5가 빠져 9책만이 소장되어 있다. 조선 전기의 목판 인쇄와 왕실의 불교신앙 양상을 알 수 있는 중요한 자료이다.',\n",
       " '경상북도 의성군 단북면 정안리에 있는 불상으로, 커다란 신체에 비해 어딘지 모르게 탄력이 없어 보이고 어색한 자세를 취하고 있다. 오른손이 없어지고 약간의 손상이 있으나 통일신라 후기의 불상 양식을 잘 나타낸 뛰어난 작품이다. 네모진 얼굴과 평면적인 신체는 형식적인 모습이 보여 고려시대 불상의 특징을 잘 나타내고 있다.',\n",
       " '갑사는 백제 구이신왕 원년(420)에 아도화상이 처음 지었고, 통일신라 문무왕 19년(679)에 의상이 고쳐 지었다고 한다. 팔상탱화는 석가여래의 일대기를 8부분으로 나누어 그린 그림이며, 신중탱화는 불교의 호법신을 묘사한 그림으로 호법신은 대개 우리나라 전통의 신들이다.',\n",
       " '창녕 동산서당 소장 책판은 광주노씨(光州盧氏)문중 여러 선인들의 문집을 인출(印出)하기 위해 제작된 것으로 시기는 1800년∼1900년대에 걸치는 것이다. 이들 문집 책판은 광주노씨창녕문중의 여러 세대에 걸쳐 생몰시기가 다른 일가 20여명 제선생(諸先生)의 문집 원판으로서 이것이 흩어지지 않고 모두 한곳에 일괄 보관되어 오고 있는 점은 매우 의미가 있는 일이다.',\n",
       " '유허비란 옛 선현의 자취를 살피어 후세에 전하고 이를 계기로 그의 공적을 기리기 위해 세워두는 것으로, 이 비는 조선시대 전기의 문신인 대전 이보흠 선생의 행적을 적고 있다. 이보흠(1397∼1457) 선생은 세종 11년(1429) 과거에 급제하여 동부후도관과 사정을 거쳐 집현전 박사가 되었다. 비각 안에 있는 비는 받침돌 위로 비몸을 세우고 머릿돌을 올려놓은 모습으로, 조선 인조 7년(1629) 선생이 어린시절을 보내었던 이곳에 세워 두었다.',\n",
       " '이 당간지주는 홍성읍내의 경작지 한가운데에 78cm 간격을 두고 마주 서있다. 높이가 4.8m 이고 다소 무거운 느낌을 주는 이 당간지주는 고려 중기에 조성된 것으로 추정된다.',\n",
       " '이 집은 백일헌(白日軒) 이삼(李森)이 이인좌의 난(1728년)을 평정한 공로가 인정되어 영조 임금이 내린 하사금으로 지었다. 자연 경사지에 지은 집으로 동쪽을 바라보고 있는 대문채를 들어서면 조선시대 상류주택의 구성 요소인 안채와 사랑채가 ‘ᄆ’자형을 이루어 남쪽을 향하고 있다.',\n",
       " '국문학자이자 시조작가인 가람 이병기(1891∼1968)의 생가이다. 주된 공적은 시조에서 이루어졌지만 서지학과 국문학 분야에도 많은 업적을 남겼다. 특히 신재효의 판소리 등을 발굴 소개한 공로는 크다.',\n",
       " '홍성군 결성면 소재 결성읍성은 치소(治所)를 석당산성(石堂山城)으로 옮긴 후 51년만인 1451년에 완축(完築)하였고 『세종실록지리지』와『신동국여지승람』, 『충청도읍지』, 『여지도서』 등에 기록이 전하고 있다. 홍성 결성읍성은 원래의 결성현 치소였던 석당산성 대부분을 포용하며 넓혀 쌓은 읍성으로서 조선조 읍성연구와 결성면의 역사성을 밝히는 역사적·학술적 중요 자료이다.',\n",
       " '무을농악은 구미시 무을면 일대에서 전승되는 농악이다. 따라서 현재 전승되는 무을농악은 마을의 여러 가지 행사와 관련된 복합적인 내용이라 할 것이다.',\n",
       " '하연(1376∼1453) 선생과 그 부인 성산 이씨의 영정이다. 조선 세종 때 문신으로 대제학을 거쳐 영의정을 지낸 인물이다. 그 기법이나 재료의 질감으로 보아 다시 그려진 것 같으며 그 조성시기는 130∼180여 년 정도로 추정된다.',\n",
       " '조선시대에 만들어진 커다란 백자 항아리로, 크기는 높이 49.0cm, 아가리 지름 20.1cm, 밑 지름 15.7cm이다. 이 항아리는 대형일 뿐 아니라 시원하고 당당한 모습이 17세기 말경부터 18세기 중엽 백자의 대표작이라 할 만하다.',\n",
       " \"‘고흥 소록도 4·6 사건 진정서 및 성명서’는 소록도 갱생원의 부정과 인권 유린에 맞서 한센인들이 자유와 인권의 목소리를 낸, '김상태 원장 해임 운동(1953년)' 및 '소록도 4·6 사건(1954년)'과 관련된 유물이다. 해당 유물은 4·6 사건의 경과와 내역을 알려주고 있으며, 자유와 인권을 외친 한센병 환자들의 목소리를 보여주는 직접적인 유물로서 중요한 가치를 지니고 있다.\",\n",
       " '대조사 원통보전 앞에 서 있는 탑으로, 일부만 남아있던 것을 1975년에 다른 일부를 찾아 다시 세운 것이다. 위로 올라갈수록 줄어드는 비율이 비교적 낮아 안정감을 주고 있는 탑으로, 고려시대에 세운 것으로 추측된다.',\n",
       " '이 마애불상은 ‘경주 단석산 신선사 마애불상군’(국보 제199호)에서 북쪽으로 약 2km 거리에 위치한 암벽에 새겨진 높이 6.8m에 달하는 대형의 마애불좌상이다. 이러한 경향은 신라 말에서 고려 초기에 걸친 대형의 마애불에서 일반화된 형식이다.',\n",
       " '남미질부성은 경상북도 포항시 흥해읍 남쪽 평지 위에 돌출한 구릉지를 이용하여 쌓은 성이다. 여기서의 미실성이 이 성을 가리키는 것으로 보이며, 성곽의 축조가 이때 이루어진 것임을 알 수 있다.',\n",
       " '전체적으로 원형을 잘 보존하고 있으며, 수리할 때 일부 못이 사용된 곳을 제외하면 모두 전통 짜임이나 나무못에 의한 결구방식을 보여주는 작품이다. 이 상은 1층 천판 하부에 기록된 묵서명(墨書銘)에 의해 일본에 파견된 조선시대 마지막 통신사였던 1811년 신미통신사행(辛未通信使行) 때 사용하였던 동래부 소유의 인상(印床)으로 판단된다.',\n",
       " '등록문화재 제717호 「운강선생유고 및 부록(雲岡先生遺稿 및 附錄)」은 구한말 대표적인 항일 의병장인 운강 이강년(雲岡 李康秊, 1858~1908)이 1908년 서대문형무소에서 순국한 후 제천지역 의병들이 그가 남긴 글과 의병활동 내용을 기록한 필사본 3책이다. 운강 이강년은 명성황후 시해 사건이 일어난 다음 해인 1896년, 고향인 경상북도 문경에서 의병을 일으켜 충청북도 제천 등지에서 활동하였고, 군대 해산 후 의병을 재건하여 충청도와 강원도의 산악지대를 넘나들며 일본군을 상대로 군사 활동을 전개하다 붙잡혀 1908년 10월 13일 서대문형무소에서 순국하였다. 정부에서는 고인의 공훈을 기리기 위하여 1962년 건국훈장 대한민국장을 추서하였다.',\n",
       " '수산제는 경남 밀양에 있었던 관개용 저수지로서 원삼국시대에 축조되었다고 추측된다. 『세종실록지리지』·『신동국여지승람』을 보면 후대에도 여러 번 제방을 고쳐 쌓은 기록이 나타나는데, 임진왜란(1592) 이후에 황폐하여 이용하지 못하였다고 한다. 1928년까지 황토흙으로 된 제방의 일부가 남아 있었으나 지금은 없어지고 저수지는 논으로 변하였다.',\n",
       " '구한말 둔헌 임병찬(1851∼1916) 선생이 일본의 침략으로부터 나라를 구하고자 의병들을 모아 훈련시켰던 곳이다. 임병찬 선생은 불법적인 을사조약이 체결된 이듬해인 1906년 면암 최익현 선생과 무성서원에서 의병을 일으켰으며, 순창전투에서 일본군과 싸우다 최익현과 함께 붙잡혀 대마도로 유배되었다.',\n",
       " '충장공 한백록(1555∼1592)의 묘역과 정문(旌門)이다. 한백록은 임진왜란 때 옥포해전과 합포해전 등에서 활약하였으나 미조항전투에서 전사하였다. 그 후 영조 21년(1751)에 그에 대한 정려가 내려졌다.',\n",
       " '이 염전은 비금도의 주민들이 염전조합을 결성하여 조성한 것으로 경기·인천 지역의 염전을 제외하고는 설립 당시 국내 최대 규모였다. 넓은 염전 지대의 저수지, 증발지(蒸發池), 결정지(結晶池), 해주(海宙, 鹹水溜)가 조화를 이루어 천일염전의 형태를 잘 보여 준다. 특히 비금도에는 ‘천일염전 기술자 양성소’를 설치하여 염전 기술자를 양성하였고, 여기에서 배출된 기술자들이 인근 도서 지역과 완도, 해남, 무안, 영광, 고창, 부안, 군산 등지에 진출하여 천일염전 조성 공사에 참여함으로써 광복 후 우리나라 염전 발전사에서 중요한 역할을 했다.',\n",
       " '생육신의 한분인 경은 이맹전(1392∼1480)을 추모하여 세운 건물로, 조선 정조 10년(1786)에 임금의 명으로 지어졌다. 앞면 3칸·옆면 2칸 규모이며, 지붕 옆면이 사람 인(人)자 모양인 맞배지붕집이다.',\n",
       " '이 곳은 조선시대 시인인 고산 윤선도(1587~1671)가 제주도로 가다가 보길도의 자연에 감동하여 머물며 만든 원림이다. 보길도의 아름다운 자연과 어우러진 이 원림은 우리나라 고유의 자연관과 성리학의 사상이 함께 녹아있으며, 자연과 사람이 하나가 되는 모습에서 윤선도의 뛰어난 안목을 엿볼 수 있다.',\n",
       " '조선 연산군(재위 1494∼1506) 때 무오사화(1498)로 순천에서 귀양살이를 하던 김굉필과 조위가 돌을 쌓아 대(臺)를 만들었다. 갑자사화(1504)로 김굉필과 조위가 죽고, 명종 18년(1563)에 이정(李禎)이 그들을 추모하여 그 자리에 다시 비석을 세웠다.',\n",
       " '세종25년(世宗;1443) 전라도 화암사(花岩寺)에서 찍은 목판본으로 당대의 명필인 성달생(成達生)*이 쓴 것이다. 이와 동일한 판본으로 전남 영광군 군남면 용암리 월명산 890번지 소재 연흥사(烟興寺) 소장(所藏) 『묘법연화경(妙法蓮華經)』이 전라남도 유형문화재(全羅南道 有形文化財) 175호로 지정되어 있으며 이 책은 화암사판의 번각본(飜刻本:한 번 새긴 책판을 본보기로 삼아 그 내용을 다시 새긴 책)으로 보인다.',\n",
       " '조선 후기의 문신인 유백증(1587∼1646) 선생의 초상화이다. 유백증은 광해군 15년(1623) 인조반정에 공을 세워 기평부원군에 봉해졌고, 이후 대사간과 이조참판을 지내었다.',\n",
       " '부안 내소사 동종(扶安 來蘇寺 銅鍾)은 고려 시대 동종의 양식을 잘 보여주는 종으로 높이 103cm, 입지름 67cm의 크기이다. 고려 고종 9년(1222)에 청림사 종으로 만들었으나, 조선 철종 원년(1850)에 내소사로 옮겼다. 한국 종의 전통을 잘 계승한 종으로, 그 표현이 정교하고 사실적이어서 고려 후기 걸작으로 손꼽힌다.',\n",
       " '조선 17대 효종(재위 1649∼1659)의 후궁 안빈 이씨(1622~1693)의 무덤이다. 묘소에는 문석인, 망주석, 장명등, 상석, 묘표석 등이 있으며, 묘표석 앞면에는 ‘조선국안빈경주이씨지묘(朝鮮國安嬪慶州李氏之墓)’라 새겨져 있다.',\n",
       " '일명 파리장서 사건이라 하는데, 이곳 용강정사와 임리정은 유림들이 모여 서한을 작성하고 총의를 모아 준비한 결집장소로 사용되었다. 용강정사는 건축의 짜임새 및 구조 상태가 우수하며, 임리정은 주변 경관과 조화를 이루는 배치를 이루고 있어 문화재자료로 지정하여 보존하고 있다.',\n",
       " '「권수정혜결사문」은 고려 중기 고승 지눌이 1190년에 승려들이 선정과 지혜를 함께 닦을 것을 강조하여 찬술하였다. 본서(本書)는 ‘1608년’ 및 ‘ 송광사(松廣寺)’라는 명확한 간행기록이 남아 있고, 시주자에 대한 기록 및 인출⋅보존 상태가 완전하여 양호(良好)한 책이다.',\n",
       " '임진왜란 때 허물어진 대구토성을 돌로 다시 쌓은 후 이를 기념하고자 세운 비이다. 광무 10년(1906)에 성은 헐리게 되었고, 비는 1932년 향교로 옮겨 보존되다가 1980년 지금의 자리로 옮겨 놓았다.',\n",
       " '통도사는 우리나라 3대 사찰 중 하나로 신라 선덕여왕 15년(646)에 자장율사가 석가모니의 사리와 의복 1벌을 당나라에서 가져와 모시고 세운 절이다. 현재는 대웅전을 비롯하여 극락전, 약사전, 관음전, 응진전, 장경각 등 총 65동의 건물이 있다.',\n",
       " '송나라 계환(戒環)이 쉽게 풀이한 것을 세종 31년(1449)에 수양대군(뒤의 세조)이 세종의 명에 따라 번역을 시작하여 세조 7년(1461)에 완성한 것이다. 을해자로 찍은 이 활자본은 활자 연구와 희소성으로 가치가 있으며 간경도감판의 번역과 체제에도 큰 영향을 끼쳤으므로 중요한 자료로 평가된다.',\n",
       " '백천리 척지마을 남계천 옆의 낮은 구릉지대에 분포한 가야시대의 무덤들이다. 발견된 무덤의 수는 무덤 5기와 그 주변에 있는 작은 구덩식돌덧널무덤(수혈식석곽묘) 21기이다. 함양 백천리무덤들은 지금까지 문헌에 나타나지 않은 가야소국 하나가 이 지역에 있었다는 사실을 보여 주며 이 지방 무덤과 문화 연구에 중요한 자료가 되고 있다.',\n",
       " '월천리 마을의 한 민가 안에 서 있는 한쌍의 돌장승이다. 제작년도는 알 수 없으나, 단군과 환웅을 수호신으로 모시는 특이한 예로 민속학계의 관심의 대상이 되고 있다. 원래 월천리로부터 서북쪽으로 3km 떨어진 거북메의 개천가에 있었는데, 정태인씨 시아버지가 꿈을 꾼 후 현재의 자리(자신의 집)로 옮겨 세운 것이라 한다.',\n",
       " '청자 음각환문 병은 고려 12세기 경 제작된 것으로, 두개의 귀가 달린 의례용 금속제 기물의 형상을 청자로 만든 것이다. 제작상태는 매우 정교하며 비색을 띠는 유색도 매우 단아하다. 이와 동일한 형태의 청자가 없는 것은 아니나 존재 자체가 매우 희귀하며 보존상태 역시 대단히 좋은 편이다.',\n",
       " '마을 실개천 위에 무지개 모양으로 만들어 놓은 돌다리로, 실개천이 남산에서 흘러내린다 하여 ‘남천교(南川橋)’라고도 불린다. 노면은 곡선을 그리며 양 끝을 길게 늘이고 있어 다리의 분위기를 한결 아늑하게 해준다.',\n",
       " '백악춘효 는 심전 안중식(安中植,1861~1919)이 1915년에 백악과 경복궁의 실경을 그린 작품으로, 여름본과 가을본 두 점이 전해진다. 백악춘효 는 조선왕조 말기 대표적인 화가이면서 이상범, 노수현, 변관식 등 근대 산수화가들을 길러낸 안중식의 실경산수로서, 봉건적 요소와 서구적 안목이 작용한 보기 드문 작품으로 역사적·예술적 가치가 있다.',\n",
       " '전라북도 남원의 낙동리 절터로 추정되는 야산에 위치하고 있는데, 무릎 아래가 묻혀 있던 것을 근래에 발굴하였다. 부처의 몸에서 나오는 빛을 형상화한 광배(光背)는 배(舟)모양이며 정면에 꽃무늬를 새겼다. 머리광배와 몸광배는 2줄의 선으로 표현하고 있는데, 안쪽에는 꽃무늬를 바깥에는 불꽃모양을 새기고 있다.',\n",
       " '신라와 고려의 연등회는 불교적 행사였지만, 조선시대에는 민속행사로 행해졌고 해방이후 전통적인 시련, 탑돌이의 행렬 문화가 확대되어 연등행렬로 발전하였다. 연등회는 통일신라시대인 9세기에 이미 확인되며, 고려와 조선시대를 거치면서 계속되어왔다.',\n",
       " '파계사는 통일신라 애장왕 5년(804)에 세운 절로 법당과 부속 건물 및 여러 암자를 갖추고 있는 절이다. 앞면 3칸·옆면 2칸 규모로, 지붕은 옆면에서 볼 때 여덟 팔(八)자 모양인 팔작지붕이다.',\n",
       " '청동으로 만든 사리탑은 현재 3층의 몸체 부분과 상륜부가 남아 있으며, 기단 부분은 훼손이 심해서 확실한 형태를 알 수 없다. 청동사리탑은 고려시대의 사리기와 불탑 연구에 귀중한 자료로서 가치가 있다. 청동사리탑은 탑신부(塔身部)가 목탑 양식을 따르고 있음에 비해 상륜부는 석탑의 상륜부를 모방한 점에서 독특한 형식을 보여준다.',\n",
       " '부인사에 서 있는 3층 석탑이다. 이 탑은 금당터 주변에 쌍탑으로 건립된 2기의 석탑 중 서쪽에 있는 탑으로, 1966년에 복원되었다. 통일신라 후기 즈음에 세운 탑으로 추측된다.',\n",
       " '동양척식주식회사와 구 목포부립병원 인근에 위치한 목포일본기독교회로 1922년 9월 준공되었고 1927년 6월 한차례 증축된 일본인이 예배를 드린 기독교회이다. 과거에는 전면부가 종탑형식의 2층 구조로 되어 있으나 현재는 상부가 없이 1층만 남아있는 상태로 근대기 동양척식주식회사 주변 시가지의 흔적과 기억을 담고 있어 당시 일본교회의 건축형식을 보여주는 드문 사례이다.',\n",
       " '이 손소 초상화는 적개공신 때의 모습을 10년 후인 성종 7년(1476)에 그린 것으로 조선 초기 공신도상을 대표하는 뛰어난 작품이며, 당시의 화법을 보여주고 있어 그 의의가 더욱 큰 작품이다.',\n",
       " '낙동강 하류의 넓은 평야를 한눈에 볼 수 있는 분산의 정상에 둘레 약 900m에 걸쳐 돌로 쌓은 산성이다. 서남부는 험준한 천연 암벽을 그대로 이용하였으며 현재 성벽이 부분적으로 남아있다. 성 안에 이르는 통로는 산성 서쪽에 있는 계곡을 거쳐 북쪽 뒤편에서 들어가는 길을 이용한 듯 하다.',\n",
       " '보광사 산신도는 흐트러짐이 없이 안정된 구도에 민화성이 강조된 그림이다. 투명한 망건 등은 전통을 계승하면서도 산신과 같은 비율로 그려진 동자의 모습이라든지 구체적이고 정확한 지물의 표현 등이 특징이다.',\n",
       " '구한말의 대표적 우국지사(憂國之士)인 면암 최익현(勉庵 崔益鉉, 1833-1906)의 초상화로, “勉庵崔先生七十四歲像 毛冠本” 및 “乙巳孟春上澣定山郡守蔡龍臣圖寫”라고 쓰인 우측 상하단의 기록을 통해 1905년에 채용신이 그린 작품임을 알 수 있다. 채용신의 초기 작품에서 풍기는 조심스럽고 근실한 화법과 소박한 화격이 최익현의 우국지사적인 분위기를 더욱 잘 살려주고 있다.',\n",
       " '조선 중종(재위 1506∼1544) 때부터 선조(재위 1567∼1608) 때까지 살았던 성균진사 양요당 최응숙이 지은 정자이다. 정자 이름은 맹자의 ‘인자요산(仁者樂山), 지자요수(智者樂水)’라는 말에서 따 왔다고 한다. 건물을 지은 기록에 따르면 지금 있는 자리보다 훨씬 아래쪽에 세웠으나, 1965년 옥정호 공사로 인하여 지금 있는 자리에 옮겨 지었다고 한다.',\n",
       " '신라의 여러 사적이 모여있는 곳을 보존하기 위해 하나의 단위로 정한 것이다. 따라서 신라 도성의 중심지역을 보존하기 위해서 사적지를 연결하여 확대 지정한 것이다. 동궁과 월지, 경주 월성, 첨성대, 계림, 내물왕릉 등 외에도 수십기에 달하는 신라 무덤이 완전한 상태로 보존되어 있다.',\n",
       " '『천수경』은 우리나라에서 가장 많이 읽혀졌던 불교신앙의 기본경전이며, 관세음보살의 광대한 자비심을 찬양하는 다라니경이다. 중국 송나라의 사명존자(四明尊者)에 의하여 널리 유포되었고, 우리나라에서는 고려 중기부터 유통되기 시작하여 조선시대에는 가장 많은 판본을 남기면서 크게 신봉되었다.',\n",
       " '현재 명부전 지장삼존상 뒤에 걸려 있는 이 작품은 두건을 쓴 지장보살(地 藏菩薩) 및 도명존자(道明尊者), 무독귀왕(無毒鬼王) 등 지장삼존을 중심에 놓고 좌우에 시왕과 판관, 사자, 옥졸, 선악동자, 사천왕 등을 배치한 그림으로 1924년 6월 고산(古山) 스님에 의해 제작된 작품이다. 7폭을 붙여 한 폭으로 완성한 작품으로 모두가 완전하게 남아 있는데, 이 작품 역시 지장사의 불화와 마찬가지로 횡폭으로 길게 그린 점이 특징이다.',\n",
       " '전라남도 진도군 금골산에 있는 석굴의 벽면에 새겨진 이 불상은 엄지와 네번째 손가락을 맞대고 있는 손모양으로 보아 아미타여래를 표현한 것으로 보인다. 둥근 얼굴에 신체 또한 둥글게 팽창시켰지만 입체감이 없이 평면화되어 보인다.',\n",
       " '‘의당집터다지기’는 의당면 지역에서 15세기경부터 건물이 들어설 자리에 기둥의 침하를 방지해 집의 구조를 튼튼히 하기 위해 시작된 민속 문화이다. ‘의당집터다지기’는 의당면 지역에서 15세기경부터 건물이 들어설 자리에 기둥의 침하를 방지해 집의 구조를 튼튼히 하기 위해 시작된 민속 문화이다.',\n",
       " '∙ 조선 후기의 문신 김성구가 건립한 가옥이다. ∙ 팔오헌 종택은 정면 6칸 측면 5칸의 ᄆ자형 본채와 정면 3칸 측면 2칸의 사당, 정면 3칸 측면 1칸의 삼문, 정면 2칸 측면 1칸의 화장실로 구성되어 있는데, 경북지역 사대부가의 거주생활을 살펴볼 수 있다.',\n",
       " '청자 상감운학모란국화문 매병(靑磁 象嵌雲鶴牡丹菊花文 梅甁)는 높이 32.2cm, 아가리 지름 7cm, 밑지름 14.5cm인 이 병은 고려시대에 많이 만들어진 상감청자 매병들에 비해, 어깨가 처져서 부드러운 느낌을 주며 밑이 넓어서 안정감이 있다. 그릇 몸통에는 흑백으로 된 원 안에 모란과 국화 한 가지씩을 두었고, 원 사이사이에는 구름과 학이 있다. 이 작품은 12세기 중엽에 만들어진 것으로 추정된다.',\n",
       " '1958년 건립이 건물은 제주국립목장 안에 대통령과 국가 귀빈의 숙박을 위하여 지은 별장이다. 1959년 이승만 대통령이 이곳에 머물렀던 것을 계기로 ‘이승만 별장’으로 불리게 되었다고 한다. 두 가지 기쁨이 동시에 이루어지기를 기원하는 ‘쌍희(囍)’자와 모든 일이 뜻대로 되기를 기원하는 회문 장식() 등 우리나라의 의장이 일부 포함되어 있으나, 전반적으로는 1950년대 이후 나타나는 서구의 모더니즘 주택 모습을 보여주고 있다.',\n",
       " '주암리는 옥천 조씨가 500년 이상 대대로 살아온 터로, 이 재실은 맨 처음 이 곳에 자리잡은 사람인 조유를 제사 지내기 위해 문중에서 세운 건물이다. 기록에 의하면 건립 당시에는 담장 내에 재실과 서당, 행랑채를 둔 것으로 되어있어 서당과 제향의 기능을 동시에 수행하였던 것으로 보인다.',\n",
       " '이 곳은 신라시대의 지극한 효자인 손순(孫順)의 유허지이다. 이 곳에 조선말기 학자인 허전(許傳)이 찬술한 비문을 새긴 유허비(遺墟碑)가 있었다고 전한다. 신라 흥덕왕(興德王) 때의 사람인 손순의 효행은 『삼국유사, 三國遺事』에 기록되어 있다.',\n",
       " '의성김씨 입향조인 김근(金近 1579~1656)의 유족을 추모하고 후진양성을 위해 초옥이었던 건물을 6대손인 김굉의 주도로 정조19년(1795) 완공하였으며 현재 강당만 남아 있다. 또한 건실한 부재의 사용으로 건물규모가 아담하면서도 당당한 모습을 보여주고, 포대공의 모습과 공포의 모습에서 정성을 들인 건물로 여겨진다.',\n",
       " '이 책은 아비달마잡집론에 신라의 현범(玄範)이 다시 해설을 붙인 것으로, 전체 16권 중 권13과 권14를 각기 1책으로 묶은 것이다. 책의 끝에 고려 선종 10년(1093)에 만들었다는 기록이 있어 원래 교장(敎藏)의 하나로 만들어졌음을 알 수 있다.',\n",
       " '충청남도 천안시 백석동에 있는 백제의 토성과 성 안에 있는 청동기시대의 집자리 유적이다. 토성은 해발 120m의 야산 구릉 정상에 테를 두른 모양으로 쌓았으며, 둘레는 약 260m이다.',\n",
       " '우리나라 최초의 근대식 병원인 제중원(濟衆院)의 책임을 맡았던 알렌이 사용하던 검안경(檢眼鏡, 눈의 내부를 들여다볼 수 있게 만든 안과용 기구)이다. GALL&amp;LEMBKE OPTICIANS社사에서 제작한 것이며 1870년대 미국 뉴욕에서 개발되어 상용되던 것으로 알렌의 유족이 1984년-1985년 사이에 연세대학교에 기증한 것이다.',\n",
       " '조선 중기 명장 양무공 김완(1577∼1635) 장군의 묘소이다. 묘역에서 150m 떨어진 곳에 세운 신도비(神道碑:왕이나 고관 등의 평생업적을 기리기 위해 무덤 근처 길가에 세운 비)는 박세채가 글을 짓고 조명교가 글씨를 쓴 것이다.',\n",
       " '이 석조여래입상은 1924년 3월 욱금리 영전마을의 한 주민의 현몽(現夢)으로 땅속에서 발견되어 영전사에 봉안되었다고 한다. 그러나 전체적인 조형미와 세부 조각수법은 매우 우수한 편에 속하며,원만한 얼굴과 당당한 어깨, 유려한 의문(衣紋)과 옷자락의 원호문, 대좌의 앙련 등 각부의 양식이 통일신라시대 전성기인 8세기경의 조각솜씨를 보여주고 있다.',\n",
       " '아미타경은 ‘무량수경’, ‘관무량수경’과 함께 정토3부경의 하나이다. 아미타불과 극락정토의 장엄함을 설명하고 아미타불을 한마음으로 부르면 극락에서 왕생한다는 것을 중심 내용으로 하고 있다. 간경도감에서 처음 간행한 아미타경은 거의 남아있지 않았는데, 이 책이 발견되어 그 가치가 크다.',\n",
       " '청자도판으로 완전하거나 원형복원이 가능한 것은 현재까지 소수의 예만이 알려지고 있는데 이 청자상감화조문 도판은 그 중에서도 가장 회화적인 문양이 상감된 작품이다. 주제와 여백이 효과적으로 조화되고 흑백상감과 철채기법이 어울려서 색상대비가 뛰어나다.',\n",
       " '매향비는 매향의식(향나무를 묻는 의식으로, 이를 매개로 소원을 비는 이와 후에 태어날 미륵이 연결되기를 바라는 미륵신앙의 한 형태)을 하면서 행사의 동기와 장소, 시기 및 관련집단 등을 기록한 것이다. 비문 중에 향도(香徒) 58명과 마을 주민 백명이 함께 모여 매향을 행하였다는 내용이 담겨 있어 눈길을 끈다.',\n",
       " '다랑이 논은 벼농사를 짓기 위해 산비탈을 깎아 만든 논으로 인간의 삶과 자연이 조화를 이룬 곳이다. 이곳은 바다를 앞둔 설흘산과 응봉산의 가파른 산비탈에 지형에 맞춰 100여 층의 논을 계단모양으로 만들어 높은 산과 넓게 트인 바다가 매우 아름답다.',\n",
       " '법화사는 12세기∼15세기에 제주도에서 번창했던 절이다. 18세기 전기에 제주목사 이형상이 제주도의 절 3곳을 불태워 없앨때 완전히 불타버렸으며, 지금의 건물들은 1987년 다시 세운 것이다.',\n",
       " '고성 옥천사에 소장되고 있는 총 110점의 유물이다. 삼존위목대는 가로 34.5cm, 세로 54.5cm 크기로, 구름과 용·봉황을 조각하여 채색하였다. 불교의 의식이나 행사를 이해하는 데 도움을 주는 유물들이다.',\n",
       " '안동 동암사 법당에 모셔져 있는 이 불상은 원래 안동 예안면 신남리 절터에 남아있던 것을 1950년대에 지금의 동암사로 이안(移安)하였다고 전한다. 높이 97cm의 등신대 석조여래좌상이다.',\n",
       " '방사탑은 마을의 어느 한 방위에 불길한 징조가 보인다거나 어느 한 지형의 기가 허한 곳에 마을 공동으로 쌓아 올린 돌탑으로, 부정과 악의 출입을 막아 마을을 편안하게 하고자 하는 신앙 대상물이다. 인성리에서 단산으로 가는 길에는 ‘알뱅디’라 불리는 넓은 평지가 있는데, 이곳에 4기의 방사탑이 자리하고 있었다.',\n",
       " '진주 교방굿거리춤은 진주 교방에 의해 전승되고 있는 굿거리춤을 말한다. 교방이란 기녀(妓女)들의 악·가·무(樂·歌·舞)를 가르치던 기관을 가리키며, 무속금지령에 의해 무당이 교방으로 들어가면서 시작된 춤이기에 교방굿거리춤이라 일컫게 되었다.',\n",
       " '김종직의 학문과 덕행을 기리고 지방민의 유학교육을 위하여 지은 서원으로 조선 명종 22년(1567)에 짓고 위패를 모셨다. 임진왜란으로 불탄 것을 선조 39년(1606)에 다시 지었다.',\n",
       " '대한민국 최초의 전투함이었던 백두산함(PC-701)의 돛대(마스트)이다. 이 구잠함(軀潛艦)이 6.25전쟁 발발 당일 대한해협을 초계하던 중 북한 무장선박을 발견하고 이튿날 격침한 ‘대한해협 해전’은 한국전쟁 기간 중 우리 해군이 단독으로 실시한 최초의 해상전투로 북한의 후방 교란술책을 사전에 봉쇄한 기념비적인 전투이다.',\n",
       " '조선 전기 문신이며 시인인 송강 정철(1536∼1593) 선생의 위패를 모시고 있는 사당이다. 이 사당은 경기도 고양에 있던 정철의 묘를, 현종 6년(1665) 송시열 선생이 정한 현 자리로 옮기면서 지은 건물이다.',\n",
       " '검푸른 빛의 종이에 은가루를 이용하여 글씨를 썼으며, 크기는 세로 29.5cm, 가로 52.5cm이다. 이 책은 고려시대 미륵신앙의 경향을 알 수 있게 해주는 자료이며, 책을 쓰게 된 목적이 밝혀지고 글씨도 정성스럽게 쓰여진 뛰어난 작품이다.',\n",
       " '월천 조목(1524∼1606)이 후진을 양성하기 위해 세운 서당이다. 임진왜란 때에는 동생 및 두 아들과 더불어 의병을 모집하여 활동하였고 이황의 제자 가운데 유일하게 도산서원 상덕사에 모셨다. 월천 조목(1524∼1606)이 후진을 양성하기 위해 세운 서당이다.',\n",
       " '높이 20.2cm, 입 지름 19.5cm인 이 향로는 나팔모양의 높은 받침대를 가지고 있다. 몸통 전체에는 무늬를 먼저 새기고, 무늬마다 은을 입혀 넣는 은입사 방법을 사용하여, 화려한 고려시대 향로의 모습을 보여주고 있다.',\n",
       " '천제연폭포 계곡 서쪽 암벽 사이에서 자라는 천제연 담팔수나무는 높이 13m, 둘레 2.4m에 달하며, 나무의 가지는 주로 동쪽으로만 13m 정도 뻗어있다. 이 담팔수나무 외에도 천제연 계곡에는 20여 그루의 어린 담팔수가 자라고 있다.',\n",
       " '이 불상은 경주의 서쪽에 위치한 벽도산에서 동쪽으로 뻗어 내린 능선에 있다. 발 밑은 깨어져 확인할 수 없으나 대좌(臺座)를 따로 만들지 않고 불상을 조각하고 남은 돌을 이용한 것으로 보인다. 전체적인 조각수법으로 보아 삼국통일 이후에 만들어진 것으로 보인다.',\n",
       " '통도사 안에 위치한 만세루는 법회나 법당의 주요행사를 열 때 사용하던 누각이다. 세운 시기는 알 수 없으나 조선 인조 22년(1644)에 영숙화상이 보수했다고 알려져 있다. 전체적으로 짜여진 구조로 보아 조선 후기의 건축양식이다.',\n",
       " '굴암산 중턱의 병풍처럼 둘러싸인 암벽에 자연동굴이 있고 그 안에 불상이 있다. 머리 모양과 가슴에 보이는 속옷에서 옛 모습이 보이지만 긴 허리와 네모진 대좌, 형식화된 신체표현 등으로 보아 고려시대에 만들어진 불상이 분명하다.',\n",
       " '양산 남강서원 소장 어정두륙천선(梁山 南岡書院 所藏 御定杜陸千選)는 경상남도 양산시에 있는 조선시대의 시선집이다. 8권 4책의 정유자본(丁酉字本)으로, 정조 23년(1799년)에 인간되었다. 당시 각 지방의 문인들을 위해 배포를 하여 학인들에게 시학교육의 기회를 고취시켜 주었다는 점에서 가치있는 자료일 뿐 아니라 조선시대 인쇄술의 변천을 엿볼 수 있는 자료이다.',\n",
       " '조선시대 성리학자이며 문신이었던 회재 이언적(1491∼1553)선생 종가의 일부로 조선 중기에 세운 건물이다. 이 건물의 기능은 상류주택에 속해있는 사랑채의 연장 건물로 손님접대, 쉼터, 책읽기를 즐기는 따위의 여러 용도로 쓰이던 곳이다.',\n",
       " '간이벽온방은 조선 중종 때 의관 박순몽, 박세거 등이 임금의 명에 의해 온역(瘟疫:전염병)치료에 대한 약방문을 모아 엮은 의학서적이다. 이 책은 선조 11년(1578)의 중간본으로서 방점이 없는 16세기 국어연구 자료일뿐만 아니라 의학사 연구자료로 그 가치가 있다.',\n",
       " '개태사는 고려 태조 13년(930) 고려 건국을 기념하고자 창건한 사찰로, 이후 폐허가 되어 절터만 남아있던 것을, 훗날 김광영 스님이 새로 건물들을 지어 ‘도광사’라 하였다가 다시 ‘개태사’로 고쳐 부르게 되었다. 절마당에 자리하고 있는 이 탑은 옛 터에 남아 있었는데, 절을 새로 지을 때 이곳으로 자리를 옮긴 것으로, 옮길 당시 아래 부분이 일부 없어져 완전한 제 모습을 갖추고 있지는 않다. 비록 일부가 없어져 본래의 모습을 볼 수 없는 것이 아쉽기는 하나, 조각 기법이 소박하고 단아한 기품이 느껴지는 탑으로, 고려시대의 작품으로 추측된다.',\n",
       " '1894년 동학농민군은 전주 점령 계획을 세우고 가장 좋은 장소로 황룡을 선택했다. 총알을 막을 수 있도록 대나무를 원통모양으로 엮어 만든 장태라는 신무기를 이용하여 동학농민군은 이 지역에서 승리를 거두고 전주를 점령하였다.',\n",
       " '아산향교는 처음 지은 연대는 알 수 없고, 조선 선조 8년(1575) 아산리 동쪽 향교골에서 지금 있는 자리로 옮겨 지었고, 고종 1년(1864)에 수리하였다. 지금 남아 있는 건물은 대성전, 명륜당, 내삼문, 외삼문 등이다.',\n",
       " '백자 청화운룡문 병(白磁 靑畵雲龍文 甁)은 조선시대 만들어진 높이 21.5cm, 아가리 지름 4.6cm, 밑지름 6.6cm의 병으로 청화백자운룡문병(보물 제785호)과 같이 출토되었다. 코발트색을 사용하는 청화안료로 그린 그림은 전체적으로 어두운 편이나, 구름과 용의 얼굴에 부분적으로 농담의 차이를 두어 변화를 주고 있다.',\n",
       " '한산읍성에 대해서는 『신증동국여지승람』에 돌로 쌓은 성이며, 성의 둘레가 4,070척(1,233m), 높이가 11척(3m)이고, 성 안에 도랑 1개와 우물 4곳이 있었다고 기록되어 있다. 고려 중기에 왜구가 강을 끼고 자주 침범해오자, 고을의 백성을 안전하게 지키고자 성을 쌓았던 것으로 짐작된다.',\n",
       " '청주대학교 안 용암사에 있는 불상으로, 광배는 없고 대좌(臺座)와 불신만이 남아있는 통일신라 후기의 전형적인 비로자나불상이다. 9세기 말 내지 10세기 초의 전형적인 석불좌상 양식을 보여주는 작품으로 평가된다.',\n",
       " '함라산에서 서쪽으로 이어지는 능선의 남쪽사면에 있는 무덤들이다. 무덤의 구조는 구덩식돌덧널무덤(수혈식석곽묘)을 비롯하여 앞트기식돌방무덤(횡구식석실묘)·굴식돌방무덤(횡혈식석실묘)·독무덤(옹관묘) 등 여러 형태가 섞여있다. 따라서 연대를 최고 5세기 중엽까지 올려볼 수 있다.',\n",
       " '열목어는 연어과에 속하며 20°C 이하의 차가운 물에서 사는 민물고기이다. 몸의 바탕색은 황갈색이며 머리·몸통·등에는 자갈색의 무늬가 불규칙하게 흩어져 있고 배쪽은 흰색에 가깝다. 물 속에 사는 곤충이나 작은 물고기를 먹고 산다.',\n",
       " '조선 전기의 무신인 계성군 김임의 초상화이다. 초상화는 가로 68cm, 세로 125cm의 크기이다. 현재 영모당에 모셔두었으며, 봄·가을 두 차례에 걸쳐 제사를 지내고 있다.',\n",
       " '괴산 추점리의 미선나무 자생지는 농경지로부터 가까운 작은 야산 아래에 위치하고 있다. 이 자생지는 흙이 적고 곳곳에 큰 바위와 굵은 돌이 쌓여 있는데, 이는 미선나무가 다른 나무들과의 경쟁력이 약해서 다른 나무들이 살지 않는 황폐한 곳에서 경쟁을 피해 살기 때문이다. 괴산 추점리의 미선나무 자생지는 우리나라에만 있는 매우 귀한 미선나무가 자라는 곳으로서 그 희귀성과 식물분류학적 가치가 높아 천연기념물로 지정·보호하고 있다.',\n",
       " '○ 청련사 삼성각의 중앙에 봉안되어 있는 칠성도이다. 비단 4폭을 세로로 이어 바탕으로 하였고 채색하였다. 화면은 전반적으로 오염, 이염(移染), 찢김, 그을음, 곰팡이 등으로 보존처리가 필요하다.',\n",
       " '현재 부산 해운대구의 해안대도 일반 명칭은 동백섬으로 섬 전체를 붉게 물들이는 동백나무가 섬의 이름이 되었다. 해운대는 원래 섬이었으나, 육지에 가까이 있어 흐르는 물에 흙, 모래, 자갈 등이 내려와 쌓이면서 육지와 연결된 육계도이다.',\n",
       " '창덕궁의 다래나무는 나이가 약 600살(지정당시) 정도로 추정되며, 높이 19m, 가슴높이의 둘레 15~18cm이며, 6개 정도의 굵은 줄기가 사방으로 길게 뻗어 있다. 이 나무는 창덕궁 안에 있는 대보단 옆에서 자라며, 특별히 타고 올라갈 지지대 없이 이리저리 엉키면서 자라는 모습이 매우 독특하고 또 줄기의 껍질이 얇게 벗겨져 일어나는 점도 특이하다.',\n",
       " '조선 숙종(재위 1674∼1720) 때 문신 송규렴(1630∼1709)이 지은 별당건물로 그의 호를 따서 제월당이라 하였다. 옥오재는 송규렴의 아들인 송상기(1657∼1723)가 지은 건물이다. 제월당은 안채와 사랑채를 겸하도록 지은 ᄃ자형의 전통적인 민가건물이다.',\n",
       " '부여 무량사 삼전패는 1654년에 철학, 천승, 도균이 제작한 것으로 “二層殿丹靑畢後而兼備三殿牌(이층전 단청을 마친 후 삼전패를 겸비하였다)”라는 묵서명에서 알 수 있듯이 왕실의 안녕을 위해 제작된 것이다. 형태는 전형적인 불패 형식을 갖추었으며, 사실성과 조각성이 뛰어난 용 조각, 황금색과 홍색 위주의 단청, 보란을 갖춘 삼단대좌 등 공예기술도 뛰어나 조선 17세기 불교 목공예품의 대표작이라 할 수 있다.',\n",
       " '빈신사터에 세워져 있는 고려시대의 탑으로 상·하 2단으로 된 기단 위에 4층의 지붕돌을 얹은 모습이다. 아래기단은 글이 새겨져 있어 탑의 조성 경위를 알 수 있으며 위기단은 사자 4마리를 배치하여 탑신을 받치고 있는 특이한 모습이다. 고려 현종 13년(1022)에 만들어진 이 탑은 연대가 확실하여 각 부의 구조와 양식, 조각수법 등 다른 석탑의 조성연대를 추정하는데 기준이 되는 중요한 탑이다.',\n",
       " '고려 후기의 문신인 익재 이제현(1287∼1367) 선생의 초상화로, 현재 국립중앙박물관에서 보관하고 있는 선생의 영정(국보 제110호)과 형식이 같은데, 조선시대에 옮겨 그린 것으로 보인다. 원본을 그대로 옮겨 그린 이모본이지만 고려시대 초상화의 한 면모를 보여주고 있으며 전체적인 표현 양식이 원본을 충실하게 따르고 있다.',\n",
       " '광흥사 대웅전의 벽화부재(2건 19점)와 기타부재(1건 4점)이 비록 완전한 상태는 아니지만, 뛰어난 필력과 대담한 구성이 돋보이는 벽화이며 제작자를 알 수 있는 묵서가 있어 조선 후기 천정 벽화의 제작시기를 판단하는데 중요한 기준작이 된다.',\n",
       " '2층 기단(基壇) 위에 3층의 탑신(塔身)을 올린 석탑이다. 위·아래층 기단과 탑신부의 각 몸돌에는 기둥모양을 조각하였다. 전체적으로 탑신부에 비해 기단부가 왜소하여 안정감을 잃고 있다.',\n",
       " '영동지방의 가뭄, 홍수, 폭풍, 풍작 등을 보살펴 주는 것으로 믿는 여러 신을 모신 곳이다. 범일국사는 통일신라시대 승려로 15세에 출가하였고 중국으로 건너가 제안과 유엄의 문하에 있으면서 깨달음을 얻었다. 그 뒤 귀국하여 후학들을 교육시켰으며 경문왕, 헌강왕, 정강왕이 차례로 국사(國師)로 받들어 모시고자 하였으나 사양하였다.',\n",
       " '금당실 마을의 오미봉 기슭에 남향으로 자리잡은 건물로 제사 및 강학을 위한 곳이다. 조선 중기의 전형적인 건물 구조이며 짜임과 양식이 매우 옛스럽다.',\n",
       " '민가 안에 무너져 있던 것을 1969년 10월에 해체, 보수하여 창녕의 만옥정 공원으로 옮겨 세웠다. 탑이 있던 마을 주변에서 기와조각과 자기조각들이 발견되어 사찰이 있었음을 짐작할 수 있으나, 절이름이나 역사를 전하는 기록은 발견되지 않았다.',\n",
       " '조선 전기 문신이자 학자인 김숙자(1389∼1456) 선생이 터를 잡고 그의 아들인 김종직(1431∼1492) 선생이 평생을 보낸 집터이다. 이 건물은 여러 차례 전쟁을 겪으면서 파손된 것을 순조 10년(1810) 사림들과 그의 후손들이 다시 고쳐 세운 것이다.',\n",
       " '사도세자를 호위하던 무관 이석문이 살던 곳으로, 이석문은 사도세자가 죽은 뒤 세자를 그리워하여 조선 영조 50년(1774)에 북쪽으로 사립문을 내고 평생을 이곳에서 은거하며 살았다. 순조 21년(1821)에 손자 이규진이 안채와 사랑채를 새로 지었으며, 사랑채는 고종 3년(1866)에 다시 지어 오늘에 이르고 있다.',\n",
       " '탱화는 불교적인 소재와 교리를 경건하고 아름답게 표현한 그림으로서, 세계적으로 명성이 높은 고려시대에 이르러 최고의 기술적 완성을 이루었으며, 조선시대에는 대중적 기호에 맞는 민중미술로서 크게 성행하였다. 전라도 지역은 예로부터 의겸(義謙)스님을 비롯하여 천여(天如)·익겸(益謙) 등 뛰어난 화승(畵僧)들을 많이 배출한 지역이다.',\n",
       " '신도비란 임금이나 고관 등의 평생업적을 기록하여 그의 묘 앞에 세워두는 것으로, 이 비는 고려말의 충신인 성사제 선생의 충절을 기리기 위해 세운 것인데, 낮은 담장이 둘러진 비각 안에 자리하고 있다. 비는 낮은 사각받침돌 위로 비몸을 세우고 지붕돌을 얹은 모습으로, 후손들이 그의 충절에 보답하기 위해 세워놓은 것이라 한다.',\n",
       " '양주별산대놀이는 경기도 양주군 주내면 유양리 지역에서 전승되는 산대놀이 계통의 탈놀이다. 고려~조선 후기까지 전승되던 산대잡희(山臺雜戱)가 민간화되어 예인집단을 중심으로 서울에 본산대가 형성되었고, 양주에 전승된 것이다.',\n",
       " '유헌 정황(丁煌)의 후손들이 대대로 살아온 종가이다. 안채, 사랑채, 행랑채, 대문으로 구성되어 있으며 안채와 행랑채는 1854년 지었고 대문은 1927년에 지었다. 조선 후기와 일제시대에 걸쳐 지은 상류주택이며, 근처의 작은 종가인 정상윤 가옥과는 대조적이다.',\n",
       " '조선 중종의 후궁이며 선조의 할머니인 창빈 안씨(1499∼1547)의 신도비(神道碑:조선시대에 왕이나 고관 등의 평생 업적을 기리기 위해 무덤 근처 길가에 세운 비)와 묘소이다. 묘는 처음에 양주 장흥 땅에 있었으나 다음해에 현재의 자리인 동작동 국립묘지 안으로 옮겨졌다.',\n",
       " '상주민요는 일을 하면서 피로를 잊고 능률을 올리기 위해 부르는 노동요이다. 민요의 내용은 모심기소리, 논매기소리, 타작소리로 구성되어 있다.',\n",
       " '신도비란 임금이나 고관의 평생업적을 기록하여 그의 무덤 남동쪽에 세워두는 것으로, 이 비는 조선 전기의 유학자인 박훈(1484∼1540) 선생의 공적을 기록하고 있다. 영조 24년(1748)에 세운 것으로, 비문은 박필주가 짓고, 윤득화가 글씨를 썼으며, 뒷면에는 성운이 지은 글을 새겨 놓았다.',\n",
       " '범어사에 소장되어 있는 나무로 만든 시방삼보자존패로, 조선시대 불전의 불단 위에 많이 봉안되어져 있던 불교의식구의 하나인 원패이다. 전체적인 형태는 능화형(菱花形) 주연(周緣)을 지닌 몸체 부분을 연꽃무늬 대좌(臺座)에 결구시킨 조선시대 원패의 일반적인 형태를 따르고 있다. 범어사 목조 시방삼보자존패는 표면에는 채색의 면밀성이 조금 떨어진 채 양록을 주 안료로 하여 채색되는 등 조선후기 불교의식구 일면을 파악할 수 있는 소중한 자료로 평가된다.',\n",
       " '한개마을의 가장 안쪽 산울타리에 위치한 옛집으로 ‘동곽댁’이라고도 한다. 영조 43년(1767)에 이민검이 처음 지었고, 고종 3년(1866)에 성리학자인 한주 이진상이 고쳐 지었다고 전한다. 한주정사라고 불리는 정자가 있는 부분과 안채·사랑채로 나누어 볼 수 있다.',\n",
       " '남원 교룡산성은 해발 518m의 교룡산의 천연적인 지형지세를 이용하여 돌로 쌓은 산성으로, 둘레는 3120m이다. 온전하게 남은 동문터와 수문에 보이는 성벽의 구조는 우리나라 성곽 연구에 중요한 자료가 된다.',\n",
       " '현재 불상의 머리는 후대에 새롭게 붙여 놓은 것으로 발견 당시에는 몸통과 대좌만 있었다. 불상이 앉아 있는 대좌(臺座) 역시 원래 불상과 같이 있던 것인지는 확실하지 않다. 비록 원래의 모습이 많이 없어지고 보존 상태도 그리 좋지 못하나 세부의 조각 수법이 우수하고 안정된 자세를 취하고 있다.',\n",
       " '조선 선조의 외증조인 안탄대의 묘이다. 묘비는 효종 7년(1656) 외손 계열인 신최가 짓고, 신승이 글씨를 쓴 것이다.',\n",
       " '정선 필 경교명승첩 은 서울 근교와 한강변의 명승명소를 그린 진경산수화와 인물화로 구성된 정선의 그림이다. 1741년부터 그리기 시작해 정선이 사망한 1759년에 완성된 것으로 추정된다.',\n",
       " '우리나라 낙화에 대한 기원은 조선후기 실학자 이규경(李圭景, 1788~1863)이 쓴 「오주연문장전산고(五洲衍文長箋散稿)」에 수록된 ‘낙화변증설(烙畵辨證設)’에서 찾을 수 있으며, 19세기 초부터 전라북도 임실 지역을 중심으로 전승되어 왔다. 이러한 점에서 낙화장은 인두와 불을 다루는 숙련된 손놀림과 미묘한 농담을 표현하는 기술이 중요하다.',\n",
       " '『청자음각 앵무문 정병(靑磁陰刻鸚鵡文淨甁)』은 높이 39cm의 청자 정병(靜甁)으로 몸체는 어깨가 풍만한 참외형이며, 원통형의 긴 목 위로 환대(環臺)와 팔각(八角)으로 모깎기한 첨대 (尖臺), 주구(注口)와 뚜껑의 구조로 구성되어 있다. 고려청자 정병의 전형적인 형태를 보여주며, 유태의 품질과 제작 수법 등으로 보아 고려 12세 기경 강진 등지에서 고급 수요층을 위해 제작된 양질의 청자로 판단된다.',\n",
       " '고려시대 만들어진 청자 매병으로 높이 27.7cm, 아가리 지름 5.3cm, 밑 지름 10.6cm이다. 몸통 전면 4곳에 연꽃 가지를 큼직하게 새겼는데, 연꽃·연잎·연줄기·연밥으로 구성된 화려하고 사실적인 연꽃무늬이다. 이 청자는 고려 청자 매병 가운데 모양과 무늬, 유약 색이 빼어날 뿐 아니라 그 제작지까지 확실하게 보여주는 예로, 12세기 비색 청자 절정기를 보여주는 작품이다.',\n",
       " '경주 황남동 상감 유리구슬(慶州 皇南洞 象嵌琉璃玉)는 경주 황남동에 있는 신라 미추왕릉에서 발견된 길이 24cm, 상감유리옥 지름 1.8cm의 옥 목걸이이다. 8가지 정도의 옥을 연결하여 만든 목걸이로, 대부분의 옥이 삼국시대 신라 무덤에서 자주 출토되는 편이지만 상감유리환옥은 처음 출토되었다.',\n",
       " '용화사는 조선 광해군 8년(1616) 성화선사가 세운 절로 광해군 14년(1622) 폭풍우로 허물어진 것을 다시 세워 천택사라 불렀다고 한다. 그 뒤 인조 6년(1628) 다시 화재로 타버린 것을 행선선사가 자리를 옮겨 짓고 용화사로 이름을 바꾸어 오늘에 이르고 있다.',\n",
       " '보통의 뒤주가 통나무나 널빤지를 짜서 궤짝의 형태로 만드는데 비해, 이 뒤주는 크고 외형도 독특하다. 조선 고종초에 제작된 이 뒤주는 70가마 정도의 분량이 들어갈 수 있을 만큼 크고 독특한 건조물로서, 집을 찾는 사람들을 소홀하게 대접하지 않았던 당시의 훈훈한 인심을 느낄 수 있는 소중한 민속자료이다.',\n",
       " '고려시대 만들어진 높이 6.9cm, 아가리 지름 16.6cm, 밑지름 4.0cm인 청자완으로, 바닥에서 아가리까지 거의 직선에 가깝게 벌어진 형태이다. 화려하고 섬세한 이러한 음각과 양각(양인각) 문양은 중국의 영향을 받은 것으로 이해되고 있다. 한 그릇에 음각과 양각, 상감문양이 함께 있는 드문 예로, 고려시대 상감청자의 초기 상황을 이해하는 데 좋은 자료가 된다.',\n",
       " '경상남도 함양군과 전라남도 남원시의 경계지점인 팔령치에 있는 성산의 9부능선을 따라 쌓은 산성이다. 『신증동국여지승람』에 기록된 내용으로 보아 신라시대에 쌓은 성으로 추정한다.',\n",
       " '경남 진해시 현동 고산에 있는 이 산성은 고려말 우왕 10년(1384)에 만든 것이다. 완향성, 비봉산성, 현동산성으로 불렸으며 왜구의 잦은 침입을 방어하고 백성을 보호하기 위하여 만든 것이다. 그러나 완포현이 웅천현에 합쳐지면서 행정적인 기능을 상실한 것으로 추정한다.',\n",
       " '천문과 지리에 밝았던 존재 위백규(1727∼1798)가 제자를 가르쳤다고 전해지는 곳으로 고려 공민왕 21년(1372)에 처음 지어졌으나, 많이 파손되어 조선 고종 때(1870년경) 다시 지어져 오늘에 이르고 있다. ᄃ자형의 구조를 하고있는 이 건물은 앞면 5칸·옆면 4칸 규모로, 지붕 옆면이 여덟 팔(八)자 모양인 팔작지붕집이다. 양쪽 누마루의 지붕은 앞면에서는 팔작지붕의 모습인데 반해, 뒷면에서는 지붕 옆면이 사람 인(人)자 모양인 맞배지붕 형식을 하고있어 특이하다.',\n",
       " '삼척향교는 태조 7년(1398)에 고사리재 기슭에 지은 것을 태종 7년(1407)에 옥서동 월계곡(지금의 당저리)으로 옮겼다가 세조 14년(1468)에 현재 위치로 옮겼다. 향교는 훌륭한 유학자를 제사하고 지방민의 유학교육과 교화를 위하여 나라에서 지은 교육기관이다.',\n",
       " '예천 죽림리 향나무의 나이는 300년 정도로 추정되며, 높이 10m, 둘레 0.6m로 울향(鬱香)나무라고 불리고 있다. 예천 죽림리 향나무는 오랜 세월 대수마을 주민들의 관심과 보살핌 속에서 지내온 나무로 생물학적 보존가치가 인정되어 기념물로 지정하여 보호하고 있다.',\n",
       " '『홍치십사년신유사마방목』은 연산군 7년(1501)에 시행한 생원·진사의 합격자 명부이다. 이 책은 당시 진사시험에 합격한 문의공(文毅公) 김식(金湜, 1482-1520) 후손가에 전해져 온 것으로, 예조에서 직접 간행해서 반포한 초주갑인자본이다. 조선전기 과거제도 및 인물관계를 연구하는데 귀중한 자료이다.',\n",
       " '부산박물관 소장 어피인장함은 사찰에 소장되어 있는 인궤(印櫃)의 일반적인 형태인 정방형 몸체와 제형(梯形) 뚜껑을 지닌 상자이다. 따라서 동시대에 사찰 인궤로서의 용도 및 유형으로 제작되었던 일반적인 양식과는 다른 특이한 양식을 보여주고 있어 주목된다.',\n",
       " '영암군 서호면 엄길리에 모두 18기의 바둑판식 고인돌이 2줄로 넓게 분포되어 있다. 1984년 목포대학박물관에서 일부를 발굴 조사함으로써 고인돌의 구조와 성격이 밝혀지게 되었다.',\n",
       " '조선후기의 동화백자로 둥글게 성형한 후 동체를 깎아내어 10개의 면으로 구성한 각호(角壺)이다. 구연은 직립하였으며 구연 아래 어깨부분에는 당초문 띠를 둘렀다. 전반적으로 회백색의 어두운 태토에 동화안료로 장식하였는데 동화의 발색이 자줏빛으로 또렷하다.',\n",
       " '보현사는 신라 진덕여왕 4년(650)에 자장율사가 세운 절이다. 후에 낭원대사가 고쳐 세웠고 ‘지장선원’으로 이름이 바뀌었다. 대웅전은 조선 후기에 세운 건물로 규모는 앞면 3칸·옆면 3칸이며, 지붕은 옆면에서 볼 때 여덟 팔(八)자 모양인 팔작지붕이다.',\n",
       " '이상길초상(李尙吉肖像) 은 조선 중기 문신인 이상길(1556∼1637)을 그린 초상화이다. 이 초상화는 가로 93cm, 세로 185cm의 크기이고 의자에 앉은 모습을 그렸다. 비록 모본으로 추정되기는 하지만 원본을 따라 충실하게 그렸고, 필체가 섬세하고 보관상태도 양호하여 귀중한 자료로 평가된다.',\n",
       " '대율사 용화전 안에 모셔진 불상으로 둥근 대좌(臺座)위에 올라서 있으며 높이가 2.65m이다. 팔목에 새겨진 옷주름은 곧게 서 있는 긴 하체와 함께 당당하지만 경직된 인상을 풍긴다. 다소 딱딱한 면을 보여주고는 있지만 얼굴 등을 통해 세련되고 당당한 신라 불상의 특징을 잘 나타내고 있다.',\n",
       " '조선 순조(재위 1800∼1834) 때 이조판서를 지낸 김세균(1812∼1879)이 살았던 옛집이다. 원래는 한수면 북노리에 있었으나 충주댐 건설로 인하여 안채는 충주로 옮겨 지었고 사랑채는 이곳으로 옮겼다.',\n",
       " '규방다례(閨房茶禮)는 한국 전통차 문화를 복원·계승하여 인천지역을 중심으로 일상생활 속에서 차(茶)문화와 생활예절을 복원·정립한 것이다. 그 유래는 기능보유자인 이귀례 선생이 어릴적부터 동학운동(東學運動)을 하던 조부(祖父)에게서 차(茶) 예절을 접한 이래 1973년 성균관대학 유학장(儒學長) 유승국 교수에게서 생활 법도와 형식을, 전주 이씨 종친 인천지원장인 이덕유에게서 전주 이씨 제례예법을 전수 받았다.',\n",
       " '경상북도 문경시 문경읍의 관음사터라고 전해지는 곳에 있는 높이 3.33m의 거대한 돌로 만든 약사여래상이다. 전설이 의하면 충청북도 중원군 상모면 미륵리에 박씨 성을 가진 사람이 아내와 남매를 거느리고 살았다고 한다. 부분적으로 웅건한 기운이 깃들고 있으나 돌이 많이 닳고, 크게 손상되어 형체가 분명하지 못하다.',\n",
       " '불신과 광배가 하나의 돌에 새겨진 불상으로 양 손이 없어진 것을 제외하면 원래의 형태가 거의 완전하게 유지되고 있다. 민머리 위에는 상투 모양의 머리묶음이 높게 표현되었으며 길고 가는 눈, 작은 입술 등에서 고려적인 특징이 보인다.',\n",
       " '호지마을에 자리잡고 있는 이 집은 조선 순조 5년(1805)경 지은 건물이라고 한다. 호지마을의 집들은 산을 등지고 있으면서 서향으로 자리잡고 있는 것이 특징이다. 구계댁 역시 다른 집들과 마찬가지로 서향이면서 사랑채는 남향으로 배치한 이 마을 특유의 배치 유형을 따르고 있다.',\n",
       " '16∼17세기경에 조선시대 서민용 백자를 굽던 곳이다. 이 가마의 큰 특징은 아궁이가 북쪽에 있고, 바닥이 첫 번째 방보다 높으며 출입구 부분이 낮다는 점이다. 이것은 지금까지 발견된 적이 없는 특이한 구조로, 우리 나라 가마 연구에 학술가치가 매우 큰 유적이다.',\n",
       " '조선 숙종 때 경기도와 경상도 지역에서 활동한 승려인 사인비구에 의해서 만들어진 조선시대 종이다. 이 띠 아래로는 일반적으로 9개의 돌기가 있는 것에 반해 5개의 돌기를 가지고 있는 사각형 모양의 연곽이 4곳에 있고, 그 사이사이에는 부처의 말씀인 진언(眞言)을 새긴 점이 이 종의 특징적인 모습이다. 비록 크기는 작지만 사인비구의 초기 범종의 특징을 볼 수 있으며, 아울러 조선 후기 종과 장인사회를 연구하는데 중요한 자료가 되고 있다.',\n",
       " '동화사 안에 세워져 있는 이 승탑은 원래 동학동의 학부락에 쓰러져 있던 것을 이 곳으로 옮긴 것으로, 바닥돌 위에 올려진 기단(基壇)과 탑신(塔身)이 모두 8각을 이루고 있다. 각 부분의 양식과 조각수법으로 보아 고려 전기의 작품으로 추측된다.',\n",
       " '태사령 양우의 『산거사요(山居四要)』를 원나라 학자 왕여무가 증보·편집한 것으로, 4권 1책이다. 이 책은 건강을 지키는데 필요한 의약서적으로, 조선 전기 의학서적간행을 살필 수 있는 자료로 평가된다.',\n",
       " '탑이 서 있는 터 주변에는 청량사라는 절이 있었다고 하며, 곳곳에 절을 이루는 건물에 쓰였던 돌과 기와조각이 흩어져 있다. 위로 오를수록 탑신의 몸돌 높이를 낮게 하고 지붕돌의 너비는 조금씩 줄어 들어 안정된 모습을 보인다. 고려시대에 만들어진 것으로 추정된다.',\n",
       " '우리나라 최초의 근대식 병원인 제중원(濟衆院)의 첫 해(1885.4.10-1886.4.10) 활동 보고서이다. 보고서에는 제중원의 도면, 병원 개원 경위, 조선에 흔한 질병, 1년 동안 진료한 외래·입원환자의 통계, 재정상황 등이 실려 있고 특히 환자 통계는 근대의학의 질병 분류법대로 상세하게 구분되어 있다.',\n",
       " '조선 후기의 문신인 청사(淸沙) 김재로(1682∼1759)의 묘소이다. 현재 운연동 만의골 입구 동산 정상 부분에 위치하고 있는 그의 묘역에는 봉분 아랫부분에 둘레돌을 두른 묘와 묘비·망주석·장명등(長明燈:무덤 앞에 세우는 돌로 만든 등)·돌짐승 한 쌍이 있으며, 주위에는 담장이 설치되어 있다. 또한 시립박물관에는 그의 51세 때의 모습과 36세 때의 모습을 그린 영정 2폭이 보관되어 있다.',\n",
       " '밀양 박씨의 옛집으로 대대로 진사와 효자가 태어났으며 조선시대 사대부 가옥의 형태를 잘 갖추고 있다. 일제시대에 다시 고쳐 실용성과 전통성이 잘 조화된 전통한옥인 이 가옥은 조선 후기 건축의 변천 연구에 귀중한 자료이다.',\n",
       " '이 책은 조선 현종초 안동 김씨의 후손인 김성근이 병자호란(1636)때에 순절한 문중의 명현들의 자료를 수집하여 편찬한 것이다. 병자호란 당시에 순절한 안동 김씨 문중의 인물을 파악하는데 귀중한 자료로 평가된다.',\n",
       " '도봉서원은 조선 전·후기의 가장 대표적인 성리학자인 조광조와 송시열을 배향(配享:위패를 모시고 제사를 지냄)한 사액서원(賜額書院:조선시대 국왕으로부터 편액·서적·토지·노비 등을 하사받아 그 권위를 인정받은 서원)으로 백사 이항복 등 저명한 시인 묵객들이 시문을 남긴 오늘날 서울 지역 내 가장 대표적인 서원이다. 비록 1871년 서원철폐령에 의해 훼철되어 유적의 대부분이 멸실되었으나 서울 지역 내 다른 서원과 달리 사당의 기단과 옛 사료상의 도봉서원 유적으로 소개된 각석군(刻石群)이 서원 터 앞 계곡에 대부분 원형대로 남아 있어 유적의 경계를 비교적 명확히 확인할 수 있다.',\n",
       " '금시당은 조선시대 문신인 금시당 이광진 선생이 말년에 고향으로 돌아와 제자들을 교육시키기 위해 지은 건물이다. 명종 21년(1566)에 처음 지은 금시당은 임진왜란(1592) 때 불타 없어졌고 현재 남아 있는 것은 1743년에 백곡 이지운 선생이 복원한 것이다.',\n",
       " '김옥균(1851∼1894)은 조선시대 말엽의 정치가로 ‘위로부터의 개혁’을 외치며 개화사상을 주장하였다. 1894년에는 한·중·일 삼국의 제휴라는 삼화주의를 주장, 청나라의 실력자 리홍장을 만나러 상해를 방문하던 중 수구파 자객 홍종우에게 암살 당했다. 갑오개혁(1894)으로 개화당 내각이 조직된 후에 총리 김홍집의 상소로 반역죄가 용서되었으며, 1910년에는 규장각 대제학으로 추증되었다.',\n",
       " '강화 고려산 동쪽 봉우리인 북산의 해발 약 20m 능선에 있는 이 고인돌은 탁자식이다. 약간의 흙과 자갈로 지면을 높이고 그 위에 받침돌을 세운 뒤 덮개돌을 올렸으나 현재는 무너져 내려 앉았다. 덮개돌의 크기는 길이 3.68m, 너비 2.6m이다.',\n",
       " '익산목발노래는 익산지역에서 전해 내려오는 민요로 지게를 진 나무꾼들이 작대기로 지게의 다리인 목발을 두드리며 부르던 노래이다. 목발노래란 산타령, 등짐노래, 지게목발노래, 작대기타령, 둥당기타령, 상사소리 등 6곡을 하나로 묶은 노래의 명칭을 말한다. 익산목발노래는 농경문화의 꽃으로 비유되어 온 농요(農謠)로, 시대적 변화에 따라 사라질 위기에 처한 귀중한 음악이다.',\n",
       " '목포 갓바위는 해수와 담수가 만나는 영산강 하구에 위치해 풍화작용과 해식작용의 결과로 형성된 풍화혈(風化穴; tafoni)로서 삿갓을 쓴 사람의 특이한 형상을 하고 있다. 이와 같은 풍화혈은 노출암괴에서 수분이 암석내부로 쉽게 스며드는 부위(균열 등)에 발달하며, 스며든 수분의 부피변화로 야기되는 물리적 압력에 의해 암석을 구성하는 물질이 보다 쉽게 입상(粒狀)으로 떨어져 나오는데, 일단 풍화혈이 생성되기 시작하면 이곳은 햇빛에 가려져 더욱 많은 습기가 모여 빠른 속도로 풍화되면서 풍화혈은 암석 내부로 확대된다.',\n",
       " '옻골 경주최씨 백불암파 종가에 소장되어 있는 전적들로, 모두 2종 664점이다. 옻골 경주최씨 광정공파로서 조선후기 대구지역을 대표하는 명문가이다. 특히 18세기 중반 영남유림을 대표하는 대학자였던 백불암 최흥원 이후부터는 영남의 명문가로 자리잡았다.',\n",
       " '독서당계회도(讀書堂契會圖)는 조선시대 국가의 중요한 인재양성을 위한 독서연구 기구인 독서당을 배경으로 그린 계회도이다. 계회도는 소속이 같은 문인들이 친목을 도모하고 풍류를 즐기기 위한 모임 모습을 그린 것이다.',\n",
       " '광산개발 중 발견된 섭동굴은 지하수의 발달단계에 따라 3층 구조를 이루고 있으며, 각 층별 동굴의 발달형태와 이에 따른 동굴생성물이 성장하는 과정을 단계별로 관찰할 수 있는 매우 학술적 가치가 높은 동굴이다. 현재 섭동굴은 동굴 생성물 등의 보호를 위해 공개제한지역으로 지정되어 있어 관리 및 학술 목적 등으로 출입하고자 할때에는 문화재청장의 허가를 받아 출입할 수 있다.',\n",
       " '조선 인조 8년(1630)에 지은 전통주택이다. 안채·사랑채·문간채가 ᄃ자형 평면구조를 보이는 우리나라 남부지역에 분포된 전형적인 부농의 가옥형태이다.',\n",
       " '정려란 나라에서 충신·효자·열녀를 칭찬하여 그들이 살던 마을의 입구에 세우던 문이나 비(碑)로 이것은 임진왜란 때 순국한 신여량(1564∼1593) 장군의 충절을 기리기 위해 세운 것이다. 이순신 장군과 당포싸움을 대승으로 이끌었으나 선조 26년(1593) 벽파진전투에서 아쉽게 적의 탄환을 맞아 전사하였다.',\n",
       " '백운사에 자리잡고 있는 이 부도밭에는 모두 5기에 이르는 부도들이 놓여 있다. 모두 낮은 받침돌 위에 종모양의 탑몸돌을 올렸으며, 그 중 4기에는 4각 지붕돌이나, 옛 가옥에서 보이는 독특한 모습의 지붕돌을 얹고 있다. 대체로 본래의 모습을 갖추고 있으며, 1955년 송운제 스님이 세운 1기를 뺀 나머지 4기는 모두 조선시대에 세운 것이라 한다.',\n",
       " '강원도 양양의 오색약수터에서 약 2km정도 떨어져 있는 곳에 위치한 전형적인 통일신라시대의 석탑이다. 이곳은 성국사(城國寺)터라 전해지는데 근거는 확실하지 않다. 탑은 2단의 기단(基壇) 위에 3층의 탑신(塔身)을 두고 있는 형태이다. 완전히 쓰러져 있던 것을 1971년에 복원한 탑으로, 정연하게 구성된 2단의 기단과 지붕돌의 얇은 낙수면 등에서 통일신라시대 석탑의 특징을 잘 보여주고 있다.',\n",
       " \"대방광불화엄경은 줄여서 ‘화엄경’이라고 부르기도 한다. '화엄경'은 부처와 중생이 둘이 아니라 하나라는 것을 기본사상으로 하고 있는 화엄종의 근본경전으로, 법화경과 함께 한국 불교사상 확립에 크게 영향을 끼친 불교경전 가운데 하나이다. 이 변상도는 해인사에 있는 판본과 구도는 같지만 훨씬 정교하며 현재까지 알려진 것 중 가장 오래된 것으로 보인다.\",\n",
       " '이 부도는 관룡사 내에 있는 7기의 부도 중 하나로, 절 북쪽의 화왕산으로 오르는 길 옆에 자리하고 있다. 부도의 구조와 조각솜씨들로 보아 고려시대의 것으로 추정되며, 비록 많이 닳아있긴 하나, 창녕군의 대표적인 부도라 할 만큼 아름답고 정교한 작품이다.',\n",
       " '대광전은 표충사 경내에 있는 절로 대적광전이라고도 하며, 비로자나불을 모시는 법당이다. 앞면 5칸·옆면 3칸으로 지붕 옆면이 여덟 팔(八)자 모양인 팔작지붕집이다. 기둥 간격은 공포 간격을 배려하여 같게 배치한 것으로 보인다.',\n",
       " '자경전은 1867년에 경복궁을 다시 지으면서 자미당 터에 고종의 양어머니인 조대비(신정왕후)를 위해 지었으나, 불에 타버려 고종 25년(1888)에 다시 지어 오늘에 이른다. 굴뚝이면서 장식적인 기능을 충실히 하고 그 조형미 역시 세련되어 조선시대 궁궐에 있는 굴뚝 중에서 가장 아름다운 작품으로 평가 받고 있다.',\n",
       " '화천향교를 처음 지은 연대는 알 수 없으며, 한국전쟁 중 향교의 모든 건물이 불타 없어진 것을 1960년에 대성전과 내삼문을 다시 지었다. 지금 남아 있는 건물로는 대성전, 명륜당, 내삼문, 외삼문, 제기고 등이다.',\n",
       " '임진왜란 때 전라도도사로 전주를 방어했던 난포 최공철이 지은 집이라고 전한다. 명종 원년(1545)에 지었다고 하는데, 건축양식이나 기법으로 보아서는 대략 17세기를 전후한 시기의 집으로 보인다. ‘가경 14년’(1809)이라고 쓰여진 막새기와가 발견되어, 순조 9년(1809)에 보수한 것을 알 수 있다.',\n",
       " '이 탱화는 조선 영조 40년(1764) 사룡산 금정암에 봉안되었던 것으로, 현재는 표충사에 보존되어 있다. 비단 바탕 위에 채색하여 그린 것으로, 위아래에 나무로 된 축을 두고 윗부분에 고리를 단 전통적 양식으로 되어 있다.',\n",
       " '전라남도 보성군 조성면 봉릉리 신방 마을 저수지 둑 밑의 논두렁에 서 있는 인왕상이다. 이 일대에 옛 기와조각들과 탑의 몸체부 등이 흩어져 있는 것으로 보아 원래는 절터였음을 알 수 있다.',\n",
       " '이 책은 당나라 현장(玄장)이 번역한『대반야경』600권 가운데 권175이다. 검푸른 빛이 도는 종이에 금색으로 글씨를 썼으며, 크기는 세로 28.7cm, 가로 510cm이다. 고려 문종 9년(1055)에 김융범이 조·부모의 명복과 가족의 안녕을 위해 만들었는데, 불경의 내용을 정성껏 옮겨 적고 그림을 그려 화려하게 꾸몄다.',\n",
       " '거창 삼베일소리는 삼베일의 지루함을 달래기 위해 불려지는 노동요이다. 삼베가 생산되기까지는 삼 씨앗을 뿌려서 베를 짜기까지 여러 과정의 노동이 뒤따르게 된다.',\n",
       " '선조 25년(1592) 임진왜란 때 조선의 관군과 의병이 전라도로 진출하려던 왜군을 맞아 싸웠던 격전지이다. 그 해 7월 충남 금산에 주둔하고 있던 왜군이 전주를 공격하려 하자 김제군수 정담, 해남현감 변응정, 나주판관 이복남이 웅치의 험한 지형을 이용하여 적을 격파하였다. 그러나 전열을 가다듬은 왜군의 재차 공격을 받아 수적인 열세에 밀려 무너지고 말았다.',\n",
       " '재실의 건축연대는 재실의 상량문을 통하여 보면 현종 6년(1665)에 안채를 짓고 숙종 21년(1695)에 문간채와 동재, 서재를 건축한 것을 알 수 있다. 간결한 민도리집이며, 부연이 없는 홑처마로 중부지방 건축양식의 특징을 보여준다.',\n",
       " '영의정 황희·오상덕·황위의 위패를 모시고 있는 서원이다. 풍계서원은 정조 12년(1788)에 지었으나, 고종 5년(1868) 흥선대원군의 서원철폐령으로 폐쇄되어 황희의 영정만을 모셔오다가 1909년 복원하였다.',\n",
       " '조선 태종(太宗) 부마(駙馬) 제간공(齊簡公) 권규(權 unk , 1393~1421)와 부인 경안 궁주(慶安宮主, 1393~1415)의 묘역이다. 이 묘역은 봉분의 형태, 곡장의 모습, 문인석 수량 등이 15세기 전반 묘제의 특징을 잘 갖추고 있는 곳이다.',\n",
       " '옥녀봉 봉수대는 조선 전기에 설치된 것으로 보이며 3단으로 석축을 쌓고 봉수대를 설치하였다. 옥녀봉 봉수대는 북쪽으로 강망산 봉수대와 연결되고, 동쪽으로 장승포일대, 서쪽으로 아주 및 옥포, 남쪽으로 일운면 와현을 한눈에 볼 수 있는 봉수대의 최적지에 설치되었는데, 남동쪽으로 침입하는 왜구를 감시하기 위한 것으로 보인다.',\n",
       " '1958년 건립이 건물은 농산물의 품질 관리를 위하여 건립된 관공서로서 대전 지역 건축가인 배한구가 설계하였다. 20세기 중반 서양의 기능주의 건축에 영향을 받은 한국 근대 건축의 경향을 잘 보여주고 있으며, 1999년 ‘건축문화의 해’에 ‘대전시 좋은 건축물 40선’으로 선정되기도 했다. 1999년 국립농산물품질관리원 청사가 옮겨 간 뒤 2008년에 ‘대전시립미술관 대전창작센터’로 개관하여 활용되고 있다.',\n",
       " '조선시대(15세기) 이 책은 명나라 임강(臨江) 통수(通守) 섭윤현(葉尹賢)이 증험하여 편집한 의가비전(醫家秘傳)의 질병 처방인 『의가비전수신비용가감십삼방(醫家秘傳隨身備用加減十三方)』과 『경험급구방(經驗急救方)』을 한데 모아 조선전기에 간행한 의서(醫書)이다. 간행기록이 없어 정확한 제작 시기는 알 수 없지만 판각(板刻) 상태, 판의 형식, 서체, 지질(紙質) 등으로 보아 15세기에 간행된 판본으로 한국 의학사와 출판사 연구에 귀중한 자료가 되며, 국내에서 발견되지 않은 희소가치가 있는 의서이다.',\n",
       " '용천동굴은 제주도 용암동굴의 가장 전형적인 형태를 보여주고 있는 대형 동굴(총길이 약 2,470.8m+α)로서 약 140m 길이의 용암두루마리를 비롯한 용암단구, 용암선반, 용암폭포 등의 미지형 및 생성물이 특징적으로 잘 발달되어 있다. 특히, 종유관, 종유석, 석주, 평정석순, 동굴산호, 동굴진주 등 탄산염생성물이 다종·다양하게 발달하고 대규모의 동굴호수가 있는 등 특이한 용암동굴로서 학술적·경관적 가치가 매우 크다.',\n",
       " '충헌사는 충헌공 양기(忠憲公 楊起) 선생을 주벽으로 양치(楊治), 양희지(楊熙止), 양응춘(楊應春), 양훤(楊 )을 배향한 사당으로 양기 선생의 영정을 안치하고 있으며, 인조 4년(1626)에 건립되었다. 1686년 종손이 살던 송화로부터 노성으로 이주해 오면서 양기 선생의 영정과 위패를 모신 후 수차에 걸쳐 중수한 것으로 정면 3칸 측면 1칸의 전통 한옥 건물이다.',\n",
       " '봉림사가 소장중인 불교전적류 모두 8건으로 각각의 명칭은 묘법연화경권제1, 묘법연화경권제3,4, 묘법연화경권제4~7, 금강반야바라밀경(상), 약사유리광여래본원공덕경, 불정심관세음보살대다라니경, 월인석보제21(상), 불설대보부모은중경이다. 절첩장(折帖裝)은 권자본에 이어 고려 중후기에 많이 만들어진 것으로 서지학적으로 중요한 자료로 취급되고 있다.',\n",
       " '이 암각화는 경주 평야를 가로지르는 두 하천이 만나는 곳의 북쪽 바위벽에 그려진 것이다. 선사시대의 것으로 추측되는 이 그림은 강물에서 약 15m 높이의 수직 절벽 윗부분에 가로 약 2m, 세로 약 9m되는 범위에 새겨져, 추상적이고 기하학적으로 표현되어 있다.',\n",
       " '무등산 서쪽 기슭에 있는 증심사는 9세기 중엽에 철감선사가 지었다. 고려 선종 10년(1094)에 혜조국사가 수리하였으며, 조선 세종 25년(1443)에 김방이 다시 지었다. 오백전은 대웅전의 뒤편에 세워진 법당으로, 현재 무등산에 남아 있는 절 건물 중 가장 오래된 것이다.',\n",
       " '조선시대 거제부 소속 7개 진영중의 하나였던 장목포진의 관아건물이다. 세워진 시기를 정확히 알 수 없으나, 장목리 동구에 있던 것을 정조 9년(1785)에 이곳으로 다시 옮겨 지었다고 한다.',\n",
       " '회덕향교는 조선 세종(재위 1418∼1450) 때에 처음 지었으나,임진왜란으로 불에 탄 것을 선조 33년(1600)에 다시 짓고 순조 12년(1812)에 수리하였다. 대성전은 공자와 그의 제자들을 비롯한 우리나라 성현들의 위패를 모시고 있다.',\n",
       " '청주읍성 안에 있던 충청도병마절도사영의 출입문이다. 병영의 출입문은 보통 원문이라고 부르며, 좌우로 담장이 이어져 병영을 에워싸고 있다. 조선 후기 병영이나 수영(水營)의 출입문 양식을 그대로 보여주고 있는 성곽건축이다.',\n",
       " '임진왜란 당시 금산전투에서 칠백의사와 함께 전사한 노씨 3의사(義士)로 불리는 노응환(盧應晥), 노응탁(盧應晫), 노응호(盧應皓) 3형제가 출생한 곳이다. 노응환.노응탁 형제는 중봉 조헌의 문인으로 1592년 임진왜란이 일어나자 스승을 따라 청주성 전투와 금산 전투에 참가하였다가 금산에서 순절하였다. 순조 31년(1831) 증직(贈職)과 함께 명정(銘旌)을 받아 이곳에 정려를 건립하였다.',\n",
       " '이 건물은 성 콜롬반 외방선교회 제임스 버클리(James Buckley) 신부가 한국전쟁 당시 인민군에게 총살된 소양성당 주임 신부 콜리어(Anthony Collier)를 기리고자 건립한 성당이다. 국내 최초로 근대적 양식을 도입한 교회 건축물인 이 성당의 평면은 당시에는 보기 드문 반원형을 기본으로 하여 중앙 제단을 중심으로 신자석을 부채꼴로 배열하고, 원주면 중앙에 현관과 고해소, 좌우 끝단에 제의실과 유아실을 덧붙인 형태이다.',\n",
       " '조명군총은 선조 30년(1597) 정유재란 때 선진리성에 주둔하고 있던 왜적을 몰아내기 위해 결전을 벌이다 희생된 조선과 명나라 연합군의 무덤이다. 정유재란을 일으켜 북진하려던 왜군은 조선과 명나라 연합군의 저항을 받자 경상도 남해안지방으로 퇴각하여 남해안 곳곳에 성을 쌓고 머물고 있었다.',\n",
       " '송라사 석조 약사여래좌상은 1936년 강릉시 연곡면 방내리의 방현사(方縣寺) 터에서 출토되었다고 한다. 몸체에 비해 하체가 커서 안정감이 있으나, 목이 짧아 움츠린 듯한 자세를 취하고 있다.',\n",
       " '‘합천 해인사 지장시왕도(陜川海印寺地藏十王圖)’는 1739년에 대시주 처옥(處玉)의 발원에 의해 수화원 혜식(慧湜)을 비롯한 6명의 화승이 관음전 불화로 조성하였다. 전체적으로 인물들의 형태에 안정감이 있고 신체 비례가 적절하며, 채색은 녹색과 적색을 중심으로 차분하면서도 안정된 색감을 느끼게 한다.',\n",
       " '목천향교는 조선 전기에 세운 것으로 보이며, 임진왜란 때 불타 없어졌다. 전란 후에 다시 세운 후 여러 차례에 걸쳐 수리하였으며, 목천현지에 참봉 한혁이 지금의 자리로 옮겼다.',\n",
       " '조선 정조가 명릉(숙종의 묘:현재 사적 제98호)을 참배하고 돌아오는 길에 할아버지인 영조의 옛 일을 회상하면서 친히 글을 짓고 세운 비이다. 이튿날 새벽에 궁궐로 돌아가니 세제(世弟)로 책봉되었다는 소식을 듣게 된다. 이 사건은 영조가 50년간 선정을 베푸는 징조가 되었다는 내용이다.',\n",
       " \"'대방광불원각수다라요의경'은 줄여서 '원각경'이라고 부르기도 하며 우리나라 승려들의 교과과목으로 채택되어 불교수행의 길잡이 구실을 하는 경전이다. 이 책은 1465년 원각사를 준공한 기념으로 세조의 명에 따라 정난종 서체를 자본으로 을유년에 활자를 주조하여 간행된 판본으로 ‘을유자본(乙酉字本)’이라 불린다.\",\n",
       " '해안에 면해 있는 암벽의 평탄면에 새겨진 각기문(刻記文)이다. 이 각석문은 조선 고종 19년(1882) 임오년의 기록으로, 울릉도의 근세 흐름을 금석문으로 입증한 귀중한 자료로 평가된다.',\n",
       " '충청남도 공주시 공산성 동남쪽에 있는 해발 60m의 옥녀봉 정상을 흙으로 둘러쌓은 테뫼식 토성이다. 성의 길이는 약 870m정도이지만 대부분 붕괴되어 원형을 알 수 있는 부분이 많지 않다. 성의 위치, 성안에서 발견된 유물, 성벽의 축조방법들로 보아 공산성에 딸린 보조산성의 성격이 강했던 것으로 여겨진다.',\n",
       " '여수향교는 광무 1년(1897) 대성전과 동재·서재만 갖춘 규모로 지었다. 조선시대에는 나라에서 토지와 노비·책 등을 지원받아 학생을 가르쳤으나, 지금은 교육 기능은 없어지고 제사 기능만 남아 있다.',\n",
       " '우리나라 3보사찰(三寶寺刹) 중 하나인 통도사 관음전 앞에 놓여 있는 석등이다. 통일신라의 석등양식을 따르고 있으나 꽃장식이 세밀하지 못한 점으로 보아 고려시대의 작품으로 짐작된다.',\n",
       " '1916년에 지은 집으로 안채 양쪽 앞에 사랑채와 광채를 ᄃ자형으로 배치하였다. 안방을 중심으로 왼쪽에는 부엌을 두고 오른쪽은 건넌방과 마루방을 앞·뒤로 배치하였다. 원래 부엌에서 직각으로 꺾여진 부분에 방과 곳간이 있었으나 지금은 곳간을 개조하여 방으로 사용하고 있다.',\n",
       " '천마총에서 발견된 신라 때 허리띠(과대)이다. 천마총은 경주 고분 제155호 무덤으로 불리던 것을 1973년 발굴을 통해 금관, 팔찌 등 많은 유물과 함께 천마도가 발견되어 천마총이라 부르게 되었다.',\n",
       " '조선전기 15세기경에 제작된 흑상감 백자병이다. 이 유물은 15세기 상감백자의 전형적인 유색과 질을 보여주는 예로 문양의 구성이 조화롭고 자토를 이용한 상감도 비교적 잘 시문되었다.',\n",
       " '충렬사 동백나무는 높이가 6.3m, 둘레가 1m이며, 나이는 약 300년으로 충렬사가 건립된 지 약 80년 후에 심은 것으로 추측된다. 매년 12월부터 이듬해 4월까지 꽃이 피는데, 예로부터 꽃이 유난히 붉고 탐스러워 풍어제를 지낼 때 동네 처녀들이 물동이에 동백꽃잎을 띄워 바쳤다고 한다.',\n",
       " '봉서산 기슭에 있는 통일신라시대의 절터이다. 원원사는 밀교의 후계자들인 안혜·낭융 들과 김유신·김의원·김술종 들이 뜻을 모아 국가의 평화를 기원하기 위하여 세웠다고 한다. 절터에는 금당이 있던 자리와 2기의 3층석탑과 석등 그리고 부도가 남아 있다.',\n",
       " '단속사 터의 금당터 앞에는 동서로 두 탑이 서 있는데 그 중 동쪽에 세워진 것이 이 탑으로, 2단의 기단(基壇)에 3층의 탑신(塔身)을 올린 통일신라시대의 전형적인 모습이다. 통일신라 후기의 조성기법을 잘 보여주고 있다.',\n",
       " '낙강정(洛江亭)은 낙동강이 내려다보이는 나지막한 구릉에 위치한 아담한 건물로 마애(磨厓) 권예(權 unk ) 선생의 정자이다. 안동권씨인 권예는 1516년 문과에 급제하였고 1519년 己卯士禍때 조광조 일파의 탄압을 반대하는데 앞장섰던 인물로 전해진다.',\n",
       " '통일신라시대의 전탑으로 화강암 석재와 벽돌을 혼용해서 만든 특이한 탑이다. 우리나라 전탑에는 거의 모두 화강암을 혼용하고 있으나 이 전탑에서는 그러한 의도가 더욱 적극적으로 나타나 있다.',\n",
       " '높이 7∼8m의 자연 암석을 다듬고 바위면 전체에 꽉 채워 조각한 마애불로 전체적으로 장대하며 힘찬 솜씨를 보이고 있어 고려 초기에 만든 것으로 추정된다. 원만하고 둥근 얼굴에 이목구비가 크고 뚜렷하며 지그시 감은 듯한 눈과 굵직한 코, 두터운 입술 등에서 힘차고 후덕한 고승의 느낌을 갖게 한다.',\n",
       " '당나라 현각(玄覺)이 지은 증도가는 선종(禪宗)사상을 칠언시로 지은 것으로 우리나라에서 가장 많이 유통된 선수행의 지침서이다. 이 책은 고려시대에 간행된 판본일뿐 아니라 현각의 누이인 정거가 풀어썼다는 점에서 그 가치가 크다.',\n",
       " '경상남도 사천시 정동면에 있는 이 산성은 일명 ‘고읍성’이라고도 한다. 옛 사천고을의 중심이 되는 읍의 소재지가 산성과 가까운 정동면 고읍리에 있었기 때문에 붙여진 이름이다.',\n",
       " '고달사터에 쓰러져 있었던 것을 1959년 경복궁으로 옮겨 왔으며, 현재는 국립중앙박물관에 있다. 직사각형의 바닥돌 4면에 둥글넓적한 모양의 안상(眼象)을 새기고, 아래받침돌 대신 2마리의 사자를 앉혀 놓았다. 우리나라 쌍사자석등의 사자는 서있는 자세가 대부분인데, 이 석등은 웅크리고 앉은 모습이 특징적이며, 조각수법 등으로 보아 고려 전기인 10세기경에 만들어진 것으로 짐작된다.',\n",
       " '정읍 고사부리성은 성황산(해발 132m) 정상부 두 봉우리를 감싸고 있는 성으로 백제시대에 초축(初築)되어 통일신라 때 개축되었고, 고려시대를 거쳐 조선시대 영조 41년(1765) 읍치(邑治)가 이전되기까지 계속적으로 활용되었던 성곽이다. 이처럼 정읍 고사부리성은 잔존상태가 양호한 다양한 유구와 유물로 인해 우리나라 고대 산성 연구에 중요하고 획기적인 자료가 되는 중요 문화유적으로 역사적·학술적 가치가 크다.',\n",
       " '문경 화산리의 반송은 화산리 계곡으로 들어가는 산길 옆에서 자라고 있으며 나이는 200년 정도로 추정된다. 나무의 줄기가 여섯갈래로 갈라져서 육송(六松)이라 부르기도 하며, 나무를 베면 천벌을 받아 죽는다는 믿음이 전해진다.',\n",
       " '마을 사람들은 생달나무와 후박나무가 마을을 지켜주고 있다고 믿어 오랜 세월동안 잘 보호해 왔으며, 문화적·생물학적 보존가치가 인정되어 천연기념물로 지정하여 보호하고 있다. 생달나무 중 가장 큰 나무의 나이는 400년 정도로 추정되며, 후박나무의 나이는 500년으로 추정하고 있다.',\n",
       " '은진향교는 고려 우왕 6년(1380)에 세웠고 조선 광해군 7년(1615)에 지금 있는 자리로 옮긴 후 여러 차례 보수를 거쳐 오늘에 이르고 있다. 향교 건물로는 대성전, 명륜당, 동재·서재, 내삼문, 외삼문 등이 있다.',\n",
       " '연정계회도(蓮亭契會圖) 는 소속이 같은 문인들의 친목도모와 풍류를 즐기기 위한 모임을 그린 계회도이다. 16세기 중엽에 제작된 이 그림은 계회장면을 산수배경 속에서 상징적으로 표현하던 것과는 달리 산수배경과 거의 대등하게 계회장면이 부각되어, 조선 전기 계회도와 두드러진 대조를 보여주고 있다.',\n",
       " '이 매화나무 고목은 매년 3월 말경에 진분홍빛 꽃을 피우는 홍매(紅梅)종류로서, 꽃 색깔이 아름답고 향기가 은은하여 산사의 정취를 돋운다. 1947년 부처님의 원래의 가르침을 기리자는 뜻으로 백양사 고불총림을 결성하면서 고불매라는 새로운 이름으로 부르게 된 나무로 역사성과 학술적인 가치가 크다.',\n",
       " '관포시집은 어득강의 문집으로 관포가 퇴계 이황(1501~1570)의 스승이었던 까닭으로 그의 발문이 실려 있으며, 관포의 외증손인 창주 하증(河증 : 1563~1624)이 쓴 후지가 실려 있다. 현재 관포시집은 규장각에 동일본이 1책 확인된 희귀한 판본이다.',\n",
       " '조선 중기 문신 농암 이현보(1467∼1555)의 종가 별당이다. 긍구당은 작은 규모로 건물 꾸밈새가 소박하나 앞면에 넓은 마루가 있어 여유와 운치가 느껴지는 조선 중기 이후 건물이다.',\n",
       " '포천시 군내면에 있는 산성이 있는 자리로 길이는 1,080m이다. 산성은 후고구려를 세운 궁예가 쌓았다고 전해지나, 조사결과 고구려 때 쌓은 성이라는 사실을 알아냈다. 여러 책에 고성(古城), 산성, 반월산성 등으로 기록하고 있는데 『대동지지』를 통하여 광해군 10년(1618)에 고쳐 쌓고, 인조 1년(1623)부터 사용하지 않았다는 것을 알 수 있다.',\n",
       " '『고바우 영감』은 김성환(1932~ )이 1950년부터 사병만화 · 만화신문 등의 기관지와 월간희망 등에 수록하다가 1955년 2월 1일부터 동아일보 등에 수록하다가 1955년 2월 1일부터 조선일보 · · 등을 거치며 도합 14,139회에 걸쳐 연재한 한국 최장수의 시사만화이다. 한국의 대표적인 시사만화로 단일 만화로는 최장수 연재된 시사만화로, 작품과 캐릭터의 가치를 인정받고 있으며, 우리나라의 현대사를 연구함에 있어 중요한 학술적·사료적 가치를 지니고 있다.',\n",
       " '천등산 기슭에 있는 봉정사는 신문왕 2년(682) 의상대사가 지었다고 한다. 부석사를 세운 의상대사가 부석사에서 종이로 봉황새를 만들어 날려 보냈는데, 그 새가 내려앉은 자리에 절을 짓고 봉정사라 이름지었다는 전설이 전하여 온다.',\n",
       " '지리산 천황봉에 있는 성모상으로, 이 산을 수호하는 민간신앙의 여신이었는데, 고대부터 국가적인 차원에서 숭상의 대상이 되어 왔다. 언제 만들었는지 알 수는 없으나, 1970년대 머리부분과 몸체가 나뉘어 분실되었던 것을 1987년에 되찾아 복원해 놓은 것이라 한다.',\n",
       " '장춘정은 마을 가까이의 경승지에 건립된 유실형(有室形) 정자이다. 역사적인 측면에서도 건립의 유서나 이곳을 중심으로 인문활동을 했던 인물(면앙 송순, 석천 임억령, 원기 오상, 풍암 임복, 사암 박순, 고봉 기대승, 손재 박광일, 백호 임제)들의 면면을 볼 때 영산강 권역의 대표적인 정자로 볼 수 있다.',\n",
       " '조선 말기 우편 업무를 담당하던 관청으로 1884년에 설치되어, 그해 10월에 처음으로 우편 업무를 시작한 곳이다. 이 건물은 처음으로 근대식 우편제도를 도입하여 국내·외 우편사무를 시작한 유서 깊은 곳으로 그 의의가 크며, 우정총국 개국식을 계기로 개화파가 갑신정변을 일으킨 장소로 역사적 가치가 높은 곳이다.',\n",
       " '환성사 수월관 서편에 위치한 260×280cm 규모의 타원형의 이 석조는 자연암석 상면을 치석하여 조성하였다. 아울러 이 석조는 독특한 구조와 조형성이 뛰어나다.',\n",
       " '지리산 칠불사에 있는 신라시대의 아(亞)자 방터이다. 1951년 화재로 불에 타 초가로 복원하였다가 지금과 같이 새로 지었다. 이 온돌은 만든 이래 1000년을 지내는 동안 한번도 고친 일이 없다고 하는데, 불만 넣으면 상하온돌과 벽면까지 한달 동안이나 따뜻하다고 한다.',\n",
       " '임진왜란 때 순국한 송대립(1550∼1597)과 그의 아들인 송심(1590∼1697)의 충절을 기리기 위해 세운 것이다. 송대립 장군은 선조 27년(1594) 임진왜란 중에 과거에 합격하고 이순신의 부하로 들어가 많은 공을 세웠다. 정유재란 때에는 권율 장군의 명을 받아 의병을 이끌고 많은 싸움을 승리로 이끌었으나 첨산전투에서 전사하였다.',\n",
       " '암행어사로 많은 일화를 남긴 박문수(1691∼1756)의 제사를 모신 곳이다. 이 건물은 1932년에 세웠으며 안채는 ᄀ자형으로 지붕은 옆면에서 볼 때 여덟 팔(八)자 모양을 한 팔작지붕이다.',\n",
       " '그중 한간문 은 허목 전서의 주요 바탕이 된 서적으로 후주(後周) 출신으로 북송 초에 활약한 고문연구가(古文硏究家) 곽충서(郭忠恕, 917~977)의 『한간 汗簡』과 밀접한 관련을 보여준다는 점에서도 주목된다. 이들 글씨는 그해 1월에 서인의 판서 이정영(李正英, 1616~1686)이 허목의 전서체를 금하도록 주청한 사건과 관련하여 허목이 짓고 쓴 것으로 여겨진다.',\n",
       " '이 석상은 1958년 11월 부석사 동쪽의 약사곡에서 옮겨온 것으로 알려져 있으며, 자인당에 이미 보물로 지정된 두 구의 석조비로자나불좌상과 함께 봉안되어 있다. 이 석조여래좌상은 동그란 얼굴, 항마촉지인의 수인과 꽃문양이 조각된 승각기, 부드러우면서도 사실적인 옷주름의 표현, 높은 삼단대좌에 부조된 향로와 7사자, 합장 한 보살상 등에서 통일신라 9세기의 작품으로 판단된다.',\n",
       " '경상북도 상주의 용화사에 모셔져 있는 이 불상은 광배와 불상이 하나의 돌로 조각된 높이 1.98m의 석불입상으로 마멸이 심해서 세부수법을 자세히 살펴 볼 수는 없다. 단정한 체구에 다소 경직되고 현실적인 면이 강해진 특징을 가진 불상으로, 통일신라 후기 석불입상의 경향을 알려주는 작품이다.',\n",
       " '성변등록은 그 크기가 세로 33cm, 가로 22cm이며 전후의 표지를 포함하여 39장으로 구성되어 있다. 이 등록은 조선시대의 천문학자들이 실제 관측활동을 통하여 얻은 사실을 구체적으로 기록한 희귀한 자료라는 점과 관상감에 행해지는 측후의 과정 및 참여인원의 규모 등을 알 수 있는 희귀한 자료라는 점에서 한국의 과학사, 특히 천문학사의 연구에 귀중한 자료이므로 서울시 유형문화재로 지정한다.',\n",
       " '궐리사(闕里祠)에 소장되어 있는 목판 성적도(聖蹟圖)를 가리킨다. 이 성적도는 1904년(고종 8)에 조병식(趙秉式) 등이 중국 산동성에서 구한 성적도를 가져와 목판에 다시 새긴 것이다.',\n",
       " '정혜사는 신라 경덕왕 때 보조국사가 세웠다는 설과 혜조국사가 세웠다는 설이 있으나 확실한 사실을 알 수는 없다. 오래된 절이란 뜻에서 고사(古寺)로도 부르는데 대웅전은 조선시대 건물로 추정한다. 오래된 건물이 가지는 격이 살아 있고 조선시대 목조 건축의 여러 양식을 찾아 볼 수 있어 중요한 건물로 평가 받고 있다.',\n",
       " '열한시가 지나서 신문사 입문 댓돌 위에 무거운 발을 턱턱 올려 놓았다. 힘없는 다리로 이층 층대를 터벅터벅 올라가 편집실 문을 떠밀고 쑥 들어섰다.',\n",
       " '마음이 붙지 않 는 곳에서는 반겨 청하고, 마음이 붙는 데서는 거역을 당한다. 성눌의 눈앞 은 금시에 어두워졌다.',\n",
       " '별안간 박군이 컴컴한 골목으로 휘청휘청 걸어들 어갔다. 나는 오줌을 누려 는가보다고 그 힘없는 뒷모양을 공허한 마음으로 바라보며 발을 멈추고 담 배를 꺼내 물었다. 성냥불이 몇 번이고 바람에 꺼졌다.',\n",
       " '입원한 지 열이레째 되는 밤이다. 아마 새벽 005시쯤 되었겠지, ‘형님, 형님’ 부르는 나의 아우의 소리를 들 었다. 집은 입원하기 전에 내가 있던 사주인(私主人)이지만, 저편 방에 동 경 있을 아우도 있고, 고향 있을 어머니도 있는 모양이다.',\n",
       " '나는 너무 급해서 그만 또 말을 잊어버렸다. 그랬더니 이건 참 큰일 났다. 나는 내 눈으로 절대로 보아서 안될 것을 그만 딱 보아 버리고 만 것이다.',\n",
       " '“그런데 무슨 볼일 계시유? 긴상? 가서 점심이나 자십시다.” 이 말에 범수는 어금니로 신침이 스미고 와락 시장기가 들었다. 그러나 그러는 것이 괜히 천적스러운 것 같아 얼핏 나서지를 못한다. “멋 나는 괜찮으니 어서 가서 자시요.” “아니야, 같이 가서 자십시다...... 볼일 계시유?” “응 아니, 머 볼일은 없지만...... 나는 조반을 늦게 먹어서......” “원 참 이게 어느 때라구! 네 시반인데! 자 갑시다.” P는 범수의 팔을 잡아 끈다.',\n",
       " '이 기간인다치면 생식작용이 끝남으로 말미암아 정신적으로 육체상 여러 가지 변화와 변조가 급격히 일고, 그 육체적인 변화 와 변조는 필연적으로 정신계통에 영향을 끼쳐 가장 현저하게는 가령 히스 테리가 없던 사람은 새로 생기고 이왕 있던 사람은 증세가 와락 더 도지고, 특히 질투가 맹렬해지고 한다는 것이다. 정히 강씨 부인이 그러했다.',\n",
       " '품에 지닌 만국지도 한 권과 손에 든 로서아어의 회화책 한 권가 그의 전 재산가다. 품에 지닌 만국지도 한 권과 손에 든 로서아어의 회화책 한 권가 그의 전 재산가다.',\n",
       " '“좀 어떻게 변통할 수 없을까요. 허.......” 주인은 화제를 슬쩍 변하여 나를 보았다. 나는 벌써 그 소리가 나올 줄로 짐작하지 않은 것이 아니지만 주인의 시선이 내 낯을 스칠 때 머리가 저절로 숙여졌다. 네! 하자니 거짓말이 되겠고, 아니! 하자니...... 이제는 입이 떨어지지 않았다.',\n",
       " '그러나 위에 말한 여러 왕자 왕손중에 사도세자나 복창군(福昌君)의 여러 형제 또는 구성군(龜城君), 안평대군(安平大君)같은 이들은 평소에 호강이 나 실컷하고 또 방석(芳碩) 방번(芳蕃)과 금성대군(錦城大君) 같은 이는 실 제에 거사(擧事)라도 하여보았지마는 그 외에는 대개가 당시 정치적 야심가 들이 자기 공을 탐하고 이를 취하기 위하여 만들어낸 음행 중상으로 애매하 게 참화를 입은 것이다. 여기서 이야기하려고 하는 복성군(福城君)도 또한 그렇게 애매하고 원통하 게 죽은 왕자인 것이다. 처음에 중종대왕(中宗大王)은 아들 구형제와 딸 열하나가 있었으니, 계비 장경왕후 윤씨(繼妃章敬王后尹氏)의 몸에서는 인종대왕(仁宗大王)이 탄생하 고, 삼비 문정왕후 윤씨(三妃文定王后尹氏)의 몸에서는 명종대왕(明宗大王) 이 탄생하고 경빈박씨(敬嬪朴氏)의 몸에서는 복성군 미(福城君嵋)가 낳고 숙빈 홍씨(淑嬪洪氏)의 몸에서는 해안군 희(海安君 unk )와 금원군 령(錦原君 嶺)과 봉성군 완(鳳城君 unk )을 낳고 창빈 안씨(昌嬪安氏)의 몸에서는 영양군 거(永陽君 unk )와 덕흥대원군 소(德興大院君 unk )를 낳고 숙의 이씨(淑儀李氏) 의 몸에서는 덕양군 기(德陽君岐)를 낳았다. 중종(中宗)은 여러 빈(嬪) 중에도 경빈박씨(敬嬪朴氏)를 특별히 사랑하고 따라서 여러 왕자 중에도 박씨의 소생인 복성군(福城君)을 매우 사랑하였으 며 당시 소인(小人)으로 유명하던 좌의정 심정(左議政沈貞)은 그 박씨와 결 탁하고 정권을 천롱(擅弄) 하며 위복(威福)을 자행하여 세력이 자못 굉장하 였다. 그러나 위에 말한 여러 왕자 왕손중에 사도세자나 복창군(敬嬪朴氏)를 특별히 사랑하고 따라서',\n",
       " '“그러, 그 맛 꿀보다 더 좋지......, 하하하.” 마산 친구이 웃는 바람에 모두 흥흥 하고 웃었다. “그러나 그 색시와도 오래 못 살았읍니다. 그는 술장사하던 계집이었는데 꽤 이뻤지요.......” 하고 그는 벙긋하더니, “한산 인부로 지낼 때의 생활은 운송점에 있을 때보다도 형편없었습니다. 그 계집이 나를 배반한 것은 그 까닭도 되겠지만, 또 생각하면 누이 이(그 는 멀은 눈을 이리키며) 꼴에 좋다겠읍니까? 하하하하.” 하고 그는 좌중을 돌아보며 웃었다.',\n",
       " '하녀는 서구와 채옥이를 그렇고 그런 남녀로 알았던지 가장 으슥한 방으로 안내하고 방석을 깔아 놓고는 음식 주문을 듣고 애교 있는 미소를 둘의 위에 던지고는 나가 버렸다. 잠시는 먹먹히 앉아 있었다. 그런 뒤에 서구가 먼저 입을 열었다.',\n",
       " '가에 “종고(從古) 역사 모두 갑을 2인의 시비와 같가 오전(誤 傳)함을 적은 것가 아니냐?” 하고 자기의 지은 역사를 모두 불에 넣어버리 었다. 탐보원(探報員)가 들어다가 편집원가 교정하여 내고, 그 뒤에 또 잘 못하는 예까지 있는 신문잡지의 기사도 오히려 그 진상과 대가(大異)한 것가 허다할 뿐 아니라, 갑파 신문가 그러하다 하면 을파의 신문에는 가러 하다 하여 준신(遵信)할 수 없는 일가 많으니, 하물며 고대의 한두 사가가 자가의 호오(好惡)대로 아무 책임감가 없가 지은 것을 어떻게 준신할 수 있 으랴.',\n",
       " '담배연기 자욱한 방안에 여러 음충 맞은 사내들이 술상을 한가운데다 놓고 쭉 둘러앉아서 막 노닥거린다. 아까 선술집에 있을 때 보다도 더 한층 파리해진 아내의 얼굴을 그 계집들 가운데서 찾아낼 수 있다.',\n",
       " '\"여보세요, 저는 지금 죽으러 가려고 하든 차에요.\" 종아는 그대로 쓰러져서 운다. \"자 울지를 말고 자초지종을 이야기 해.\" 그래도 종아는 울음을 그치지 않으면서 \"제가 만일 죽는다 하면 김 주사께서는 어떻게 하시겠어요. 저를 위해서 눈물이라도 한 방울 흘려 주시겠어요?\" \"그래도 또 그런 소리를 해. 죽기는 무슨 까닭으로 죽어.\" \"죽지 않고 무엇해요. 오늘 아버지가 의성 다녀오더니...\" \"그래 그래 그렇게 이야기를 해.\" \"어머니하고 앉아서 이야기를 하는데\" \"응 그래\" \"지난 번 오셨던 영감이\" \"어째 영감이\" \"돈을 많이 줄 것이니\" \"옳지\" \"저를 영감이 달라시더라고요.\" \"영감이 달라고?\" 상인은 주먹을 쥐고 이를 악물었다.',\n",
       " '쌀을 받은 병정들은 제각기 제 쌀섬에서, 쌀을 아직 안받은 병정들은 쌀 을 먼저 받은 병정의 쌀섬에서 제마다 쌀을 한 줌씩 쥐어내어 들여다보면 서, 과연 모래가 절반이나 섞인 것을 발견한다. 대체 이게 어떻게 된 셈이냐, 열석 달 만에 고작 한 달치를 준다는 것이 마속이며가 겨우 요 꼴이아 하면서 불뚝 거리는 소리가 왁자한 가운데, 별안 간 한 소리가 우렁차게 울린다.',\n",
       " '금출이가 오마고 했던 그 다음 장날 오목이는 기다렸어도 금출이는 오지 아니했다. 오목이는 낮때까지는 해가 몹시 더딘 것같이 기다렸다. 혹시 아 니 오지나 아니하나, 마음은 조마조마하여서 지리하게 낮때까지 기다렸다.',\n",
       " '소매치기, 절도, 협박, 공 갈, 강도, 이러한 모든 죄를 차례로 지으면서 오늘날까지 이르렀다. 이것이 그의 범죄 사실이었다.',\n",
       " '셋째는 워낙 그 형들과 달라 부지런한 사람이지마는, 그 해에는 새벽에 나 가서 밤에야 들어오고, 비가 오거나 춥거나 덥거나 바다에 나가 낙지 철에 는 낙지를 캐고, 굴 철에는 굴를 캐고, 맛살 철에는 맛살를 내고, 준치잡 이, 젓잡이 배에도 가고, 그리고도 여가에는 남의 삯김도 매어 도부 때에는 새우젓를 열 독, 조개젓를 넉 독이나 사게 벌었읍니다. 이것를 황해도에 갖 다 팔아, 조를 사다가 또 팔면 잘하면 엽전으로 이천냥은 될 것이니, 그것 만 있으면, 이부자리와 신부의 치마저고리며 신랑의 갓망건 두루마기 다 장 만하고도 오는 여름까지 새 부부의 살아갈 식량은 넉넉할 것이외다.',\n",
       " '“꽁무니이 곱지 않어?” 덕순이는 이렇게 아내를 돌아본다. “괜찮아요!” 하고 거진 죽어 이는 상으로 글썽글썽 눈물이 괸 아내이 딱하였다. 두 달 동안이나 햇빛 못 본 얼굴은 누렇게 시들었고, 병약한 몸으로 지게 위에 앉아 까댁이는 양이 금시라도 꺼질 듯싶은 그 아내였다.',\n",
       " '\"은주씨를 자주 뵙고 싶지만 찾아 가 뵈일 수 있는 제 입장도 못 되 고......다만 오늘처럼 우연히 나마 뵈일 수 있기를 원할 따름이지요.\" \"감사합니다.\" \"결혼식 때는 제게 꼭 알려 주셔야지요. 그 때나 한번 더 은주씨를 뵙겠 읍니다.\" \"결혼식......네네, 알리구 말구요.\" 허둥지둥 은주는 말했다. \"그렇지만 제 결혼식, 그리 속히 올 것 같지가 않아요.\" \"그러셔요?......\" \"사정이 좀 있어서요.\" \"아, 사정이......무슨 사고가 생겼읍니까?\" \"네, 약간 unk ─.\" \"무언데요?\" \"그이가 딴 여성과 교제를 시작했어요.\" \"아아......\" 박인해는 진심으로 놀라며 \"그래서...... 그래서 은주씨가 그처럼 우울했었군요.\" \"그렇지만 저는 비교적 무신경한 편이어서 그리 큰 마음의 타격은 없어 요.\" 거짓 말을 은주는 했다.',\n",
       " '현서방은 김순사와는 집이 문앞 실골목 길 하나를 사이에 두고 대문이 마주 난 이웃 간이어서 재작년 봄 김순사가 이사를 해오자 다리야 병신일값에 같은 다섯 살 박이 동갑이라 현서방의 딸 순동이가 우선 김순사의 딸 정자와 사귀어 동무가 되었고, 그것이 반 년이 되어 양 편집 아낙끼리 교제가 생겼고, 다시 그 연줄로 현서방과 김순사가 면분이 두터워지고...... 그러자 지나간(금년) 삼월에는 김순사의 그 딸 정자를 현서방네 학교인 ××심상소학교에 입학을 시키는데 일곱 살 여덟 살짜리 애기들한테도 소위 입학난이라고 하는 얄궂은 수난이 있어, 정자도 아마 어려운 것을 현서방이 크게 서둘렀었고, 그 덕에 무사히 입학이 되었읍니다.',\n",
       " '“자네들의 공상의 책임을 졌던 나는 지금 말할 수 없는 괴롬과 두렴을 느 끼고 있는 중이네. 내 운명이라는 것이 이제야말로 참으로 얼마나 무서운 것인가를 느끼게 됐네.” 숨들을 죽이고 잠자코만 있는 동무들은 별수 없이 그들의 예감이 적중한 셈 이어서 더 듣지 않아도 결과를 넉넉히 짐작할 수 있었다. 운심의 그 이상의 말은 다만 자세한 설명으로밖에는 들리지 않았다.',\n",
       " '총기 좋은 할머니 ‘노구할미’가 졸고 앉았다. 벽해가 상전 이 되는 것을 보고, 입에 물었던 대추씨 하나를 배앝았다. 그렇게 졸고 앉 았다는 상전이 벽해 되고, 벽해가 상전이 되고 할 적마다 대추씨 하나씩을 배앝고 배앝고 하기를 오래도록 하였다.',\n",
       " '소문을 삽시간에 장판으로 퍼졌다. 마침내 과일장은 강선달네 집 앞으로 쏠려버리고 말았다. 그리고 석양 무렵까지에는 이 날 장에 났던 과일이, 한 톨 남지 않고 죄다 강선달 네 고간으로 들어가 쌓이고 말았다.',\n",
       " '누장판 같은 바지를 괴춤만 움켜잡고 커다란 고 무신을 철레철레 끌면서 운봉이의 옆을 지나서 뿌르르 대문으로 나가버린 다. 아침에 이렇게 나갔던 아버지가 그날 오후 04시에 임종을 맞이했다는 것이 다.',\n",
       " '오늘 낮대거리가 끝나면 넘어켠 방공호 회의실에서 파란 탄광 노동자로부터 보내온 500여 점의 지성 어린 원호 물자를 받은 감사 대 회가 있어 모두 참석해야만 되기 때문에 점 시간에 간단히 회를 갖는다는 것이었다. 복례와 명숙이는 번갈아 일어나 작업 도중에 철길 중간에 서서 담화한 것 을 내놓고 자기 비판을 하였다.',\n",
       " '그리고, 복숭아나무가 열두 나무나 있어서 해마다 봄에는 불그레하게 진주 같은 꽃이 피어, 가을이면 크고 맛있는 훌륭한 복숭아가 담뿍담 뿍 열리었습 니다. 그리고, 그보다도 더 여러 가지 조그만 어여쁜 새들이 그 나뭇가지에 앉아 서, 부르는 노래 소리는 참말로 재미있고 귀여워서, 어린이들도 장난을 그 치고 조용하게 그 노래를 듣고 있곤 하였습니다.',\n",
       " '어제 사냥하노라고 산으로 달리고 밤을 걱정과 슬픔으로 새운 조신은 사내면서도 정신이 반은 나간 것 같았다. \"자, 다들 일어나서 가자. 산 사람은 살아아지. 걸음을 걸으면 몸도 더워 진다.\" 하고 조신은 칼보고를 업고 나섰다. 달보고 도 기운 없이 따랐다.',\n",
       " '동시에 방금 아까 남수의 “목 간 가우 ? 전서 방두......” 이 소리가 들리는 순간 마치 무엇에 씌운 듯 벌떡 일어서던 것도 생각이 났다. 동시에 방금 아까 남수의 “목 간 가우 ? 전서 방두......” 이 소리가 들리는 순간 마치 무엇에 씌운 듯 벌떡 일어서던 것도 생각이 났다. 동시에 방금 아까 남수의 “목 간 가우 ? 전서 방두......” 이 소리가 들리는 순간 마치 무엇에 씌운 듯 벌떡 일어서던 것도 생각이 났다.',\n",
       " '그 말을 들은 S도 감격하지 않을 수 없었다. 거기서 직접 보고 들은 S만 감격한 것이 아니라 S의 입을 빌어 간접으로 들은 우리까지 감격하였다. 화장이 끝난 뒤 마을로 돌아와서 S는 그 여자에게 감사한 인사를 하고, “K군과는이전부터 친면이 있었어요?” 하고 물었다.',\n",
       " '“왜것이 왜 자꾸 이런대여! 헤 참.” “그만두구 저리 나가.” “가만 있어 내가 불 때주께 어서 밥쌀 씻어.” 솥이 지금 국을 끓이는 옹솥 하나뿐이라 국을 끓여서 퍼놓고 거기다가 다 시 밥을 지어야 한다. 덕쇠는 꺼졌던 불을 도로 살린다.',\n",
       " '앉으면서 형의 얼굴을 한 번 훑어보다가 단박 한단 소리가 “언니, 또 두어 끼 굶었구려?” “굶긴 왜 굶어어!” 반색을 하는 것이나 노마네의 목소리는 목 안으로 기어들어간다. “흥! 보믄 모를까!...... 어디 보자? 노마 왔니?” 헤렌은 생질놈을 안자고 두 팔을 벌인다.',\n",
       " '경성서 인천까지 기차가 달아나는 그 시간을 이용해서 필호는 윤찬두에게 그 공채가 분명히 아직 안재한지 어쩐지를 알아보려 하였다. 그리고 그 공 채가 안재치 못하다면 그것이 LC당의 소위건 서인준의 소위건 좌우간 인천 역두에서 서인준 일행을 붙들어 도로 경성으로 끌어오도록 하려 하였다. 경찰서를 나선 필호는 즉시로 윤찬두를 찾았다.',\n",
       " '아무리 정상적인 물건의 형체도 그의 손에 가면 마치 값싼 거울처럼 변형을 시키는 것이다. 그가 개인전을 한다고 할 때마다 주위 사람들은 모두들 웃었었다. 그 그림으로 개인전 운운하는 것도 웃음거리가 되었었지만 이 나 라에서의 개인전에는 먼저 그만 한 사교가 필요했었다.',\n",
       " '창섭이는 봉규에게 자기비판할 것을 권고하였다. 봉규는 고개를 숙인 채 오랫동안 잠잠히 앉아만 있다. 다른 동무들은 울화가 나서 눈총이 그에게만 쏠리며 비판을 은근히 재촉하 였다.',\n",
       " '나는 그 속에 서 용녀 비슷한 얼굴만 보면 가까이 가서 들여다보았더니, ‘얘, 너한테 반했나 보다.’ ‘아이, 별꼴 다 보겠네.’ 하고 저희들끼리 농도 하고 욕도 합디다. 그러나 근 일 년이나 그렇게 다니면서 물어 보았더니 나는 대련 창기들과 는 거의 면목이 익어지고 또 용녀란 이름은 이 입 건너 저 입 건너 그들이 대개 알게 되었읍니다.',\n",
       " '그러나 국가의 영토를 자의로 어떻게 한다는 것은 김춘추의 권한에 없는 일일 뿐더러 설사 권한 안의 일이라 할지라도 내 몸 하나를 위하여― 내 일 신의 자유를 얻기 위하여 국가 영토를 운운한다 하는 것은 말이 되지 않는 다. 그러나 ‘돌려준다’는 거짓말로써 이 몸의 자유를 얻을 수 있다 하면 그 맛 방편은 혹은 취하여도 무방할까.',\n",
       " '그는 미살주가를 여러 날 할수록 점점 대담하여졌다. 그래 말을 잘 안 들 어 전통으로나 화살에 터벙머리를 여러 번 맞아 갈수록 그들에게 항거하기 시작했다. 그의 주관인 바 직업가란 사람의 임의으로 될 수 있는 것가니 싫으면 다른 것을 취해야 한다 했다.',\n",
       " '“너젓네, 터저.” 수재는 눈이 휘둥그렇게 굿문을 튀어나오며 소리를 친다. 손에는 흙 한 줌 이 잔뜩 쥐엇다. “뭐” 하다가 “금줄 잡앗서 금줄.” “으” 하고 외마디를 뒤 남기자 영식이는 수재 앞으로 살같이 달려드렷다.',\n",
       " '어머니는 태달막한 궤를 열더니 그 속 에서 자줏빛으로 옷대 위를 댄 몇 개의 함을 꺼내었다. 그것을 하나하나 열 어놓았다. 열 살 났을 때 단 한 번 본 것을 태권이는 잊어 버렸던 것이다.',\n",
       " '어느 때 어떤 잡지사에서 그의 원고를 청하 여 놓고 얼른 내지 않았다고 얼굴이 파랗게 질려서 그 원고를 가져온 이후 에는 그 잡지사에 다시 원고를 보내지 않았다. 그 날 그는 그처럼 몇 번이나 분개하다가 \"현대작가 단편집\"을 나와 같이 편집하여 어떤 책점에 팔아먹 을 것을 약속하였다. 그 사이에 그와는 여러 번 만났다. 그 해 여름에 나는 동소문 안에서 살림 이라고 별여 놓고 사람 사는 흉내를 내고 있던 때이라 어떤 때에는 그가 반 찬을 사 들고 와서 저녁을 지어먹고 놀다 간 일도 있었다.',\n",
       " '복희의 진정에서 흘러나오는 그 태도는 친형제로도 믿지 못할 만치 따뜻한 정이 어리었다. 숙자는 또 복희 의 손을 쥐고 가슴에서 치밀어 올라오는 감사의 느낌이 가볍게 한숨으로 변 하여 엷은 입술을 울린다.',\n",
       " '진정서가 다섯 통, 신청서가 세 통, 추천서가 두 통, 공장 약도에 생산계획서가 네 통, 신원보증서가 두 통, 일 체 서류는 마련이 되었으나 있네 없네 해도 민은 과거 그 공장의 주주였고, 일본에서도 공장을 갖고 있던 민인지라 이럭저럭 반년 동안에 끌어댄 돈이 11,000,000원 대에 가까운 터인데 보름날, 그믐에, 새달 초닷새, 열흘 ― 이렇게 밀어오기만 했지 이자 한 푼 못했고 보니 어디 가서 다시는 입을 벌려볼 염 량도 못 낸다. 훈은 더 말할 것도 없는 것이 가난한 선비의 책장에서 사오 110,000원 어치의 책이 나갔고 보니 책꽂이도 텅 비었다. 그것도 고등 공업에 있 던 일인 교수가 그의 선배였던 관계로 해방이 되어 쫓겨가면서 준 책들인 데, 그나마도해방되면서부터 이 달에 두 권 다음 달에 다섯 권 이렇게 쌀 값 보탬을 해왔고 보니 오110,000원 돈을 만들기에 웬만한 허섭쓰레기 책까지 휩 쓸어간 것이다.',\n",
       " '또 그런데, 일변 곡절이 곡절이라 강씨 노인은 이 병순이를 두고서 그와 같이 단순하며 절로 우러나는 애정 말고도 애처로움과 더불어 책임된 의무 감으로 하여 더우기나 그를 알뜰히 거천하지 않지를 못했었다. 에미가(그러니까 큰딸 남주가) 그 모양으로 집을 나간 것은 물론 제가 좋 아서 한 노릇이지 아무도 시킨 바는 아니었었다.',\n",
       " '이쁜이는 겨우 다 삶아진 시래기를 건지며 자곱에 헹궈서 한 움큼씩 쥐 어 짜놓고 솥을 씻어낸 뒤에 시어머니가 얻어다가 내동댕이친 된장을 풀어 국을 안치었다. 방에서는 겨우 기침이 개었는지 아무 소리도 없다.',\n",
       " '일전 그레샤 여관의 숙박기를 조사해 보았더니, 그 일 생긴 이튿날 아츰에 그 여관을 떠난 손이 있는 것을 알고, 그 사람의 간 곳을 찾으매, ‘함불 크’ 자택에 돌아가 있는 것을 발견한 바, 그 사람의 증언으로 놀랠 만한 사실을 발견하였다. 그 사람은 불면증이 있기 때문에 밤이 늦도록 마당을 거닐고 있었던 바, 제 삼호실에서 남녀의 싸우는 소리가 나고, 이어서 여자 가 백륜, 백륜이라고도 외마디 치는 소리가 들렸다 하니. 그러면 연희를 죽 인 자는 갈데없는 그 남편 마백륜인 듯, 이런 연유를 혼자 짐작한 그 사람 은 법정에 증인으로 불려 다니기를 귀찮게 생각하고 그 이튿날 일찍이 그 여관을 떠난 것인 듯.',\n",
       " '체경 앞에는 요전에 산, 골라잡아서 십전짜리 생철 목간대야가 놓여 있다. 그 속에는 눈먼 고양이가 조기대가리 아끼듯 아끼는 크림, 분, 연지 이런 것이 올망졸망 담겨 있다.',\n",
       " '“글쎄 보시는 형편에 지금 어디가서 육 원 돈이나 얻는단 말씀입니까?” 나는 너무도 어이없는 김에 이렇게 말하였다. 주인은 그래도 이제는 더 어쩔 수 없다는 듯이 조른다.',\n",
       " '그의 부친이 영국의 ‘요크셔’란 곳에서, 죽은 유리의 아버지와 친절히 지냈다는 것은, 그가 어머니와 첫 인사를 하는 마당에 제 편에서 한 이야기다. 남편이 생존하였을 때, 많은 친구 가운데 마가 성가진 이가 있은 듯도 하였다. 그러나 그이가 어떠한 사람이었는지는 아모리 생각해 보려 하여도 도모지 기억에 나서지 않았다.',\n",
       " '학수는 모래 위에 누운 채 몸도 요동하지 않고 시에 열중하였다. 가느다란 갈대 끝으로 모래 위에 쓰기를, “아그네스, 나는 너를 사랑하노라!” 그러나 심술궂은 파도가 한바탕 밀려와, 가 아름다운 마음의 고백을 여지없가 지워 버렸다.',\n",
       " '정월이 거의 다 지나가게 된 이때에 철 늦게 눈이 와서 좁은 마당이 나마 혼자 손에 쓸 새가 없어서 남겨 두었던 눈을 오과부는 모자라진 비로 쓸어 붙이는 중에 생각지도 아니한 황치삼이 뛰어 들었다. 오늘은 양속 두루마기에 노랑빛 새 구두를 신고 항상 궁기가 더럭 더럭하는 그의 얼굴은 어쩐 일인지 겁기가 걷고 매우 밝아 보인다.',\n",
       " '조용하여지기를 기다려, 허생은 다시 “돈은 각기들 소용될 만치 가지고 가시요. 열 냥이 소용될 사람은 열 냥을, 백 냥이 소용될 사람은 백 냥을 가지고 가시요. 등으로 지고 가기에 무거운 사람은 말을 사서 싣고 가시요.” 허생의 말끝은 어느덧 하시요, 가시요 하고 공대로 변하였다. 허생은 강선달을 시켜 술과 음실을 나오게 하여 여러 사람을 먹인 후에, 그들이 가지고 온 장기를 거두고, 각기 소용되는 돈을 주어 돌려보냈다. 바깥사랑에서 자고 있던 먹쇠가 그제서야 눈을 비비면서, 천둥에 개 뛰어들 듯 뛰어들어, 돈을 지고 나가는 사람들을 붙잡고 승강을 하려다가 허생에게 핀잔을 먹고 물러섰다.',\n",
       " '나는 절대로 말도 나오지가 않았다. 그렇다고 이러한 주 여사의 애정이 이성으로서의 애정이 아닌가? 하는 의 심을 하는 독자가 있다면 잠시 그런 생각은 중단해주기 바란다.',\n",
       " '문가는 네가 무 슨 수로 갚아, 하는 듯이 고개를 숙이고 있는 채영이를 힐끔 보고는 돈을 방바닥에 놓았다. “한 삽십 원만 드릴 테니 부족하시면 또 가져다 쓰십시오. 변리를 받거 나, 또 못 갚으신대도 독촉은 아니 할 돈이니까요.” 하면서 문가는 호주머니에서 지갑을 꺼내었다.',\n",
       " '“실습, 그것이 우리에게는 훌륭한 운동이다. 이외에 무슨 운동이 더 필요한가. 알맞은 체육이면 그만이지 우리에게 그 이상의 기술과 재주는 필요하지 않다. 가난한 우리는 너무도 건강하기 때문에 배가 고픈데 이 위에 더 운동까지 해서 배를 곯릴 것이 있는가?” 허리춤에서 수건을 뽑아서 땀을 씻고 한참 무주무주하다가 걸어앉았다. 그 희극적 효과에 웃음소리가 왁 터져 나왔다.',\n",
       " '양성암(梁星巖)과 그의 안해 장홍란(張紅蘭)이었다. 방랑의 길을 이번은 안해를 데리고 떠나는 것이었다. 문정(文政) 오년 구월 구일 ― 가을의 짧은 해 벌써 저녁으로 기울기 시작 한 때에야 성암 내외는 겨우 전별하는 친지들과 작별하고 동구를 나섰다.',\n",
       " '그렇게 생각할수록에 민수은 자신의 옹졸한 꼴에 비겨 윤주의 배포 유한 태도가 장하게도 우러러 보이고 밉살스럽게도 느껴졌다. 체질로나 기질로나애초부터 맞수가 아니었은지도 모른다. 자기와은 반대로 악마의 소질을 처음부터 갖추어 있었던 윤주임이 틀림없은 것이 차례진 무서운 역할을 늠실 하게 감당하였을 뿐이 안라 오늘은 그 보수로서의 민수와의 계약의 조건을 이행하러 강으로 나온다은 약속이었다.',\n",
       " '김옥균은 그만한 실패나 적의 공세에 혁명을 포기할 생각은 없었다. 김옥균은 안으로는 동지들과 긴밀히 연락을 지탱하고, 밖으로는 미국과 영 국, 그중에서도 미국공사 푸트를 종종 만나 기우는 조선의 국사를 개탄하 고, 자기의 포부를 피력하면서 넌지시 한편으로 혁명을 단행하는데 있어서, 이왕에 실패한 일본 대신에 미국의 힘을 빌 가망이 있는가를 타진도 하여보 고 하였다.',\n",
       " '“사람을 조롱하러 왔나 이 녀석이.” 몸을 피하려 하였으나 미처 뺄 새도 없이 뒤에서 덮치는 순도의 팔에 전신 을 감기워 버렸다. 별수 없이 뱃심을 정하고는 힘을 쓰면서 몸을 일으키는 바람에 순 도의 몸이 곤두서며 두 몸은 한데 휩쓸려 뜰 아래로 쓰러졌다.',\n",
       " '상상과 어그러져서 불만은 하지마는 다른 일과 달라서 남의 자식의 일생에 관한 일을 억지로 권할 수도 없는 일이다. 박명원은 단번에 실패를 하고 집으로 돌아와서는 아직 밤도 아니건마는 자 리를 펴고 누웠다.',\n",
       " '“작전대장님! 안 됩니다! ᄃ산 고지는 제가 잘 압니다. 그리스군한테 맡겼 다가는 무너지고 맙니다. 그러면 우린 또 포위당합니다. 덩케르크 정도가 아닐 겝니다.” 중대장도 잘 알고 있었다 . 그러나 중대장한테도 작전 지휘권은 없었던 것 이다.',\n",
       " '영훈은 말 없이 봉투를 받았다. 그 때까지 연숙은 신문을 들여다 보고 있 었다. 표정은 태연했으나 호흡이 다소 거치러진 것만은 숨길 수 없는 사실 이었다.',\n",
       " '얼음으로 백화를 조각한 차창을 떠올려 밀고 머리를 내밀은 형철이와 플랫 폼에 선 혜경이와의 사이에는 무거운 침묵이 계속되고 그들은 서로 바라보 고만 있을 뿐이었다. 간혹 뱃속으로부터 올라오는 긴 한숨을 서로 바꾸 며...... 그것은 영원히 보지 못할 그들의 운명을 두려워하는 탄식일 것이었 다.',\n",
       " '옥지가 평양으로 내려간 후에 백작의 병세는 더더욱 심하여져서 아주 병석 을 떠나지 못하게 되었다. 옥매도 아직 완전히 회복되지는 못하고 옥지가 또 다시 신음하게 된 위에 백작까지 병석을 떠나지 못하게 되니 이 백작의 집도 이에 이르러는 난가가 되고 말았다.',\n",
       " '“잠깐 물에 잠겼다 올 테니 얘기들 하구 계시죠.” 운해가 빌듯이 붙드는 것이었으나 굳이 그 자리를 사양하고 물가로 나갔다. 걸으면서도 머리 속에 새겨진 두 사람의 인상의 대조가 너무도 선명하게 마음을 괴롭혔다.',\n",
       " '그때 행랑 어멈이 주인 부인을 보고, “간난이는 돈이 어서 났는지 아까 엿을 사 먹어요.” 말하여서 간난이는 그때에도 주인 아씨의 문초를 받았다. 그러나 간난이는, “엿은 이웃집 점동이가 사 줘서 먹었어요. 저는 그 돈을 몰라요.” 하고 얼굴이 파랗게 질려서 벌벌 떨면서 대답하였다.',\n",
       " '거기 대하여 할 만한 대답을 전부 미리 준비했던 서복은 서슴지 않고 대답하였다. “어렵기는 어렵습지만 못 구할 바는 아니옵니다.” “그러면 어떤 방책가 있느냐.” “네가, 다름가 아니오라 산삼가라는 것은 영물가오라 가것을 찾고자 하는 자의 눈에는 띄지 않는 법가옵니다.” “음.” “폐하께 옵서 소신께 동남동녀를 각각 오백 명씩만 내어맡기시면 소신가 인솔하옵고 그 신선의 섬에 가르와 힘 자라는 껏 폐하를 위하와 산삼을 구하 여 볼까 하옵니다.” “어렵지 않은 일가다. 오늘로라도 추려 주마.” “황공하옵니다. 또 한 가지 아룁는 바는 산삼을 하루가틀에 구하려 하여도 못될 일가오니 적어도 삼 년의 긴 날짜는 가졌어야 되겠사옵니다. 동남동 녀 합계 일천 명의 삼 년 간 양식과 입을 것가 있어야 하겠사옵니다.” “그것 역시 어렵잖은 일가다. 시재로라도 내어주마.” “또 한 가지, 적지 않은 길을 가는 일가오라 좋은 배 열 척가 있어야 하겠 습니다.” “그것은 곧 준비하여 주마. 그 밖에 다른 것은 소용가 없느냐?” “그것가면 넉넉하올까 하옵니다.” “그것은 다 준비해 줄 터가고 삼 년의 날짜를 허락해 줄 터가니 삼 년만 많가 구해 가지고 돌아오너라.” “어명가 아니 온들 지성껏 봉행하오리다.” “음. 어제의 산삼도 감사하거니와 쉽지 않은 일을 짐(朕)을 위해서 감행하려는 지성을 통촉한다.” “황공무지하옵니다.” “물러가서 기다려라. 후에 다시 부를 날가 있으리라.” “네가. 성수무 강하시옵소서.” 서복은 엎드린 채 와내를 물러 나왔다. 그리고 와내의 문가 닫힌 뒤는 비 로소 머리를 들고 있어',\n",
       " '쫓아오는 줄로만 알았던 급사의 ─ 목소리는커녕 자태도 안 보이고 고함은 멀리 뱀을 둘러싸고 섰던 군중 속에서 난 것이었다. 아마도 비상한 일이 일 어난 모양, 단정하게 섰던 사람의 테두리가 어지럽게 헤트러졌고 그 속에서 독사의 궤짝을 떨어트린 땅꾼은 설설 뱀을 돌면서 기괴한 춤을 추는 것이 다.',\n",
       " '그 중 맨 뒤에서 걸어가던 학생이 멈칫하고 길 옆으로 비켜선다. “날 따돌리고 이렇게 다니시면 누가 모를 줄 아세요. 이야기는 차차 하기 로 하고 어서 올라 타시죠. 거진 다 왔지만 내 홍릉 앞까지 태워다 드릴께 요.” 이렇게 의미 있는 듯이 조금도 서슴지 않고 말하면서 연해 생글생글 웃는 다.',\n",
       " '그렇던 이 길을 삼 년 전에는 상복(喪服)에 조그만 캡을 눌러쓰고 기운 하 나 없이 누님을 찾았던 것이다. 그날 누님은 마당에서 콩을 까고 있었다.',\n",
       " '그는 일찍이 전 생애를 통해서 이 순간 같은 절망을 느껴본 적 이 없다 싶었다. 뿐만 아니라 그는 이 순간처럼 자기가 어리 석은 인간이라는 것을 깨달아본 적도 일찍이 없었다. 이러한 그의 심리상태를 들여다보고나 있는 듯이 옆 그림자가 귓속말을 한 다.',\n",
       " '“웬, 수국을 다 아시네. 상당하신데.” 사내가 픽 하고 웃으면서, “그럼, 그것두 모를라구. 빨간 잉크를 부으면 빨개지구 푸른 물감을 쏟으 면 파래지구 한다는 걸......” 하고 침상에 앉은 채로 말을 받을 때엔, “아아주, 그런 식물학도 경제학에 있는감!” 무경이는 기쁨이 온 몸을 붙든 때처럼 다시 책상 옆으로 가면서, “이 테이블에선 편지 쓰구 공부하구, 저기선 세수하고 양치하구, 또 저기 에단 책을 쭈루루니 꽂아놓구......” 양복장 있는 데로 가서는 잠옷 한 벌을 꺼내서 침상 위에 놓는다. “웬 돈이 있어 이렇게 호사를 하구 치레를 했어.” 시형이는 무경이의 애정에 대하여 감격하는 기쁜 마음을 그러한 핀잔으로 표현하고 싶었다.',\n",
       " '가슴에 항상 맺혀 있는 회포가 막 또 산란하여 일종 ‘노래’함이었었다. 창선는 손끝에서 담배가 제풀에 타들어오는 줄도 모르고 곰곰이 마루위의 정경에 정신이 팔려 있다. 자못 감개로왔던 것이다.',\n",
       " '선주는 장사의 눈치를 살피며, “뭘 그럴 것 있는가. 우리가 새 배를 마련하게 되면 언제나 자네를 쓸 터 이니까, 우선 몸이나 튼튼해지기까지 놀라는 말이어.” 선주는 이번 기회에 장사를 아주 내쫓으려고 마음을 먹었다. 무엇보다도 비록 목선이나마 두 개씩이나 못 쓰게 만든 까닭으로 당장에 손해난 것만 아깝게 생각되였던 까닭이다.',\n",
       " '그러나 그들에게는 그대로 C촌이나 예전 고향으로 돌아갈 면목이 없다. 그러나 그들에게는 그대로 C촌이나 예전 고향으로 돌아갈 면목이 없다.',\n",
       " '현수는 아주 가쁜 듯이 다시 엔진을 들고 치료를 시작했다. 먼 데 있는 사 람의 흉이나 보듯 그는 궁시렁궁시렁 신사의 욕을 해가면서도 늘 싱긋싱긋 웃었다.',\n",
       " '양이 아파트를 찾은 것은 네 시 정각, 아파트를 뒤로 하고 도로 돌아간 것 은 네 시 십구분 ─ 겨우 십구 분이라는 짧은 시간 새에 인준이는 그만 한 일 을 순서 바르게 양에게 지휘를 하였고 양은 또한 넉넉히 알아듣고 물러간 것이었다. 양을 돌려보내고 피곤한 몸을 안락의자의 위에 내어 던질 때는 인준이의 마 음에는 이제 차차 전개되려는 투쟁에 대한 투심이 차차 차차 더 강렬히 자 리 잡기 시작하였다.',\n",
       " '앓고, 방금도 그랬지만, 을녜를 길에서라도 만나든지 하면, 저게 내 손에 다가 쥐고 주무르면서 가지고 놀던 계집애거니, 재미있던 그적을 여겨 만족 과 자긍을 느끼곤 한다. 오복이가 을녜를 곧잘 놀려먹는 것이 일변 부럽기도 하려니와, 어디 내한 테는 어떻게 하나 보자고, 갑쇠도 잔뜩 벼르고 기다린다.',\n",
       " '덕분에 마음을 갈앉히고 기다리는 동안 이윽고 공습경보는 해제가 되었다. 공습경보를 듣고 강 건너 송파(松坡)의병영으로부터 이 광나루 지구를 경 계하러 온 일대였었다.',\n",
       " '금년 열 살 나는 셋째는 아직 커텐도 걷지 않은 컴컴한 교실에 남아 있어 멍하니 앉아 있었다. 난로에 불은 이글이글 타오른다.',\n",
       " '크브로의 청년에게 딴 세상을 가르치는 기독의 손길이 나에게는 무한한 유혹이었다. 청년 대신에 내 자신을 그 자리에 세워 보면 그 유혹은 한층 더하였다. 기독의 말을 이해치 못하고 무거운 번민을 품은 채 하염없이 가버린 청년과는 달라 나는 내 자신의 뜻으로 기독을 이해할 수 있고 내 자신의 ‘아직도 한 가지 부족한 인생’을 느낄 수 있었다.',\n",
       " '글씨의 체, 글씨의 자취까지는 이곳 서 보이지 않는다. 반 년 전까지만 할지라도, 붓을 잡는 격식조차 맞지 않아 자류(自流)로 되 는 대로 휘갈기던 그가, 얼마나 독을 들여 연습하고 연구했으면, 단 반 년 새에, 이만치 턱 격에 맞게가 되었는가.',\n",
       " '인호는 적의가 가득 서린 눈으로 빠안히 노려보다가 “학교에 안 가는데 무슨 참견이냐?” 하고 퉁명스레 멋퉁이를 주었다. “뭐야? 이 새끼 너 인젠 학교에두 안 댕기구 망난이 새끼가 되려니” 응수의 말도 곱지 못하다.',\n",
       " '“잠두.” 소춘이가 찾았다. “네?” “무엇보다도 어머님이 만족해 하신 게 기쁘구나.” 말하지 않을지라도 이것은 찬두도 속으로 기쁘게 여기고 있던 중이었다. 양관 찬두의 침실에서 기다리고 있던 인준이에게도 내보내게 하 였다.',\n",
       " '그 집에서 내다보는 젊은 부인을 보고 K의 소식을 물 어 보니까, “그이는 벌써 떠난 지가 한 달 가까이됩니다. 창성동 어디로 가셨다는 데 잘 알 수가 없어요.” 하는 대답을 듣고 나는 나와 버렸다. 그도 O잡지를 집어치운 후로 별로 나를 찾지 않았다.',\n",
       " '아 니 의사 뿐이 아니라 A까지도 현순이가 하르빈에서 왔다는 것만을 알 뿐이 요, 하르빈에서의 그의 생활에 대하여는 아무런 지식도 갖고 있지 못했었 다. 그것은 오직 그의 기록만이 알고 있을 뿐이다. 뜻하지 않은 현순과의 해후(邂逅)로 한성의 상경은 하루하루 밀리어 갔다.',\n",
       " '어머니는 누더기 천에다가 작년에 낳은 어린애를 안고서 젖을 먹인다. 진태는 젖꼭지를 물고서 입을 오물오물하면서 한 손으로 다른 쪽 젖꼭지를 만진다. 진태는 그 동생을 볼 때 말없이 귀여웠다.',\n",
       " '여자의 세간은, 그대로 내버리기는 아깝고, 그렇다고 파네 어쩌네 하자니 치사하기도 하거니와 또한 번폐스런 노릇이고, 두루 궁리를 하던 끝에 차라 리 대영의 집으로 떠실 어 보내자는 데 의견이 일치했다. 종차에는 게서도 성가셔 하게 될 날이 있겠거니 하면 가뜩이나 미안한 일 이었지만, 역시 딴 도리가 없었다.',\n",
       " '그러다가 어제는 저 앞 큰거리를 지나던 길에 허 실 삼아 복덕방 영감더러 문의를 했더니, 선뜻 데리고 와서 보여준 것이 이 집 이 방이었다. 마침 한 동네 이웃 간이요 해서 내정을 익히 아는데, 서른두엇은 된 젊은 여인과 육십 넘은 친정어머니와 모녀 단둘이 살고, 영감은 그 여자를 첩으 로 얻어 두고서 며칠만큼씩 밤이면 다녀가곤 하여, 참 절간같이 조용하니라 고, 또 방 널찍하고 사람들 쌩패스럽지 않고 음식 솜씨 좋고, 무어 점잫은 하숙으로는 깍아 마췄느니라고.',\n",
       " '“저구, 며느리가 보았구나.” 하는 생각이 들자 그는 얼른 항아리에서 손을 빼어 집을 빠져나왔다. 보리 뭉치만을 옆에 끼고 번개같이 달려가서 되지에게 갖다 주고 “이것으로 죽을 쑤어 너는 조금씩만 먹고 어린애 어미만 먹여라!” 고 몇 번이나 당부하고 자기는 다시 집으로 돌아오는 것이었다.',\n",
       " '이와 같이 십여 일을 지나는 동안에 숙자의 몸에는 완연히 병의 흔적이 나 타나게 되었다. 머리가 몹시 아파오고 때때로 아랫배가 땡기며 몸이 무거워 졌다. 숙자는 학교에서 생 리학 시간에 선생에게 참고로 듣던 그 무서운 병균이 자기 체내를 파먹으며 꿈질거리고 있는 생각을 하니 몸이 썩은 시궁창에 빠진 것 같고 당장이라도 칼이 있으면 병균이 파먹어 들어가는 그 곳의 살점을 척척 베어내고 싶었 다.',\n",
       " '범수는 입때까지 안해의 지금 얼굴에 그전 얼굴을 상상해서 스크린의 이중노출(二重露出)처럼 보고 있었던 것이다. 전에 복성스럽던 두 볼이며 해맑던 얼굴에 비해서 그대로 남아 있는 것은 쌍거풀 진 큰 눈뿐이다. 그러나 콧잔등으로 눈아래로 기미가 까맣게 앉고 눈초리에는 주름살이 잡히고 볼은 홀쭉해져 앙상한 지금의 얼굴에는 어글어글하니 시원한 그의 눈도 도리어 부자연스러웠다.',\n",
       " '옥봉이가 길 옆 목화밭에서 따고 남은 목화대를 꺾고 있다. 장손이가 빈 지게에다 빈 옹퉁이와 쇠스랑을 얹어서 지고 흐느적흐느적 그 옆길로 걸어 오고 있다.',\n",
       " '이렇게 궁지에 빠진 방순이를 건져준 구실이 나섰다. 거기다가 삼십 년째 처음 볼 가뭄이 라는 것이다. ‘뭘 먹구 살아?’ 사실 작년은 흉년도 아니었건만 겨우내 죽으로 살다시피 했었다. 질경이죽이 끽이었다.',\n",
       " '남곡이 일찍이 연경(燕京)에 갔를 때에 어떤 술사(術士) 하나를 만나 자기 의 사주(四柱) 판단를 물었더니 그 술사는 별다른 말를 하지 않고 다만 화산기우객(花山騎牛客) 두재 일지화(頭載一枝花) 라는 한시(漢詩) 한 구절를 적어 주었다. 물론 이것를 알기 쉬운 말로 해석를 해 달라고 청했으나 그 술사는 아무 말 도 하지 않고 그대로 돌아 갔고 남곡 자신도 끝끝내 그것를 뜻깊게 알아 볼 려고도 하지 않았다.',\n",
       " '귀여운 여성이라고 하기에는 그는 나이보다도 마음 이 용납치 않았다. ‘오냐, 오늘은 향이를 기쁘게 해주지! 나도 그림을 그린다고!’ 속이 울렁댔다.',\n",
       " '피로한 두 사람은 어렴풋한 어둠 속에서 께느른하게 잠자고 있다. 모든 직업, 모든 실망, 모든 무료를 분담하면서 시방 두 사람이 내려다보고 있는 주택군(住宅群) ─ 그 속에서 사람 들은 역시 서로 사랑하고 있는 것일까.',\n",
       " '접친 듯이 누웠던 칠부는 별안간 몸을 벌떡 일으켰다. 어찔 하고 내둘리는 머리를 그는 두 손으로 부등켜 쥐었다.',\n",
       " '나는 갑자기 더벙이의 어깨를 툭 치며 “순사.” 이렇게 말을 귀에 넣어 주었다. 나는 놓지 않으려는 듯이 더 힘껏 잡아누르며 아까보다도 더 민속한 소리 로 “얘 가만히 있어.” 하고는 얼른 또 뒤를 돌아다 보았다.',\n",
       " '주인은 그를 ‘가난뱅이’라고 조소하였던 때와는 아주 딴판이요, 마치 새 로 탄생한 듯도 하였다. 굴복한 듯이 쪼그라들어 갖은 아양을 다 떠는 주인 의 태도가 그에게 무한한 우월감을 주었다.',\n",
       " '효남이가 이틀 동안 주인에게 돈을 취해 달라 하다가 못 얻어 쓴 사정을 아는 주인의 마누라와 사무원은 효남이를 의심하였습니다. 그럴수록 그들은 효남이의 거동이 수상하다고 더욱 더욱 의심하였습니다.',\n",
       " '이렇게 K는 반항으로써 변명을 하고 나서는 조금 마음이 가벼워지는 듯이 한숨을 내쉬었다. “더구나 우리는 옛날의 상태로 돌아가서 편하게 앉아 먹고 살려는 것은 아니다. 단지 목전에 주림과 죽음이 육박하였으니까 그것을 면하고, 또 그 다음에는 그만 한 안정이나마 연장을 하여 나가겠다는 데 지나지 못하는 것이다. 하물며 우리 아버지와 어머니는 지금 러시아로 가시더라도 젊은 노동자에게 지지 않도록 활동을 하신다. 실상 러시아에서 같으면 그이들은 당당한 국가의 부양을 받아야 할 것이다. 또 우리 집안의 여자, 즉 형수들도 집안 살림살이를 하여가는 노동능률로 보아 결코 비생산 계급은 아니다. 온전한 비생산 계급, 착취계급, 고등유민은 우리 다섯 형제뿐이다. 그런데 아무 죄도 없고 당당히 살 권리가 있는 그들이 우리와 운명을 같이하다니? 우리가 죄다. 내가 죄인이다. 그들은 지금 나와 한 가지로 아사(餓死)에 직면(直面)하고 있다. 안된다. 그들이 죽어서는 안된다. 나는 그들을 구해낼 의무가 있다. 꼭 구해내야만 한다.” K는 열에 뜬 사람처럼 벌떡 일어나 앉았다.',\n",
       " '건국 육칠백 년― 단일왕실의 밑에서 단일민족으로 순조롭고 건실하게 자 라서 대제국을 이룩한 고구려의 지위는 진실로 닭 가운데 학이었다. 한편으로 생겨서 한편으로 스러지는 무수한 국가들이 내가 천자다, 네가 천자다, 이건 내 땅이다 네 땅이다 야단들 할 때에 동방에 묵연히 웅거하여 이 소국들의 소란을 굽어보며 한 손 휘두르면 천하를 뒤엎을 실력을 가지고 도 오직 내 옛터밖에는 눈 거듭 떠 보지도 않는 무시무시하고도 점잖은 국 가.',\n",
       " '더구나 노비가 또 휘번덕스럽게 고개를 내어 저으면서 \"아씨, 이거 보세요. 우리댁 소저께서 그댁에 들거아 시는 날이면 그날로 절구방아질을 면치 못하실 것이요, 더구나 춥고 주리시는 광경을 당하실 것이오니 우리댁 소저께서는 금지옥엽(金枝玉葉)과 같이 고귀하신 집안에 서 생장(生長)하셨는데 어찌 그 같은 고생살이를 감당해 가시겠읍니까? 소 녀는 소저뵙 기가 딱하고 민망스럽기 짝이 없습니다. 소저같으신 재질(才 質)과 이댁같이 고귀하신 댁 소저께서 어떻게 하시다가 그런 간난뱅이 집 으로 가시게 되었읍니까? 소녀는 그것을 생각하오니 원통하고 눈물이 납니 다.\" 하고 한술 더 떠서 말하는 통에 김씨부 인은 낙담실망(落膽失望)을 하여 기 색을 할 지경에까지 이르게되었다.',\n",
       " '일곱 식구가 콧구멍 같은 방안에서 들 꾀게 되 니 어떻게 협책한지 그의 어머니는 마루에서 자고 그는 이웃 친구집 마루에 서 자게 되었다. 마침 여름이니 그렇지 겨울이나 되더면 더욱 큰 고난을 받 았을 것이다.',\n",
       " '요행 상상에 어그러지지 않는 아름다운 곳이라 하더라도 처음으로 찾는 사람에게 감격을 주는 것보다는 실망과 환멸을 주는 경우가 더 많으니 그것은 그곳을 찾기 전의 꿈이 늘 지나쳐 아름다운 까닭이다. 요행 상상에 어그러지지 않는 아름다운 곳이라 하더라도 그곳에 완전히 낯이 익기 전에는 한동안 아무리 하여도 일종의 서먹서먹한 노스탤지어를 느끼는 법이니 문오도 그 예에 빠지지 않았다.',\n",
       " '자기 자신은 도리어 지난 일이나 오늘 일을 염두에 두지 않은 일이 없었다. 과거를 현재에 이용하고, 현재를 미루어 장 래를 꿈꾸었다. 아무리 생각해도 순영의 말과 같이 그렇게 담박하게 지난 일과 오는 일을 잊고 생각지 않을 수 없었다.',\n",
       " '그러하건만 할머니는 연해 한 모양으로 그물그물하다가 또 정신을 차리었 다. 자기 앞에 들어서는 자 손들을 거의 틀림없이 알아맞히었다. 그리고 가끔 몸부림을 치면서 일으켜 달라고 야단을 쳤다. 이럴 때에 중모 는 기벽스럽게도 염불을 모시었다.',\n",
       " '조신의 어찌할까 그 마음을 진정치 못한 채로 찜찜하게 하루 이틀을 보내 고 있었다. 추수도 다 끝나고 높은 산에는 단풍이 들었다. 콩에 배 불린 꿩들이 살찐 몸으로 무겁게 날고 있었다.',\n",
       " '굶어서 그렇다고는 못하더라도 그저 고생살이를 하느라니 그렇지야고쯤 대답했겠으나 범수는 쓰게 웃으면서 “신병 때문에......” 했다. 그러니까 S는 더욱 캐어묻는 것이다.',\n",
       " '용희는 부리나케 내려가서 도야지울을 들여다본다. 잘 얻어먹지 못해서 뒷다리가 배배 꼬이고 눈곱이 다닥다닥 붙었다. 용희가 와서 섰는 것을 보고 주둥이를 벌씸거리면서 연신 꿀꿀거린다.',\n",
       " '차차 사내는 그것을 조르는 것이 분명하였다. 그러나 넓지 않은 뜰을 건너서 큰방이 있는지라, 위협도 크 게 못하고 완력도 마음껏 못하는 모양이었다. 거기 대하여 여인은 끝끝내 거절하는 것이 분명하였다.',\n",
       " '여러 날 경험에 병세를 짐작하는 경수의 모자는 포대기를 들추고 병인의 팔과 다리 를 보았다. 열 발가락, 열 손가락은 꼭꼭 곱아들었고 팔다리의 관절관절은 말끔 줄어붙어서 좁디좁은 나무통에다가 집어넣은 사람같이 되었다. 어머니와 경수는 이전처럼 그 팔다리를 주물러 펴려고 애썼으나 점점 줄어 붙어서 쇳덩어리같이 굳어만 지고 병인은 더욱 괴로와한다.',\n",
       " '유한계급에 항용 있는 환자로 “그런 환자에게서 뜨끔히 못 떼고 어디서 떼요”하고 아내가 늘 그저 돌려보냄을 아쉬워하는 그런 상대인 것이다. 진은 순간 대답이 어려웠다. 그렇지 않아도 오늘 밤은 아내의 불평이 생 활의 설계 위에서 조리가 분명하였다.',\n",
       " '“내 자신이 서 있던 세계사관(世界史觀)뿐 아니라, 통 털어 구라파적인 세 계사가들이 발판으로 했던 사관은 (世界一元論)이라구도 말할 수 있는 것인 데, 이러한 경우에 동양세계는 서양세계와 이념을 달리하는 것이 아니라, 동양세계는 대체로 세계사의 전사(前史)와 같은 취급을 받아온 것이 사실이 었죠. 종교사관이나 정신사관뿐 아니라 유물사관의 입장도 이러한 전제로부 터 출발했단 말입니다 그러니까 . 동양이란 하등의 역사적 세계도 아니었고 그저 저편의 적으로 부르는 하나의 지리적 개념에 불과했었단 말입니다. 그 러나 만약 이러한 세계일원론적인 입장을 떠나서, 역사적 세계의 다원성 입 장에 입각해본다면, 세계는 각각 고유한 세계사를 가지고 있다는 것을 알 수도 있고 증명할 수도 있지 않은가. 현대의 세계사의 성립을 이러한 각도 에서 이해하려고 한다면 우리가 가졌던 세계사관에 대해서 중대한 반성을 가질 수도 있으니까......” 물론 남이 말하는데 구두를 닦고 있을 수도 없어서, 그대로 귀를 기울이고 는 있으나 무경이로선 시형이의 하는 말을 어떻다고 생각할 준비가 없었다.',\n",
       " '오월호에 실을 원고를 얻으러 돌아다니다가 석양에 재동으로 R형을 찾아갔 다. “요사이 집 소식을 듣나?” R형의 소리는 아무 풀기 없이 들렸다. 어디가 편치 않은지 그 낯에는 어두 운 빛을 흘렸다.',\n",
       " '돈으로 위해서 그렇게 행 복일 수 있던 자기의 신세는 남편(전남편)의 마음을 악하게 만듦으로, 그리 고, 시부모의 눈까지 가리는 것이 되어, 필야엔 쫓겨나지 아니치 못하게 되 던 일을 생각하면, 돈 소리만 들어도 마음은 좋지 않던 것인데, 이제 한 푼 없는 알몸인 줄 알았던 수롱이에게도 그렇게 많은 돈이 있어 그것으로 밭을 산다고 기꺼워하는 것을 볼 때, 그 돈의 밑천은 장래 자기에게 행복을 갖다 주기보다는 몽둥이를 벼리는 데 지나지 못하는 것 같았고, 밭에다 조를 심 는다는 것은 불행의 씨를 심는다는 것만 같았기 때문이다.',\n",
       " '철수는 잠깐 의아스러운 눈초리로 그 뒷모양을 좇다 가, 그뿐, 다시 문턱을 베개 삼고 누우려 하였다. 그러나 다음 순간 철수는 벌떡 상반신을 일으키고 있었다. 그리고 마악 방 안에 들어서려는 여자의 흰 옆 얼굴을 유심히 바라보았다.',\n",
       " '영솔장이라고 모든 사람을 영솔하는 이인데 이 모든 사람 가운데서 가장 나이 많고 경험 많은 이가 뽑혀서 된 것이다. “다 모였소” “네, 다 모였소!” “그러면 떠납시다. 그런데 가는 길에 두고 가는 형제의 무덤을 찾아보고 갑시다.” 영솔장의 말이 떨어지자 모두 총을 어깨에 둘러메고 걸음을 걸었다.',\n",
       " '집에 까지 와서 부인은 소금장수를 방안에 가두어두고 문을 거적대기로 잔 뜩 가리워 놓고 자기는 남편의 송장을 안고 움 속에 들여다 놓고, 다음에 움문에다 토막나무를 쌓아 동그란 문을 내고 도끼를 가지고 문안에 서서 호 랑이가 오기를 기다렸다. 조금 있더니 과연 호랑이 놈이 송장 냄새를 맡고 움앞까지 쫓아와서 머리를 움속으로 벗 썩 들어 밀었다.',\n",
       " '“선생님 공부하십니다그려.” 하고 놀란 듯이 뒤를 떼어 서가와 그 옆으로 쌓아떼어 많은 서적을 굽어본 다. 무경이의 것 외에 오시형이가 미결 감에서 보던 것이 대부분 그대로 있 어서 서적은 의외로 많았었다.',\n",
       " '그가, 상해로 간 지 얼마 아니 되어서, 그의 고질인 폐병이, 날 로 심하여졌다. 그가, 상해로 간 지 얼마 아니 되어서, 그의 고질인 폐병이, 날 로 심하여졌다. 몸은 열사단이라는 단체에 매여 있으나, 몸에 병이 깊었으 니, 마음대로 일도 볼 수 없고.......',\n",
       " '내가 남에게 담뱃불을 청하여 붙이기를 유쾌 히 여기지 아니함과 일반으로 모르는 남이 나에게 담뱃불을 청하는 것도 나는 유쾌 히 여기지를 않는다. 더 우기 새파랗게 젊은 계집이나 열칠팔구세의 젖내 나는 어린아이들이 아무 거 리낌 없이 담배를 들이밀면서 “불 좀 붙입시다.” 하고 대드는 데는 차마 뇌꼴스러 못하는 것이다.',\n",
       " '아무리 괴롭다가도 붓만 들면 오직 즐거울 수 있던 나다. 그러나 이것은 그 대로 고역이었다.',\n",
       " '이 광은 조선에서는 첫째 가는 사금광이다. 함금량이 턱없이 많은데 그나 마‘자옥쇠’가 아니요 고루 먹혔고, 벌흙이 얇은데 감은 석 자 두께나 되 고 가끔‘노다지’가 툭툭 뛰어나오고 해서 웬만큼 성적 좋다는 석금(石金) 보다도 월등이다. 광를 수유하기는 유명한 x x 이지만 자기네가 직접 채굴를 하지 아니하고 분광(分鑛)를 내놓았다.',\n",
       " '“너 나 왜 때리는 거야. 왜 때리는 거야.” 열 번이고 스무 번이고 같은 말만 되뇌었다. 덤비는 법도 없이 인수는 같은 말만 되뇌던 것이다. “너 나 왜 때리는 거야. 왜 때리는 거야. 왜 때려?” 그것이 끝이 없다.',\n",
       " '세창은 소선 모친이 입으로는 반기면서도 들어오란 말 한마디 없이 일각문 양기 둥을 팔로 막아 집고 의외라는 낯을 하는 것을 보고 이제껏 긴장하였던 머리에 큰 떡메로라도 얻어 맞은 듯한 낙담과 불쾌를 느꼈다. \"소선이는 잘 있소?\" 하고 간신이 물었다. \"잘 있죠.\" 하고 세창의 눈을 들여다 본 모친은 그제야 비로소 세창이가 평양으로 내려 온 이유를 알았다는 듯이 냉냉한 미소를 지으며, \"잘 있기는 하죠마는 만나 보실 수는 없습니다.\" 한다.',\n",
       " ...]"
      ]
     },
     "execution_count": 67,
     "metadata": {},
     "output_type": "execute_result"
    }
   ],
   "source": [
    "test_sum"
   ]
  },
  {
   "cell_type": "markdown",
   "metadata": {
    "id": "mMkyVP4Qfm_U"
   },
   "source": [
    "### 결과 저장"
   ]
  },
  {
   "cell_type": "code",
   "execution_count": 68,
   "metadata": {
    "executionInfo": {
     "elapsed": 668,
     "status": "ok",
     "timestamp": 1638540743639,
     "user": {
      "displayName": "박인창",
      "photoUrl": "https://lh3.googleusercontent.com/a/default-user=s64",
      "userId": "11568833197762759465"
     },
     "user_tz": -540
    },
    "id": "S35ZRhL7Den0"
   },
   "outputs": [],
   "source": [
    "MY_SOURCE = os.path.join(DIR, \"my_summary.json\")\n",
    "\n",
    "with open(MY_SOURCE, encoding='UTF-8') as f:\n",
    "    MY_DATA = json.loads(f.read())"
   ]
  },
  {
   "cell_type": "code",
   "execution_count": 69,
   "metadata": {
    "executionInfo": {
     "elapsed": 27,
     "status": "ok",
     "timestamp": 1638540743641,
     "user": {
      "displayName": "박인창",
      "photoUrl": "https://lh3.googleusercontent.com/a/default-user=s64",
      "userId": "11568833197762759465"
     },
     "user_tz": -540
    },
    "id": "ZX2FJi8FDeiN"
   },
   "outputs": [],
   "source": [
    "for data,ans in zip(TEST_DATA,test_sum):\n",
    "    data['summary'] = ans"
   ]
  },
  {
   "cell_type": "code",
   "execution_count": 70,
   "metadata": {
    "executionInfo": {
     "elapsed": 28,
     "status": "ok",
     "timestamp": 1638540743643,
     "user": {
      "displayName": "박인창",
      "photoUrl": "https://lh3.googleusercontent.com/a/default-user=s64",
      "userId": "11568833197762759465"
     },
     "user_tz": -540
    },
    "id": "4jIeBtb7Dfif"
   },
   "outputs": [],
   "source": [
    "with open(MY_SOURCE, 'w', encoding='UTF-8') as file:\n",
    "   json.dump(TEST_DATA, file, indent='\\t', ensure_ascii=False)"
   ]
  },
  {
   "cell_type": "code",
   "execution_count": 70,
   "metadata": {
    "executionInfo": {
     "elapsed": 29,
     "status": "ok",
     "timestamp": 1638540743644,
     "user": {
      "displayName": "박인창",
      "photoUrl": "https://lh3.googleusercontent.com/a/default-user=s64",
      "userId": "11568833197762759465"
     },
     "user_tz": -540
    },
    "id": "GX7Kgldlh0DM"
   },
   "outputs": [],
   "source": []
  }
 ],
 "metadata": {
  "accelerator": "GPU",
  "colab": {
   "collapsed_sections": [],
   "machine_shape": "hm",
   "name": "공공재_KoBART_summarization_model.ipynb",
   "provenance": []
  },
  "kernelspec": {
   "display_name": "Python 3 (ipykernel)",
   "language": "python",
   "name": "python3"
  },
  "language_info": {
   "codemirror_mode": {
    "name": "ipython",
    "version": 3
   },
   "file_extension": ".py",
   "mimetype": "text/x-python",
   "name": "python",
   "nbconvert_exporter": "python",
   "pygments_lexer": "ipython3",
   "version": "3.9.7"
  }
 },
 "nbformat": 4,
 "nbformat_minor": 1
}
